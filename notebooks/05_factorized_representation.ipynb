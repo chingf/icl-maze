{
 "cells": [
  {
   "cell_type": "code",
   "execution_count": 1,
   "metadata": {},
   "outputs": [
    {
     "name": "stderr",
     "output_type": "stream",
     "text": [
      "/n/home04/cfang/.conda/envs/jax/lib/python3.12/site-packages/tqdm/auto.py:21: TqdmWarning: IProgress not found. Please update jupyter and ipywidgets. See https://ipywidgets.readthedocs.io/en/stable/user_install.html\n",
      "  from .autonotebook import tqdm as notebook_tqdm\n"
     ]
    }
   ],
   "source": [
    "import numpy as np\n",
    "import matplotlib.pyplot as plt\n",
    "import seaborn as sns\n",
    "import pickle\n",
    "import os\n",
    "import pandas as pd\n",
    "import configs\n",
    "import torch\n",
    "from sklearn.decomposition import PCA\n",
    "from scipy.spatial.distance import pdist, squareform\n",
    "\n",
    "from src.utils import find_ckpt_file, convert_to_tensor\n",
    "import h5py\n",
    "import random\n",
    "from src.evals.eval_trees import EvalTrees\n",
    "from copy import copy"
   ]
  },
  {
   "cell_type": "markdown",
   "metadata": {},
   "source": [
    "# Load Model"
   ]
  },
  {
   "cell_type": "code",
   "execution_count": 2,
   "metadata": {},
   "outputs": [],
   "source": [
    "engram_dir = \"/n/holylfs06/LABS/krajan_lab/Lab/cfang/icl-maze/\"\n",
    "wandb_project = \"random_tree\"\n",
    "env_name = \"tree_layers7_bprob0.9_envs300000_H800_explore\"\n",
    "model_name = \"transformer_end_query_embd512_layer4_head4_lr1e-05_drop0_batch256\"\n",
    "model_path = os.path.join(engram_dir, wandb_project, env_name, \"models\", model_name)\n",
    "ckpt_name = find_ckpt_file(model_path, \"best\")\n",
    "path_to_pkl = os.path.join(model_path, ckpt_name)"
   ]
  },
  {
   "cell_type": "code",
   "execution_count": 3,
   "metadata": {},
   "outputs": [],
   "source": [
    "# Extract parameters using regex\n",
    "import re\n",
    "n_embd = int(re.search(r'embd(\\d+)', model_name).group(1))\n",
    "n_layer = int(re.search(r'layer(\\d+)', model_name).group(1))\n",
    "n_head = int(re.search(r'head(\\d+)', model_name).group(1))\n",
    "dropout = float(re.search(r'drop(\\d*\\.?\\d*)', model_name).group(1))\n",
    "\n",
    "\n",
    "model_config = {\n",
    "    \"n_embd\": n_embd,\n",
    "    \"n_layer\": n_layer,\n",
    "    \"n_head\": n_head,\n",
    "    \"state_dim\": 10,\n",
    "    \"action_dim\": 4,\n",
    "    \"dropout\": dropout,\n",
    "    \"train_on_last_pred_only\": False,\n",
    "    \"test\": True,\n",
    "    \"name\": \"transformer_end_query\",\n",
    "    \"optimizer_config\": None,\n",
    "    \"linear_attention\": False,\n",
    "}"
   ]
  },
  {
   "cell_type": "code",
   "execution_count": 4,
   "metadata": {},
   "outputs": [
    {
     "name": "stderr",
     "output_type": "stream",
     "text": [
      "/tmp/ipykernel_80030/3170755486.py:3: FutureWarning: You are using `torch.load` with `weights_only=False` (the current default value), which uses the default pickle module implicitly. It is possible to construct malicious pickle data which will execute arbitrary code during unpickling (See https://github.com/pytorch/pytorch/blob/main/SECURITY.md#untrusted-models for more details). In a future release, the default value for `weights_only` will be flipped to `True`. This limits the functions that could be executed during unpickling. Arbitrary objects will no longer be allowed to be loaded via this mode unless they are explicitly allowlisted by the user via `torch.serialization.add_safe_globals`. We recommend you start setting `weights_only=True` for any use case where you don't have full control of the loaded file. Please open an issue on GitHub for any issues related to this experimental feature.\n",
      "  checkpoint = torch.load(path_to_pkl)\n"
     ]
    }
   ],
   "source": [
    "from src.models.transformer_end_query import Transformer\n",
    "model = Transformer(**model_config)\n",
    "checkpoint = torch.load(path_to_pkl)\n",
    "model.load_state_dict(checkpoint['state_dict'])\n",
    "model.eval()\n",
    "model = model.to('cuda')\n"
   ]
  },
  {
   "cell_type": "markdown",
   "metadata": {},
   "source": [
    "# Load Dataset and Create Environment"
   ]
  },
  {
   "cell_type": "code",
   "execution_count": 5,
   "metadata": {},
   "outputs": [],
   "source": [
    "eval_dset_path = \"/n/holylfs06/LABS/krajan_lab/Lab/cfang/icl-maze/random_tree/tree_layers7_bprob1.0_envs1000_H1600_explore/datasets/eval.pkl\"\n",
    "n_eval_envs = 50\n",
    "\n",
    "is_h5_file = eval_dset_path.endswith('.h5')\n",
    "if is_h5_file:\n",
    "    eval_trajs = h5py.File(eval_dset_path, 'r')\n",
    "    traj_indices = list(eval_trajs.keys())\n",
    "    n_eval_envs = min(n_eval_envs, len(traj_indices))\n",
    "    random.seed(0)\n",
    "    traj_indices = random.sample(traj_indices, n_eval_envs)\n",
    "    random.seed()\n",
    "    eval_trajs = [eval_trajs[i] for i in traj_indices]\n",
    "else:  # Pickle file\n",
    "    with open(eval_dset_path, 'rb') as f:\n",
    "        eval_trajs = pickle.load(f)\n",
    "    n_eval_envs = min(n_eval_envs, len(eval_trajs))\n",
    "    random.seed(0)\n",
    "    eval_trajs = random.sample(eval_trajs, n_eval_envs)\n",
    "    random.seed()\n"
   ]
  },
  {
   "cell_type": "code",
   "execution_count": 6,
   "metadata": {},
   "outputs": [],
   "source": [
    "def run_model(traj, model, state_features, seq_length):\n",
    "    hidden_states = [[] for _ in range(model.n_layer)]\n",
    "    \n",
    "    for state_feature in state_features: \n",
    "        batch = {\n",
    "            'context_states': convert_to_tensor([np.array(traj['context_states'])]),\n",
    "            'context_actions': convert_to_tensor([np.array(traj['context_actions'])]),\n",
    "            'context_next_states': convert_to_tensor([np.array(traj['context_next_states'])]),\n",
    "            'context_rewards': convert_to_tensor([np.array(traj['context_rewards'])[:, None]]),\n",
    "            'query_states': convert_to_tensor([np.array(state_feature)]),\n",
    "            }\n",
    "        batch['zeros'] = torch.zeros(1, 10 ** 2 + 4 + 1).float()\n",
    "        for k in batch.keys():\n",
    "            if 'context' in k:\n",
    "                batch[k] = batch[k][:,:seq_length]\n",
    "            batch[k] = batch[k].to(model.device)\n",
    "        model.save_activations = True\n",
    "        with torch.no_grad():\n",
    "            out = model(batch)\n",
    "        _hidden_states = model.activations['hidden_states'][1:] # Tuple over layers\n",
    "        for i_layer in range(model.n_layer):\n",
    "            hidden_states[i_layer].append(_hidden_states[i_layer].cpu().numpy().squeeze()[-1])\n",
    "    return hidden_states"
   ]
  },
  {
   "cell_type": "code",
   "execution_count": 7,
   "metadata": {},
   "outputs": [],
   "source": [
    "def get_node_and_representation(traj, env, model):\n",
    "    nodes = []\n",
    "    hidden_states = []\n",
    "    seq_lengths = []\n",
    "    state_features = []\n",
    "    state_features = list(env.node_map.keys())\n",
    "\n",
    "    _nodes = [] \n",
    "    for state_feature in state_features:\n",
    "        _nodes.append(str(env.node_map[state_feature]))\n",
    "    for seq_length in [1, 25, 50, 75, 100, 250, 500, 750, 1000]:\n",
    "        _hidden_states = run_model(traj, model, state_features, seq_length=seq_length)\n",
    "        for l in range(model.n_layer):\n",
    "            if len(_hidden_states[l]) != len(_nodes):\n",
    "                print(l)\n",
    "                print(len(_hidden_states[l]), len(_nodes))\n",
    "                import pdb; pdb.set_trace()\n",
    "        nodes.append(_nodes)\n",
    "        hidden_states.append(_hidden_states)\n",
    "        seq_lengths.append(seq_length)\n",
    "\n",
    "    return nodes, hidden_states, seq_lengths"
   ]
  },
  {
   "cell_type": "code",
   "execution_count": 8,
   "metadata": {},
   "outputs": [
    {
     "name": "stderr",
     "output_type": "stream",
     "text": [
      "`GPT2SdpaAttention` is used but `torch.nn.functional.scaled_dot_product_attention` does not support `output_attentions=True` or `head_mask`. Falling back to the manual attention implementation, but specifying the manual implementation will be required from Transformers version v5.0.0 onwards. This warning can be removed using the argument `attn_implementation=\"eager\"` when loading the model.\n"
     ]
    }
   ],
   "source": [
    "results = {\n",
    "    'nodes': [],\n",
    "    'hidden_states': [],\n",
    "    'model_layer': [], \n",
    "    'context_length': []\n",
    "}\n",
    "\n",
    "for i_eval, traj in enumerate(eval_trajs[:10]):\n",
    "    env_config = {\n",
    "        'max_layers': 7,\n",
    "        'horizon': 1600,\n",
    "        'branching_prob': 1.0,\n",
    "        'node_encoding': 'random',\n",
    "        'initialization_seed': np.array(traj['initialization_seed']).item()\n",
    "    }\n",
    "    env = EvalTrees().create_env(env_config, np.array(traj['goal']), i_eval)\n",
    "    nodes, hidden_states, context_lengths = get_node_and_representation(traj, env, model)\n",
    "    for _nodes, _hidden_states, _context_length in zip(nodes, hidden_states, context_lengths):\n",
    "        for i_layer, model_layer_hidden_states in enumerate(_hidden_states):\n",
    "            results['nodes'].extend(_nodes)\n",
    "            results['hidden_states'].extend(model_layer_hidden_states)\n",
    "            results['model_layer'].extend([i_layer] * len(_nodes))\n",
    "            results['context_length'].extend([_context_length] * len(_nodes))"
   ]
  },
  {
   "cell_type": "code",
   "execution_count": 9,
   "metadata": {},
   "outputs": [
    {
     "name": "stdout",
     "output_type": "stream",
     "text": [
      "nodes 45720\n",
      "hidden_states 45720\n",
      "model_layer 45720\n",
      "context_length 45720\n"
     ]
    }
   ],
   "source": [
    "for k in results.keys():\n",
    "    print(k, len(results[k]))"
   ]
  },
  {
   "cell_type": "code",
   "execution_count": 10,
   "metadata": {},
   "outputs": [],
   "source": [
    "df = pd.DataFrame(results)"
   ]
  },
  {
   "cell_type": "code",
   "execution_count": 11,
   "metadata": {},
   "outputs": [
    {
     "data": {
      "text/plain": [
       "array([   1,   25,   50,   75,  100,  250,  500,  750, 1000])"
      ]
     },
     "execution_count": 11,
     "metadata": {},
     "output_type": "execute_result"
    }
   ],
   "source": [
    "df['context_length'].unique()"
   ]
  },
  {
   "cell_type": "code",
   "execution_count": 12,
   "metadata": {},
   "outputs": [],
   "source": [
    "same_node = {\n",
    "    'sim': [],\n",
    "    'model_layer': [],\n",
    "    'context_length': []\n",
    "}\n",
    "diff_node = {\n",
    "    'sim': [],\n",
    "    'model_layer': [],\n",
    "    'context_length': []\n",
    "}\n",
    "\n",
    "for context_length in df['context_length'].unique():\n",
    "    context_length_df = df[df['context_length'] == context_length]\n",
    "    for i_layer in context_length_df['model_layer'].unique():\n",
    "        layer_df = context_length_df[context_length_df['model_layer'] == i_layer]\n",
    "        for node in layer_df['nodes'].unique():\n",
    "            node_df = layer_df[layer_df['nodes'] == node]\n",
    "            other_node_df = layer_df[layer_df['nodes'] != node]\n",
    "            node_hidden_states = np.stack(node_df['hidden_states'].to_numpy())\n",
    "            other_node_hidden_states = np.stack(other_node_df['hidden_states'].to_numpy())\n",
    "            n_same_node = node_hidden_states.shape[0]\n",
    "            stacked_reprs = np.vstack((node_hidden_states, other_node_hidden_states))\n",
    "            cc = np.corrcoef(stacked_reprs)\n",
    "            for i in range(n_same_node):\n",
    "                for j in range(i+1, n_same_node):\n",
    "                    same_node['sim'].append(cc[i, j])\n",
    "                    same_node['model_layer'].append(i_layer)\n",
    "                    same_node['context_length'].append(context_length)\n",
    "            for i in range(n_same_node):\n",
    "                for j in range(i+1, n_same_node):\n",
    "                    _j = j + n_same_node\n",
    "                    diff_node['sim'].append(cc[i, _j])\n",
    "                    diff_node['model_layer'].append(i_layer)\n",
    "                    diff_node['context_length'].append(context_length)"
   ]
  },
  {
   "cell_type": "code",
   "execution_count": 13,
   "metadata": {},
   "outputs": [
    {
     "data": {
      "text/html": [
       "<div>\n",
       "<style scoped>\n",
       "    .dataframe tbody tr th:only-of-type {\n",
       "        vertical-align: middle;\n",
       "    }\n",
       "\n",
       "    .dataframe tbody tr th {\n",
       "        vertical-align: top;\n",
       "    }\n",
       "\n",
       "    .dataframe thead th {\n",
       "        text-align: right;\n",
       "    }\n",
       "</style>\n",
       "<table border=\"1\" class=\"dataframe\">\n",
       "  <thead>\n",
       "    <tr style=\"text-align: right;\">\n",
       "      <th></th>\n",
       "      <th>nodes</th>\n",
       "      <th>hidden_states</th>\n",
       "      <th>model_layer</th>\n",
       "      <th>context_length</th>\n",
       "    </tr>\n",
       "  </thead>\n",
       "  <tbody>\n",
       "    <tr>\n",
       "      <th>4571</th>\n",
       "      <td>(6,63)</td>\n",
       "      <td>[0.8973059, -0.07449602, -1.1159134, -0.201576...</td>\n",
       "      <td>3</td>\n",
       "      <td>1000</td>\n",
       "    </tr>\n",
       "    <tr>\n",
       "      <th>9143</th>\n",
       "      <td>(6,63)</td>\n",
       "      <td>[-0.33647236, -0.70982283, -1.5395604, -0.8531...</td>\n",
       "      <td>3</td>\n",
       "      <td>1000</td>\n",
       "    </tr>\n",
       "    <tr>\n",
       "      <th>13715</th>\n",
       "      <td>(6,63)</td>\n",
       "      <td>[-0.21678647, -1.3825021, -2.19652, -0.9205473...</td>\n",
       "      <td>3</td>\n",
       "      <td>1000</td>\n",
       "    </tr>\n",
       "    <tr>\n",
       "      <th>18287</th>\n",
       "      <td>(6,63)</td>\n",
       "      <td>[0.8132161, -0.6523763, -1.0727065, -0.8048242...</td>\n",
       "      <td>3</td>\n",
       "      <td>1000</td>\n",
       "    </tr>\n",
       "    <tr>\n",
       "      <th>22859</th>\n",
       "      <td>(6,63)</td>\n",
       "      <td>[0.5741609, -1.0559082, -1.2541435, 0.2298262,...</td>\n",
       "      <td>3</td>\n",
       "      <td>1000</td>\n",
       "    </tr>\n",
       "    <tr>\n",
       "      <th>27431</th>\n",
       "      <td>(6,63)</td>\n",
       "      <td>[-0.152048, -0.5819153, -1.6147676, -0.2424800...</td>\n",
       "      <td>3</td>\n",
       "      <td>1000</td>\n",
       "    </tr>\n",
       "    <tr>\n",
       "      <th>32003</th>\n",
       "      <td>(6,63)</td>\n",
       "      <td>[-0.4274389, -0.30556244, -1.5688311, -0.55152...</td>\n",
       "      <td>3</td>\n",
       "      <td>1000</td>\n",
       "    </tr>\n",
       "    <tr>\n",
       "      <th>36575</th>\n",
       "      <td>(6,63)</td>\n",
       "      <td>[-0.6709622, -1.5210861, -2.0760696, -0.574377...</td>\n",
       "      <td>3</td>\n",
       "      <td>1000</td>\n",
       "    </tr>\n",
       "    <tr>\n",
       "      <th>41147</th>\n",
       "      <td>(6,63)</td>\n",
       "      <td>[-1.6031079, -0.93468267, -1.8881007, -0.84979...</td>\n",
       "      <td>3</td>\n",
       "      <td>1000</td>\n",
       "    </tr>\n",
       "    <tr>\n",
       "      <th>45719</th>\n",
       "      <td>(6,63)</td>\n",
       "      <td>[0.99717027, -1.0970552, -0.5494073, 0.9479438...</td>\n",
       "      <td>3</td>\n",
       "      <td>1000</td>\n",
       "    </tr>\n",
       "  </tbody>\n",
       "</table>\n",
       "</div>"
      ],
      "text/plain": [
       "        nodes                                      hidden_states  model_layer  \\\n",
       "4571   (6,63)  [0.8973059, -0.07449602, -1.1159134, -0.201576...            3   \n",
       "9143   (6,63)  [-0.33647236, -0.70982283, -1.5395604, -0.8531...            3   \n",
       "13715  (6,63)  [-0.21678647, -1.3825021, -2.19652, -0.9205473...            3   \n",
       "18287  (6,63)  [0.8132161, -0.6523763, -1.0727065, -0.8048242...            3   \n",
       "22859  (6,63)  [0.5741609, -1.0559082, -1.2541435, 0.2298262,...            3   \n",
       "27431  (6,63)  [-0.152048, -0.5819153, -1.6147676, -0.2424800...            3   \n",
       "32003  (6,63)  [-0.4274389, -0.30556244, -1.5688311, -0.55152...            3   \n",
       "36575  (6,63)  [-0.6709622, -1.5210861, -2.0760696, -0.574377...            3   \n",
       "41147  (6,63)  [-1.6031079, -0.93468267, -1.8881007, -0.84979...            3   \n",
       "45719  (6,63)  [0.99717027, -1.0970552, -0.5494073, 0.9479438...            3   \n",
       "\n",
       "       context_length  \n",
       "4571             1000  \n",
       "9143             1000  \n",
       "13715            1000  \n",
       "18287            1000  \n",
       "22859            1000  \n",
       "27431            1000  \n",
       "32003            1000  \n",
       "36575            1000  \n",
       "41147            1000  \n",
       "45719            1000  "
      ]
     },
     "execution_count": 13,
     "metadata": {},
     "output_type": "execute_result"
    }
   ],
   "source": [
    "node_df"
   ]
  },
  {
   "cell_type": "code",
   "execution_count": 14,
   "metadata": {},
   "outputs": [],
   "source": [
    "same_node_df = pd.DataFrame(same_node)\n",
    "diff_node_df = pd.DataFrame(diff_node)\n"
   ]
  },
  {
   "cell_type": "code",
   "execution_count": 15,
   "metadata": {},
   "outputs": [
    {
     "data": {
      "image/png": "[encoded data removed]",
      "text/plain": [
       "<Figure size 500x300 with 1 Axes>"
      ]
     },
     "metadata": {},
     "output_type": "display_data"
    }
   ],
   "source": [
    "_same_node_df = same_node_df[same_node_df['context_length'] == 1]\n",
    "_diff_node_df = diff_node_df[diff_node_df['context_length'] == 1]\n",
    "fig, ax = plt.subplots(figsize=(5, 3))\n",
    "ax = sns.barplot(\n",
    "    data=pd.concat([\n",
    "        _same_node_df.assign(type='Same Node'),\n",
    "        _diff_node_df.assign(type='Different Node')\n",
    "    ]),\n",
    "    x='model_layer', y='sim', hue='type', ax=ax, \n",
    "    )\n",
    "\n",
    "for i, bar in enumerate(ax.patches):\n",
    "    if bar.get_facecolor() == (0.7642156862745098, 0.5318627450980391, 0.12598039215686285, 1):  # C1 color\n",
    "        bar.set_hatch('///')\n",
    "    bar.set_facecolor('dimgray')\n",
    "plt.legend()\n",
    "plt.show()\n"
   ]
  },
  {
   "cell_type": "code",
   "execution_count": 16,
   "metadata": {},
   "outputs": [
    {
     "data": {
      "image/png": "[encoded data removed]",
      "text/plain": [
       "<Figure size 500x300 with 1 Axes>"
      ]
     },
     "metadata": {},
     "output_type": "display_data"
    }
   ],
   "source": [
    "_same_node_df = same_node_df[same_node_df['context_length'] == 1000]\n",
    "_diff_node_df = diff_node_df[diff_node_df['context_length'] == 1000]\n",
    "fig, ax = plt.subplots(figsize=(5, 3))\n",
    "ax = sns.barplot(\n",
    "    data=pd.concat([\n",
    "        _same_node_df.assign(type='Same Node'),\n",
    "        _diff_node_df.assign(type='Different Node')\n",
    "    ]),\n",
    "    x='model_layer', y='sim', hue='type', ax=ax, \n",
    "    )\n",
    "\n",
    "for i, bar in enumerate(ax.patches):\n",
    "    if bar.get_facecolor() == (0.7642156862745098, 0.5318627450980391, 0.12598039215686285, 1):  # C1 color\n",
    "        bar.set_hatch('///')\n",
    "    bar.set_facecolor('dimgray')\n",
    "plt.legend()\n",
    "plt.show()\n",
    "\n"
   ]
  },
  {
   "cell_type": "code",
   "execution_count": 17,
   "metadata": {},
   "outputs": [
    {
     "data": {
      "image/png": "[encoded data removed]",
      "text/plain": [
       "<Figure size 500x300 with 1 Axes>"
      ]
     },
     "metadata": {},
     "output_type": "display_data"
    }
   ],
   "source": [
    "fig, ax = plt.subplots(figsize=(5, 3))\n",
    "sns.lineplot(data=same_node_df, x='context_length', y='sim', hue='model_layer', ax=ax)\n",
    "sns.lineplot(data=diff_node_df, x='context_length', y='sim', hue='model_layer', ax=ax, linestyle='--')\n",
    "plt.legend()\n",
    "plt.show()\n",
    "\n"
   ]
  },
  {
   "cell_type": "code",
   "execution_count": null,
   "metadata": {},
   "outputs": [],
   "source": []
  }
 ],
 "metadata": {
  "kernelspec": {
   "display_name": "jax",
   "language": "python",
   "name": "python3"
  },
  "language_info": {
   "codemirror_mode": {
    "name": "ipython",
    "version": 3
   },
   "file_extension": ".py",
   "mimetype": "text/x-python",
   "name": "python",
   "nbconvert_exporter": "python",
   "pygments_lexer": "ipython3",
   "version": "3.12.5"
  }
 },
 "nbformat": 4,
 "nbformat_minor": 2
}
