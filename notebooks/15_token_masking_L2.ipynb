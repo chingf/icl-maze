{
 "cells": [
  {
   "cell_type": "code",
   "execution_count": 1,
   "metadata": {},
   "outputs": [],
   "source": [
    "import numpy as np\n",
    "import matplotlib.pyplot as plt\n",
    "import seaborn as sns\n",
    "import pickle\n",
    "import os\n",
    "import pandas as pd\n",
    "import configs\n",
    "import torch\n",
    "from sklearn.decomposition import PCA\n",
    "from scipy.spatial.distance import pdist, squareform\n",
    "\n",
    "from src.utils import find_ckpt_file, convert_to_tensor\n",
    "import h5py\n",
    "import random\n",
    "from src.evals.eval_trees import EvalCntrees"
   ]
  },
  {
   "cell_type": "code",
   "execution_count": 2,
   "metadata": {},
   "outputs": [],
   "source": [
    "corr = 0.25"
   ]
  },
  {
   "cell_type": "markdown",
   "metadata": {},
   "source": [
    "# Load Model"
   ]
  },
  {
   "cell_type": "code",
   "execution_count": 3,
   "metadata": {},
   "outputs": [
    {
     "name": "stdout",
     "output_type": "stream",
     "text": [
      "epoch=35-val_loss=0.000347.ckpt\n"
     ]
    }
   ],
   "source": [
    "model_name, path_to_pkl, eval_dset_path = configs.get_model_paths(corr, \"tree_maze\")\n",
    "#model_name, path_to_pkl, eval_dset_path = configs.get_model_paths(corr, \"tree_maze_bigger_models\", 'layer4')\n"
   ]
  },
  {
   "cell_type": "code",
   "execution_count": 4,
   "metadata": {},
   "outputs": [],
   "source": [
    "# Extract parameters using regex\n",
    "import re\n",
    "\n",
    "n_embd = int(re.search(r'embd(\\d+)', model_name).group(1))\n",
    "n_layer = int(re.search(r'layer(\\d+)', model_name).group(1))\n",
    "n_head = int(re.search(r'head(\\d+)', model_name).group(1))\n",
    "dropout = float(re.search(r'drop(\\d*\\.?\\d*)', model_name).group(1))\n",
    "\n",
    "# Extract correlation and state_dim from eval dataset path\n",
    "state_dim = int(re.search(r'state_dim(\\d+)', eval_dset_path).group(1))\n",
    "\n",
    "model_config = {\n",
    "    \"n_embd\": n_embd,\n",
    "    \"n_layer\": n_layer,\n",
    "    \"n_head\": n_head,\n",
    "    \"state_dim\": 10,\n",
    "    \"action_dim\": 4,\n",
    "    \"dropout\": dropout,\n",
    "    \"test\": True,\n",
    "    \"name\": \"transformer_end_query\",\n",
    "    \"optimizer_config\": None,\n",
    "}"
   ]
  },
  {
   "cell_type": "code",
   "execution_count": 5,
   "metadata": {},
   "outputs": [
    {
     "name": "stderr",
     "output_type": "stream",
     "text": [
      "/tmp/ipykernel_3422301/443524507.py:4: FutureWarning: You are using `torch.load` with `weights_only=False` (the current default value), which uses the default pickle module implicitly. It is possible to construct malicious pickle data which will execute arbitrary code during unpickling (See https://github.com/pytorch/pytorch/blob/main/SECURITY.md#untrusted-models for more details). In a future release, the default value for `weights_only` will be flipped to `True`. This limits the functions that could be executed during unpickling. Arbitrary objects will no longer be allowed to be loaded via this mode unless they are explicitly allowlisted by the user via `torch.serialization.add_safe_globals`. We recommend you start setting `weights_only=True` for any use case where you don't have full control of the loaded file. Please open an issue on GitHub for any issues related to this experimental feature.\n",
      "  checkpoint = torch.load(path_to_pkl)\n"
     ]
    }
   ],
   "source": [
    "from src.models.transformer_end_query import Transformer\n",
    "model_config['initialization_seed'] = 0\n",
    "model = Transformer(**model_config)\n",
    "checkpoint = torch.load(path_to_pkl)\n",
    "model.load_state_dict(checkpoint['state_dict'])\n",
    "model.eval()\n",
    "model = model.to('cuda')\n"
   ]
  },
  {
   "cell_type": "markdown",
   "metadata": {},
   "source": [
    "# Load Dataset and Create Environment"
   ]
  },
  {
   "cell_type": "code",
   "execution_count": 6,
   "metadata": {},
   "outputs": [],
   "source": [
    "n_eval_envs = -1 #50\n",
    "traj_horizon = 800\n",
    "\n",
    "is_h5_file = eval_dset_path.endswith('.h5')\n",
    "if is_h5_file:\n",
    "    eval_trajs = h5py.File(eval_dset_path, 'r')\n",
    "    traj_indices = list(eval_trajs.keys())\n",
    "    n_eval_envs = min(n_eval_envs, len(traj_indices))\n",
    "    random.seed(0)\n",
    "    traj_indices = random.sample(traj_indices, n_eval_envs)\n",
    "    random.seed()\n",
    "    if n_eval_envs != -1:\n",
    "        eval_trajs = [eval_trajs[i] for i in traj_indices]\n",
    "    else:\n",
    "        n_eval_envs = len(traj_indices)\n",
    "else:  # Pickle file\n",
    "    with open(eval_dset_path, 'rb') as f:\n",
    "        eval_trajs = pickle.load(f)\n",
    "    n_eval_envs = min(n_eval_envs, len(eval_trajs))\n",
    "    if n_eval_envs != -1:\n",
    "        random.seed(0)\n",
    "        eval_trajs = random.sample(eval_trajs, n_eval_envs)\n",
    "        random.seed()\n",
    "    else:\n",
    "        n_eval_envs = len(eval_trajs)\n"
   ]
  },
  {
   "cell_type": "markdown",
   "metadata": {},
   "source": [
    "# Run Model"
   ]
  },
  {
   "cell_type": "code",
   "execution_count": 7,
   "metadata": {},
   "outputs": [],
   "source": [
    "query_type = 'root'"
   ]
  },
  {
   "cell_type": "code",
   "execution_count": 25,
   "metadata": {},
   "outputs": [],
   "source": [
    "def get_results(query_offset, test_type, buffer_matching_type, layer):\n",
    "\n",
    "    results = {\n",
    "        'cross_entropy_loss': [],\n",
    "        'mask_path_loc': [],\n",
    "        'env': []\n",
    "    }\n",
    "    baseline_xc_losses = []\n",
    "    for i_eval in range(n_eval_envs):\n",
    "        env_acc = []\n",
    "        baseline_env_acc = []\n",
    "        traj = eval_trajs[i_eval]\n",
    "        if traj['context_rewards'][:traj_horizon].sum().item() == 0:\n",
    "            continue\n",
    "        env_config = {\n",
    "            'max_layers': 7,\n",
    "            'horizon': 1600,\n",
    "            'branching_prob': 1.0,\n",
    "            'node_encoding_corr': corr,\n",
    "            'state_dim': 10,\n",
    "            'initialization_seed': np.array(traj['initialization_seed']).item()\n",
    "        }\n",
    "        env = EvalCntrees().create_env(env_config, np.array(traj['goal']), i_eval)\n",
    "        optimal_action_map, dist_from_goal = env.make_opt_action_dict()\n",
    "    \n",
    "        # Choose query state\n",
    "        if query_type == 'root':\n",
    "            valid_query_states = [np.array(env.root.encoding())]\n",
    "        elif query_type in ['far', 'middle']:\n",
    "            valid_query_states = []\n",
    "            for i in range(len(traj['context_states'])):\n",
    "                if traj['context_states'][i].tolist() == list(env.root.encoding()):\n",
    "                    continue\n",
    "                d = dist_from_goal[tuple(traj['context_states'][i].tolist())]\n",
    "                if query_type == 'far' and d < 12:\n",
    "                    continue\n",
    "                elif query_type == 'middle' and d != 6:\n",
    "                   continue\n",
    "                valid_query_states.append(traj['context_states'][i])\n",
    "        if len(valid_query_states) == 0:\n",
    "            print('No valid query states found')\n",
    "            continue\n",
    "        else:\n",
    "            query_state = valid_query_states[np.random.choice(len(valid_query_states))]\n",
    "    \n",
    "        # Collect states on path from query state to goal\n",
    "        s = query_state.tolist()\n",
    "        states_on_path = [s]\n",
    "        while True:\n",
    "            action = np.zeros(4)\n",
    "            action[optimal_action_map[tuple(s)]] = 1\n",
    "            s, _ = env.transit(s, action)\n",
    "            states_on_path.append(s)\n",
    "            if np.array_equal(s, env.goal):\n",
    "                break\n",
    "        seen_states = np.vstack((traj['context_states'][:1], traj['context_next_states'][:traj_horizon]))\n",
    "        seen_states = np.unique(seen_states, axis=0) \n",
    "    \n",
    "        # Check that every state in states_on_path is present in seen_states\n",
    "        skip_env = False\n",
    "        for state in states_on_path:\n",
    "            if not any(np.array_equal(state, seen_state) for seen_state in seen_states):\n",
    "                skip_env = True\n",
    "                break\n",
    "        if skip_env:\n",
    "            continue\n",
    "    \n",
    "        # Prepare batch and optimal action information\n",
    "        query_state = np.array(states_on_path[query_offset])\n",
    "        batch = {\n",
    "            'context_states': np.array(traj['context_states'][:traj_horizon]),\n",
    "            'context_actions': np.array(traj['context_actions'][:traj_horizon]),\n",
    "            'context_next_states': np.array(traj['context_next_states'][:traj_horizon]),\n",
    "            'context_rewards': np.array(traj['context_rewards'][:traj_horizon])[:, None],\n",
    "            'query_states': np.array(query_state),\n",
    "            }\n",
    "        batch['zeros'] = torch.zeros(10 ** 2 + 4 + 1).float()\n",
    "        for k in batch.keys():\n",
    "            batch[k] = convert_to_tensor([batch[k]]).to(model.device)\n",
    "        optimal_action = optimal_action_map[tuple(query_state.tolist())]\n",
    "        optimal_action_tensor = torch.zeros(4).to(model.device)\n",
    "        optimal_action_tensor[optimal_action] = 1\n",
    "    \n",
    "        # Get baseline loss\n",
    "        with torch.no_grad():\n",
    "            out = model(batch).squeeze()\n",
    "        first_reward_idx = np.argwhere(traj['context_rewards'][:traj_horizon] == 1)[0,0]\n",
    "        baseline_xc_loss = torch.nn.functional.cross_entropy(out, optimal_action_tensor).item()\n",
    "        baseline_xc_losses.append(baseline_xc_loss)\n",
    "    \n",
    "        # Get loss with token attention masking\n",
    "        def get_s_indices_mask(s):\n",
    "            s_indices = []\n",
    "            for i in range(traj_horizon):\n",
    "                if buffer_matching_type == 'all':\n",
    "                    if np.array_equal(s, traj['context_states'][i]) or np.array_equal(s, traj['context_next_states'][i]):\n",
    "                        s_indices.append(i)\n",
    "                elif buffer_matching_type == 'exclude_stay':\n",
    "                    if np.array_equal(s, traj['context_states'][i]) ^ np.array_equal(s, traj['context_next_states'][i]):\n",
    "                        s_indices.append(i)\n",
    "                elif buffer_matching_type == 'outof':\n",
    "                    if np.array_equal(s, traj['context_states'][i]) and not np.array_equal(s, traj['context_next_states'][i]):\n",
    "                        s_indices.append(i)\n",
    "                elif buffer_matching_type == 'into':\n",
    "                    if not np.array_equal(s, traj['context_states'][i]) and np.array_equal(s, traj['context_next_states'][i]):\n",
    "                        s_indices.append(i)\n",
    "                else:\n",
    "                    raise ValueError(f\"Invalid buffer matching type: {buffer_matching_type}\")\n",
    "            if len(s_indices) == 0:\n",
    "                return None\n",
    "            s_indices = torch.tensor(s_indices)\n",
    "            s_indices_mask = torch.zeros(traj_horizon+1).bool()\n",
    "            s_indices_mask[s_indices] = True\n",
    "            return s_indices_mask\n",
    "        \n",
    "        mask_query = get_s_indices_mask(query_state)\n",
    "        for path_loc, s in enumerate(states_on_path):  # For each state on the path\n",
    "            s_indices_mask = get_s_indices_mask(s)\n",
    "            if s_indices_mask is None:\n",
    "                continue\n",
    "            if test_type == 'sufficiency':\n",
    "                s_indices_mask = ~s_indices_mask\n",
    "            elif test_type == 'necessity':\n",
    "                s_indices_mask = s_indices_mask\n",
    "            else:\n",
    "                raise ValueError(f\"Invalid test type: {test_type}\")\n",
    "            state_mask = torch.ones((traj_horizon+1, traj_horizon+1))  # Create a mask for the state\n",
    "            query_indices = torch.where(mask_query)[0]\n",
    "            s_indices = torch.where(s_indices_mask)[0]\n",
    "            # Create a mesh grid of indices\n",
    "            query_grid, s_grid = torch.meshgrid(query_indices, s_indices, indexing='ij')\n",
    "            # Set the corresponding positions to 0\n",
    "            state_mask[query_grid, s_grid] = 0\n",
    "            #state_mask[mask_query, s_indices_mask] = 0\n",
    "            state_mask = torch.tril(state_mask)\n",
    "            state_mask = state_mask.bool().to(model.device)\n",
    "    \n",
    "            for b in model.transformer.h:\n",
    "                b._additional_attention_mask = None\n",
    "    \n",
    "            model.transformer.h[layer]._additional_attention_mask = state_mask\n",
    "            with torch.no_grad():\n",
    "                out = model(batch).squeeze()\n",
    "            intervened_xc_loss = torch.nn.functional.cross_entropy(out, optimal_action_tensor).item()\n",
    "            results['cross_entropy_loss'].append(baseline_xc_loss - intervened_xc_loss)\n",
    "            results['mask_path_loc'].append(path_loc)\n",
    "            results['env'].append(i_eval)\n",
    "            model.transformer.h[layer]._additional_attention_mask = None\n",
    "\n",
    "\n",
    "    return results"
   ]
  },
  {
   "cell_type": "code",
   "execution_count": 26,
   "metadata": {},
   "outputs": [
    {
     "data": {
      "text/plain": [
       "<matplotlib.lines.Line2D at 0x15491bf43f80>"
      ]
     },
     "execution_count": 26,
     "metadata": {},
     "output_type": "execute_result"
    },
    {
     "data": {
      "image/png": "[encoded data removed]",
      "text/plain": [
       "<Figure size 400x300 with 1 Axes>"
      ]
     },
     "metadata": {},
     "output_type": "display_data"
    }
   ],
   "source": [
    "results = get_results(1, 'necessity', 'exclude_stay', layer=1)\n",
    "df = pd.DataFrame(results)\n",
    "fig, ax = plt.subplots(figsize=(4,3))\n",
    "sns.lineplot(\n",
    "    x='mask_path_loc', y='cross_entropy_loss',\n",
    "    data=df,\n",
    "    ax=ax)\n",
    "ax.axhline(0, linestyle='--', color='black')\n"
   ]
  },
  {
   "cell_type": "code",
   "execution_count": 27,
   "metadata": {},
   "outputs": [
    {
     "data": {
      "text/plain": [
       "<matplotlib.lines.Line2D at 0x1549200d8b00>"
      ]
     },
     "execution_count": 27,
     "metadata": {},
     "output_type": "execute_result"
    },
    {
     "data": {
      "image/png": "[encoded data removed]",
      "text/plain": [
       "<Figure size 400x300 with 1 Axes>"
      ]
     },
     "metadata": {},
     "output_type": "display_data"
    }
   ],
   "source": [
    "results = get_results(1, 'sufficiency', 'exclude_stay', layer=1)\n",
    "df = pd.DataFrame(results)\n",
    "fig, ax = plt.subplots(figsize=(4,3))\n",
    "sns.lineplot(\n",
    "    x='mask_path_loc', y='cross_entropy_loss',\n",
    "    data=df,\n",
    "    ax=ax)\n",
    "ax.axhline(0, linestyle='--', color='black')"
   ]
  },
  {
   "cell_type": "code",
   "execution_count": null,
   "metadata": {},
   "outputs": [],
   "source": []
  }
 ],
 "metadata": {
  "kernelspec": {
   "display_name": "jax",
   "language": "python",
   "name": "python3"
  },
  "language_info": {
   "codemirror_mode": {
    "name": "ipython",
    "version": 3
   },
   "file_extension": ".py",
   "mimetype": "text/x-python",
   "name": "python",
   "nbconvert_exporter": "python",
   "pygments_lexer": "ipython3",
   "version": "3.12.5"
  }
 },
 "nbformat": 4,
 "nbformat_minor": 2
}
