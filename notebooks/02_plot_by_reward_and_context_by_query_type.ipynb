{
 "cells": [
  {
   "cell_type": "code",
   "execution_count": 1,
   "metadata": {},
   "outputs": [],
   "source": [
    "import numpy as np\n",
    "import matplotlib.pyplot as plt\n",
    "import seaborn as sns\n",
    "import pickle\n",
    "import os\n",
    "import pandas as pd\n",
    "import configs\n",
    "from scipy.optimize import curve_fit"
   ]
  },
  {
   "cell_type": "markdown",
   "metadata": {},
   "source": [
    "# Arguments"
   ]
  },
  {
   "cell_type": "code",
   "execution_count": 2,
   "metadata": {},
   "outputs": [],
   "source": [
    "corr = 0.25"
   ]
  },
  {
   "cell_type": "markdown",
   "metadata": {},
   "source": [
    "# Load Meta-RL results"
   ]
  },
  {
   "cell_type": "code",
   "execution_count": 3,
   "metadata": {},
   "outputs": [
    {
     "name": "stdout",
     "output_type": "stream",
     "text": [
      "epoch=35-val_loss=0.000347.ckpt\n"
     ]
    }
   ],
   "source": [
    "#model_name, path_to_pkl, eval_dset_path = configs.get_model_paths(corr, \"tree_maze_big_pretraining\")\n",
    "model_name, path_to_pkl, eval_dset_path = configs.get_model_paths(corr, \"tree_maze\")"
   ]
  },
  {
   "cell_type": "code",
   "execution_count": 4,
   "metadata": {},
   "outputs": [],
   "source": [
    "path_to_pkl = os.path.join(os.path.dirname(path_to_pkl), 'eval_results_offline_by_query_type.pkl')"
   ]
  },
  {
   "cell_type": "code",
   "execution_count": 5,
   "metadata": {},
   "outputs": [
    {
     "ename": "FileNotFoundError",
     "evalue": "[Errno 2] No such file or directory: '/n/holylfs06/LABS/krajan_lab/Lab/cfang/icl-maze/tree_maze/cntree_layers7_bprob0.9_corr0.25_state_dim10_envs300000_H800_explore/models/transformer_end_query_embd512_layer3_head4_lr0.0001_drop0.2_initseed1_batch512/eval_results_offline_by_query_type.pkl'",
     "output_type": "error",
     "traceback": [
      "\u001b[0;31m---------------------------------------------------------------------------\u001b[0m",
      "\u001b[0;31mFileNotFoundError\u001b[0m                         Traceback (most recent call last)",
      "Cell \u001b[0;32mIn[5], line 1\u001b[0m\n\u001b[0;32m----> 1\u001b[0m \u001b[38;5;28;01mwith\u001b[39;00m \u001b[38;5;28;43mopen\u001b[39;49m\u001b[43m(\u001b[49m\u001b[43mpath_to_pkl\u001b[49m\u001b[43m,\u001b[49m\u001b[43m \u001b[49m\u001b[38;5;124;43m\"\u001b[39;49m\u001b[38;5;124;43mrb\u001b[39;49m\u001b[38;5;124;43m\"\u001b[39;49m\u001b[43m)\u001b[49m \u001b[38;5;28;01mas\u001b[39;00m f:\n\u001b[1;32m      2\u001b[0m     data \u001b[38;5;241m=\u001b[39m pickle\u001b[38;5;241m.\u001b[39mload(f)\n\u001b[1;32m      3\u001b[0m metarl_df \u001b[38;5;241m=\u001b[39m pd\u001b[38;5;241m.\u001b[39mDataFrame(data)\n",
      "File \u001b[0;32m~/.conda/envs/jax/lib/python3.12/site-packages/IPython/core/interactiveshell.py:324\u001b[0m, in \u001b[0;36m_modified_open\u001b[0;34m(file, *args, **kwargs)\u001b[0m\n\u001b[1;32m    317\u001b[0m \u001b[38;5;28;01mif\u001b[39;00m file \u001b[38;5;129;01min\u001b[39;00m {\u001b[38;5;241m0\u001b[39m, \u001b[38;5;241m1\u001b[39m, \u001b[38;5;241m2\u001b[39m}:\n\u001b[1;32m    318\u001b[0m     \u001b[38;5;28;01mraise\u001b[39;00m \u001b[38;5;167;01mValueError\u001b[39;00m(\n\u001b[1;32m    319\u001b[0m         \u001b[38;5;124mf\u001b[39m\u001b[38;5;124m\"\u001b[39m\u001b[38;5;124mIPython won\u001b[39m\u001b[38;5;124m'\u001b[39m\u001b[38;5;124mt let you open fd=\u001b[39m\u001b[38;5;132;01m{\u001b[39;00mfile\u001b[38;5;132;01m}\u001b[39;00m\u001b[38;5;124m by default \u001b[39m\u001b[38;5;124m\"\u001b[39m\n\u001b[1;32m    320\u001b[0m         \u001b[38;5;124m\"\u001b[39m\u001b[38;5;124mas it is likely to crash IPython. If you know what you are doing, \u001b[39m\u001b[38;5;124m\"\u001b[39m\n\u001b[1;32m    321\u001b[0m         \u001b[38;5;124m\"\u001b[39m\u001b[38;5;124myou can use builtins\u001b[39m\u001b[38;5;124m'\u001b[39m\u001b[38;5;124m open.\u001b[39m\u001b[38;5;124m\"\u001b[39m\n\u001b[1;32m    322\u001b[0m     )\n\u001b[0;32m--> 324\u001b[0m \u001b[38;5;28;01mreturn\u001b[39;00m \u001b[43mio_open\u001b[49m\u001b[43m(\u001b[49m\u001b[43mfile\u001b[49m\u001b[43m,\u001b[49m\u001b[43m \u001b[49m\u001b[38;5;241;43m*\u001b[39;49m\u001b[43margs\u001b[49m\u001b[43m,\u001b[49m\u001b[43m \u001b[49m\u001b[38;5;241;43m*\u001b[39;49m\u001b[38;5;241;43m*\u001b[39;49m\u001b[43mkwargs\u001b[49m\u001b[43m)\u001b[49m\n",
      "\u001b[0;31mFileNotFoundError\u001b[0m: [Errno 2] No such file or directory: '/n/holylfs06/LABS/krajan_lab/Lab/cfang/icl-maze/tree_maze/cntree_layers7_bprob0.9_corr0.25_state_dim10_envs300000_H800_explore/models/transformer_end_query_embd512_layer3_head4_lr0.0001_drop0.2_initseed1_batch512/eval_results_offline_by_query_type.pkl'"
     ]
    }
   ],
   "source": [
    "with open(path_to_pkl, \"rb\") as f:\n",
    "    data = pickle.load(f)\n",
    "metarl_df = pd.DataFrame(data)\n",
    "metarl_df.head()"
   ]
  },
  {
   "cell_type": "markdown",
   "metadata": {},
   "source": [
    "# Load DQN results"
   ]
  },
  {
   "cell_type": "code",
   "execution_count": 6,
   "metadata": {},
   "outputs": [],
   "source": [
    "engram_dir = \"/n/holylfs06/LABS/krajan_lab/Lab/cfang/icl-maze/\"\n",
    "wandb_project = \"tree_maze_qlearning\"\n",
    "env_name = f\"cntree_layers7_bprob1.0_corr{corr}_state_dim10_envs1000_H1600_explore\"\n",
    "model_name = \"dqn_nlayers4_gamma0.9_target10_lr1e-05_temp0.01\"\n",
    "path_to_pkl = os.path.join(\n",
    "    engram_dir, wandb_project, env_name, \"models\", model_name,\n",
    "    \"eval_results_offline_by_query_type.pkl\")"
   ]
  },
  {
   "cell_type": "code",
   "execution_count": 7,
   "metadata": {},
   "outputs": [
    {
     "data": {
      "text/html": [
       "<div>\n",
       "<style scoped>\n",
       "    .dataframe tbody tr th:only-of-type {\n",
       "        vertical-align: middle;\n",
       "    }\n",
       "\n",
       "    .dataframe tbody tr th {\n",
       "        vertical-align: top;\n",
       "    }\n",
       "\n",
       "    .dataframe thead th {\n",
       "        text-align: right;\n",
       "    }\n",
       "</style>\n",
       "<table border=\"1\" class=\"dataframe\">\n",
       "  <thead>\n",
       "    <tr style=\"text-align: right;\">\n",
       "      <th></th>\n",
       "      <th>return</th>\n",
       "      <th>environment</th>\n",
       "      <th>experienced_reward</th>\n",
       "      <th>context_length</th>\n",
       "      <th>query_type</th>\n",
       "      <th>model</th>\n",
       "      <th>path_length_scaled</th>\n",
       "      <th>returns_scaled</th>\n",
       "    </tr>\n",
       "  </thead>\n",
       "  <tbody>\n",
       "    <tr>\n",
       "      <th>0</th>\n",
       "      <td>0.00</td>\n",
       "      <td>0</td>\n",
       "      <td>8</td>\n",
       "      <td>1000</td>\n",
       "      <td>seen_states_pre_reward</td>\n",
       "      <td>DQN</td>\n",
       "      <td>1.000000</td>\n",
       "      <td>0.000000</td>\n",
       "    </tr>\n",
       "    <tr>\n",
       "      <th>1</th>\n",
       "      <td>0.00</td>\n",
       "      <td>0</td>\n",
       "      <td>8</td>\n",
       "      <td>1000</td>\n",
       "      <td>seen_states_post_reward</td>\n",
       "      <td>DQN</td>\n",
       "      <td>1.000000</td>\n",
       "      <td>0.000000</td>\n",
       "    </tr>\n",
       "    <tr>\n",
       "      <th>2</th>\n",
       "      <td>0.00</td>\n",
       "      <td>0</td>\n",
       "      <td>8</td>\n",
       "      <td>1000</td>\n",
       "      <td>unseen_states</td>\n",
       "      <td>DQN</td>\n",
       "      <td>1.000000</td>\n",
       "      <td>0.000000</td>\n",
       "    </tr>\n",
       "    <tr>\n",
       "      <th>3</th>\n",
       "      <td>334.25</td>\n",
       "      <td>1</td>\n",
       "      <td>29</td>\n",
       "      <td>1000</td>\n",
       "      <td>seen_states_pre_reward</td>\n",
       "      <td>DQN</td>\n",
       "      <td>0.141141</td>\n",
       "      <td>0.858859</td>\n",
       "    </tr>\n",
       "    <tr>\n",
       "      <th>4</th>\n",
       "      <td>395.00</td>\n",
       "      <td>1</td>\n",
       "      <td>29</td>\n",
       "      <td>1000</td>\n",
       "      <td>seen_states_post_reward</td>\n",
       "      <td>DQN</td>\n",
       "      <td>-0.014957</td>\n",
       "      <td>1.014957</td>\n",
       "    </tr>\n",
       "  </tbody>\n",
       "</table>\n",
       "</div>"
      ],
      "text/plain": [
       "   return  environment  experienced_reward  context_length  \\\n",
       "0    0.00            0                   8            1000   \n",
       "1    0.00            0                   8            1000   \n",
       "2    0.00            0                   8            1000   \n",
       "3  334.25            1                  29            1000   \n",
       "4  395.00            1                  29            1000   \n",
       "\n",
       "                query_type model  path_length_scaled  returns_scaled  \n",
       "0   seen_states_pre_reward   DQN            1.000000        0.000000  \n",
       "1  seen_states_post_reward   DQN            1.000000        0.000000  \n",
       "2            unseen_states   DQN            1.000000        0.000000  \n",
       "3   seen_states_pre_reward   DQN            0.141141        0.858859  \n",
       "4  seen_states_post_reward   DQN           -0.014957        1.014957  "
      ]
     },
     "execution_count": 7,
     "metadata": {},
     "output_type": "execute_result"
    }
   ],
   "source": [
    "with open(path_to_pkl, \"rb\") as f:\n",
    "    data = pickle.load(f)\n",
    "dqn_df = pd.DataFrame(data)\n",
    "dqn_df = dqn_df.rename(columns={'returns': 'return'})\n",
    "dqn_df['model'] = 'DQN'\n",
    "opt_return = 389.1792\n",
    "dqn_df['path_length_scaled'] = (opt_return - dqn_df['return'])/opt_return\n",
    "dqn_df['returns_scaled'] = dqn_df['return']/opt_return\n",
    "dqn_df.head()"
   ]
  },
  {
   "cell_type": "markdown",
   "metadata": {},
   "source": [
    "# Load Q table results"
   ]
  },
  {
   "cell_type": "code",
   "execution_count": 8,
   "metadata": {},
   "outputs": [],
   "source": [
    "engram_dir = \"/n/holylfs06/LABS/krajan_lab/Lab/cfang/icl-maze/\"\n",
    "wandb_project = \"tree_maze_qlearning\"\n",
    "env_name = f\"cntree_layers7_bprob1.0_corr{corr}_state_dim10_envs1000_H1600_explore\"\n",
    "model_name = \"q_table_gamma0.85_temp0.01\"\n",
    "path_to_pkl = os.path.join(\n",
    "    engram_dir, wandb_project, env_name, \"models\", model_name,\n",
    "    \"eval_results_offline_by_query_type.pkl\")"
   ]
  },
  {
   "cell_type": "code",
   "execution_count": 9,
   "metadata": {},
   "outputs": [
    {
     "data": {
      "text/html": [
       "<div>\n",
       "<style scoped>\n",
       "    .dataframe tbody tr th:only-of-type {\n",
       "        vertical-align: middle;\n",
       "    }\n",
       "\n",
       "    .dataframe tbody tr th {\n",
       "        vertical-align: top;\n",
       "    }\n",
       "\n",
       "    .dataframe thead th {\n",
       "        text-align: right;\n",
       "    }\n",
       "</style>\n",
       "<table border=\"1\" class=\"dataframe\">\n",
       "  <thead>\n",
       "    <tr style=\"text-align: right;\">\n",
       "      <th></th>\n",
       "      <th>return</th>\n",
       "      <th>environment</th>\n",
       "      <th>experienced_reward</th>\n",
       "      <th>context_length</th>\n",
       "      <th>query_type</th>\n",
       "      <th>model</th>\n",
       "      <th>path_length_scaled</th>\n",
       "      <th>returns_scaled</th>\n",
       "    </tr>\n",
       "  </thead>\n",
       "  <tbody>\n",
       "    <tr>\n",
       "      <th>0</th>\n",
       "      <td>390.85</td>\n",
       "      <td>0</td>\n",
       "      <td>8</td>\n",
       "      <td>1000</td>\n",
       "      <td>seen_states_pre_reward</td>\n",
       "      <td>Q Table</td>\n",
       "      <td>-0.004293</td>\n",
       "      <td>1.004293</td>\n",
       "    </tr>\n",
       "    <tr>\n",
       "      <th>1</th>\n",
       "      <td>391.75</td>\n",
       "      <td>0</td>\n",
       "      <td>8</td>\n",
       "      <td>1000</td>\n",
       "      <td>seen_states_post_reward</td>\n",
       "      <td>Q Table</td>\n",
       "      <td>-0.006606</td>\n",
       "      <td>1.006606</td>\n",
       "    </tr>\n",
       "    <tr>\n",
       "      <th>2</th>\n",
       "      <td>243.05</td>\n",
       "      <td>0</td>\n",
       "      <td>8</td>\n",
       "      <td>1000</td>\n",
       "      <td>unseen_states</td>\n",
       "      <td>Q Table</td>\n",
       "      <td>0.375480</td>\n",
       "      <td>0.624520</td>\n",
       "    </tr>\n",
       "    <tr>\n",
       "      <th>3</th>\n",
       "      <td>393.15</td>\n",
       "      <td>1</td>\n",
       "      <td>29</td>\n",
       "      <td>1000</td>\n",
       "      <td>seen_states_pre_reward</td>\n",
       "      <td>Q Table</td>\n",
       "      <td>-0.010203</td>\n",
       "      <td>1.010203</td>\n",
       "    </tr>\n",
       "    <tr>\n",
       "      <th>4</th>\n",
       "      <td>395.00</td>\n",
       "      <td>1</td>\n",
       "      <td>29</td>\n",
       "      <td>1000</td>\n",
       "      <td>seen_states_post_reward</td>\n",
       "      <td>Q Table</td>\n",
       "      <td>-0.014957</td>\n",
       "      <td>1.014957</td>\n",
       "    </tr>\n",
       "  </tbody>\n",
       "</table>\n",
       "</div>"
      ],
      "text/plain": [
       "   return  environment  experienced_reward  context_length  \\\n",
       "0  390.85            0                   8            1000   \n",
       "1  391.75            0                   8            1000   \n",
       "2  243.05            0                   8            1000   \n",
       "3  393.15            1                  29            1000   \n",
       "4  395.00            1                  29            1000   \n",
       "\n",
       "                query_type    model  path_length_scaled  returns_scaled  \n",
       "0   seen_states_pre_reward  Q Table           -0.004293        1.004293  \n",
       "1  seen_states_post_reward  Q Table           -0.006606        1.006606  \n",
       "2            unseen_states  Q Table            0.375480        0.624520  \n",
       "3   seen_states_pre_reward  Q Table           -0.010203        1.010203  \n",
       "4  seen_states_post_reward  Q Table           -0.014957        1.014957  "
      ]
     },
     "execution_count": 9,
     "metadata": {},
     "output_type": "execute_result"
    }
   ],
   "source": [
    "with open(path_to_pkl, \"rb\") as f:\n",
    "    data = pickle.load(f)\n",
    "qtable_df = pd.DataFrame(data)\n",
    "qtable_df = qtable_df.rename(columns={'returns': 'return'})\n",
    "qtable_df['model'] = 'Q Table'\n",
    "opt_return = 389.1792\n",
    "qtable_df['path_length_scaled'] = (opt_return - qtable_df['return'])/opt_return\n",
    "qtable_df['returns_scaled'] = qtable_df['return']/opt_return\n",
    "qtable_df.head()"
   ]
  },
  {
   "cell_type": "markdown",
   "metadata": {},
   "source": [
    "# Plot all results"
   ]
  },
  {
   "cell_type": "code",
   "execution_count": 10,
   "metadata": {},
   "outputs": [],
   "source": [
    "# Concatenate the dataframes\n",
    "df = pd.concat([metarl_df, dqn_df, qtable_df], ignore_index=True)\n"
   ]
  },
  {
   "cell_type": "code",
   "execution_count": 12,
   "metadata": {},
   "outputs": [
    {
     "data": {
      "image/png": "[encoded data removed]",
      "text/plain": [
       "<Figure size 500x400 with 1 Axes>"
      ]
     },
     "metadata": {},
     "output_type": "display_data"
    }
   ],
   "source": [
    "# Create bar plot\n",
    "plt.figure(figsize=(5,4))\n",
    "sns.barplot(\n",
    "    data=df, x='query_type', y='returns_scaled', hue='model',\n",
    "    hue_order=['Learner (temp=2)', 'Q Table', 'DQN'],\n",
    "    legend=None)\n",
    "plt.xticks([0,1,2], [\"States Seen Before Reward\", \"States Seen After Reward\", \"Unseen States\"])\n",
    "plt.xlabel('Query Type')\n",
    "plt.ylabel('Returns (scaled)')\n",
    "plt.title('Returns by Query Type and Model')\n",
    "plt.tight_layout()\n",
    "plt.show()\n"
   ]
  },
  {
   "cell_type": "code",
   "execution_count": null,
   "metadata": {},
   "outputs": [],
   "source": []
  },
  {
   "cell_type": "code",
   "execution_count": null,
   "metadata": {},
   "outputs": [],
   "source": []
  }
 ],
 "metadata": {
  "kernelspec": {
   "display_name": "jax",
   "language": "python",
   "name": "python3"
  },
  "language_info": {
   "codemirror_mode": {
    "name": "ipython",
    "version": 3
   },
   "file_extension": ".py",
   "mimetype": "text/x-python",
   "name": "python",
   "nbconvert_exporter": "python",
   "pygments_lexer": "ipython3",
   "version": "3.12.5"
  }
 },
 "nbformat": 4,
 "nbformat_minor": 2
}
