{
 "cells": [
  {
   "cell_type": "code",
   "execution_count": 6,
   "metadata": {},
   "outputs": [],
   "source": [
    "import numpy as np\n",
    "import matplotlib.pyplot as plt\n",
    "import seaborn as sns\n",
    "import pickle\n",
    "import os\n",
    "import pandas as pd\n",
    "import configs\n",
    "import torch\n",
    "from sklearn.decomposition import PCA\n",
    "from scipy.spatial.distance import pdist, squareform\n",
    "\n",
    "from src.utils import find_ckpt_file, convert_to_tensor\n",
    "import h5py\n",
    "import random\n",
    "from src.evals.eval_trees import EvalTrees\n",
    "from src.evals.eval_trees import EvalCntrees\n",
    "from src.agents.agent import TransformerAgent\n",
    "from src.envs.trees import TreeEnvVec\n"
   ]
  },
  {
   "cell_type": "markdown",
   "metadata": {},
   "source": [
    "# Load Model"
   ]
  },
  {
   "cell_type": "code",
   "execution_count": 2,
   "metadata": {},
   "outputs": [],
   "source": [
    "engram_dir = \"/n/holylfs06/LABS/krajan_lab/Lab/cfang/icl-maze/\"\n",
    "wandb_project = \"cntree\"\n",
    "env_name = \"cntree_layers7_bprob0.9_corr0.25_state_dim10_envs300000_H800_explore\"\n",
    "#model_name = \"transformer_end_query_embd512_layer4_head4_lr1e-05_drop0_batch256\"\n",
    "model_name = \"transformer_end_query_embd512_layer3_head4_lr0.0001_drop0_batch256\"\n",
    "model_path = os.path.join(engram_dir, wandb_project, env_name, \"models\", model_name)\n",
    "ckpt_name = find_ckpt_file(model_path, \"best\")\n",
    "path_to_pkl = os.path.join(model_path, ckpt_name)\n",
    "\n",
    "#eval_dset_path = \"/n/holylfs06/LABS/krajan_lab/Lab/cfang/icl-maze/cntree/cntree_layers7_bprob1.0_corr0.5_state_dim10_envs1000_H1600_explore/datasets/eval.pkl\"\n",
    "#eval_dset_path = \"/n/holylfs06/LABS/krajan_lab/Lab/cfang/icl-maze/cntree/cntree_layers7_bprob1.0_corr0.25_state_dim10_envs1000_H1600_explore/datasets/eval.pkl\"\n",
    "eval_dset_path = \"/n/holylfs06/LABS/krajan_lab/Lab/cfang/icl-maze/cntree/cntree_layers7_bprob1.0_corr0.0_state_dim10_envs1000_H1600_explore/datasets/eval.pkl\""
   ]
  },
  {
   "cell_type": "code",
   "execution_count": 3,
   "metadata": {},
   "outputs": [],
   "source": [
    "# Extract parameters using regex\n",
    "import re\n",
    "\n",
    "n_embd = int(re.search(r'embd(\\d+)', model_name).group(1))\n",
    "n_layer = int(re.search(r'layer(\\d+)', model_name).group(1))\n",
    "n_head = int(re.search(r'head(\\d+)', model_name).group(1))\n",
    "dropout = float(re.search(r'drop(\\d*\\.?\\d*)', model_name).group(1))\n",
    "\n",
    "# Extract correlation and state_dim from eval dataset path\n",
    "corr = float(re.search(r'corr(\\d*\\.?\\d*)', eval_dset_path).group(1))\n",
    "state_dim = int(re.search(r'state_dim(\\d+)', eval_dset_path).group(1))\n",
    "\n",
    "model_config = {\n",
    "    \"n_embd\": n_embd,\n",
    "    \"n_layer\": n_layer,\n",
    "    \"n_head\": n_head,\n",
    "    \"state_dim\": 10,\n",
    "    \"action_dim\": 4,\n",
    "    \"dropout\": dropout,\n",
    "    \"train_on_last_pred_only\": False,\n",
    "    \"test\": True,\n",
    "    \"name\": \"transformer_end_query\",\n",
    "    \"optimizer_config\": None,\n",
    "    \"linear_attention\": False,\n",
    "}"
   ]
  },
  {
   "cell_type": "code",
   "execution_count": 13,
   "metadata": {},
   "outputs": [
    {
     "name": "stderr",
     "output_type": "stream",
     "text": [
      "/tmp/ipykernel_1232732/79273858.py:3: FutureWarning: You are using `torch.load` with `weights_only=False` (the current default value), which uses the default pickle module implicitly. It is possible to construct malicious pickle data which will execute arbitrary code during unpickling (See https://github.com/pytorch/pytorch/blob/main/SECURITY.md#untrusted-models for more details). In a future release, the default value for `weights_only` will be flipped to `True`. This limits the functions that could be executed during unpickling. Arbitrary objects will no longer be allowed to be loaded via this mode unless they are explicitly allowlisted by the user via `torch.serialization.add_safe_globals`. We recommend you start setting `weights_only=True` for any use case where you don't have full control of the loaded file. Please open an issue on GitHub for any issues related to this experimental feature.\n",
      "  checkpoint = torch.load(path_to_pkl)\n"
     ]
    }
   ],
   "source": [
    "from src.models.transformer_end_query import Transformer\n",
    "model = Transformer(**model_config)\n",
    "checkpoint = torch.load(path_to_pkl)\n",
    "model.load_state_dict(checkpoint['state_dict'])\n",
    "model.eval()\n",
    "model = model.to('cuda')"
   ]
  },
  {
   "cell_type": "markdown",
   "metadata": {},
   "source": [
    "# Load Dataset and Create Environment"
   ]
  },
  {
   "cell_type": "code",
   "execution_count": 4,
   "metadata": {},
   "outputs": [],
   "source": [
    "n_eval_envs = 5 #50\n",
    "\n",
    "is_h5_file = eval_dset_path.endswith('.h5')\n",
    "if is_h5_file:\n",
    "    eval_trajs = h5py.File(eval_dset_path, 'r')\n",
    "    traj_indices = list(eval_trajs.keys())\n",
    "    n_eval_envs = min(n_eval_envs, len(traj_indices))\n",
    "    random.seed(0)\n",
    "    traj_indices = random.sample(traj_indices, n_eval_envs)\n",
    "    random.seed()\n",
    "    eval_trajs = [eval_trajs[i] for i in traj_indices]\n",
    "else:  # Pickle file\n",
    "    with open(eval_dset_path, 'rb') as f:\n",
    "        eval_trajs = pickle.load(f)\n",
    "    n_eval_envs = min(n_eval_envs, len(eval_trajs))\n",
    "    random.seed(0)\n",
    "    eval_trajs = random.sample(eval_trajs, n_eval_envs)\n",
    "    random.seed()"
   ]
  },
  {
   "cell_type": "code",
   "execution_count": 8,
   "metadata": {},
   "outputs": [],
   "source": [
    "eval_func = EvalCntrees()"
   ]
  },
  {
   "cell_type": "code",
   "execution_count": 9,
   "metadata": {},
   "outputs": [],
   "source": [
    "i_eval = 3\n",
    "traj = eval_trajs[i_eval]\n",
    "env_config = {\n",
    "    'max_layers': 7,\n",
    "    'horizon': 1600,\n",
    "    'branching_prob': 1.0,\n",
    "    'node_encoding_corr': corr,\n",
    "    'state_dim': state_dim,\n",
    "    'initialization_seed': np.array(traj['initialization_seed']).item()\n",
    "}\n",
    "env = eval_func.create_env(env_config, np.array(traj['goal']), i_eval)\n"
   ]
  },
  {
   "cell_type": "code",
   "execution_count": 35,
   "metadata": {},
   "outputs": [],
   "source": [
    "def offline(traj, model, config, env):\n",
    "    \"\"\" Runs each episode separately with offline context. \"\"\"\n",
    "\n",
    "    n_eval_episodes = config['offline_eval_episodes']\n",
    "    batch = {\n",
    "        'context_states': convert_to_tensor([traj['context_states']]),\n",
    "        'context_actions': convert_to_tensor([traj['context_actions']]),\n",
    "        'context_next_states': convert_to_tensor([traj['context_next_states']]),\n",
    "        'context_rewards': convert_to_tensor([traj['context_rewards'][:, None]]),\n",
    "        }\n",
    "\n",
    "    # Load agents\n",
    "    epsgreedy_agent = TransformerAgent(model, batch_size=1, sample=True)\n",
    "    epsgreedy_agent_2 = TransformerAgent(model, batch_size=1, temp=1, sample=True)\n",
    "    greedy_agent = TransformerAgent(model, batch_size=1, sample=False)\n",
    "    epsgreedy_agent.set_batch(batch)\n",
    "    epsgreedy_agent_2.set_batch(batch)\n",
    "    greedy_agent.set_batch(batch)\n",
    "\n",
    "    # Deploy agents offline\n",
    "    env.reset_state_bank = [env.root.encoding()]\n",
    "    vec_env = TreeEnvVec([env])\n",
    "    greedy_returns = []\n",
    "    epsgreedy_returns = []\n",
    "    epsgreedy_returns_2 = []\n",
    "    opt_returns = []\n",
    "\n",
    "    for _ in range(n_eval_episodes):\n",
    "        _epsgreedy_obs, _, _, _epsgreedy_returns, _opt_returns_epsgreedy = \\\n",
    "            vec_env.deploy_eval(epsgreedy_agent, return_max_rewards=True)\n",
    "        _epsgreedy_obs_2, _, _, _epsgreedy_returns_2, _opt_returns_epsgreedy_2 = \\\n",
    "            vec_env.deploy_eval(epsgreedy_agent_2, return_max_rewards=True)\n",
    "        _greedy_obs, _, _, _greedy_returns, _opt_returns_greedy = \\\n",
    "            vec_env.deploy_eval(greedy_agent, return_max_rewards=True)\n",
    "        epsgreedy_returns.append(np.sum(_epsgreedy_returns))\n",
    "        epsgreedy_returns_2.append(np.sum(_epsgreedy_returns_2))\n",
    "        greedy_returns.append(np.sum(_greedy_returns))\n",
    "        opt_returns.append(_opt_returns_epsgreedy)\n",
    "    epsgreedy_returns = np.mean(epsgreedy_returns)\n",
    "    epsgreedy_returns_2 = np.mean(epsgreedy_returns_2)\n",
    "    greedy_returns = np.mean(greedy_returns)\n",
    "    opt_returns = np.mean(opt_returns)\n",
    "\n",
    "    print(f\"Epsgreedy returns: {epsgreedy_returns}\")\n",
    "    print(f\"Greedy returns: {greedy_returns}\")\n",
    "    print()\n",
    "\n",
    "    # Plot and return\n",
    "    baselines = {\n",
    "        'Opt': opt_returns,\n",
    "        'Learner (temp=2)': epsgreedy_returns,\n",
    "        'Learner (temp=1)': epsgreedy_returns_2,\n",
    "        'Learner (greedy)': greedy_returns,\n",
    "    }\n",
    "    # Stack observations and returns\n",
    "    all_obs = np.vstack([_epsgreedy_obs, _epsgreedy_obs_2, _greedy_obs])\n",
    "\n",
    "    return baselines, all_obs\n"
   ]
  },
  {
   "cell_type": "code",
   "execution_count": 66,
   "metadata": {},
   "outputs": [],
   "source": [
    "def plot_trajectory(obs, env):\n",
    "    fig, ax = plt.subplots(figsize=(5, 3))\n",
    "    max_nodes_per_layer = 2**(env.max_layers)\n",
    "    offset_constant = 10\n",
    "    \n",
    "    path = []  # Collect path taken by agent\n",
    "    is_reward = []\n",
    "    for observation in obs:\n",
    "        if not isinstance(observation, list):\n",
    "            observation = observation.tolist()\n",
    "        node = env.node_map[tuple(observation)]\n",
    "        path.append([node.layer, node.pos])\n",
    "        if node == env.root:\n",
    "            is_reward.append(True)\n",
    "        else:\n",
    "            is_reward.append(False)\n",
    "    path = np.array(path).astype(float)\n",
    "    base = 2*np.ones(path.shape[0])\n",
    "    nodes_per_layer = np.power(base, path[:,0])\n",
    "    offset_chunks = (offset_constant*max_nodes_per_layer)/(nodes_per_layer+1)\n",
    "    path[:,1] += offset_chunks*(path[:,1]+1)\n",
    "    path[:,0] += np.random.normal(0, 0.1, path[:,0].shape)  # y-jitter\n",
    "    path[:,1] += np.random.normal(0, 1, path[:,1].shape)  # x-jitter\n",
    "\n",
    "    maze = []  # Collect all nodes in the tree\n",
    "    for node in env.node_map.values():\n",
    "        maze.append([node.layer, node.pos])\n",
    "    maze = np.array(maze).astype(float)\n",
    "    base = 2*np.ones(maze.shape[0])\n",
    "    nodes_per_layer = np.power(base, maze[:,0])\n",
    "    offset_chunks = (offset_constant*max_nodes_per_layer)/(nodes_per_layer+1)   \n",
    "    maze[:,1] += offset_chunks*(maze[:,1]+1)\n",
    "\n",
    "    # Plot actual tree\n",
    "    ax.scatter(\n",
    "        maze[:,1], -maze[:,0],\n",
    "        c='gray', alpha=0.2, s=30, marker='x')\n",
    "\n",
    "    # Plot path\n",
    "    scatter = ax.scatter(\n",
    "        path[:, 1], \n",
    "        -path[:, 0],\n",
    "        c=np.arange(len(path)), \n",
    "        cmap='viridis',\n",
    "        alpha=0.4,\n",
    "        s=5\n",
    "    )\n",
    "        \n",
    "    # Add colorbar to show temporal progression\n",
    "    #plt.colorbar(scatter, label='Timestep')\n",
    "    ax.set_xticks([])\n",
    "    ax.set_yticks([])\n",
    "    ax.spines['top'].set_visible(True)\n",
    "    ax.spines['right'].set_visible(True)\n",
    "    ax.spines['bottom'].set_visible(True) \n",
    "    ax.spines['left'].set_visible(True)\n",
    "    plt.show()"
   ]
  },
  {
   "cell_type": "code",
   "execution_count": 68,
   "metadata": {},
   "outputs": [
    {
     "name": "stdout",
     "output_type": "stream",
     "text": [
      "Resetting all environments\n",
      "Resetting all environments\n",
      "Resetting all environments\n",
      "Epsgreedy returns: 0.0\n",
      "Greedy returns: 0.0\n",
      "\n"
     ]
    },
    {
     "data": {
      "image/png": "[encoded data removed]",
      "text/plain": [
       "<Figure size 500x300 with 1 Axes>"
      ]
     },
     "metadata": {},
     "output_type": "display_data"
    },
    {
     "name": "stdout",
     "output_type": "stream",
     "text": [
      "Resetting all environments\n",
      "Resetting all environments\n",
      "Resetting all environments\n",
      "Epsgreedy returns: 1.0\n",
      "Greedy returns: 0.0\n",
      "\n"
     ]
    },
    {
     "data": {
      "image/png": "[encoded data removed]",
      "text/plain": [
       "<Figure size 500x300 with 1 Axes>"
      ]
     },
     "metadata": {},
     "output_type": "display_data"
    },
    {
     "name": "stdout",
     "output_type": "stream",
     "text": [
      "Resetting all environments\n",
      "Resetting all environments\n",
      "Resetting all environments\n",
      "Epsgreedy returns: 1968.0\n",
      "Greedy returns: 0.0\n",
      "\n"
     ]
    },
    {
     "data": {
      "image/png": "[encoded data removed]",
      "text/plain": [
       "<Figure size 500x300 with 1 Axes>"
      ]
     },
     "metadata": {},
     "output_type": "display_data"
    },
    {
     "name": "stdout",
     "output_type": "stream",
     "text": [
      "Resetting all environments\n",
      "Resetting all environments\n",
      "Resetting all environments\n",
      "Epsgreedy returns: 1528.0\n",
      "Greedy returns: 0.0\n",
      "\n"
     ]
    },
    {
     "data": {
      "image/png": "[encoded data removed]",
      "text/plain": [
       "<Figure size 500x300 with 1 Axes>"
      ]
     },
     "metadata": {},
     "output_type": "display_data"
    }
   ],
   "source": [
    "env_config['offline_eval_episodes'] = 1\n",
    "env.horizon = 2000\n",
    "for context_length in [1, 200, 300, 1000]:\n",
    "    _traj = {}\n",
    "    for k in traj.keys():\n",
    "        if 'context' in k:\n",
    "            val = traj[k][:context_length]\n",
    "        else:\n",
    "            val = traj[k]\n",
    "        _traj[k] = val\n",
    "    \n",
    "    _, all_obs = offline(_traj, model, env_config, env)\n",
    "    plot_trajectory(all_obs[0], env)\n",
    "\n"
   ]
  },
  {
   "cell_type": "code",
   "execution_count": null,
   "metadata": {},
   "outputs": [],
   "source": []
  }
 ],
 "metadata": {
  "kernelspec": {
   "display_name": "jax",
   "language": "python",
   "name": "python3"
  },
  "language_info": {
   "codemirror_mode": {
    "name": "ipython",
    "version": 3
   },
   "file_extension": ".py",
   "mimetype": "text/x-python",
   "name": "python",
   "nbconvert_exporter": "python",
   "pygments_lexer": "ipython3",
   "version": "3.12.5"
  }
 },
 "nbformat": 4,
 "nbformat_minor": 2
}
