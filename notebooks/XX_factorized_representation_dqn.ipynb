{
 "cells": [
  {
   "cell_type": "code",
   "execution_count": 1,
   "metadata": {},
   "outputs": [
    {
     "name": "stderr",
     "output_type": "stream",
     "text": [
      "/n/home04/cfang/.conda/envs/jax/lib/python3.12/site-packages/tqdm/auto.py:21: TqdmWarning: IProgress not found. Please update jupyter and ipywidgets. See https://ipywidgets.readthedocs.io/en/stable/user_install.html\n",
      "  from .autonotebook import tqdm as notebook_tqdm\n"
     ]
    }
   ],
   "source": [
    "import numpy as np\n",
    "import matplotlib.pyplot as plt\n",
    "import seaborn as sns\n",
    "import pickle\n",
    "import os\n",
    "import pandas as pd\n",
    "import configs\n",
    "import torch\n",
    "from sklearn.decomposition import PCA\n",
    "from scipy.spatial.distance import pdist, squareform\n",
    "\n",
    "from src.utils import find_ckpt_file, convert_to_tensor\n",
    "import h5py\n",
    "import random\n",
    "from src.evals.eval_trees import EvalTrees\n",
    "from copy import copy\n",
    "from src.models.dqn import DQN"
   ]
  },
  {
   "cell_type": "markdown",
   "metadata": {},
   "source": [
    "# Load Model"
   ]
  },
  {
   "cell_type": "code",
   "execution_count": 2,
   "metadata": {},
   "outputs": [],
   "source": [
    "engram_dir = \"/n/holylfs06/LABS/krajan_lab/Lab/cfang/icl-maze/\"\n",
    "wandb_project = \"dqn_full\"\n",
    "env_name = \"tree_layers7_bprob1.0_envs200_H2000_explore\"\n",
    "model_name = \"dqn_nlayers4_gamma0.9_target10_lr1e-05\""
   ]
  },
  {
   "cell_type": "code",
   "execution_count": 7,
   "metadata": {},
   "outputs": [],
   "source": [
    "# Extract parameters using regex\n",
    "import re\n",
    "n_layer = int(re.search(r'nlayers(\\d+)', model_name).group(1))\n",
    "gamma = float(re.search(r'gamma(\\d*\\.?\\d*)', model_name).group(1))\n",
    "target_update = int(re.search(r'target(\\d+)', model_name).group(1))\n",
    "lr = float(re.search(r'lr(\\d*\\.?\\d*)', model_name).group(1))\n",
    "\n",
    "\n",
    "model_config = {\n",
    "    \"state_dim\": 10,\n",
    "    \"action_dim\": 4,\n",
    "    \"n_layers\": n_layer,\n",
    "    \"gamma\": gamma,\n",
    "    \"epsilon\": 0.,\n",
    "    \"target_update\": target_update,\n",
    "    \"optimizer_config\": {'lr': lr, 'weight_decay': 0, 'batch_size': 512},\n",
    "    \"name\": \"dqn\",\n",
    "    \"buffer_size\": None,\n",
    "}"
   ]
  },
  {
   "cell_type": "markdown",
   "metadata": {},
   "source": [
    "# Load Dataset and Create Environment"
   ]
  },
  {
   "cell_type": "code",
   "execution_count": 8,
   "metadata": {},
   "outputs": [],
   "source": [
    "eval_dataset_path = \"/n/holylfs06/LABS/krajan_lab/Lab/cfang/icl-maze/datasets/tree_layers7_bprob1.0_envs600000_H1600_explore/eval.h5\"\n",
    "eval_trajs = h5py.File(eval_dataset_path, 'r')\n",
    "traj_indices = list(eval_trajs.keys())\n",
    "n_eval_envs = min(50, len(traj_indices))\n",
    "random.seed(0)\n",
    "traj_indices = random.sample(traj_indices, n_eval_envs)\n",
    "random.seed()\n",
    "eval_trajs = [eval_trajs[i] for i in traj_indices]\n"
   ]
  },
  {
   "cell_type": "code",
   "execution_count": 18,
   "metadata": {},
   "outputs": [],
   "source": [
    "def run_model(traj, model, state_features, seq_length):\n",
    "    hidden_states = None\n",
    "    \n",
    "    for state_feature in state_features: \n",
    "        query_state  = convert_to_tensor([np.array(state_feature)])\n",
    "        with torch.no_grad():\n",
    "            out, _hidden_states = model(query_state, return_activations=True)\n",
    "        if hidden_states is None:\n",
    "            hidden_states = [[] for _ in range(len(_hidden_states))]\n",
    "        for i_layer, h in enumerate(_hidden_states):\n",
    "            hidden_states[i_layer].append(h.squeeze())\n",
    "    return hidden_states"
   ]
  },
  {
   "cell_type": "code",
   "execution_count": 19,
   "metadata": {},
   "outputs": [],
   "source": [
    "def get_node_and_representation(traj, env, model):\n",
    "    nodes = []\n",
    "    state_features = []\n",
    "    state_features = list(env.node_map.keys())\n",
    "\n",
    "    nodes = [] \n",
    "    for state_feature in state_features:\n",
    "        nodes.append(str(env.node_map[state_feature]))\n",
    "    hidden_states = run_model(traj, model, state_features, seq_length=1000)\n",
    "\n",
    "    return nodes, hidden_states"
   ]
  },
  {
   "cell_type": "code",
   "execution_count": 20,
   "metadata": {},
   "outputs": [],
   "source": [
    "results = {\n",
    "    'nodes': [],\n",
    "    'hidden_states': [],\n",
    "    'model_layer': [], \n",
    "}\n",
    "\n",
    "for i_eval, traj in enumerate(eval_trajs[:10]):\n",
    "    path_to_pkl = os.path.join(engram_dir, wandb_project, env_name, \"models\", model_name, f\"traj_{i_eval}_state_dict.pkl\")\n",
    "    with open(path_to_pkl, 'rb') as f:\n",
    "        state_dict = pickle.load(f)\n",
    "    model = DQN(**model_config)\n",
    "    model.load_state_dict(state_dict)\n",
    "    model.eval()\n",
    "    model = model.to('cuda')\n",
    "    env_config = {\n",
    "        'max_layers': 7,\n",
    "        'horizon': 1600,\n",
    "        'branching_prob': 1.0,\n",
    "        'node_encoding': 'random',\n",
    "        'initialization_seed': np.array(traj['initialization_seed']).item()\n",
    "    }\n",
    "    env = EvalTrees().create_env(env_config, np.array(traj['goal']), i_eval)\n",
    "    nodes, hidden_states = get_node_and_representation(traj, env, model)\n",
    "    for i_layer, model_layer_hidden_states in enumerate(hidden_states):\n",
    "        results['nodes'].extend(nodes)\n",
    "        results['hidden_states'].extend(model_layer_hidden_states)\n",
    "        results['model_layer'].extend([i_layer] * len(nodes))"
   ]
  },
  {
   "cell_type": "code",
   "execution_count": 21,
   "metadata": {},
   "outputs": [
    {
     "name": "stdout",
     "output_type": "stream",
     "text": [
      "nodes 5080\n",
      "hidden_states 5080\n",
      "model_layer 5080\n"
     ]
    }
   ],
   "source": [
    "for k in results.keys():\n",
    "    print(k, len(results[k]))"
   ]
  },
  {
   "cell_type": "code",
   "execution_count": 22,
   "metadata": {},
   "outputs": [],
   "source": [
    "df = pd.DataFrame(results)"
   ]
  },
  {
   "cell_type": "code",
   "execution_count": 23,
   "metadata": {},
   "outputs": [],
   "source": [
    "same_node = {\n",
    "    'sim': [],\n",
    "    'model_layer': [],\n",
    "}\n",
    "diff_node = {\n",
    "    'sim': [],\n",
    "    'model_layer': [],\n",
    "}\n",
    "\n",
    "for i_layer in df['model_layer'].unique():\n",
    "    layer_df = df[df['model_layer'] == i_layer]\n",
    "    for node in layer_df['nodes'].unique():\n",
    "        node_df = layer_df[layer_df['nodes'] == node]\n",
    "        other_node_df = layer_df[layer_df['nodes'] != node]\n",
    "        node_hidden_states = np.stack(node_df['hidden_states'].to_numpy())\n",
    "        other_node_hidden_states = np.stack(other_node_df['hidden_states'].to_numpy())\n",
    "        n_same_node = node_hidden_states.shape[0]\n",
    "        stacked_reprs = np.vstack((node_hidden_states, other_node_hidden_states))\n",
    "        cc = np.corrcoef(stacked_reprs)\n",
    "        for i in range(n_same_node):\n",
    "            for j in range(i+1, n_same_node):\n",
    "                same_node['sim'].append(cc[i, j])\n",
    "                same_node['model_layer'].append(i_layer)\n",
    "        for i in range(n_same_node):\n",
    "            for j in range(n_same_node, stacked_reprs.shape[0]):\n",
    "                diff_node['sim'].append(cc[i, j])\n",
    "                diff_node['model_layer'].append(i_layer)"
   ]
  },
  {
   "cell_type": "code",
   "execution_count": 24,
   "metadata": {},
   "outputs": [],
   "source": [
    "same_node_df = pd.DataFrame(same_node)\n",
    "diff_node_df = pd.DataFrame(diff_node)\n"
   ]
  },
  {
   "cell_type": "code",
   "execution_count": 25,
   "metadata": {},
   "outputs": [
    {
     "data": {
      "image/png": "[encoded data removed]",
      "text/plain": [
       "<Figure size 500x300 with 1 Axes>"
      ]
     },
     "metadata": {},
     "output_type": "display_data"
    }
   ],
   "source": [
    "fig, ax = plt.subplots(figsize=(5, 3))\n",
    "ax = sns.barplot(\n",
    "    data=pd.concat([\n",
    "        same_node_df.assign(type='Same Node'),\n",
    "        diff_node_df.assign(type='Different Node')\n",
    "    ]),\n",
    "    x='model_layer', y='sim', hue='type', ax=ax, \n",
    "    )\n",
    "\n",
    "for i, bar in enumerate(ax.patches):\n",
    "    if bar.get_facecolor() == (0.7642156862745098, 0.5318627450980391, 0.12598039215686285, 1):  # C1 color\n",
    "        bar.set_hatch('///')\n",
    "    bar.set_facecolor('dimgray')\n",
    "plt.legend()\n",
    "plt.show()\n",
    "\n"
   ]
  }
 ],
 "metadata": {
  "kernelspec": {
   "display_name": "jax",
   "language": "python",
   "name": "python3"
  },
  "language_info": {
   "codemirror_mode": {
    "name": "ipython",
    "version": 3
   },
   "file_extension": ".py",
   "mimetype": "text/x-python",
   "name": "python",
   "nbconvert_exporter": "python",
   "pygments_lexer": "ipython3",
   "version": "3.12.5"
  }
 },
 "nbformat": 4,
 "nbformat_minor": 2
}
