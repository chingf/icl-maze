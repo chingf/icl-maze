{
 "cells": [
  {
   "cell_type": "code",
   "execution_count": 1,
   "metadata": {},
   "outputs": [],
   "source": [
    "import numpy as np\n",
    "import matplotlib.pyplot as plt\n",
    "import seaborn as sns\n",
    "import pickle\n",
    "import os\n",
    "import pandas as pd\n",
    "import configs\n",
    "import torch\n",
    "from sklearn.decomposition import PCA\n",
    "from scipy.spatial.distance import pdist, squareform\n",
    "\n",
    "from src.utils import find_ckpt_file, convert_to_tensor\n",
    "import h5py\n",
    "import random\n",
    "from src.evals.eval_trees import EvalTrees\n",
    "from src.evals.eval_trees import EvalCntrees"
   ]
  },
  {
   "cell_type": "code",
   "execution_count": 2,
   "metadata": {},
   "outputs": [],
   "source": [
    "corr = 0.25"
   ]
  },
  {
   "cell_type": "markdown",
   "metadata": {},
   "source": [
    "# Load Model"
   ]
  },
  {
   "cell_type": "code",
   "execution_count": null,
   "metadata": {},
   "outputs": [],
   "source": [
    "model_name, path_to_pkl, eval_dset_path = configs.get_model_paths(corr, \"tree_maze_big_pretraining\")\n",
    "model_name, path_to_pkl, eval_dset_path = configs.get_model_paths(corr, \"tree_maze\")"
   ]
  },
  {
   "cell_type": "code",
   "execution_count": 4,
   "metadata": {},
   "outputs": [],
   "source": [
    "# Extract parameters using regex\n",
    "import re\n",
    "\n",
    "n_embd = int(re.search(r'embd(\\d+)', model_name).group(1))\n",
    "n_layer = int(re.search(r'layer(\\d+)', model_name).group(1))\n",
    "n_head = int(re.search(r'head(\\d+)', model_name).group(1))\n",
    "dropout = float(re.search(r'drop(\\d*\\.?\\d*)', model_name).group(1))\n",
    "\n",
    "# Extract correlation and state_dim from eval dataset path\n",
    "state_dim = int(re.search(r'state_dim(\\d+)', eval_dset_path).group(1))\n",
    "\n",
    "model_config = {\n",
    "    \"n_embd\": n_embd,\n",
    "    \"n_layer\": n_layer,\n",
    "    \"n_head\": n_head,\n",
    "    \"state_dim\": 10,\n",
    "    \"action_dim\": 4,\n",
    "    \"dropout\": dropout,\n",
    "    \"train_on_last_pred_only\": False,\n",
    "    \"test\": True,\n",
    "    \"name\": \"transformer_end_query\",\n",
    "    \"optimizer_config\": None,\n",
    "    \"linear_attention\": False,\n",
    "}"
   ]
  },
  {
   "cell_type": "code",
   "execution_count": null,
   "metadata": {},
   "outputs": [],
   "source": [
    "from src.models.transformer_end_query import Transformer\n",
    "model_config['initialization_seed'] = 0\n",
    "model = Transformer(**model_config)\n",
    "checkpoint = torch.load(path_to_pkl)\n",
    "model.load_state_dict(checkpoint['state_dict'])\n",
    "model.eval()\n",
    "model = model.to('cuda')"
   ]
  },
  {
   "cell_type": "markdown",
   "metadata": {},
   "source": [
    "# Load Dataset and Create Environment"
   ]
  },
  {
   "cell_type": "code",
   "execution_count": 6,
   "metadata": {},
   "outputs": [],
   "source": [
    "n_eval_envs = 100\n",
    "\n",
    "is_h5_file = eval_dset_path.endswith('.h5')\n",
    "if is_h5_file:\n",
    "    eval_trajs = h5py.File(eval_dset_path, 'r')\n",
    "    traj_indices = list(eval_trajs.keys())\n",
    "    n_eval_envs = min(n_eval_envs, len(traj_indices))\n",
    "    random.seed(0)\n",
    "    traj_indices = random.sample(traj_indices, n_eval_envs)\n",
    "    random.seed()\n",
    "    eval_trajs = [eval_trajs[i] for i in traj_indices]\n",
    "else:  # Pickle file\n",
    "    with open(eval_dset_path, 'rb') as f:\n",
    "        eval_trajs = pickle.load(f)\n",
    "    n_eval_envs = min(n_eval_envs, len(eval_trajs))\n",
    "    random.seed(0)\n",
    "    eval_trajs = random.sample(eval_trajs, n_eval_envs)\n",
    "    random.seed()\n"
   ]
  },
  {
   "cell_type": "code",
   "execution_count": 7,
   "metadata": {},
   "outputs": [],
   "source": [
    "def run_model(traj, model, state_features, seq_length, zero_reward=False):\n",
    "    hidden_states = [[] for _ in range(model.n_layer)]\n",
    "    \n",
    "    for state_feature in state_features: \n",
    "        batch = {\n",
    "            'context_states': convert_to_tensor([np.array(traj['context_states'])]),\n",
    "            'context_actions': convert_to_tensor([np.array(traj['context_actions'])]),\n",
    "            'context_next_states': convert_to_tensor([np.array(traj['context_next_states'])]),\n",
    "            'context_rewards': convert_to_tensor([np.array(traj['context_rewards'])[:, None]]),\n",
    "            'query_states': convert_to_tensor([np.array(state_feature)]),\n",
    "            }\n",
    "        batch['zeros'] = torch.zeros(1, 10 ** 2 + 4 + 1).float()\n",
    "        for k in batch.keys():\n",
    "            if 'context' in k:\n",
    "                batch[k] = batch[k][:,:seq_length]\n",
    "            batch[k] = batch[k].to(model.device)\n",
    "        model.save_activations = True\n",
    "        if zero_reward:\n",
    "            batch['context_rewards'] *= 0\n",
    "        with torch.no_grad():\n",
    "            out = model(batch)\n",
    "        _hidden_states = model.activations['hidden_states'][1:] # Tuple over layers\n",
    "        for i_layer in range(model.n_layer):\n",
    "            hidden_states[i_layer].append(_hidden_states[i_layer])\n",
    "    return hidden_states"
   ]
  },
  {
   "cell_type": "code",
   "execution_count": 8,
   "metadata": {},
   "outputs": [],
   "source": [
    "def get_kernel_alignment(K_A, K_B):\n",
    "    # Center the kernel matrices\n",
    "    n = K_A.shape[0]\n",
    "    I = np.eye(n)\n",
    "    H = I - np.ones((n, n)) / n\n",
    "    K_A_centered = H @ K_A @ H\n",
    "    K_B_centered = H @ K_B @ H\n",
    "    \n",
    "    # Compute alignment using Frobenius norm\n",
    "    numerator = np.sum(K_A_centered * K_B_centered)\n",
    "    denominator = np.sqrt(np.sum(K_A_centered * K_A_centered) * np.sum(K_B_centered * K_B_centered))\n",
    "    \n",
    "    return numerator / denominator if denominator != 0 else 0"
   ]
  },
  {
   "cell_type": "code",
   "execution_count": 9,
   "metadata": {},
   "outputs": [],
   "source": [
    "dist_func = lambda data: squareform(pdist(data, metric='correlation'))\n",
    "#dist_func = lambda data: squareform(pdist(data))\n",
    "\n",
    "def get_dist_metric(hidden_states, true_dist_matrix, gamma, random_ctrl=False):\n",
    "    kas = []\n",
    "    dist_matrices = []\n",
    "    K_input = gamma**true_dist_matrix # exponential kernel\n",
    "\n",
    "    for layer in range(len(hidden_states)):\n",
    "        X = torch.stack(hidden_states[layer])\n",
    "        X = X.detach().cpu().numpy().squeeze()  # (states, sequence length, hidden dim)\n",
    "        data = X[:, -1, :]  # Response when given last (query) token\n",
    "        if random_ctrl:\n",
    "            np.random.shuffle(data)\n",
    "\n",
    "        representation_dist_matrix = dist_func(data)\n",
    "        clip_val = np.percentile(representation_dist_matrix, 99)\n",
    "        representation_dist_matrix = np.clip(representation_dist_matrix, None, clip_val)\n",
    "        representation_dist_matrix = representation_dist_matrix / representation_dist_matrix.max()\n",
    "\n",
    "        data -= data.mean(0)[None,:]\n",
    "        K_latents = data @ data.T\n",
    "        kernel_alignment = get_kernel_alignment(K_input, K_latents)\n",
    "        kas.append(kernel_alignment)\n",
    "        dist_matrices.append(representation_dist_matrix)\n",
    "    return kas, dist_matrices"
   ]
  },
  {
   "cell_type": "code",
   "execution_count": null,
   "metadata": {},
   "outputs": [],
   "source": [
    "dist_results = {\n",
    "    'seq_length': [],\n",
    "    'layer': [],\n",
    "    'diff': [],\n",
    "    'diff_no_reward': [],\n",
    "    'random_diff': [],\n",
    "    'gamma': []\n",
    "}\n",
    "\n",
    "for i_eval in range(n_eval_envs):\n",
    "    traj = eval_trajs[i_eval]\n",
    "\n",
    "    first_reward = np.argwhere(np.array(traj['context_rewards'])>0)\n",
    "    if (first_reward.size == 0) or (first_reward[0] > 1000):\n",
    "        continue\n",
    "\n",
    "    env_config = {\n",
    "        'max_layers': 7,\n",
    "        'horizon': 1600,\n",
    "        'branching_prob': 1.0,\n",
    "        'node_encoding_corr': corr,\n",
    "        'state_dim': state_dim,\n",
    "        'initialization_seed': np.array(traj['initialization_seed']).item()\n",
    "    }\n",
    "    env = EvalCntrees().create_env(env_config, np.array(traj['goal']), i_eval)\n",
    "    layers = []\n",
    "    positions = []\n",
    "    state_features = []\n",
    "    state_features = list(env.node_map.keys())\n",
    "\n",
    "    for state_feature in state_features:\n",
    "        layers.append(env.node_map[state_feature].layer)\n",
    "        positions.append(env.node_map[state_feature].pos)\n",
    "\n",
    "    true_dist_matrix = []\n",
    "\n",
    "    for state_feature in state_features:\n",
    "        _, dist_from_state = env._make_opt_action_dict(state_feature)\n",
    "        sorted_dist_from_state = []\n",
    "        for state_feature in state_features:\n",
    "            sorted_dist_from_state.append(dist_from_state[state_feature])\n",
    "        true_dist_matrix.append(sorted_dist_from_state)\n",
    "\n",
    "    true_dist_matrix = np.array(true_dist_matrix)\n",
    "\n",
    "    for seq_length in [1, 25, 50, 75, 100, 250, 500, 750, 1000]:\n",
    "        for gamma in np.arange(0.1, 1., 0.1):\n",
    "            hidden_states = run_model(traj, model, state_features, seq_length)\n",
    "            diffs, dist_matrices = get_dist_metric(hidden_states, true_dist_matrix, gamma)\n",
    "            random_diffs, _ = get_dist_metric(hidden_states, true_dist_matrix, gamma, random_ctrl=True)\n",
    "            hidden_states_no_reward = run_model(traj, model, state_features, seq_length, zero_reward=True)\n",
    "            diffs_no_reward, _ = get_dist_metric(hidden_states_no_reward, true_dist_matrix, gamma)\n",
    "            dist_results['seq_length'].extend([seq_length] * model.n_layer)\n",
    "            dist_results['layer'].extend(range(model.n_layer))\n",
    "            dist_results['diff'].extend(diffs)\n",
    "            dist_results['random_diff'].extend(random_diffs)\n",
    "            dist_results['diff_no_reward'].extend(diffs_no_reward)\n",
    "            dist_results['gamma'].extend([gamma] * model.n_layer)\n",
    "        # Clear GPU memory\n",
    "        del hidden_states\n",
    "        torch.cuda.empty_cache()\n",
    "dist_results = pd.DataFrame(dist_results)"
   ]
  },
  {
   "cell_type": "code",
   "execution_count": null,
   "metadata": {},
   "outputs": [],
   "source": [
    "fig, ax = plt.subplots(figsize=(5, 3))\n",
    "sns.lineplot(\n",
    "    data=dist_results[dist_results['seq_length']==1000],\n",
    "    x='gamma', y='diff', hue='layer',\n",
    "    linewidth=2,\n",
    "    ax=ax, legend=False)\n",
    "ax.set_xlabel('Gamma')\n",
    "ax.set_ylabel('Final Kernel Alignment')\n",
    "plt.show()"
   ]
  },
  {
   "cell_type": "code",
   "execution_count": null,
   "metadata": {},
   "outputs": [],
   "source": [
    "fig, ax = plt.subplots(figsize=(3, 3))\n",
    "sns.lineplot(\n",
    "    data=dist_results[dist_results['seq_length']==1000],\n",
    "    x='gamma', y='diff', color='black',\n",
    "    linewidth=2,\n",
    "    ax=ax, legend=False)\n",
    "ax.set_xlabel('Gamma')\n",
    "ax.set_ylabel('Final Kernel Alignment')\n",
    "plt.show()"
   ]
  },
  {
   "cell_type": "code",
   "execution_count": 26,
   "metadata": {},
   "outputs": [
    {
     "data": {
      "image/png": "[encoded data removed]",
      "text/plain": [
       "<Figure size 300x300 with 1 Axes>"
      ]
     },
     "metadata": {},
     "output_type": "display_data"
    }
   ],
   "source": [
    "chosen_gamma = 0.6\n",
    "fig, ax = plt.subplots(figsize=(3, 3))\n",
    "sns.lineplot(\n",
    "    data=dist_results[dist_results['gamma']==chosen_gamma],\n",
    "    x='seq_length', y='diff', hue='layer',\n",
    "    linewidth=2,\n",
    "    ax=ax, legend=False)\n",
    "ax.set_xlabel('Context Length')\n",
    "ax.set_ylabel('Kernel Alignment')\n",
    "plt.yticks([0.2, 0.3, 0.4])\n",
    "plt.xticks([0, 250, 500, 750, 1000])\n",
    "plt.tight_layout()\n",
    "plt.savefig('figs/in_context_summary.svg', dpi=300)\n",
    "plt.show()"
   ]
  },
  {
   "cell_type": "code",
   "execution_count": 24,
   "metadata": {},
   "outputs": [
    {
     "data": {
      "image/png": "[encoded data removed]",
      "text/plain": [
       "<Figure size 300x300 with 1 Axes>"
      ]
     },
     "metadata": {},
     "output_type": "display_data"
    }
   ],
   "source": [
    "chosen_gamma = 0.6\n",
    "fig, ax = plt.subplots(figsize=(3, 3))\n",
    "_data = dist_results[dist_results['gamma']==chosen_gamma]\n",
    "sns.lineplot(\n",
    "    data=_data,\n",
    "    x='seq_length', y='diff', hue='layer',\n",
    "    linewidth=2,\n",
    "    ax=ax, legend=False)\n",
    "sns.lineplot(\n",
    "    data=_data,\n",
    "    x='seq_length', y='random_diff',\n",
    "    linewidth=2, color='gray', linestyle='--',\n",
    "    ax=ax, legend=False)\n",
    "ax.set_xlabel('Context Length')\n",
    "ax.set_ylabel('Kernel Alignment')\n",
    "plt.show()"
   ]
  },
  {
   "cell_type": "code",
   "execution_count": null,
   "metadata": {},
   "outputs": [],
   "source": [
    "fig, ax = plt.subplots(figsize=(5, 3))\n",
    "sns.lineplot(\n",
    "    data=dist_results, x='seq_length', y='diff', hue='layer',\n",
    "    linewidth=2,\n",
    "    ax=ax, legend=False)\n",
    "sns.lineplot(\n",
    "    data=dist_results, x='seq_length', y='diff_no_reward', hue='layer',\n",
    "    linewidth=2, linestyle='--',\n",
    "    ax=ax, legend=False)\n",
    "ax.set_xlabel('Context Length')\n",
    "ax.set_ylabel('Kernel Alignment')\n",
    "plt.show()\n"
   ]
  },
  {
   "cell_type": "code",
   "execution_count": null,
   "metadata": {},
   "outputs": [],
   "source": [
    "fig, ax = plt.subplots(figsize=(3, 2))\n",
    "\n",
    "# Filter for max sequence length\n",
    "data = dist_results[dist_results['seq_length'] == dist_results['seq_length'].max()]\n",
    "n_layers = len(data['layer'].unique())\n",
    "width = 0.35  # Width of the bars\n",
    "\n",
    "# Get cubehelix color palette that goes from light to dark purple\n",
    "colors = sns.cubehelix_palette(n_colors=n_layers)\n",
    "\n",
    "# Create x positions for the bars\n",
    "x = np.arange(n_layers)\n",
    "\n",
    "# Plot bars for each layer with corresponding colors\n",
    "for i, layer in enumerate(range(n_layers)):\n",
    "    layer_data = data[data['layer'] == layer]\n",
    "    # Calculate means and standard errors\n",
    "    diff_mean = layer_data['diff'].mean()\n",
    "    diff_sem = layer_data['diff'].std() / np.sqrt(len(layer_data))\n",
    "    no_reward_mean = layer_data['diff_no_reward'].mean()\n",
    "    no_reward_sem = layer_data['diff_no_reward'].std() / np.sqrt(len(layer_data))\n",
    "    \n",
    "    # Plot 'diff' bars with error bars\n",
    "    ax.bar(x[i] - width/2, diff_mean, \n",
    "           width, color=colors[i], label=f'Layer {layer}' if i == 0 else \"\")\n",
    "    ax.errorbar(x[i] - width/2, diff_mean, yerr=diff_sem, \n",
    "                color='black', capsize=0, fmt='none', linewidth=2)\n",
    "    \n",
    "    # Plot 'diff_no_reward' bars with error bars\n",
    "    ax.bar(x[i] + width/2, no_reward_mean, \n",
    "           width, color=colors[i], hatch='\\\\', label=f'Layer {layer} (No Reward)' if i == 0 else \"\")\n",
    "    ax.errorbar(x[i] + width/2, no_reward_mean, yerr=no_reward_sem, \n",
    "                color='black', capsize=0, fmt='none', linewidth=2)\n",
    "\n",
    "# Customize the plot\n",
    "ax.set_xlabel('Model Layer')\n",
    "ax.set_ylabel('Kernel Alignment')\n",
    "ax.set_xticks(x)\n",
    "ax.set_xticklabels(range(n_layers))\n",
    "\n",
    "plt.show()"
   ]
  },
  {
   "cell_type": "code",
   "execution_count": null,
   "metadata": {},
   "outputs": [],
   "source": []
  }
 ],
 "metadata": {
  "kernelspec": {
   "display_name": "jax",
   "language": "python",
   "name": "python3"
  },
  "language_info": {
   "codemirror_mode": {
    "name": "ipython",
    "version": 3
   },
   "file_extension": ".py",
   "mimetype": "text/x-python",
   "name": "python",
   "nbconvert_exporter": "python",
   "pygments_lexer": "ipython3",
   "version": "3.12.5"
  }
 },
 "nbformat": 4,
 "nbformat_minor": 2
}
