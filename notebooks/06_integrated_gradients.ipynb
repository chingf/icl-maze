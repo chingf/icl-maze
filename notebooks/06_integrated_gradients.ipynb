{
 "cells": [
  {
   "cell_type": "code",
   "execution_count": 1,
   "metadata": {},
   "outputs": [],
   "source": [
    "import numpy as np\n",
    "import matplotlib.pyplot as plt\n",
    "import seaborn as sns\n",
    "import pickle\n",
    "import os\n",
    "import pandas as pd\n",
    "import configs\n",
    "import torch\n",
    "from sklearn.decomposition import PCA\n",
    "from scipy.spatial.distance import pdist, squareform\n",
    "\n",
    "from src.utils import find_ckpt_file, convert_to_tensor\n",
    "import h5py\n",
    "import random\n",
    "from src.evals.eval_trees import EvalTrees\n",
    "from src.evals.eval_trees import EvalCntrees\n"
   ]
  },
  {
   "cell_type": "markdown",
   "metadata": {},
   "source": [
    "# Load Model"
   ]
  },
  {
   "cell_type": "code",
   "execution_count": 2,
   "metadata": {},
   "outputs": [
    {
     "name": "stdout",
     "output_type": "stream",
     "text": [
      "epoch=34-val_loss=0.174876.ckpt\n"
     ]
    }
   ],
   "source": [
    "corr = 0.25\n",
    "model_name, path_to_pkl, eval_dset_path = configs.get_model_paths(corr, \"tree_maze\")"
   ]
  },
  {
   "cell_type": "code",
   "execution_count": 3,
   "metadata": {},
   "outputs": [],
   "source": [
    "# Extract parameters using regex\n",
    "import re\n",
    "\n",
    "n_embd = int(re.search(r'embd(\\d+)', model_name).group(1))\n",
    "n_layer = int(re.search(r'layer(\\d+)', model_name).group(1))\n",
    "n_head = int(re.search(r'head(\\d+)', model_name).group(1))\n",
    "dropout = float(re.search(r'drop(\\d*\\.?\\d*)', model_name).group(1))\n",
    "\n",
    "# Extract correlation and state_dim from eval dataset path\n",
    "state_dim = int(re.search(r'state_dim(\\d+)', eval_dset_path).group(1))\n",
    "\n",
    "model_config = {\n",
    "    \"n_embd\": n_embd,\n",
    "    \"n_layer\": n_layer,\n",
    "    \"n_head\": n_head,\n",
    "    \"state_dim\": 10,\n",
    "    \"action_dim\": 4,\n",
    "    \"dropout\": dropout,\n",
    "    \"test\": True,\n",
    "    \"name\": \"transformer_end_query\",\n",
    "    \"optimizer_config\": None,\n",
    "}"
   ]
  },
  {
   "cell_type": "code",
   "execution_count": 4,
   "metadata": {},
   "outputs": [
    {
     "name": "stderr",
     "output_type": "stream",
     "text": [
      "/tmp/ipykernel_3181195/4170590101.py:4: FutureWarning: You are using `torch.load` with `weights_only=False` (the current default value), which uses the default pickle module implicitly. It is possible to construct malicious pickle data which will execute arbitrary code during unpickling (See https://github.com/pytorch/pytorch/blob/main/SECURITY.md#untrusted-models for more details). In a future release, the default value for `weights_only` will be flipped to `True`. This limits the functions that could be executed during unpickling. Arbitrary objects will no longer be allowed to be loaded via this mode unless they are explicitly allowlisted by the user via `torch.serialization.add_safe_globals`. We recommend you start setting `weights_only=True` for any use case where you don't have full control of the loaded file. Please open an issue on GitHub for any issues related to this experimental feature.\n",
      "  checkpoint = torch.load(path_to_pkl)\n"
     ]
    }
   ],
   "source": [
    "from src.models.transformer_end_query import Transformer\n",
    "model_config['initialization_seed'] = 0\n",
    "model = Transformer(**model_config)\n",
    "checkpoint = torch.load(path_to_pkl)\n",
    "model.load_state_dict(checkpoint['state_dict'])\n",
    "model.eval()\n",
    "model = model.to('cuda')"
   ]
  },
  {
   "cell_type": "markdown",
   "metadata": {},
   "source": [
    "# Load Dataset and Create Environment"
   ]
  },
  {
   "cell_type": "code",
   "execution_count": 5,
   "metadata": {},
   "outputs": [],
   "source": [
    "n_eval_envs = 50\n",
    "\n",
    "is_h5_file = eval_dset_path.endswith('.h5')\n",
    "if is_h5_file:\n",
    "    eval_trajs = h5py.File(eval_dset_path, 'r')\n",
    "    traj_indices = list(eval_trajs.keys())\n",
    "    n_eval_envs = min(n_eval_envs, len(traj_indices))\n",
    "    random.seed(0)\n",
    "    traj_indices = random.sample(traj_indices, n_eval_envs)\n",
    "    random.seed()\n",
    "    eval_trajs = [eval_trajs[i] for i in traj_indices]\n",
    "else:  # Pickle file\n",
    "    with open(eval_dset_path, 'rb') as f:\n",
    "        eval_trajs = pickle.load(f)\n",
    "    n_eval_envs = min(n_eval_envs, len(eval_trajs))\n",
    "    random.seed(0)\n",
    "    eval_trajs = random.sample(eval_trajs, n_eval_envs)\n",
    "    random.seed()\n"
   ]
  },
  {
   "cell_type": "code",
   "execution_count": 121,
   "metadata": {},
   "outputs": [],
   "source": [
    "examples = [  # (env, seed, figname, query_type)\n",
    "    (1, 1, 'figs/6a_1', 'far'),\n",
    "    (2, 3, 'figs/6a_2', 'far'),\n",
    "    (4, 0, 'figs_app/L_20E_1', 'far'),\n",
    "    (5, 0, 'figs_app/L_20E_2', 'far'),\n",
    "    (6, 0, 'figs_app/L_20E_3', 'far'),\n",
    "    (8, 0, 'figs_app/L_20E_4', 'far'),\n",
    "]\n",
    "example_idx = 5\n",
    "i_eval = examples[example_idx][0]\n",
    "np.random.seed(examples[example_idx][1])\n",
    "random.seed(examples[example_idx][1])\n",
    "figname = examples[example_idx][2]\n",
    "query_type = examples[example_idx][3]"
   ]
  },
  {
   "cell_type": "code",
   "execution_count": 122,
   "metadata": {},
   "outputs": [],
   "source": [
    "traj = eval_trajs[i_eval]\n",
    "env_config = {\n",
    "    'max_layers': 7,\n",
    "    'horizon': 1600,\n",
    "    'branching_prob': 1.0,\n",
    "    'node_encoding_corr': corr,\n",
    "    'state_dim': state_dim,\n",
    "    'initialization_seed': np.array(traj['initialization_seed']).item()\n",
    "}\n",
    "env = EvalCntrees().create_env(env_config, np.array(traj['goal']), i_eval)\n",
    "optimal_action_map, dist_from_goal = env.make_opt_action_dict()\n",
    "valid_query_states = []\n",
    "if query_type == 'root':\n",
    "    valid_query_states = [np.array(env.root.encoding())]\n",
    "elif query_type in ['far', 'middle']:\n",
    "    for i in range(len(traj['context_states'])):\n",
    "        if traj['context_states'][i].tolist() == list(env.root.encoding()):\n",
    "            continue\n",
    "        d = dist_from_goal[tuple(traj['context_states'][i].tolist())]\n",
    "        if query_type == 'far' and d < 12:\n",
    "            continue\n",
    "        elif query_type == 'middle' and d != 6:\n",
    "           continue\n",
    "        valid_query_states.append(traj['context_states'][i])\n",
    "if len(valid_query_states) == 0:\n",
    "    print('No valid query states found')\n",
    "else:\n",
    "    traj['query_state'] = valid_query_states[np.random.choice(len(valid_query_states))]\n"
   ]
  },
  {
   "cell_type": "code",
   "execution_count": 123,
   "metadata": {},
   "outputs": [
    {
     "name": "stdout",
     "output_type": "stream",
     "text": [
      "Context length: 300, Reward: 5\n",
      "Context length: 600, Reward: 9\n",
      "Context length: 900, Reward: 9\n",
      "First nonzero reward at step 32: 1\n"
     ]
    }
   ],
   "source": [
    "for seq_length in [300, 600, 900]:\n",
    "    print(f'Context length: {seq_length}, Reward: {traj['context_rewards'][:seq_length].sum()}')\n",
    "\n",
    "first_reward_idx = np.where(traj['context_rewards'] != 0)[0][0]\n",
    "print(f'First nonzero reward at step {first_reward_idx}: {traj['context_rewards'][first_reward_idx]}')\n"
   ]
  },
  {
   "cell_type": "code",
   "execution_count": 124,
   "metadata": {},
   "outputs": [],
   "source": [
    "context_length = 1000"
   ]
  },
  {
   "cell_type": "markdown",
   "metadata": {},
   "source": [
    "# Run Gradient Attribution"
   ]
  },
  {
   "cell_type": "code",
   "execution_count": 125,
   "metadata": {},
   "outputs": [
    {
     "data": {
      "text/plain": [
       "(1600, 10)"
      ]
     },
     "execution_count": 125,
     "metadata": {},
     "output_type": "execute_result"
    }
   ],
   "source": [
    "traj['context_states'].shape"
   ]
  },
  {
   "cell_type": "code",
   "execution_count": 126,
   "metadata": {},
   "outputs": [],
   "source": [
    "def format_transformer_input_from_batch(batch, model):\n",
    "    query_states = batch['query_states'][:, None, :]\n",
    "    zeros = batch['zeros'][:, None, :]\n",
    "    state_seq = torch.cat([batch['context_states'], query_states], dim=1)\n",
    "    action_seq = torch.cat(\n",
    "        [batch['context_actions'], zeros[:, :, :model.action_dim]], dim=1)\n",
    "    next_state_seq = torch.cat(\n",
    "        [batch['context_next_states'], zeros[:, :, :model.state_dim]], dim=1)\n",
    "    reward_seq = torch.cat([batch['context_rewards'], zeros[:, :, :1]], dim=1)\n",
    "    seq = torch.cat(\n",
    "        [state_seq, action_seq, next_state_seq, reward_seq], dim=2)\n",
    "    seq_len = seq.shape[1]\n",
    "    stacked_inputs = model.embed_transition(seq)\n",
    "    return stacked_inputs"
   ]
  },
  {
   "cell_type": "code",
   "execution_count": 127,
   "metadata": {},
   "outputs": [],
   "source": [
    "def format_batches(traj):\n",
    "    batch = {\n",
    "        'context_states': convert_to_tensor([np.array(traj['context_states'][:context_length])]),\n",
    "        'context_actions': convert_to_tensor([np.array(traj['context_actions'][:context_length])]),\n",
    "        'context_next_states': convert_to_tensor([np.array(traj['context_next_states'][:context_length])]),\n",
    "        'context_rewards': convert_to_tensor([np.array(traj['context_rewards'][:context_length])[:, None]]),\n",
    "        'query_states': convert_to_tensor([np.array(traj['query_state'])]),\n",
    "        } \n",
    "    batch['zeros'] = torch.zeros(1, 10 ** 2 + 4 + 1).float()\n",
    "    for k in batch.keys():\n",
    "        if 'context' in k:\n",
    "            batch[k] = batch[k]\n",
    "        batch[k] = batch[k].to(model.device)\n",
    "    baseline_batch = {}\n",
    "    for k, v in batch.items():\n",
    "        baseline_batch[k] = v.clone() if isinstance(v, torch.Tensor) else v\n",
    "    baseline_batch['context_actions'] *= 0\n",
    "    #baseline_batch['context_actions'] += 0.25\n",
    "    return baseline_batch, batch"
   ]
  },
  {
   "cell_type": "code",
   "execution_count": 128,
   "metadata": {},
   "outputs": [],
   "source": [
    "baseline_batch, batch = format_batches(traj)"
   ]
  },
  {
   "cell_type": "code",
   "execution_count": 129,
   "metadata": {},
   "outputs": [],
   "source": [
    "layer_outputs = {}\n",
    "hooks = []\n",
    "\n",
    "def get_hook(layer_name):\n",
    "    def hook(module, input, output):\n",
    "        layer_outputs[layer_name] = output\n",
    "    return hook\n",
    "\n",
    "for attn_layer, module in enumerate(model.transformer.h):\n",
    "    module.register_forward_hook(get_hook(attn_layer))"
   ]
  },
  {
   "cell_type": "code",
   "execution_count": 130,
   "metadata": {},
   "outputs": [
    {
     "data": {
      "text/plain": [
       "np.int64(0)"
      ]
     },
     "execution_count": 130,
     "metadata": {},
     "output_type": "execute_result"
    }
   ],
   "source": [
    "traj['optimal_action'].argmax()"
   ]
  },
  {
   "cell_type": "code",
   "execution_count": 131,
   "metadata": {},
   "outputs": [],
   "source": [
    "with torch.no_grad():\n",
    "    final_output = model(batch)\n",
    "    prediction = final_output[:, traj['optimal_action'].argmax()]"
   ]
  },
  {
   "cell_type": "code",
   "execution_count": 132,
   "metadata": {},
   "outputs": [],
   "source": [
    "# Calculate attributions for each layer\n",
    "layer_attributions = {}\n",
    "inputs = format_transformer_input_from_batch(batch, model)\n",
    "baseline_inputs = format_transformer_input_from_batch(baseline_batch, model)\n",
    "\n",
    "for layer_name, layer_output in layer_outputs.items():\n",
    "    # Prepare interpolated inputs\n",
    "    alphas = torch.linspace(0, 1, steps=20)\n",
    "    \n",
    "    all_grads = []\n",
    "    for alpha in alphas:\n",
    "        interp_input = alpha*inputs + (1-alpha)*baseline_inputs\n",
    "        interp_input.requires_grad_(True)\n",
    "        \n",
    "        # Forward pass to get layer output\n",
    "        transformer_output = model.transformer(inputs_embeds=interp_input)\n",
    "        preds = model.pred_actions(transformer_output['last_hidden_state'])\n",
    "        preds = preds[:, -1, :]\n",
    "        target = preds[:, traj['optimal_action'].argmax()]\n",
    "        current_layer_output = layer_outputs[layer_name][0]\n",
    "\n",
    "        grad_wrt_layer = torch.autograd.grad(\n",
    "           outputs=target,\n",
    "           inputs=current_layer_output,\n",
    "           grad_outputs=torch.ones_like(target),\n",
    "           retain_graph=True\n",
    "        )[0]\n",
    "        \n",
    "        grad_wrt_input = torch.autograd.grad(\n",
    "            outputs=current_layer_output[:, -1],\n",
    "            inputs=interp_input,\n",
    "            grad_outputs=current_layer_output[:, -1],\n",
    "            retain_graph=True\n",
    "        )[0]\n",
    "        \n",
    "        all_grads.append(grad_wrt_input)\n",
    "    \n",
    "    # Average gradients and compute attribution\n",
    "    avg_grad = torch.stack(all_grads).mean(dim=0)\n",
    "    avg_grad = avg_grad.detach().cpu().numpy().squeeze()\n",
    "    delta_input = (inputs - baseline_inputs).detach().cpu().numpy().squeeze()\n",
    "    attribution = np.sum(avg_grad * delta_input, axis=1)\n",
    "    layer_attributions[layer_name] = attribution\n",
    "\n",
    "# Output w.r.t Input\n",
    "alphas = torch.linspace(0, 1, steps=20)\n",
    "all_grads = []\n",
    "for alpha in alphas:\n",
    "    interp_input = alpha*inputs + (1-alpha)*baseline_inputs\n",
    "    interp_input.requires_grad_(True)\n",
    "    \n",
    "    # Forward pass to get layer output\n",
    "    transformer_output = model.transformer(inputs_embeds=interp_input)\n",
    "    preds = model.pred_actions(transformer_output['last_hidden_state'])\n",
    "    preds = preds[:, -1, :]\n",
    "    target = preds[:, traj['optimal_action'].argmax()]\n",
    "    current_layer_output = layer_outputs[layer_name][0]\n",
    "\n",
    "    grad_wrt_input = torch.autograd.grad(\n",
    "        outputs=target,\n",
    "        inputs=interp_input,\n",
    "        grad_outputs=target,\n",
    "        retain_graph=True\n",
    "    )[0]\n",
    "    all_grads.append(grad_wrt_input)\n",
    "avg_grad = torch.stack(all_grads).mean(dim=0)\n",
    "avg_grad = avg_grad.detach().cpu().numpy().squeeze()\n",
    "delta_input = (inputs - baseline_inputs).detach().cpu().numpy().squeeze()\n",
    "input_to_output_attribution = np.sum(avg_grad * delta_input, axis=1)"
   ]
  },
  {
   "cell_type": "markdown",
   "metadata": {},
   "source": [
    "# Visualize"
   ]
  },
  {
   "cell_type": "code",
   "execution_count": 133,
   "metadata": {},
   "outputs": [],
   "source": [
    "from copy import copy\n",
    "import networkx as nx\n",
    "\n",
    "def plot_trajectory(\n",
    "        states, next_states, query_state, attentions, env, figname=None):\n",
    "    \n",
    "    G = env.to_networkx()\n",
    "    pos = nx.kamada_kawai_layout(G)\n",
    "    node_size = 8\n",
    "    goal_node = env.node_map[tuple(env.goal.tolist())]\n",
    "    goal_state = (goal_node.layer, goal_node.pos)\n",
    "    query_node = env.node_map[tuple(query_state.tolist())]\n",
    "    query_state = (query_node.layer, query_node.pos)\n",
    "\n",
    "    fig, ax = plt.subplots(figsize=(1.5, 1.5))  # Create a new figure\n",
    "    nx.draw(G, pos,\n",
    "            nodelist=[n for n in G.nodes() if n != goal_state],\n",
    "           node_color='gray',\n",
    "           edge_color='white',\n",
    "           node_size=node_size,\n",
    "           font_size=8,\n",
    "           font_weight='bold',\n",
    "           width=1,\n",
    "           alpha=1.)\n",
    "\n",
    "\n",
    "    # Then draw specific nodes in green\n",
    "    nx.draw_networkx_nodes(G, pos,\n",
    "                      nodelist=[query_state],\n",
    "                      node_color='red',\n",
    "                      node_size=node_size)\n",
    "    nx.draw_networkx_nodes(G, pos,\n",
    "                      nodelist=[goal_state],\n",
    "                      node_color='red',\n",
    "                      node_size=node_size,\n",
    "                      node_shape='*')\n",
    "    \n",
    "    for state, next_state, attention in zip(states, next_states, attentions):\n",
    "        edge_color = 'red' if attention > 0 else 'blue'\n",
    "        nx.draw_networkx_edges(G, pos,\n",
    "            edgelist=[(tuple(state), tuple(next_state))],\n",
    "            edge_color=edge_color,\n",
    "            alpha=abs(attention),\n",
    "            width=1.5)\n",
    "\n",
    "    # Replace plt.axis('off') with code to add a box outline\n",
    "    plt.axis('on')  # Turn on axes\n",
    "    ax.set_frame_on(True)  # Make sure frame is on\n",
    "    for spine in ax.spines.values():\n",
    "        spine.set_linewidth(1) \n",
    "    \n",
    "    # Remove tick marks but keep the box\n",
    "    ax.tick_params(bottom=False, left=False, labelbottom=False, labelleft=False)\n",
    "    \n",
    "    plt.tight_layout()\n",
    "    if figname is not None:\n",
    "        plt.savefig(f'{figname}.png', transparent=True, dpi=300)\n",
    "        plt.savefig(f'{figname}.pdf', transparent=True, dpi=300)\n",
    "    plt.show()"
   ]
  },
  {
   "cell_type": "code",
   "execution_count": 134,
   "metadata": {},
   "outputs": [],
   "source": [
    "states = []\n",
    "next_states = []\n",
    "\n",
    "state_features = traj['context_states'][:context_length].squeeze()\n",
    "next_state_features = traj['context_next_states'][:context_length].squeeze()\n",
    "for state_feature, next_state_feature in zip(state_features, next_state_features):\n",
    "    state_feature = tuple(state_feature.tolist())\n",
    "    next_state_feature = tuple(next_state_feature.tolist())\n",
    "    states.append([\n",
    "        env.node_map[state_feature].layer, env.node_map[state_feature].pos])\n",
    "    next_states.append([\n",
    "        env.node_map[next_state_feature].layer, env.node_map[next_state_feature].pos])\n",
    "    \n",
    "states = np.array(states)\n",
    "next_states = np.array(next_states)"
   ]
  },
  {
   "cell_type": "code",
   "execution_count": 135,
   "metadata": {},
   "outputs": [],
   "source": [
    "def clip_and_normalize(attentions, pctile=100):\n",
    "    max_scale = np.percentile(np.abs(attentions), pctile)\n",
    "    attentions = np.clip(attentions, 0, max_scale)/max_scale\n",
    "    return attentions"
   ]
  },
  {
   "cell_type": "code",
   "execution_count": 136,
   "metadata": {},
   "outputs": [
    {
     "data": {
      "image/png": "[encoded data removed]",
      "text/plain": [
       "<Figure size 150x150 with 1 Axes>"
      ]
     },
     "metadata": {},
     "output_type": "display_data"
    }
   ],
   "source": [
    "attentions = input_to_output_attribution[:-1]\n",
    "idx_to_plot = [False if np.array_equal(states[i], next_states[i]) else True for i in range(len(states))]\n",
    "attentions = np.abs(attentions)[idx_to_plot]\n",
    "attentions = clip_and_normalize(attentions)\n",
    "plot_trajectory(\n",
    "    states[idx_to_plot], next_states[idx_to_plot], traj['query_state'],\n",
    "    attentions,\n",
    "    env,\n",
    "    figname=figname)"
   ]
  }
 ],
 "metadata": {
  "kernelspec": {
   "display_name": "Python 3",
   "language": "python",
   "name": "python3"
  },
  "language_info": {
   "codemirror_mode": {
    "name": "ipython",
    "version": 3
   },
   "file_extension": ".py",
   "mimetype": "text/x-python",
   "name": "python",
   "nbconvert_exporter": "python",
   "pygments_lexer": "ipython3",
   "version": "3.12.5"
  }
 },
 "nbformat": 4,
 "nbformat_minor": 2
}
