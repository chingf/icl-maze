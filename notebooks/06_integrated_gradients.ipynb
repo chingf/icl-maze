{
 "cells": [
  {
   "cell_type": "code",
   "execution_count": 56,
   "metadata": {},
   "outputs": [],
   "source": [
    "import numpy as np\n",
    "import matplotlib.pyplot as plt\n",
    "import seaborn as sns\n",
    "import pickle\n",
    "import os\n",
    "import pandas as pd\n",
    "import configs\n",
    "import torch\n",
    "from sklearn.decomposition import PCA\n",
    "from scipy.spatial.distance import pdist, squareform\n",
    "\n",
    "from src.utils import find_ckpt_file, convert_to_tensor\n",
    "import h5py\n",
    "import random\n",
    "from src.evals.eval_trees import EvalTrees\n",
    "from src.evals.eval_trees import EvalCntrees\n"
   ]
  },
  {
   "cell_type": "markdown",
   "metadata": {},
   "source": [
    "# Arguments"
   ]
  },
  {
   "cell_type": "code",
   "execution_count": 57,
   "metadata": {},
   "outputs": [],
   "source": [
    "corr = 0.25\n",
    "query_type = 'far'"
   ]
  },
  {
   "cell_type": "markdown",
   "metadata": {},
   "source": [
    "# Load Model"
   ]
  },
  {
   "cell_type": "code",
   "execution_count": 58,
   "metadata": {},
   "outputs": [
    {
     "name": "stdout",
     "output_type": "stream",
     "text": [
      "epoch=31-val_loss=0.000400.ckpt\n"
     ]
    }
   ],
   "source": [
    "engram_dir = \"/n/holylfs06/LABS/krajan_lab/Lab/cfang/icl-maze/\"\n",
    "wandb_project = \"tree_maze\"\n",
    "env_name = f\"cntree_layers7_bprob0.9_corr{corr}_state_dim10_envs300000_H800_explore\"\n",
    "if corr == 0.25:\n",
    "    model_name = \"transformer_end_query_embd512_layer3_head4_lr0.0001_drop0.2_initseed0_batch512\"\n",
    "elif corr == 0.:\n",
    "    model_name = \"transformer_end_query_embd512_layer3_head4_lr1e-05_drop0_initseed1_batch256\"\n",
    "else:\n",
    "    raise ValueError(f\"Unknown correlation value: {corr}\")\n",
    "model_path = os.path.join(engram_dir, wandb_project, env_name, \"models\", model_name)\n",
    "ckpt_name = find_ckpt_file(model_path, \"best\")\n",
    "print(ckpt_name)\n",
    "path_to_pkl = os.path.join(model_path, ckpt_name)\n",
    "\n",
    "eval_dset_path = f\"/n/holylfs06/LABS/krajan_lab/Lab/cfang/icl-maze/cntree/cntree_layers7_bprob1.0_corr{corr}_state_dim10_envs1000_H1600_explore/datasets/eval.pkl\""
   ]
  },
  {
   "cell_type": "code",
   "execution_count": 59,
   "metadata": {},
   "outputs": [],
   "source": [
    "# Extract parameters using regex\n",
    "import re\n",
    "\n",
    "n_embd = int(re.search(r'embd(\\d+)', model_name).group(1))\n",
    "n_layer = int(re.search(r'layer(\\d+)', model_name).group(1))\n",
    "n_head = int(re.search(r'head(\\d+)', model_name).group(1))\n",
    "dropout = float(re.search(r'drop(\\d*\\.?\\d*)', model_name).group(1))\n",
    "\n",
    "# Extract correlation and state_dim from eval dataset path\n",
    "state_dim = int(re.search(r'state_dim(\\d+)', eval_dset_path).group(1))\n",
    "\n",
    "model_config = {\n",
    "    \"n_embd\": n_embd,\n",
    "    \"n_layer\": n_layer,\n",
    "    \"n_head\": n_head,\n",
    "    \"state_dim\": 10,\n",
    "    \"action_dim\": 4,\n",
    "    \"dropout\": dropout,\n",
    "    \"train_on_last_pred_only\": False,\n",
    "    \"test\": True,\n",
    "    \"name\": \"transformer_end_query\",\n",
    "    \"optimizer_config\": None,\n",
    "    \"linear_attention\": False,\n",
    "}"
   ]
  },
  {
   "cell_type": "code",
   "execution_count": 60,
   "metadata": {},
   "outputs": [
    {
     "name": "stderr",
     "output_type": "stream",
     "text": [
      "/tmp/ipykernel_760589/4170590101.py:4: FutureWarning: You are using `torch.load` with `weights_only=False` (the current default value), which uses the default pickle module implicitly. It is possible to construct malicious pickle data which will execute arbitrary code during unpickling (See https://github.com/pytorch/pytorch/blob/main/SECURITY.md#untrusted-models for more details). In a future release, the default value for `weights_only` will be flipped to `True`. This limits the functions that could be executed during unpickling. Arbitrary objects will no longer be allowed to be loaded via this mode unless they are explicitly allowlisted by the user via `torch.serialization.add_safe_globals`. We recommend you start setting `weights_only=True` for any use case where you don't have full control of the loaded file. Please open an issue on GitHub for any issues related to this experimental feature.\n",
      "  checkpoint = torch.load(path_to_pkl)\n"
     ]
    }
   ],
   "source": [
    "from src.models.transformer_end_query import Transformer\n",
    "model_config['initialization_seed'] = 0\n",
    "model = Transformer(**model_config)\n",
    "checkpoint = torch.load(path_to_pkl)\n",
    "model.load_state_dict(checkpoint['state_dict'])\n",
    "model.eval()\n",
    "model = model.to('cuda')"
   ]
  },
  {
   "cell_type": "markdown",
   "metadata": {},
   "source": [
    "# Load Dataset and Create Environment"
   ]
  },
  {
   "cell_type": "code",
   "execution_count": 61,
   "metadata": {},
   "outputs": [],
   "source": [
    "n_eval_envs = 50\n",
    "\n",
    "is_h5_file = eval_dset_path.endswith('.h5')\n",
    "if is_h5_file:\n",
    "    eval_trajs = h5py.File(eval_dset_path, 'r')\n",
    "    traj_indices = list(eval_trajs.keys())\n",
    "    n_eval_envs = min(n_eval_envs, len(traj_indices))\n",
    "    random.seed(0)\n",
    "    traj_indices = random.sample(traj_indices, n_eval_envs)\n",
    "    random.seed()\n",
    "    eval_trajs = [eval_trajs[i] for i in traj_indices]\n",
    "else:  # Pickle file\n",
    "    with open(eval_dset_path, 'rb') as f:\n",
    "        eval_trajs = pickle.load(f)\n",
    "    n_eval_envs = min(n_eval_envs, len(eval_trajs))\n",
    "    random.seed(0)\n",
    "    eval_trajs = random.sample(eval_trajs, n_eval_envs)\n",
    "    random.seed()\n"
   ]
  },
  {
   "cell_type": "code",
   "execution_count": 62,
   "metadata": {},
   "outputs": [],
   "source": [
    "i_eval = 1\n",
    "traj = eval_trajs[i_eval]\n",
    "env_config = {\n",
    "    'max_layers': 7,\n",
    "    'horizon': 1600,\n",
    "    'branching_prob': 1.0,\n",
    "    'node_encoding_corr': corr,\n",
    "    'state_dim': state_dim,\n",
    "    'initialization_seed': np.array(traj['initialization_seed']).item()\n",
    "}\n",
    "env = EvalCntrees().create_env(env_config, np.array(traj['goal']), i_eval)\n",
    "optimal_action_map, dist_from_goal = env.make_opt_action_dict()\n",
    "valid_query_states = []\n",
    "if query_type == 'root':\n",
    "    valid_query_states = [np.array(env.root.encoding())]\n",
    "elif query_type in ['far', 'middle']:\n",
    "    for i in range(len(traj['context_states'])):\n",
    "        if traj['context_states'][i].tolist() == list(env.root.encoding()):\n",
    "            continue\n",
    "        d = dist_from_goal[tuple(traj['context_states'][i].tolist())]\n",
    "        if query_type == 'far' and d < 11:\n",
    "            continue\n",
    "        elif query_type == 'middle' and d != 6:\n",
    "           continue\n",
    "        valid_query_states.append(traj['context_states'][i])\n",
    "if len(valid_query_states) == 0:\n",
    "    print('No valid query states found')\n",
    "else:\n",
    "    traj['query_state'] = valid_query_states[np.random.choice(len(valid_query_states))]\n"
   ]
  },
  {
   "cell_type": "code",
   "execution_count": 63,
   "metadata": {},
   "outputs": [
    {
     "name": "stdout",
     "output_type": "stream",
     "text": [
      "Context length: 300, Reward: 7\n",
      "Context length: 600, Reward: 19\n",
      "Context length: 900, Reward: 29\n",
      "First nonzero reward at step 186: 1\n"
     ]
    }
   ],
   "source": [
    "for seq_length in [300, 600, 900]:\n",
    "    print(f'Context length: {seq_length}, Reward: {traj['context_rewards'][:seq_length].sum()}')\n",
    "\n",
    "first_reward_idx = np.where(traj['context_rewards'] != 0)[0][0]\n",
    "print(f'First nonzero reward at step {first_reward_idx}: {traj['context_rewards'][first_reward_idx]}')\n"
   ]
  },
  {
   "cell_type": "code",
   "execution_count": 64,
   "metadata": {},
   "outputs": [],
   "source": [
    "context_length = 1000"
   ]
  },
  {
   "cell_type": "markdown",
   "metadata": {},
   "source": [
    "# Run Gradient Attribution"
   ]
  },
  {
   "cell_type": "code",
   "execution_count": 65,
   "metadata": {},
   "outputs": [
    {
     "data": {
      "text/plain": [
       "(1600, 10)"
      ]
     },
     "execution_count": 65,
     "metadata": {},
     "output_type": "execute_result"
    }
   ],
   "source": [
    "traj['context_states'].shape"
   ]
  },
  {
   "cell_type": "code",
   "execution_count": 66,
   "metadata": {},
   "outputs": [],
   "source": [
    "def format_transformer_input_from_batch(batch, model):\n",
    "    query_states = batch['query_states'][:, None, :]\n",
    "    zeros = batch['zeros'][:, None, :]\n",
    "    state_seq = torch.cat([batch['context_states'], query_states], dim=1)\n",
    "    action_seq = torch.cat(\n",
    "        [batch['context_actions'], zeros[:, :, :model.action_dim]], dim=1)\n",
    "    next_state_seq = torch.cat(\n",
    "        [batch['context_next_states'], zeros[:, :, :model.state_dim]], dim=1)\n",
    "    reward_seq = torch.cat([batch['context_rewards'], zeros[:, :, :1]], dim=1)\n",
    "    seq = torch.cat(\n",
    "        [state_seq, action_seq, next_state_seq, reward_seq], dim=2)\n",
    "    seq_len = seq.shape[1]\n",
    "    stacked_inputs = model.embed_transition(seq)\n",
    "    return stacked_inputs"
   ]
  },
  {
   "cell_type": "code",
   "execution_count": 67,
   "metadata": {},
   "outputs": [],
   "source": [
    "def format_batches(traj):\n",
    "    batch = {\n",
    "        'context_states': convert_to_tensor([np.array(traj['context_states'][:context_length])]),\n",
    "        'context_actions': convert_to_tensor([np.array(traj['context_actions'][:context_length])]),\n",
    "        'context_next_states': convert_to_tensor([np.array(traj['context_next_states'][:context_length])]),\n",
    "        'context_rewards': convert_to_tensor([np.array(traj['context_rewards'][:context_length])[:, None]]),\n",
    "        'query_states': convert_to_tensor([np.array(traj['query_state'])]),\n",
    "        } \n",
    "    batch['zeros'] = torch.zeros(1, 10 ** 2 + 4 + 1).float()\n",
    "    for k in batch.keys():\n",
    "        if 'context' in k:\n",
    "            batch[k] = batch[k]\n",
    "        batch[k] = batch[k].to(model.device)\n",
    "    baseline_batch = {}\n",
    "    for k, v in batch.items():\n",
    "        baseline_batch[k] = v.clone() if isinstance(v, torch.Tensor) else v\n",
    "    baseline_batch['context_actions'] *= 0\n",
    "    baseline_batch['context_actions'] += 0.25\n",
    "    return baseline_batch, batch"
   ]
  },
  {
   "cell_type": "code",
   "execution_count": 68,
   "metadata": {},
   "outputs": [],
   "source": [
    "baseline_batch, batch = format_batches(traj)"
   ]
  },
  {
   "cell_type": "code",
   "execution_count": 69,
   "metadata": {},
   "outputs": [],
   "source": [
    "layer_outputs = {}\n",
    "hooks = []\n",
    "\n",
    "def get_hook(layer_name):\n",
    "    def hook(module, input, output):\n",
    "        layer_outputs[layer_name] = output\n",
    "    return hook\n",
    "\n",
    "for attn_layer, module in enumerate(model.transformer.h):\n",
    "    module.register_forward_hook(get_hook(attn_layer))"
   ]
  },
  {
   "cell_type": "code",
   "execution_count": 70,
   "metadata": {},
   "outputs": [
    {
     "data": {
      "text/plain": [
       "np.int64(0)"
      ]
     },
     "execution_count": 70,
     "metadata": {},
     "output_type": "execute_result"
    }
   ],
   "source": [
    "traj['optimal_action'].argmax()"
   ]
  },
  {
   "cell_type": "code",
   "execution_count": 71,
   "metadata": {},
   "outputs": [],
   "source": [
    "with torch.no_grad():\n",
    "    final_output = model(batch)\n",
    "    prediction = final_output[:, traj['optimal_action'].argmax()]"
   ]
  },
  {
   "cell_type": "code",
   "execution_count": 72,
   "metadata": {},
   "outputs": [],
   "source": [
    "# Calculate attributions for each layer\n",
    "layer_attributions = {}\n",
    "inputs = format_transformer_input_from_batch(batch, model)\n",
    "baseline_inputs = format_transformer_input_from_batch(baseline_batch, model)\n",
    "\n",
    "for layer_name, layer_output in layer_outputs.items():\n",
    "    # Prepare interpolated inputs\n",
    "    alphas = torch.linspace(0, 1, steps=20)\n",
    "    \n",
    "    all_grads = []\n",
    "    for alpha in alphas:\n",
    "        interp_input = alpha*inputs + (1-alpha)*baseline_inputs\n",
    "        interp_input.requires_grad_(True)\n",
    "        \n",
    "        # Forward pass to get layer output\n",
    "        transformer_output = model.transformer(inputs_embeds=interp_input)\n",
    "        preds = model.pred_actions(transformer_output['last_hidden_state'])\n",
    "        preds = preds[:, -1, :]\n",
    "        target = preds[:, traj['optimal_action'].argmax()]\n",
    "        current_layer_output = layer_outputs[layer_name][0]\n",
    "\n",
    "        grad_wrt_layer = torch.autograd.grad(\n",
    "           outputs=target,\n",
    "           inputs=current_layer_output,\n",
    "           grad_outputs=torch.ones_like(target),\n",
    "           retain_graph=True\n",
    "        )[0]\n",
    "        \n",
    "        grad_wrt_input = torch.autograd.grad(\n",
    "            outputs=current_layer_output[:, -1],\n",
    "            inputs=interp_input,\n",
    "            grad_outputs=current_layer_output[:, -1],\n",
    "            retain_graph=True\n",
    "        )[0]\n",
    "        \n",
    "        all_grads.append(grad_wrt_input)\n",
    "    \n",
    "    # Average gradients and compute attribution\n",
    "    avg_grad = torch.stack(all_grads).mean(dim=0)\n",
    "    avg_grad = avg_grad.detach().cpu().numpy().squeeze()\n",
    "    delta_input = (inputs - baseline_inputs).detach().cpu().numpy().squeeze()\n",
    "    attribution = np.sum(avg_grad * delta_input, axis=1)\n",
    "    layer_attributions[layer_name] = attribution\n",
    "\n",
    "input_to_output_attribution = torch.autograd.grad(\n",
    "    outputs=target,\n",
    "    inputs=interp_input,\n",
    "    grad_outputs=torch.ones_like(target),\n",
    "    retain_graph=True\n",
    ")[0]"
   ]
  },
  {
   "cell_type": "markdown",
   "metadata": {},
   "source": [
    "# Visualize"
   ]
  },
  {
   "cell_type": "code",
   "execution_count": 73,
   "metadata": {},
   "outputs": [],
   "source": [
    "from copy import copy\n",
    "import networkx as nx\n",
    "\n",
    "def plot_trajectory(\n",
    "        states, next_states, query_state, attentions, env):\n",
    "    \n",
    "    G = env.to_networkx()\n",
    "    pos = nx.kamada_kawai_layout(G)\n",
    "\n",
    "    fig, ax = plt.subplots()  # Create a new figure\n",
    "    nx.draw(G, pos,\n",
    "           node_color='lightblue',\n",
    "           edge_color='white',\n",
    "           node_size=100,\n",
    "           font_size=8,\n",
    "           font_weight='bold',\n",
    "           width=1,\n",
    "           alpha=1.)\n",
    "\n",
    "\n",
    "    goal_node = env.node_map[tuple(env.goal.tolist())]\n",
    "    goal_state = (goal_node.layer, goal_node.pos)\n",
    "    query_node = env.node_map[tuple(query_state.tolist())]\n",
    "    query_state = (query_node.layer, query_node.pos)\n",
    "    # Then draw specific nodes in green\n",
    "    nx.draw_networkx_nodes(G, pos,\n",
    "                      nodelist=[query_state],\n",
    "                      node_color='green',\n",
    "                      node_size=100)\n",
    "    nx.draw_networkx_nodes(G, pos,\n",
    "                      nodelist=[goal_state],\n",
    "                      node_color='green',\n",
    "                      node_size=100,\n",
    "                      node_shape='*')\n",
    "    \n",
    "    for state, next_state, attention in zip(states, next_states, attentions):\n",
    "        edge_color = 'red' if attention > 0 else 'blue'\n",
    "        nx.draw_networkx_edges(G, pos,\n",
    "            edgelist=[(tuple(state), tuple(next_state))],\n",
    "            edge_color=edge_color,\n",
    "            alpha=abs(attention),\n",
    "            width=2)\n",
    "\n",
    "    ax.spines['top'].set_visible(False)\n",
    "    ax.spines['right'].set_visible(False)\n",
    "    ax.spines['bottom'].set_visible(False)\n",
    "    ax.spines['left'].set_visible(False)\n",
    "    plt.xticks([])\n",
    "    plt.yticks([])\n",
    "    plt.tight_layout()\n",
    "    plt.show()"
   ]
  },
  {
   "cell_type": "code",
   "execution_count": 74,
   "metadata": {},
   "outputs": [],
   "source": [
    "states = []\n",
    "next_states = []\n",
    "\n",
    "state_features = traj['context_states'][:context_length].squeeze()\n",
    "next_state_features = traj['context_next_states'][:context_length].squeeze()\n",
    "for state_feature, next_state_feature in zip(state_features, next_state_features):\n",
    "    state_feature = tuple(state_feature.tolist())\n",
    "    next_state_feature = tuple(next_state_feature.tolist())\n",
    "    states.append([\n",
    "        env.node_map[state_feature].layer, env.node_map[state_feature].pos])\n",
    "    next_states.append([\n",
    "        env.node_map[next_state_feature].layer, env.node_map[next_state_feature].pos])\n",
    "    \n",
    "states = np.array(states)\n",
    "next_states = np.array(next_states)"
   ]
  },
  {
   "cell_type": "code",
   "execution_count": 75,
   "metadata": {},
   "outputs": [],
   "source": [
    "def aggregate_token_attributions(attributions, aggregation_method='sum'):\n",
    "    \"\"\"\n",
    "    Aggregate attributions across embedding dimensions to get token-level scores.\n",
    "    \n",
    "    Args:\n",
    "        attributions: Attribution tensor of shape [seq_len, emb_dim]\n",
    "        aggregation_method: Method to aggregate across embedding dimensions ('sum', 'l2', 'mean')\n",
    "        \n",
    "    Returns:\n",
    "        Tensor of token-level attributions of shape [seq_len]\n",
    "    \"\"\"\n",
    "    if aggregation_method == 'sum':\n",
    "        return torch.sum(attributions, dim=-1)\n",
    "    elif aggregation_method == 'l2':\n",
    "        return torch.sqrt(torch.sum(attributions ** 2, dim=-1))\n",
    "    elif aggregation_method == 'mean':\n",
    "        return torch.mean(attributions, dim=-1)\n",
    "    elif aggregation_method == 'sum-abs':\n",
    "        return torch.sum(torch.abs(attributions), dim=-1)\n",
    "    elif aggregation_method == 'abs-max':\n",
    "        return torch.max(torch.abs(attributions), dim=-1).values\n",
    "    else:\n",
    "        raise ValueError(f\"Unknown aggregation method: {aggregation_method}\")\n",
    "    \n",
    "agg_method = 'l2'"
   ]
  },
  {
   "cell_type": "code",
   "execution_count": 76,
   "metadata": {},
   "outputs": [],
   "source": [
    "def clip_and_normalize(attentions, pctile=100):\n",
    "    max_scale = np.percentile(np.abs(attentions), pctile)\n",
    "    attentions = np.clip(attentions, 0, max_scale)/max_scale\n",
    "    return attentions"
   ]
  },
  {
   "cell_type": "code",
   "execution_count": 77,
   "metadata": {},
   "outputs": [
    {
     "data": {
      "image/png": "[encoded data removed]",
      "text/plain": [
       "<Figure size 640x480 with 1 Axes>"
      ]
     },
     "metadata": {},
     "output_type": "display_data"
    }
   ],
   "source": [
    "layer = 0\n",
    "attentions = layer_attributions[layer]\n",
    "attentions = clip_and_normalize(attentions)\n",
    "plot_trajectory(\n",
    "    states, next_states, traj['query_state'],\n",
    "    attentions,\n",
    "    env)"
   ]
  },
  {
   "cell_type": "code",
   "execution_count": 78,
   "metadata": {},
   "outputs": [
    {
     "data": {
      "image/png": "[encoded data removed]",
      "text/plain": [
       "<Figure size 640x480 with 1 Axes>"
      ]
     },
     "metadata": {},
     "output_type": "display_data"
    }
   ],
   "source": [
    "layer = 1\n",
    "attentions = layer_attributions[layer]\n",
    "attentions = clip_and_normalize(attentions)\n",
    "plot_trajectory(\n",
    "    states, next_states, traj['query_state'],\n",
    "    attentions,\n",
    "    env)"
   ]
  },
  {
   "cell_type": "code",
   "execution_count": 79,
   "metadata": {},
   "outputs": [
    {
     "data": {
      "image/png": "[encoded data removed]",
      "text/plain": [
       "<Figure size 640x480 with 1 Axes>"
      ]
     },
     "metadata": {},
     "output_type": "display_data"
    }
   ],
   "source": [
    "layer = 2\n",
    "attentions = layer_attributions[layer]\n",
    "attentions = clip_and_normalize(attentions)\n",
    "plot_trajectory(\n",
    "    states, next_states, traj['query_state'],\n",
    "    attentions,\n",
    "    env)"
   ]
  },
  {
   "cell_type": "code",
   "execution_count": null,
   "metadata": {},
   "outputs": [],
   "source": []
  }
 ],
 "metadata": {
  "kernelspec": {
   "display_name": "jax",
   "language": "python",
   "name": "python3"
  },
  "language_info": {
   "codemirror_mode": {
    "name": "ipython",
    "version": 3
   },
   "file_extension": ".py",
   "mimetype": "text/x-python",
   "name": "python",
   "nbconvert_exporter": "python",
   "pygments_lexer": "ipython3",
   "version": "3.12.5"
  }
 },
 "nbformat": 4,
 "nbformat_minor": 2
}
