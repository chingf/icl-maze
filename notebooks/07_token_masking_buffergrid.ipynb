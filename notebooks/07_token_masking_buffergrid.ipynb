{
 "cells": [
  {
   "cell_type": "code",
   "execution_count": 1,
   "metadata": {},
   "outputs": [],
   "source": [
    "import numpy as np\n",
    "import matplotlib.pyplot as plt\n",
    "import seaborn as sns\n",
    "import pickle\n",
    "import os\n",
    "import pandas as pd\n",
    "import configs\n",
    "import torch\n",
    "from sklearn.decomposition import PCA\n",
    "from scipy.spatial.distance import pdist, squareform\n",
    "\n",
    "from src.utils import find_ckpt_file, convert_to_tensor\n",
    "import h5py\n",
    "import random\n",
    "from src.evals.eval_trees import EvalCntrees"
   ]
  },
  {
   "cell_type": "code",
   "execution_count": 2,
   "metadata": {},
   "outputs": [],
   "source": [
    "corr = 0.25"
   ]
  },
  {
   "cell_type": "code",
   "execution_count": 6,
   "metadata": {},
   "outputs": [],
   "source": [
    "recalc = False"
   ]
  },
  {
   "cell_type": "markdown",
   "metadata": {},
   "source": [
    "# Load Model"
   ]
  },
  {
   "cell_type": "code",
   "execution_count": 3,
   "metadata": {},
   "outputs": [
    {
     "name": "stdout",
     "output_type": "stream",
     "text": [
      "epoch=34-val_loss=0.174876.ckpt\n"
     ]
    }
   ],
   "source": [
    "model_name, path_to_pkl, eval_dset_path = configs.get_model_paths(corr, \"tree_maze\")\n"
   ]
  },
  {
   "cell_type": "code",
   "execution_count": 4,
   "metadata": {},
   "outputs": [],
   "source": [
    "# Extract parameters using regex\n",
    "import re\n",
    "\n",
    "n_embd = int(re.search(r'embd(\\d+)', model_name).group(1))\n",
    "n_layer = int(re.search(r'layer(\\d+)', model_name).group(1))\n",
    "n_head = int(re.search(r'head(\\d+)', model_name).group(1))\n",
    "dropout = float(re.search(r'drop(\\d*\\.?\\d*)', model_name).group(1))\n",
    "\n",
    "# Extract correlation and state_dim from eval dataset path\n",
    "state_dim = int(re.search(r'state_dim(\\d+)', eval_dset_path).group(1))\n",
    "\n",
    "model_config = {\n",
    "    \"n_embd\": n_embd,\n",
    "    \"n_layer\": n_layer,\n",
    "    \"n_head\": n_head,\n",
    "    \"state_dim\": 10,\n",
    "    \"action_dim\": 4,\n",
    "    \"dropout\": dropout,\n",
    "    \"test\": True,\n",
    "    \"name\": \"transformer_end_query\",\n",
    "    \"optimizer_config\": None,\n",
    "}"
   ]
  },
  {
   "cell_type": "code",
   "execution_count": 5,
   "metadata": {},
   "outputs": [
    {
     "name": "stderr",
     "output_type": "stream",
     "text": [
      "/tmp/ipykernel_3249443/443524507.py:4: FutureWarning: You are using `torch.load` with `weights_only=False` (the current default value), which uses the default pickle module implicitly. It is possible to construct malicious pickle data which will execute arbitrary code during unpickling (See https://github.com/pytorch/pytorch/blob/main/SECURITY.md#untrusted-models for more details). In a future release, the default value for `weights_only` will be flipped to `True`. This limits the functions that could be executed during unpickling. Arbitrary objects will no longer be allowed to be loaded via this mode unless they are explicitly allowlisted by the user via `torch.serialization.add_safe_globals`. We recommend you start setting `weights_only=True` for any use case where you don't have full control of the loaded file. Please open an issue on GitHub for any issues related to this experimental feature.\n",
      "  checkpoint = torch.load(path_to_pkl)\n"
     ]
    }
   ],
   "source": [
    "from src.models.transformer_end_query import Transformer\n",
    "model_config['initialization_seed'] = 0\n",
    "model = Transformer(**model_config)\n",
    "checkpoint = torch.load(path_to_pkl)\n",
    "model.load_state_dict(checkpoint['state_dict'])\n",
    "model.eval()\n",
    "model = model.to('cuda')\n"
   ]
  },
  {
   "cell_type": "markdown",
   "metadata": {},
   "source": [
    "# Load Dataset and Create Environment"
   ]
  },
  {
   "cell_type": "code",
   "execution_count": 7,
   "metadata": {},
   "outputs": [],
   "source": [
    "traj_horizon = 800\n",
    "def load_eval_trajs(eval_dset_path):\n",
    "    is_h5_file = eval_dset_path.endswith('.h5')\n",
    "    if is_h5_file:\n",
    "        eval_trajs = h5py.File(eval_dset_path, 'r')\n",
    "    else:  # Pickle file\n",
    "        with open(eval_dset_path, 'rb') as f:\n",
    "            eval_trajs = pickle.load(f)\n",
    "    n_eval_envs = len(eval_trajs)\n",
    "    return eval_trajs, n_eval_envs\n",
    "\n",
    "eval_trajs_1, n_eval_envs_1 = load_eval_trajs(eval_dset_path)\n",
    "eval_trajs_2, n_eval_envs_2 = load_eval_trajs(eval_dset_path.replace('eval', 'test'))\n",
    "eval_trajs = eval_trajs_1 + eval_trajs_2\n",
    "n_eval_envs = n_eval_envs_1 + n_eval_envs_2\n"
   ]
  },
  {
   "cell_type": "code",
   "execution_count": 19,
   "metadata": {},
   "outputs": [
    {
     "data": {
      "text/plain": [
       "195"
      ]
     },
     "execution_count": 19,
     "metadata": {},
     "output_type": "execute_result"
    }
   ],
   "source": [
    "n_eval_envs"
   ]
  },
  {
   "cell_type": "code",
   "execution_count": 22,
   "metadata": {},
   "outputs": [],
   "source": [
    "df = pd.DataFrame(layer_results[0])"
   ]
  },
  {
   "cell_type": "code",
   "execution_count": 24,
   "metadata": {},
   "outputs": [
    {
     "data": {
      "text/plain": [
       "(114,)"
      ]
     },
     "execution_count": 24,
     "metadata": {},
     "output_type": "execute_result"
    }
   ],
   "source": [
    "np.unique(df['env']).shape"
   ]
  },
  {
   "cell_type": "markdown",
   "metadata": {},
   "source": [
    "# Run Model"
   ]
  },
  {
   "cell_type": "code",
   "execution_count": 8,
   "metadata": {},
   "outputs": [],
   "source": [
    "def get_results(query_type, query_offset, buffer_matching_type, layer):\n",
    "\n",
    "    results = {\n",
    "        'cross_entropy_loss': [],\n",
    "        'mask_path_loc_to': [],\n",
    "        'mask_path_loc_from': [],\n",
    "        'env': []\n",
    "    }\n",
    "    baseline_xc_losses = []\n",
    "    for i_eval in range(n_eval_envs):\n",
    "        traj = eval_trajs[i_eval]\n",
    "        if traj['context_rewards'][:600].sum().item() == 0:\n",
    "            continue\n",
    "        env_config = {\n",
    "            'max_layers': 7,\n",
    "            'horizon': 1600,\n",
    "            'branching_prob': 1.0,\n",
    "            'node_encoding_corr': corr,\n",
    "            'state_dim': 10,\n",
    "            'initialization_seed': np.array(traj['initialization_seed']).item()\n",
    "        }\n",
    "        env = EvalCntrees().create_env(env_config, np.array(traj['goal']), i_eval)\n",
    "        optimal_action_map, dist_from_goal = env.make_opt_action_dict()\n",
    "    \n",
    "        # Choose query state\n",
    "        if query_type == 'root':\n",
    "            valid_query_states = [np.array(env.root.encoding())]\n",
    "        elif query_type in ['far', 'middle']:\n",
    "            valid_query_states = []\n",
    "            for i in range(len(traj['context_states'])):\n",
    "                if traj['context_states'][i].tolist() == list(env.root.encoding()):\n",
    "                    continue\n",
    "                d = dist_from_goal[tuple(traj['context_states'][i].tolist())]\n",
    "                if query_type == 'far' and d < 12:\n",
    "                    continue\n",
    "                elif query_type == 'middle' and d != 6:\n",
    "                   continue\n",
    "                valid_query_states.append(traj['context_states'][i])\n",
    "        if len(valid_query_states) == 0:\n",
    "            print('No valid query states found')\n",
    "            continue\n",
    "        else:\n",
    "            query_state = valid_query_states[np.random.choice(len(valid_query_states))]\n",
    "    \n",
    "        # Collect states on path from query state to goal\n",
    "        s = query_state.tolist()\n",
    "        states_on_path = [s]\n",
    "        while True:\n",
    "            action = np.zeros(4)\n",
    "            action[optimal_action_map[tuple(s)]] = 1\n",
    "            s, _ = env.transit(s, action)\n",
    "            states_on_path.append(s)\n",
    "            if np.array_equal(s, env.goal):\n",
    "                break\n",
    "        seen_states = np.vstack((traj['context_states'][:1], traj['context_next_states'][:traj_horizon]))\n",
    "        seen_states = np.unique(seen_states, axis=0) \n",
    "    \n",
    "        # Check that every state in states_on_path is present in seen_states\n",
    "        skip_env = False\n",
    "        for state in states_on_path:\n",
    "            if not any(np.array_equal(state, seen_state) for seen_state in seen_states):\n",
    "                skip_env = True\n",
    "                break\n",
    "        if skip_env:\n",
    "            continue\n",
    "    \n",
    "        # Prepare batch and optimal action information\n",
    "        query_state = np.array(states_on_path[query_offset])\n",
    "        batch = {\n",
    "            'context_states': np.array(traj['context_states'][:traj_horizon]),\n",
    "            'context_actions': np.array(traj['context_actions'][:traj_horizon]),\n",
    "            'context_next_states': np.array(traj['context_next_states'][:traj_horizon]),\n",
    "            'context_rewards': np.array(traj['context_rewards'][:traj_horizon])[:, None],\n",
    "            'query_states': np.array(query_state),\n",
    "            }\n",
    "        batch['zeros'] = torch.zeros(10 ** 2 + 4 + 1).float()\n",
    "        for k in batch.keys():\n",
    "            batch[k] = convert_to_tensor([batch[k]]).to(model.device)\n",
    "        optimal_action = optimal_action_map[tuple(query_state.tolist())]\n",
    "        optimal_action_tensor = torch.zeros(4).to(model.device)\n",
    "        optimal_action_tensor[optimal_action] = 1\n",
    "    \n",
    "        # Get baseline loss\n",
    "        with torch.no_grad():\n",
    "            out = model(batch).squeeze()\n",
    "        first_reward_idx = np.argwhere(traj['context_rewards'][:traj_horizon] == 1)[0,0]\n",
    "        baseline_xc_loss = torch.nn.functional.cross_entropy(out, optimal_action_tensor).item()\n",
    "        baseline_xc_losses.append(baseline_xc_loss)\n",
    "    \n",
    "        # Get loss with token attention masking\n",
    "        def get_s_indices_mask(s):\n",
    "            s_indices = []\n",
    "            for i in range(traj_horizon):\n",
    "                if buffer_matching_type == 'all':\n",
    "                    if np.array_equal(s, traj['context_states'][i]) or np.array_equal(s, traj['context_next_states'][i]):\n",
    "                        s_indices.append(i)\n",
    "                elif buffer_matching_type == 'exclude_stay':\n",
    "                    if np.array_equal(s, traj['context_states'][i]) ^ np.array_equal(s, traj['context_next_states'][i]):\n",
    "                        s_indices.append(i)\n",
    "                elif buffer_matching_type == 'outof':\n",
    "                    if np.array_equal(s, traj['context_states'][i]) and not np.array_equal(s, traj['context_next_states'][i]):\n",
    "                        s_indices.append(i)\n",
    "                elif buffer_matching_type == 'into':\n",
    "                    if not np.array_equal(s, traj['context_states'][i]) and np.array_equal(s, traj['context_next_states'][i]):\n",
    "                        s_indices.append(i)\n",
    "                else:\n",
    "                    raise ValueError(f\"Invalid buffer matching type: {buffer_matching_type}\")\n",
    "            if len(s_indices) == 0:\n",
    "                return None\n",
    "            s_indices = torch.tensor(s_indices)\n",
    "            s_indices_mask = torch.zeros(traj_horizon+1).bool()\n",
    "            s_indices_mask[s_indices] = True\n",
    "            return s_indices_mask\n",
    "        \n",
    "        for loc_from in range(len(states_on_path)):\n",
    "            for loc_to in range(len(states_on_path)):\n",
    "                mask_loc_from = get_s_indices_mask(states_on_path[loc_from])\n",
    "                mask_loc_to = get_s_indices_mask(states_on_path[loc_to])\n",
    "                if mask_loc_to is None or mask_loc_from is None:\n",
    "                    continue\n",
    "                state_mask = torch.ones((traj_horizon+1, traj_horizon+1))  # Create a mask for the state\n",
    "                query_grid, s_grid = torch.meshgrid(\n",
    "                    torch.where(mask_loc_from)[0],\n",
    "                    torch.where(mask_loc_to)[0],\n",
    "                    indexing='ij'\n",
    "                )\n",
    "                state_mask[query_grid, s_grid] = 0\n",
    "                state_mask = torch.tril(state_mask)\n",
    "                state_mask = state_mask.bool().to(model.device)\n",
    "    \n",
    "                for b in model.transformer.h:\n",
    "                    b._additional_attention_mask = None\n",
    "                model.transformer.h[layer]._additional_attention_mask = state_mask\n",
    "\n",
    "                with torch.no_grad():\n",
    "                    out = model(batch).squeeze()\n",
    "                intervened_xc_loss = torch.nn.functional.cross_entropy(out, optimal_action_tensor).item()\n",
    "                results['cross_entropy_loss'].append(baseline_xc_loss - intervened_xc_loss)\n",
    "                results['env'].append(i_eval)\n",
    "                results['mask_path_loc_to'].append(loc_to)\n",
    "                results['mask_path_loc_from'].append(loc_from)\n",
    "                model.transformer.h[layer]._additional_attention_mask = None\n",
    "\n",
    "    return results"
   ]
  },
  {
   "cell_type": "markdown",
   "metadata": {},
   "source": [
    "# Collect data"
   ]
  },
  {
   "cell_type": "code",
   "execution_count": 9,
   "metadata": {},
   "outputs": [],
   "source": [
    "if recalc:\n",
    "    for query_offset in range(4):\n",
    "        layer_results = []\n",
    "        for layer in range(model.n_layer-1):\n",
    "            layer_result = get_results(\n",
    "                query_type='root', query_offset=query_offset,\n",
    "                buffer_matching_type='all', layer=layer)\n",
    "            layer_results.append(layer_result)\n",
    "        with open(f'pickles/07_token_masking_buffergrid_root_qo{query_offset}.pkl', 'wb') as f:\n",
    "            pickle.dump(layer_results, f)\n",
    "\n",
    "    for query_offset in range(4):\n",
    "        layer_results = []\n",
    "        for layer in range(model.n_layer-1):\n",
    "            layer_result = get_results(\n",
    "                query_type='middle', query_offset=query_offset,\n",
    "                buffer_matching_type='all', layer=layer)\n",
    "            layer_results.append(layer_result)\n",
    "        with open(f'pickles/07_token_masking_buffergrid_middle_qo{query_offset}.pkl', 'wb') as f:\n",
    "            pickle.dump(layer_results, f)"
   ]
  },
  {
   "cell_type": "markdown",
   "metadata": {},
   "source": [
    "# Make plot"
   ]
  },
  {
   "cell_type": "code",
   "execution_count": 38,
   "metadata": {},
   "outputs": [],
   "source": [
    "def make_heatmap(results, layer, figname=None):\n",
    "    df = pd.DataFrame(results)\n",
    "    # Create pivot table for heatmap\n",
    "    heatmap_data = df.pivot_table(\n",
    "        values='cross_entropy_loss',\n",
    "        index='mask_path_loc_from',\n",
    "        columns='mask_path_loc_to',\n",
    "        aggfunc='mean'\n",
    "    )\n",
    "    \n",
    "    # Create the heatmap\n",
    "    #plt.figure(figsize=(2., 1.85))\n",
    "    plt.figure(figsize=(2.2, 2.2))\n",
    "    vmin = -0.1\n",
    "    vmax = 0.1\n",
    "    h = sns.heatmap(\n",
    "        heatmap_data,\n",
    "        annot=True,\n",
    "        fmt='.2f',\n",
    "        cmap='coolwarm',\n",
    "        center=0,\n",
    "        square=True,\n",
    "        annot_kws={'fontsize': 4},\n",
    "        vmax=vmax,\n",
    "        vmin=vmin,\n",
    "        cbar_kws={\n",
    "            'shrink': 0.7,        # Makes the colorbar shorter (value between 0-1)\n",
    "            'aspect': 10,         # Controls width of the colorbar\n",
    "            'pad': 0.05,          # Padding between heatmap and colorbar\n",
    "            }\n",
    "    )\n",
    "    ax = plt.gca()\n",
    "    for spine in ax.spines.values():\n",
    "        spine.set_visible(True)\n",
    "    #cbar = plt.gcf().axes[-1]  # Get the colorbar axis\n",
    "    cbar = h.collections[0].colorbar\n",
    "    tick_locs = [-0.1, 0, 0.1]  # Example values - customize as needed\n",
    "    cbar.set_ticks(tick_locs)\n",
    "    cbar.set_ticklabels(tick_locs, fontsize=4)\n",
    "    #cbar.tick_params(labelsize=6)\n",
    "    plt.xlabel('Path Location of\\nMasked Source Token', fontsize=8)\n",
    "    plt.ylabel('Path Location of\\nMasked Target Token', fontsize=8)\n",
    "    plt.xticks(fontsize=6)\n",
    "    plt.yticks(fontsize=6)\n",
    "    plt.tight_layout()\n",
    "    if figname is not None:\n",
    "        plt.savefig(f'figs/{figname}.png', transparent=True, dpi=300)\n",
    "        plt.savefig(f'figs/{figname}.pdf', transparent=True)\n",
    "    plt.show()"
   ]
  },
  {
   "cell_type": "code",
   "execution_count": 39,
   "metadata": {},
   "outputs": [
    {
     "data": {
      "image/png": "[encoded data removed]",
      "text/plain": [
       "<Figure size 220x220 with 2 Axes>"
      ]
     },
     "metadata": {},
     "output_type": "display_data"
    },
    {
     "data": {
      "image/png": "[encoded data removed]",
      "text/plain": [
       "<Figure size 220x220 with 2 Axes>"
      ]
     },
     "metadata": {},
     "output_type": "display_data"
    }
   ],
   "source": [
    "with open('pickles/07_token_masking_buffergrid_root_qo1.pkl', 'rb') as f:\n",
    "    layer_results = pickle.load(f)\n",
    "\n",
    "for layer in range(model.n_layer-1):\n",
    "    figname = '6e' if layer == 0 else None\n",
    "    make_heatmap(layer_results[layer], layer, figname)"
   ]
  },
  {
   "cell_type": "code",
   "execution_count": 29,
   "metadata": {},
   "outputs": [
    {
     "data": {
      "image/png": "[encoded data removed]",
      "text/plain": [
       "<Figure size 275x225 with 2 Axes>"
      ]
     },
     "metadata": {},
     "output_type": "display_data"
    },
    {
     "data": {
      "image/png": "[encoded data removed]",
      "text/plain": [
       "<Figure size 275x225 with 2 Axes>"
      ]
     },
     "metadata": {},
     "output_type": "display_data"
    }
   ],
   "source": [
    "with open('pickles/07_token_masking_buffergrid_root_qo2.pkl', 'rb') as f:\n",
    "    layer_results = pickle.load(f)\n",
    "\n",
    "for layer in range(model.n_layer-1):\n",
    "    figname = None\n",
    "    make_heatmap(layer_results[layer], layer, figname)"
   ]
  },
  {
   "cell_type": "code",
   "execution_count": null,
   "metadata": {},
   "outputs": [],
   "source": []
  }
 ],
 "metadata": {
  "kernelspec": {
   "display_name": "jax",
   "language": "python",
   "name": "python3"
  },
  "language_info": {
   "codemirror_mode": {
    "name": "ipython",
    "version": 3
   },
   "file_extension": ".py",
   "mimetype": "text/x-python",
   "name": "python",
   "nbconvert_exporter": "python",
   "pygments_lexer": "ipython3",
   "version": "3.12.5"
  }
 },
 "nbformat": 4,
 "nbformat_minor": 2
}
