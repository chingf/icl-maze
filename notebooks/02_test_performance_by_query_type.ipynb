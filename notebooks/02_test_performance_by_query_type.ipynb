{
 "cells": [
  {
   "cell_type": "code",
   "execution_count": 1,
   "metadata": {},
   "outputs": [],
   "source": [
    "import numpy as np\n",
    "import matplotlib.pyplot as plt\n",
    "import seaborn as sns\n",
    "import pickle\n",
    "import os\n",
    "import pandas as pd\n",
    "import configs\n",
    "from scipy.optimize import curve_fit"
   ]
  },
  {
   "cell_type": "markdown",
   "metadata": {},
   "source": [
    "# Arguments"
   ]
  },
  {
   "cell_type": "code",
   "execution_count": 2,
   "metadata": {},
   "outputs": [],
   "source": [
    "corr = 0.25"
   ]
  },
  {
   "cell_type": "markdown",
   "metadata": {},
   "source": [
    "# Load Meta-RL results"
   ]
  },
  {
   "cell_type": "code",
   "execution_count": 3,
   "metadata": {},
   "outputs": [
    {
     "name": "stdout",
     "output_type": "stream",
     "text": [
      "epoch=34-val_loss=0.174876.ckpt\n"
     ]
    }
   ],
   "source": [
    "model_name, path_to_pkl, eval_dset_path = configs.get_model_paths(corr, \"tree_maze\")"
   ]
  },
  {
   "cell_type": "code",
   "execution_count": 4,
   "metadata": {},
   "outputs": [],
   "source": [
    "path_to_pkl = os.path.join(os.path.dirname(path_to_pkl), 'eval_results_offline_by_query_type.pkl')"
   ]
  },
  {
   "cell_type": "code",
   "execution_count": 5,
   "metadata": {},
   "outputs": [
    {
     "data": {
      "text/html": [
       "<div>\n",
       "<style scoped>\n",
       "    .dataframe tbody tr th:only-of-type {\n",
       "        vertical-align: middle;\n",
       "    }\n",
       "\n",
       "    .dataframe tbody tr th {\n",
       "        vertical-align: top;\n",
       "    }\n",
       "\n",
       "    .dataframe thead th {\n",
       "        text-align: right;\n",
       "    }\n",
       "</style>\n",
       "<table border=\"1\" class=\"dataframe\">\n",
       "  <thead>\n",
       "    <tr style=\"text-align: right;\">\n",
       "      <th></th>\n",
       "      <th>model</th>\n",
       "      <th>return</th>\n",
       "      <th>environment</th>\n",
       "      <th>experienced_reward</th>\n",
       "      <th>context_length</th>\n",
       "      <th>query_type</th>\n",
       "      <th>path_length_scaled</th>\n",
       "      <th>returns_scaled</th>\n",
       "    </tr>\n",
       "  </thead>\n",
       "  <tbody>\n",
       "    <tr>\n",
       "      <th>0</th>\n",
       "      <td>Opt</td>\n",
       "      <td>91.600000</td>\n",
       "      <td>0</td>\n",
       "      <td>8</td>\n",
       "      <td>800</td>\n",
       "      <td>seen_states_pre_reward</td>\n",
       "      <td>0.000893</td>\n",
       "      <td>0.999107</td>\n",
       "    </tr>\n",
       "    <tr>\n",
       "      <th>1</th>\n",
       "      <td>Learner (temp=2)</td>\n",
       "      <td>0.990633</td>\n",
       "      <td>0</td>\n",
       "      <td>8</td>\n",
       "      <td>800</td>\n",
       "      <td>seen_states_pre_reward</td>\n",
       "      <td>0.989195</td>\n",
       "      <td>0.010805</td>\n",
       "    </tr>\n",
       "    <tr>\n",
       "      <th>2</th>\n",
       "      <td>Learner (temp=1)</td>\n",
       "      <td>1.000000</td>\n",
       "      <td>0</td>\n",
       "      <td>8</td>\n",
       "      <td>800</td>\n",
       "      <td>seen_states_pre_reward</td>\n",
       "      <td>0.989093</td>\n",
       "      <td>0.010907</td>\n",
       "    </tr>\n",
       "    <tr>\n",
       "      <th>3</th>\n",
       "      <td>Learner (greedy)</td>\n",
       "      <td>1.000000</td>\n",
       "      <td>0</td>\n",
       "      <td>8</td>\n",
       "      <td>800</td>\n",
       "      <td>seen_states_pre_reward</td>\n",
       "      <td>0.989093</td>\n",
       "      <td>0.010907</td>\n",
       "    </tr>\n",
       "    <tr>\n",
       "      <th>4</th>\n",
       "      <td>Opt</td>\n",
       "      <td>91.950000</td>\n",
       "      <td>0</td>\n",
       "      <td>8</td>\n",
       "      <td>800</td>\n",
       "      <td>seen_states_post_reward</td>\n",
       "      <td>-0.002925</td>\n",
       "      <td>1.002925</td>\n",
       "    </tr>\n",
       "  </tbody>\n",
       "</table>\n",
       "</div>"
      ],
      "text/plain": [
       "              model     return  environment  experienced_reward  \\\n",
       "0               Opt  91.600000            0                   8   \n",
       "1  Learner (temp=2)   0.990633            0                   8   \n",
       "2  Learner (temp=1)   1.000000            0                   8   \n",
       "3  Learner (greedy)   1.000000            0                   8   \n",
       "4               Opt  91.950000            0                   8   \n",
       "\n",
       "   context_length               query_type  path_length_scaled  returns_scaled  \n",
       "0             800   seen_states_pre_reward            0.000893        0.999107  \n",
       "1             800   seen_states_pre_reward            0.989195        0.010805  \n",
       "2             800   seen_states_pre_reward            0.989093        0.010907  \n",
       "3             800   seen_states_pre_reward            0.989093        0.010907  \n",
       "4             800  seen_states_post_reward           -0.002925        1.002925  "
      ]
     },
     "execution_count": 5,
     "metadata": {},
     "output_type": "execute_result"
    }
   ],
   "source": [
    "with open(path_to_pkl, \"rb\") as f:\n",
    "    data = pickle.load(f)\n",
    "metarl_df = pd.DataFrame(data)\n",
    "metarl_df.head()"
   ]
  },
  {
   "cell_type": "markdown",
   "metadata": {},
   "source": [
    "# Load DQN results"
   ]
  },
  {
   "cell_type": "code",
   "execution_count": 8,
   "metadata": {},
   "outputs": [],
   "source": [
    "engram_dir = \"/n/holylfs06/LABS/krajan_lab/Lab/cfang/icl-maze/\"\n",
    "wandb_project = \"tree_maze_qlearning\"\n",
    "env_name = f\"cntree_layers7_bprob1.0_corr{corr}_state_dim10_envs1000_H1600_explore\"\n",
    "model_name = \"dqn_nlayers4_gamma0.9_target10_lr1e-05\"\n",
    "path_to_pkl = os.path.join(\n",
    "    engram_dir, wandb_project, env_name, \"models\", model_name,\n",
    "    \"eval_results_offline_by_query_type.pkl\")"
   ]
  },
  {
   "cell_type": "markdown",
   "metadata": {},
   "source": [
    "# Load Q table results"
   ]
  },
  {
   "cell_type": "code",
   "execution_count": 9,
   "metadata": {},
   "outputs": [],
   "source": [
    "engram_dir = \"/n/holylfs06/LABS/krajan_lab/Lab/cfang/icl-maze/\"\n",
    "wandb_project = \"tree_maze_qlearning\"\n",
    "env_name = f\"cntree_layers7_bprob1.0_corr{corr}_state_dim10_envs1000_H1600_explore\"\n",
    "model_name = \"q_table_gamma0.8\"\n",
    "path_to_pkl = os.path.join(\n",
    "    engram_dir, wandb_project, env_name, \"models\", model_name,\n",
    "    \"eval_results_offline_by_query_type.pkl\")"
   ]
  },
  {
   "cell_type": "code",
   "execution_count": 10,
   "metadata": {},
   "outputs": [
    {
     "data": {
      "text/html": [
       "<div>\n",
       "<style scoped>\n",
       "    .dataframe tbody tr th:only-of-type {\n",
       "        vertical-align: middle;\n",
       "    }\n",
       "\n",
       "    .dataframe tbody tr th {\n",
       "        vertical-align: top;\n",
       "    }\n",
       "\n",
       "    .dataframe thead th {\n",
       "        text-align: right;\n",
       "    }\n",
       "</style>\n",
       "<table border=\"1\" class=\"dataframe\">\n",
       "  <thead>\n",
       "    <tr style=\"text-align: right;\">\n",
       "      <th></th>\n",
       "      <th>return</th>\n",
       "      <th>environment</th>\n",
       "      <th>experienced_reward</th>\n",
       "      <th>context_length</th>\n",
       "      <th>query_type</th>\n",
       "      <th>model</th>\n",
       "    </tr>\n",
       "  </thead>\n",
       "  <tbody>\n",
       "    <tr>\n",
       "      <th>0</th>\n",
       "      <td>91.75</td>\n",
       "      <td>0</td>\n",
       "      <td>8</td>\n",
       "      <td>1000</td>\n",
       "      <td>seen_states_pre_reward</td>\n",
       "      <td>Q Table</td>\n",
       "    </tr>\n",
       "    <tr>\n",
       "      <th>1</th>\n",
       "      <td>91.80</td>\n",
       "      <td>0</td>\n",
       "      <td>8</td>\n",
       "      <td>1000</td>\n",
       "      <td>seen_states_post_reward</td>\n",
       "      <td>Q Table</td>\n",
       "    </tr>\n",
       "    <tr>\n",
       "      <th>2</th>\n",
       "      <td>25.40</td>\n",
       "      <td>0</td>\n",
       "      <td>8</td>\n",
       "      <td>1000</td>\n",
       "      <td>unseen_states</td>\n",
       "      <td>Q Table</td>\n",
       "    </tr>\n",
       "    <tr>\n",
       "      <th>3</th>\n",
       "      <td>92.45</td>\n",
       "      <td>1</td>\n",
       "      <td>29</td>\n",
       "      <td>1000</td>\n",
       "      <td>seen_states_pre_reward</td>\n",
       "      <td>Q Table</td>\n",
       "    </tr>\n",
       "    <tr>\n",
       "      <th>4</th>\n",
       "      <td>95.00</td>\n",
       "      <td>1</td>\n",
       "      <td>29</td>\n",
       "      <td>1000</td>\n",
       "      <td>seen_states_post_reward</td>\n",
       "      <td>Q Table</td>\n",
       "    </tr>\n",
       "  </tbody>\n",
       "</table>\n",
       "</div>"
      ],
      "text/plain": [
       "   return  environment  experienced_reward  context_length  \\\n",
       "0   91.75            0                   8            1000   \n",
       "1   91.80            0                   8            1000   \n",
       "2   25.40            0                   8            1000   \n",
       "3   92.45            1                  29            1000   \n",
       "4   95.00            1                  29            1000   \n",
       "\n",
       "                query_type    model  \n",
       "0   seen_states_pre_reward  Q Table  \n",
       "1  seen_states_post_reward  Q Table  \n",
       "2            unseen_states  Q Table  \n",
       "3   seen_states_pre_reward  Q Table  \n",
       "4  seen_states_post_reward  Q Table  "
      ]
     },
     "execution_count": 10,
     "metadata": {},
     "output_type": "execute_result"
    }
   ],
   "source": [
    "with open(path_to_pkl, \"rb\") as f:\n",
    "    data = pickle.load(f)\n",
    "qtable_df = pd.DataFrame(data)\n",
    "qtable_df = qtable_df.rename(columns={'returns': 'return'})\n",
    "qtable_df['model'] = 'Q Table'\n",
    "qtable_df.head()"
   ]
  },
  {
   "cell_type": "markdown",
   "metadata": {},
   "source": [
    "# Plot all results"
   ]
  },
  {
   "cell_type": "code",
   "execution_count": 11,
   "metadata": {},
   "outputs": [],
   "source": [
    "# Concatenate the dataframes\n",
    "df = pd.concat([metarl_df, dqn_df, qtable_df], ignore_index=True)\n"
   ]
  },
  {
   "cell_type": "code",
   "execution_count": 12,
   "metadata": {},
   "outputs": [
    {
     "data": {
      "text/plain": [
       "array([1000])"
      ]
     },
     "execution_count": 12,
     "metadata": {},
     "output_type": "execute_result"
    }
   ],
   "source": [
    "np.unique(df['context_length'])"
   ]
  },
  {
   "cell_type": "code",
   "execution_count": 16,
   "metadata": {},
   "outputs": [
    {
     "data": {
      "image/png": "[encoded data removed]",
      "text/plain": [
       "<Figure size 170x175 with 1 Axes>"
      ]
     },
     "metadata": {},
     "output_type": "display_data"
    }
   ],
   "source": [
    "# Create bar plot\n",
    "plt.figure(figsize=(1.7, 1.75))\n",
    "sns.barplot(\n",
    "    data=df, x='query_type', y='return', hue='model',\n",
    "    hue_order=['Learner (temp=2)', 'Q Table', 'DQN'],\n",
    "    palette=['C0', 'C4', 'C2'],\n",
    "    legend=None)\n",
    "plt.xticks([0,1,2], ['Pre-     ', 'Post-     ', 'Novel'], fontsize=6) #[\"States Seen Before Reward\", \"States Seen After Reward\", \"Unseen States\"], rotation=45)\n",
    "plt.yticks([0,47,94], ['0', '', '1'], fontsize=8)\n",
    "plt.xlabel('Query Type', fontsize=8)\n",
    "plt.ylabel('Returns', fontsize=8)\n",
    "plt.tight_layout()\n",
    "plt.savefig('figs/2f.png', transparent=True, dpi=300)\n",
    "plt.savefig('figs/2f.svg', transparent=True, dpi=300)\n",
    "plt.show()\n"
   ]
  },
  {
   "cell_type": "code",
   "execution_count": null,
   "metadata": {},
   "outputs": [],
   "source": []
  },
  {
   "cell_type": "code",
   "execution_count": null,
   "metadata": {},
   "outputs": [],
   "source": []
  }
 ],
 "metadata": {
  "kernelspec": {
   "display_name": "Python 3",
   "language": "python",
   "name": "python3"
  },
  "language_info": {
   "codemirror_mode": {
    "name": "ipython",
    "version": 3
   },
   "file_extension": ".py",
   "mimetype": "text/x-python",
   "name": "python",
   "nbconvert_exporter": "python",
   "pygments_lexer": "ipython3",
   "version": "3.12.5"
  }
 },
 "nbformat": 4,
 "nbformat_minor": 2
}
