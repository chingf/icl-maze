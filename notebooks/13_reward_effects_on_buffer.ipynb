{
 "cells": [
  {
   "cell_type": "code",
   "execution_count": 2,
   "metadata": {},
   "outputs": [],
   "source": [
    "import numpy as np\n",
    "import matplotlib.pyplot as plt\n",
    "import seaborn as sns\n",
    "import pickle\n",
    "import os\n",
    "import pandas as pd\n",
    "import configs\n",
    "import torch\n",
    "from sklearn.decomposition import PCA\n",
    "from scipy.spatial.distance import pdist, squareform\n",
    "\n",
    "from src.utils import find_ckpt_file, convert_to_tensor\n",
    "import h5py\n",
    "import random\n",
    "from src.evals.eval_trees import EvalCntrees"
   ]
  },
  {
   "cell_type": "code",
   "execution_count": 3,
   "metadata": {},
   "outputs": [],
   "source": [
    "corr = 0.25"
   ]
  },
  {
   "cell_type": "markdown",
   "metadata": {},
   "source": [
    "# Load Model"
   ]
  },
  {
   "cell_type": "code",
   "execution_count": 4,
   "metadata": {},
   "outputs": [
    {
     "name": "stdout",
     "output_type": "stream",
     "text": [
      "epoch=31-val_loss=0.000400.ckpt\n"
     ]
    }
   ],
   "source": [
    "engram_dir = \"/n/holylfs06/LABS/krajan_lab/Lab/cfang/icl-maze/\"\n",
    "wandb_project = \"tree_maze\"\n",
    "env_name = f\"cntree_layers7_bprob0.9_corr{corr}_state_dim10_envs300000_H800_explore\"\n",
    "if corr == 0.25:\n",
    "    model_name = \"transformer_end_query_embd512_layer3_head4_lr0.0001_drop0.2_initseed0_batch512\"\n",
    "elif corr == 0.:\n",
    "    model_name = \"transformer_end_query_embd512_layer3_head4_lr0.0001_drop0_initseed4_batch512\"\n",
    "else:\n",
    "    raise ValueError(f\"Unknown correlation value: {corr}\")\n",
    "model_path = os.path.join(engram_dir, wandb_project, env_name, \"models\", model_name)\n",
    "ckpt_name = find_ckpt_file(model_path, \"best\")\n",
    "print(ckpt_name)\n",
    "path_to_pkl = os.path.join(model_path, ckpt_name)\n",
    "\n",
    "eval_dset_path = f\"/n/holylfs06/LABS/krajan_lab/Lab/cfang/icl-maze/cntree/cntree_layers7_bprob1.0_corr{corr}_state_dim10_envs1000_H1600_explore/datasets/eval.pkl\""
   ]
  },
  {
   "cell_type": "markdown",
   "metadata": {},
   "source": [
    "# Load Model"
   ]
  },
  {
   "cell_type": "code",
   "execution_count": 5,
   "metadata": {},
   "outputs": [],
   "source": [
    "# Extract parameters using regex\n",
    "import re\n",
    "n_embd = int(re.search(r'embd(\\d+)', model_name).group(1))\n",
    "n_layer = int(re.search(r'layer(\\d+)', model_name).group(1))\n",
    "n_head = int(re.search(r'head(\\d+)', model_name).group(1))\n",
    "dropout = float(re.search(r'drop(\\d*\\.?\\d*)', model_name).group(1))\n",
    "\n",
    "\n",
    "model_config = {\n",
    "    \"n_embd\": n_embd,\n",
    "    \"n_layer\": n_layer,\n",
    "    \"n_head\": n_head,\n",
    "    \"state_dim\": 10,\n",
    "    \"action_dim\": 4,\n",
    "    \"dropout\": dropout,\n",
    "    \"train_on_last_pred_only\": False,\n",
    "    \"test\": True,\n",
    "    \"name\": \"transformer_end_query\",\n",
    "    \"optimizer_config\": None,\n",
    "    \"linear_attention\": False,\n",
    "}"
   ]
  },
  {
   "cell_type": "code",
   "execution_count": 6,
   "metadata": {},
   "outputs": [
    {
     "name": "stderr",
     "output_type": "stream",
     "text": [
      "/tmp/ipykernel_2659343/443524507.py:4: FutureWarning: You are using `torch.load` with `weights_only=False` (the current default value), which uses the default pickle module implicitly. It is possible to construct malicious pickle data which will execute arbitrary code during unpickling (See https://github.com/pytorch/pytorch/blob/main/SECURITY.md#untrusted-models for more details). In a future release, the default value for `weights_only` will be flipped to `True`. This limits the functions that could be executed during unpickling. Arbitrary objects will no longer be allowed to be loaded via this mode unless they are explicitly allowlisted by the user via `torch.serialization.add_safe_globals`. We recommend you start setting `weights_only=True` for any use case where you don't have full control of the loaded file. Please open an issue on GitHub for any issues related to this experimental feature.\n",
      "  checkpoint = torch.load(path_to_pkl)\n"
     ]
    }
   ],
   "source": [
    "from src.models.transformer_end_query import Transformer\n",
    "model_config['initialization_seed'] = 0\n",
    "model = Transformer(**model_config)\n",
    "checkpoint = torch.load(path_to_pkl)\n",
    "model.load_state_dict(checkpoint['state_dict'])\n",
    "model.eval()\n",
    "model = model.to('cuda')\n"
   ]
  },
  {
   "cell_type": "markdown",
   "metadata": {},
   "source": [
    "# Load Dataset and Create Environment"
   ]
  },
  {
   "cell_type": "code",
   "execution_count": 7,
   "metadata": {},
   "outputs": [],
   "source": [
    "n_eval_envs = -1 #50\n",
    "\n",
    "is_h5_file = eval_dset_path.endswith('.h5')\n",
    "if is_h5_file:\n",
    "    eval_trajs = h5py.File(eval_dset_path, 'r')\n",
    "    traj_indices = list(eval_trajs.keys())\n",
    "    n_eval_envs = min(n_eval_envs, len(traj_indices))\n",
    "    random.seed(0)\n",
    "    traj_indices = random.sample(traj_indices, n_eval_envs)\n",
    "    random.seed()\n",
    "    if n_eval_envs != -1:\n",
    "        eval_trajs = [eval_trajs[i] for i in traj_indices]\n",
    "    else:\n",
    "        n_eval_envs = len(traj_indices)\n",
    "else:  # Pickle file\n",
    "    with open(eval_dset_path, 'rb') as f:\n",
    "        eval_trajs = pickle.load(f)\n",
    "    n_eval_envs = min(n_eval_envs, len(eval_trajs))\n",
    "    if n_eval_envs != -1:\n",
    "        random.seed(0)\n",
    "        eval_trajs = random.sample(eval_trajs, n_eval_envs)\n",
    "        random.seed()\n",
    "    else:\n",
    "        n_eval_envs = len(eval_trajs)\n"
   ]
  },
  {
   "cell_type": "markdown",
   "metadata": {},
   "source": [
    "# Run Model"
   ]
  },
  {
   "cell_type": "code",
   "execution_count": 14,
   "metadata": {},
   "outputs": [],
   "source": [
    "def testing_accuracy(condition):\n",
    "    acc = []\n",
    "    for i_eval in range(n_eval_envs):\n",
    "        env_acc = []\n",
    "        traj = eval_trajs[i_eval]\n",
    "        if traj['context_rewards'][:800].sum().item() == 0:\n",
    "            continue\n",
    "        env_config = {\n",
    "            'max_layers': 7,\n",
    "            'horizon': 1600,\n",
    "            'branching_prob': 1.0,\n",
    "            'node_encoding_corr': corr,\n",
    "            'state_dim': 10,\n",
    "            'initialization_seed': np.array(traj['initialization_seed']).item()\n",
    "        }\n",
    "        env = EvalCntrees().create_env(env_config, np.array(traj['goal']), i_eval)\n",
    "        optimal_action_map, dist_from_goal = env.make_opt_action_dict()\n",
    "        if condition == 'normal':\n",
    "            order = np.arange(800)\n",
    "        elif condition == 'random':\n",
    "            order = np.arange(800)\n",
    "            np.random.shuffle(order)\n",
    "        elif condition == 'reward_at_end':\n",
    "            unrewarded = np.argwhere(traj['context_rewards'][:800] == 0).squeeze()\n",
    "            rewarded = np.argwhere(traj['context_rewards'][:800] == 1).squeeze()\n",
    "            np.random.shuffle(unrewarded)\n",
    "            np.random.shuffle(rewarded)\n",
    "            order = np.concatenate([unrewarded, rewarded])\n",
    "        elif condition == 'reward_at_start':\n",
    "            unrewarded = np.argwhere(traj['context_rewards'][:800] == 0).squeeze()\n",
    "            rewarded = np.argwhere(traj['context_rewards'][:800] == 1).squeeze()\n",
    "            np.random.shuffle(unrewarded)\n",
    "            np.random.shuffle(rewarded)\n",
    "            order = np.concatenate([rewarded, unrewarded])\n",
    "\n",
    "        batch = {\n",
    "            'context_states': np.array(traj['context_states'])[order],\n",
    "            'context_actions': np.array(traj['context_actions'])[order],\n",
    "            'context_next_states': np.array(traj['context_next_states'])[order],\n",
    "            'context_rewards': np.array(traj['context_rewards'])[order, None],\n",
    "            'query_states': np.array(traj['query_state']),\n",
    "            }\n",
    "        batch['zeros'] = torch.zeros(10 ** 2 + 4 + 1).float()\n",
    "        seen_states = np.vstack((traj['context_states'][:1], traj['context_next_states'][:800]))\n",
    "        seen_states = np.unique(seen_states, axis=0) \n",
    "        for k in batch.keys():\n",
    "            batch[k] = convert_to_tensor([batch[k]]).to(model.device)\n",
    "        for query_state in seen_states: \n",
    "            batch['query_states'] = convert_to_tensor([query_state]).to(model.device)\n",
    "            with torch.no_grad():\n",
    "                out = model(batch)\n",
    "            pred_action = torch.argmax(out.squeeze()).item()\n",
    "            optimal_action = optimal_action_map[tuple(query_state.tolist())]\n",
    "            env_acc.append(pred_action == optimal_action)\n",
    "        acc.append(env_acc)\n",
    "    return acc"
   ]
  },
  {
   "cell_type": "code",
   "execution_count": 38,
   "metadata": {},
   "outputs": [
    {
     "data": {
      "image/png": "[encoded data removed]",
      "text/plain": [
       "<Figure size 400x300 with 1 Axes>"
      ]
     },
     "metadata": {},
     "output_type": "display_data"
    }
   ],
   "source": [
    "acc = testing_accuracy('normal')\n",
    "mean_acc = [np.mean(env_acc) for env_acc in acc]\n",
    "plt.figure(figsize=(4,3))\n",
    "plt.hist(mean_acc, bins=50)\n",
    "plt.title('Normal')\n",
    "plt.show()\n"
   ]
  },
  {
   "cell_type": "code",
   "execution_count": 15,
   "metadata": {},
   "outputs": [],
   "source": [
    "acc_many_iters = []\n",
    "for _ in range(15):\n",
    "    acc = testing_accuracy('reward_at_end')\n",
    "    acc_many_iters.extend(acc)\n",
    "mean_acc = [np.mean(env_acc) for env_acc in acc_many_iters]\n",
    "plt.figure(figsize=(4,3))\n",
    "plt.hist(mean_acc, bins=50)\n",
    "plt.title('Reward at End')\n",
    "plt.show()"
   ]
  },
  {
   "cell_type": "code",
   "execution_count": null,
   "metadata": {},
   "outputs": [],
   "source": [
    "acc_many_iters = []\n",
    "for _ in range(15):\n",
    "    acc = testing_accuracy('reward_at_start')\n",
    "    acc_many_iters.extend(acc)\n",
    "mean_acc = [np.mean(env_acc) for env_acc in acc_many_iters]\n",
    "plt.figure(figsize=(4,3))\n",
    "plt.hist(mean_acc, bins=50)\n",
    "plt.title('Reward at Start')\n",
    "plt.show()"
   ]
  },
  {
   "cell_type": "code",
   "execution_count": 9,
   "metadata": {},
   "outputs": [
    {
     "data": {
      "image/png": "[encoded data removed]",
      "text/plain": [
       "<Figure size 400x300 with 1 Axes>"
      ]
     },
     "metadata": {},
     "output_type": "display_data"
    }
   ],
   "source": [
    "acc_many_iters = []\n",
    "for _ in range(15):\n",
    "    acc = testing_accuracy('random')\n",
    "    acc_many_iters.extend(acc)\n",
    "mean_acc = [np.mean(env_acc) for env_acc in acc_many_iters]\n",
    "plt.figure(figsize=(4,3))\n",
    "plt.hist(mean_acc, bins=50)\n",
    "plt.title('Random')\n",
    "plt.show()\n"
   ]
  },
  {
   "cell_type": "code",
   "execution_count": null,
   "metadata": {},
   "outputs": [],
   "source": []
  }
 ],
 "metadata": {
  "kernelspec": {
   "display_name": "jax",
   "language": "python",
   "name": "python3"
  },
  "language_info": {
   "codemirror_mode": {
    "name": "ipython",
    "version": 3
   },
   "file_extension": ".py",
   "mimetype": "text/x-python",
   "name": "python",
   "nbconvert_exporter": "python",
   "pygments_lexer": "ipython3",
   "version": "3.12.5"
  }
 },
 "nbformat": 4,
 "nbformat_minor": 2
}
