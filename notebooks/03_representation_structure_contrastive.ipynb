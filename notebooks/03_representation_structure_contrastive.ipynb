{
 "cells": [
  {
   "cell_type": "code",
   "execution_count": 1,
   "metadata": {},
   "outputs": [],
   "source": [
    "import numpy as np\n",
    "import matplotlib.pyplot as plt\n",
    "import seaborn as sns\n",
    "import pickle\n",
    "import os\n",
    "import pandas as pd\n",
    "import configs\n",
    "import torch\n",
    "from sklearn.decomposition import PCA\n",
    "from scipy.spatial.distance import pdist, squareform\n",
    "\n",
    "from src.utils import find_ckpt_file, convert_to_tensor\n",
    "import h5py\n",
    "import random\n",
    "from src.evals.eval_trees import EvalTrees\n",
    "from src.evals.eval_trees import EvalCntrees"
   ]
  },
  {
   "cell_type": "markdown",
   "metadata": {},
   "source": [
    "# Load Model"
   ]
  },
  {
   "cell_type": "code",
   "execution_count": 3,
   "metadata": {},
   "outputs": [
    {
     "name": "stdout",
     "output_type": "stream",
     "text": [
      "epoch=30-val_loss=0.000777.ckpt\n"
     ]
    }
   ],
   "source": [
    "engram_dir = \"/n/holylfs06/LABS/krajan_lab/Lab/cfang/icl-maze/\"\n",
    "wandb_project = \"cntree\"\n",
    "corr = 0.0\n",
    "env_name = f\"cntree_layers7_bprob0.9_corr{corr}_state_dim10_envs300000_H800_explore\"\n",
    "#model_name = \"transformer_end_query_embd512_layer4_head4_lr1e-05_drop0_batch256\"\n",
    "#model_name = \"transformer_end_query_embd800_layer3_head4_lr0.0001_drop0_batch256\"\n",
    "#model_name = \"transformer_end_query_embd512_layer4_head4_lr1e-05_drop0_batch256\"\n",
    "model_name = \"transformer_end_query_embd512_layer3_head4_lr0.0001_drop0_batch256\"\n",
    "#model_name = \"transformer_end_query_embd512_layer3_head4_lr0.0001_drop0.2_batch256\"\n",
    "model_path = os.path.join(engram_dir, wandb_project, env_name, \"models\", model_name)\n",
    "ckpt_name = find_ckpt_file(model_path, \"best\")\n",
    "print(ckpt_name)\n",
    "path_to_pkl = os.path.join(model_path, ckpt_name)\n",
    "\n",
    "eval_dset_path = f\"/n/holylfs06/LABS/krajan_lab/Lab/cfang/icl-maze/cntree/cntree_layers7_bprob1.0_corr{corr}_state_dim10_envs1000_H1600_explore/datasets/eval.pkl\""
   ]
  },
  {
   "cell_type": "code",
   "execution_count": 4,
   "metadata": {},
   "outputs": [],
   "source": [
    "# Extract parameters using regex\n",
    "import re\n",
    "\n",
    "n_embd = int(re.search(r'embd(\\d+)', model_name).group(1))\n",
    "n_layer = int(re.search(r'layer(\\d+)', model_name).group(1))\n",
    "n_head = int(re.search(r'head(\\d+)', model_name).group(1))\n",
    "dropout = float(re.search(r'drop(\\d*\\.?\\d*)', model_name).group(1))\n",
    "\n",
    "# Extract correlation and state_dim from eval dataset path\n",
    "state_dim = int(re.search(r'state_dim(\\d+)', eval_dset_path).group(1))\n",
    "\n",
    "model_config = {\n",
    "    \"n_embd\": n_embd,\n",
    "    \"n_layer\": n_layer,\n",
    "    \"n_head\": n_head,\n",
    "    \"state_dim\": 10,\n",
    "    \"action_dim\": 4,\n",
    "    \"dropout\": dropout,\n",
    "    \"train_on_last_pred_only\": False,\n",
    "    \"test\": True,\n",
    "    \"name\": \"transformer_end_query\",\n",
    "    \"optimizer_config\": None,\n",
    "    \"linear_attention\": False,\n",
    "}"
   ]
  },
  {
   "cell_type": "code",
   "execution_count": 5,
   "metadata": {},
   "outputs": [
    {
     "name": "stderr",
     "output_type": "stream",
     "text": [
      "/tmp/ipykernel_800636/79273858.py:3: FutureWarning: You are using `torch.load` with `weights_only=False` (the current default value), which uses the default pickle module implicitly. It is possible to construct malicious pickle data which will execute arbitrary code during unpickling (See https://github.com/pytorch/pytorch/blob/main/SECURITY.md#untrusted-models for more details). In a future release, the default value for `weights_only` will be flipped to `True`. This limits the functions that could be executed during unpickling. Arbitrary objects will no longer be allowed to be loaded via this mode unless they are explicitly allowlisted by the user via `torch.serialization.add_safe_globals`. We recommend you start setting `weights_only=True` for any use case where you don't have full control of the loaded file. Please open an issue on GitHub for any issues related to this experimental feature.\n",
      "  checkpoint = torch.load(path_to_pkl)\n"
     ]
    }
   ],
   "source": [
    "from src.models.transformer_end_query import Transformer\n",
    "model = Transformer(**model_config)\n",
    "checkpoint = torch.load(path_to_pkl)\n",
    "model.load_state_dict(checkpoint['state_dict'])\n",
    "model.eval()\n",
    "model = model.to('cuda')"
   ]
  },
  {
   "cell_type": "markdown",
   "metadata": {},
   "source": [
    "# Load Dataset and Create Environment"
   ]
  },
  {
   "cell_type": "code",
   "execution_count": 6,
   "metadata": {},
   "outputs": [],
   "source": [
    "n_eval_envs = 50\n",
    "\n",
    "is_h5_file = eval_dset_path.endswith('.h5')\n",
    "if is_h5_file:\n",
    "    eval_trajs = h5py.File(eval_dset_path, 'r')\n",
    "    traj_indices = list(eval_trajs.keys())\n",
    "    n_eval_envs = min(n_eval_envs, len(traj_indices))\n",
    "    random.seed(0)\n",
    "    traj_indices = random.sample(traj_indices, n_eval_envs)\n",
    "    random.seed()\n",
    "    eval_trajs = [eval_trajs[i] for i in traj_indices]\n",
    "else:  # Pickle file\n",
    "    with open(eval_dset_path, 'rb') as f:\n",
    "        eval_trajs = pickle.load(f)\n",
    "    n_eval_envs = min(n_eval_envs, len(eval_trajs))\n",
    "    random.seed(0)\n",
    "    eval_trajs = random.sample(eval_trajs, n_eval_envs)\n",
    "    random.seed()\n"
   ]
  },
  {
   "cell_type": "code",
   "execution_count": 7,
   "metadata": {},
   "outputs": [],
   "source": [
    "i_eval = 4\n",
    "traj = eval_trajs[i_eval]"
   ]
  },
  {
   "cell_type": "code",
   "execution_count": 8,
   "metadata": {},
   "outputs": [],
   "source": [
    "env_config = {\n",
    "    'max_layers': 7,\n",
    "    'horizon': 1600,\n",
    "    'branching_prob': 1.0,\n",
    "    'node_encoding_corr': corr,\n",
    "    'state_dim': state_dim,\n",
    "    'initialization_seed': np.array(traj['initialization_seed']).item()\n",
    "}"
   ]
  },
  {
   "cell_type": "code",
   "execution_count": 9,
   "metadata": {},
   "outputs": [],
   "source": [
    "env = EvalCntrees().create_env(env_config, np.array(traj['goal']), i_eval)\n"
   ]
  },
  {
   "cell_type": "markdown",
   "metadata": {},
   "source": [
    "# Run Model"
   ]
  },
  {
   "cell_type": "code",
   "execution_count": 10,
   "metadata": {},
   "outputs": [],
   "source": [
    "layers = []\n",
    "positions = []\n",
    "state_features = []\n",
    "state_features = list(env.node_map.keys())\n",
    "\n",
    "for state_feature in state_features:\n",
    "    layers.append(env.node_map[state_feature].layer)\n",
    "    positions.append(env.node_map[state_feature].pos)"
   ]
  },
  {
   "cell_type": "code",
   "execution_count": 11,
   "metadata": {},
   "outputs": [],
   "source": [
    "def run_model(traj, model, state_features, seq_length):\n",
    "    hidden_states = [[] for _ in range(model.n_layer)]\n",
    "    \n",
    "    for state_feature in state_features: \n",
    "        batch = {\n",
    "            'context_states': convert_to_tensor([np.array(traj['context_states'])]),\n",
    "            'context_actions': convert_to_tensor([np.array(traj['context_actions'])]),\n",
    "            'context_next_states': convert_to_tensor([np.array(traj['context_next_states'])]),\n",
    "            'context_rewards': convert_to_tensor([np.array(traj['context_rewards'])[:, None]]),\n",
    "            'query_states': convert_to_tensor([np.array(state_feature)]),\n",
    "            }\n",
    "        batch['zeros'] = torch.zeros(1, 10 ** 2 + 4 + 1).float()\n",
    "        for k in batch.keys():\n",
    "            if 'context' in k:\n",
    "                batch[k] = batch[k][:,:seq_length]\n",
    "            batch[k] = batch[k].to(model.device)\n",
    "        model.save_activations = True\n",
    "        with torch.no_grad():\n",
    "            out = model(batch)\n",
    "        _hidden_states = model.activations['hidden_states'][1:] # Tuple over layers\n",
    "        for i_layer in range(model.n_layer):\n",
    "            hidden_states[i_layer].append(_hidden_states[i_layer])\n",
    "    return hidden_states"
   ]
  },
  {
   "cell_type": "code",
   "execution_count": 12,
   "metadata": {},
   "outputs": [],
   "source": [
    "true_dist_matrix = []\n",
    "\n",
    "for state_feature in state_features:\n",
    "    _, dist_from_state = env._make_opt_action_dict(state_feature)\n",
    "    sorted_dist_from_state = []\n",
    "    for state_feature in state_features:\n",
    "        sorted_dist_from_state.append(dist_from_state[state_feature])\n",
    "    true_dist_matrix.append(sorted_dist_from_state)\n",
    "\n",
    "true_dist_matrix = np.array(true_dist_matrix)\n",
    "true_dist_matrix = true_dist_matrix / true_dist_matrix.max()\n"
   ]
  },
  {
   "cell_type": "code",
   "execution_count": 21,
   "metadata": {},
   "outputs": [],
   "source": [
    "dist_func = lambda data: squareform(pdist(data, metric='cosine'))\n",
    "#dist_func = lambda data: squareform(pdist(data))\n",
    "\n",
    "def get_dist_metric(hidden_states, true_dist_matrix):\n",
    "    diffs = []\n",
    "    dist_matrices = []\n",
    "    for layer in range(len(hidden_states)):\n",
    "        X = torch.stack(hidden_states[layer])\n",
    "        X = X.detach().cpu().numpy().squeeze()  # (states, sequence length, hidden dim)\n",
    "        data = X[:, -1, :]  # Response when given last (query) token\n",
    "        representation_dist_matrix = dist_func(data)\n",
    "        mask = np.triu(np.ones_like(representation_dist_matrix), k=1).astype(bool)\n",
    "        diffs.append(np.mean(representation_dist_matrix[mask]))\n",
    "        dist_matrices.append(representation_dist_matrix)\n",
    "    return diffs, dist_matrices"
   ]
  },
  {
   "cell_type": "code",
   "execution_count": 17,
   "metadata": {},
   "outputs": [
    {
     "name": "stdout",
     "output_type": "stream",
     "text": [
      "Sequence Length: 1\n",
      "Sequence Length: 25\n",
      "Sequence Length: 50\n",
      "Sequence Length: 75\n",
      "Sequence Length: 100\n",
      "Sequence Length: 250\n",
      "Sequence Length: 500\n",
      "Sequence Length: 750\n",
      "Sequence Length: 1000\n"
     ]
    }
   ],
   "source": [
    "dist_results = {\n",
    "    'seq_length': [],\n",
    "    'layer': [],\n",
    "    'diff': [],\n",
    "}\n",
    "seq_lengths = [1, 25, 50, 75, 100, 250, 500, 750, 1000]\n",
    "for seq_length in seq_lengths:\n",
    "    print(f'Sequence Length: {seq_length}')\n",
    "    hidden_states = run_model(traj, model, state_features, seq_length)\n",
    "    diffs, dist_matrices = get_dist_metric(hidden_states, true_dist_matrix)\n",
    "    dist_results['seq_length'].extend([seq_length] * model.n_layer)\n",
    "    dist_results['layer'].extend(range(model.n_layer))\n",
    "    dist_results['diff'].extend(diffs)\n",
    "    # Clear GPU memory\n",
    "    del hidden_states\n",
    "    torch.cuda.empty_cache()\n",
    "\n",
    "dist_results = pd.DataFrame(dist_results)\n"
   ]
  },
  {
   "cell_type": "code",
   "execution_count": 20,
   "metadata": {},
   "outputs": [
    {
     "data": {
      "image/png": "[encoded data removed]",
      "text/plain": [
       "<Figure size 500x300 with 1 Axes>"
      ]
     },
     "metadata": {},
     "output_type": "display_data"
    }
   ],
   "source": [
    "fig, ax = plt.subplots(figsize=(5, 3))\n",
    "sns.lineplot(\n",
    "    data=dist_results, x='seq_length', y='diff', hue='layer',\n",
    "    linewidth=2,\n",
    "    ax=ax)\n",
    "ax.set_xlabel('Context Length')\n",
    "ax.set_ylabel('Collapse')\n",
    "first_reward = np.argwhere(np.array(traj['context_rewards'])>0)\n",
    "if first_reward.size > 0:\n",
    "    ax.axvline(x=first_reward[0], color='black', linestyle='--')\n",
    "plt.show()"
   ]
  },
  {
   "cell_type": "code",
   "execution_count": 52,
   "metadata": {},
   "outputs": [],
   "source": [
    "def rand_dist_metric(hidden_states, true_dist_matrix):\n",
    "    diffs = []\n",
    "    for layer in range(len(hidden_states)):\n",
    "        X = torch.stack(hidden_states[layer])\n",
    "        X = X.detach().cpu().numpy().squeeze()  # (states, sequence length, hidden dim)\n",
    "        data = X[:, -1, :] # Response when given last (query) token\n",
    "        #np.random.shuffle(data)\n",
    "        representation_dist_matrix = dist_func(data)\n",
    "        representation_dist_matrix = representation_dist_matrix / np.percentile(representation_dist_matrix, 99)\n",
    "        diff = np.abs(true_dist_matrix - representation_dist_matrix)\n",
    "        mask = np.triu(np.ones_like(diff), k=1).astype(bool)\n",
    "        diffs.append(np.mean(diff[mask]))\n",
    "    return diffs"
   ]
  },
  {
   "cell_type": "code",
   "execution_count": 53,
   "metadata": {},
   "outputs": [],
   "source": [
    "hidden_states = run_model(traj, model, state_features, seq_length)\n",
    "rand_diffs = rand_dist_metric(hidden_states, true_dist_matrix)"
   ]
  },
  {
   "cell_type": "code",
   "execution_count": 51,
   "metadata": {},
   "outputs": [
    {
     "data": {
      "text/plain": [
       "[np.float64(0.21907441680391893),\n",
       " np.float64(0.23246296009850678),\n",
       " np.float64(0.2703601207064219)]"
      ]
     },
     "execution_count": 51,
     "metadata": {},
     "output_type": "execute_result"
    }
   ],
   "source": [
    "rand_diffs"
   ]
  },
  {
   "cell_type": "code",
   "execution_count": null,
   "metadata": {},
   "outputs": [],
   "source": []
  }
 ],
 "metadata": {
  "kernelspec": {
   "display_name": "jax",
   "language": "python",
   "name": "python3"
  },
  "language_info": {
   "codemirror_mode": {
    "name": "ipython",
    "version": 3
   },
   "file_extension": ".py",
   "mimetype": "text/x-python",
   "name": "python",
   "nbconvert_exporter": "python",
   "pygments_lexer": "ipython3",
   "version": "3.12.5"
  }
 },
 "nbformat": 4,
 "nbformat_minor": 2
}
