{
 "cells": [
  {
   "cell_type": "code",
   "execution_count": 1,
   "metadata": {},
   "outputs": [],
   "source": [
    "import numpy as np\n",
    "import matplotlib.pyplot as plt\n",
    "import seaborn as sns\n",
    "import pickle\n",
    "import os\n",
    "import pandas as pd\n",
    "import configs\n",
    "import torch\n",
    "from sklearn.decomposition import PCA\n",
    "from scipy.spatial.distance import pdist, squareform\n",
    "\n",
    "from src.utils import find_ckpt_file, convert_to_tensor\n",
    "import h5py\n",
    "import random\n",
    "from src.evals.eval_trees import EvalCntrees"
   ]
  },
  {
   "cell_type": "code",
   "execution_count": 2,
   "metadata": {},
   "outputs": [],
   "source": [
    "corr = 0.25"
   ]
  },
  {
   "cell_type": "markdown",
   "metadata": {},
   "source": [
    "# Load Model"
   ]
  },
  {
   "cell_type": "code",
   "execution_count": null,
   "metadata": {},
   "outputs": [
    {
     "name": "stdout",
     "output_type": "stream",
     "text": [
      "epoch=35-val_loss=0.000347.ckpt\n"
     ]
    }
   ],
   "source": [
    "model_name, path_to_pkl, eval_dset_path = configs.get_model_paths(corr, \"tree_maze\")\n",
    "#model_name, path_to_pkl, eval_dset_path = configs.get_model_paths(corr, \"tree_maze_bigger_models\", 'layer4')\n"
   ]
  },
  {
   "cell_type": "code",
   "execution_count": 4,
   "metadata": {},
   "outputs": [],
   "source": [
    "# Extract parameters using regex\n",
    "import re\n",
    "\n",
    "n_embd = int(re.search(r'embd(\\d+)', model_name).group(1))\n",
    "n_layer = int(re.search(r'layer(\\d+)', model_name).group(1))\n",
    "n_head = int(re.search(r'head(\\d+)', model_name).group(1))\n",
    "dropout = float(re.search(r'drop(\\d*\\.?\\d*)', model_name).group(1))\n",
    "\n",
    "# Extract correlation and state_dim from eval dataset path\n",
    "state_dim = int(re.search(r'state_dim(\\d+)', eval_dset_path).group(1))\n",
    "\n",
    "model_config = {\n",
    "    \"n_embd\": n_embd,\n",
    "    \"n_layer\": n_layer,\n",
    "    \"n_head\": n_head,\n",
    "    \"state_dim\": 10,\n",
    "    \"action_dim\": 4,\n",
    "    \"dropout\": dropout,\n",
    "    \"test\": True,\n",
    "    \"name\": \"transformer_end_query\",\n",
    "    \"optimizer_config\": None,\n",
    "}"
   ]
  },
  {
   "cell_type": "code",
   "execution_count": 5,
   "metadata": {},
   "outputs": [
    {
     "name": "stderr",
     "output_type": "stream",
     "text": [
      "/tmp/ipykernel_4082122/443524507.py:4: FutureWarning: You are using `torch.load` with `weights_only=False` (the current default value), which uses the default pickle module implicitly. It is possible to construct malicious pickle data which will execute arbitrary code during unpickling (See https://github.com/pytorch/pytorch/blob/main/SECURITY.md#untrusted-models for more details). In a future release, the default value for `weights_only` will be flipped to `True`. This limits the functions that could be executed during unpickling. Arbitrary objects will no longer be allowed to be loaded via this mode unless they are explicitly allowlisted by the user via `torch.serialization.add_safe_globals`. We recommend you start setting `weights_only=True` for any use case where you don't have full control of the loaded file. Please open an issue on GitHub for any issues related to this experimental feature.\n",
      "  checkpoint = torch.load(path_to_pkl)\n"
     ]
    }
   ],
   "source": [
    "from src.models.transformer_end_query import Transformer\n",
    "model_config['initialization_seed'] = 0\n",
    "model = Transformer(**model_config)\n",
    "checkpoint = torch.load(path_to_pkl)\n",
    "model.load_state_dict(checkpoint['state_dict'])\n",
    "model.eval()\n",
    "model = model.to('cuda')\n"
   ]
  },
  {
   "cell_type": "markdown",
   "metadata": {},
   "source": [
    "# Load Dataset and Create Environment"
   ]
  },
  {
   "cell_type": "code",
   "execution_count": 6,
   "metadata": {},
   "outputs": [],
   "source": [
    "n_eval_envs = -1 #50\n",
    "traj_horizon = 800\n",
    "\n",
    "is_h5_file = eval_dset_path.endswith('.h5')\n",
    "if is_h5_file:\n",
    "    eval_trajs = h5py.File(eval_dset_path, 'r')\n",
    "    traj_indices = list(eval_trajs.keys())\n",
    "    n_eval_envs = min(n_eval_envs, len(traj_indices))\n",
    "    random.seed(0)\n",
    "    traj_indices = random.sample(traj_indices, n_eval_envs)\n",
    "    random.seed()\n",
    "    if n_eval_envs != -1:\n",
    "        eval_trajs = [eval_trajs[i] for i in traj_indices]\n",
    "    else:\n",
    "        n_eval_envs = len(traj_indices)\n",
    "else:  # Pickle file\n",
    "    with open(eval_dset_path, 'rb') as f:\n",
    "        eval_trajs = pickle.load(f)\n",
    "    n_eval_envs = min(n_eval_envs, len(eval_trajs))\n",
    "    if n_eval_envs != -1:\n",
    "        random.seed(0)\n",
    "        eval_trajs = random.sample(eval_trajs, n_eval_envs)\n",
    "        random.seed()\n",
    "    else:\n",
    "        n_eval_envs = len(eval_trajs)\n"
   ]
  },
  {
   "cell_type": "markdown",
   "metadata": {},
   "source": [
    "# Run Model"
   ]
  },
  {
   "cell_type": "code",
   "execution_count": 7,
   "metadata": {},
   "outputs": [],
   "source": [
    "query_type = 'root'"
   ]
  },
  {
   "cell_type": "code",
   "execution_count": 8,
   "metadata": {},
   "outputs": [],
   "source": [
    "i_eval = 7"
   ]
  },
  {
   "cell_type": "code",
   "execution_count": 10,
   "metadata": {},
   "outputs": [],
   "source": [
    "results = {l: {\n",
    "    'states': [],\n",
    "    'next_states': [],\n",
    "    'delta_xc_losses': []\n",
    "} for l in range(model.n_layer)}\n",
    "\n",
    "env_acc = []\n",
    "baseline_env_acc = []\n",
    "traj = eval_trajs[i_eval]\n",
    "if traj['context_rewards'][:traj_horizon].sum().item() == 0:\n",
    "    raise ValueError('No rewards in context')\n",
    "env_config = {\n",
    "    'max_layers': 7,\n",
    "    'horizon': 1600,\n",
    "    'branching_prob': 1.0,\n",
    "    'node_encoding_corr': corr,\n",
    "    'state_dim': 10,\n",
    "    'initialization_seed': np.array(traj['initialization_seed']).item()\n",
    "}\n",
    "env = EvalCntrees().create_env(env_config, np.array(traj['goal']), i_eval)\n",
    "optimal_action_map, dist_from_goal = env.make_opt_action_dict()\n",
    "\n",
    "# Choose query state\n",
    "if query_type == 'root':\n",
    "    valid_query_states = [np.array(env.root.encoding())]\n",
    "elif query_type in ['far', 'middle']:\n",
    "    valid_query_states = []\n",
    "    for i in range(len(traj['context_states'])):\n",
    "        if traj['context_states'][i].tolist() == list(env.root.encoding()):\n",
    "            continue\n",
    "        d = dist_from_goal[tuple(traj['context_states'][i].tolist())]\n",
    "        if query_type == 'far' and d < 12:\n",
    "            continue\n",
    "        elif query_type == 'middle' and d != 6:\n",
    "           continue\n",
    "        valid_query_states.append(traj['context_states'][i])\n",
    "if len(valid_query_states) == 0:\n",
    "    raise ValueError('No valid query states found')\n",
    "else:\n",
    "    query_state = valid_query_states[np.random.choice(len(valid_query_states))]\n",
    "\n",
    "# Prepare batch and optimal action information\n",
    "batch = {\n",
    "    'context_states': np.array(traj['context_states'][:traj_horizon]),\n",
    "    'context_actions': np.array(traj['context_actions'][:traj_horizon]),\n",
    "    'context_next_states': np.array(traj['context_next_states'][:traj_horizon]),\n",
    "    'context_rewards': np.array(traj['context_rewards'][:traj_horizon])[:, None],\n",
    "    'query_states': np.array(query_state),\n",
    "    }\n",
    "batch['zeros'] = torch.zeros(10 ** 2 + 4 + 1).float()\n",
    "for k in batch.keys():\n",
    "    batch[k] = convert_to_tensor([batch[k]]).to(model.device)\n",
    "optimal_action = optimal_action_map[tuple(query_state.tolist())]\n",
    "optimal_action_tensor = torch.zeros(4).to(model.device)\n",
    "optimal_action_tensor[optimal_action] = 1\n",
    "\n",
    "# Get baseline loss\n",
    "with torch.no_grad():\n",
    "    out = model(batch).squeeze()\n",
    "first_reward_idx = np.argwhere(traj['context_rewards'][:traj_horizon] == 1)[0,0]\n",
    "baseline_xc_loss = torch.nn.functional.cross_entropy(out, optimal_action_tensor).item()\n",
    "\n",
    "processed_transitions = set()\n",
    "for i in range(traj_horizon):\n",
    "    s = traj['context_states'][i]\n",
    "    s_next = traj['context_next_states'][i]\n",
    "    transition = frozenset([tuple(s), tuple(s_next)])\n",
    "    if transition in processed_transitions:\n",
    "        continue\n",
    "    processed_transitions.add(transition)\n",
    "    state = env.node_map[tuple(s.tolist())]\n",
    "    next_state = env.node_map[tuple(s_next.tolist())]\n",
    "    \n",
    "    # Find all indices where either s or s_next appears\n",
    "    s_indices = []\n",
    "    for j in range(traj_horizon):\n",
    "        if np.array_equal(s, traj['context_states'][j]) and np.array_equal(s_next, traj['context_next_states'][j]):\n",
    "            s_indices.append(j)\n",
    "        if np.array_equal(s_next, traj['context_states'][j]) or np.array_equal(s_next, traj['context_next_states'][j]):\n",
    "            s_indices.append(j)\n",
    "    \n",
    "    s_indices = torch.tensor(list(set(s_indices)))  # Remove duplicates\n",
    "    s_indices_mask = torch.zeros(traj_horizon+1).bool()\n",
    "    s_indices_mask[s_indices[0]] = True\n",
    "    state_mask = torch.ones((traj_horizon+1, traj_horizon+1))  # Create a mask for the state\n",
    "    state_mask[:-1, s_indices_mask] = 0\n",
    "    state_mask = torch.tril(state_mask)\n",
    "    state_mask = state_mask.bool().to(model.device)\n",
    "\n",
    "    for b in model.transformer.h:\n",
    "        b._additional_attention_mask = None\n",
    "\n",
    "    for l in range(model.n_layer):  # Apply the mask to each layer\n",
    "        model.transformer.h[l]._additional_attention_mask = state_mask\n",
    "        with torch.no_grad():\n",
    "            out = model(batch).squeeze()\n",
    "        intervened_xc_loss = torch.nn.functional.cross_entropy(out, optimal_action_tensor).item()\n",
    "        results[l]['delta_xc_losses'].append(baseline_xc_loss - intervened_xc_loss)\n",
    "        results[l]['states'].append([state.layer, state.pos])\n",
    "        results[l]['next_states'].append([next_state.layer, next_state.pos])\n",
    "        model.transformer.h[l]._additional_attention_mask = None"
   ]
  },
  {
   "cell_type": "markdown",
   "metadata": {},
   "source": [
    "# Plot"
   ]
  },
  {
   "cell_type": "code",
   "execution_count": 11,
   "metadata": {},
   "outputs": [],
   "source": [
    "from copy import copy\n",
    "import networkx as nx\n",
    "\n",
    "def plot_trajectory(\n",
    "        states, next_states, query_state, attentions, env):\n",
    "    \n",
    "    G = env.to_networkx()\n",
    "    pos = nx.kamada_kawai_layout(G)\n",
    "\n",
    "    fig, ax = plt.subplots(figsize=(4,4))  # Create a new figure\n",
    "    nx.draw(G, pos,\n",
    "           node_color='lightblue',\n",
    "           edge_color='white',\n",
    "           node_size=100,\n",
    "           font_size=8,\n",
    "           font_weight='bold',\n",
    "           width=1,\n",
    "           alpha=1.)\n",
    "\n",
    "\n",
    "    goal_node = env.node_map[tuple(env.goal.tolist())]\n",
    "    goal_state = (goal_node.layer, goal_node.pos)\n",
    "    query_node = env.node_map[tuple(query_state.tolist())]\n",
    "    query_state = (query_node.layer, query_node.pos)\n",
    "    # Then draw specific nodes in green\n",
    "    nx.draw_networkx_nodes(G, pos,\n",
    "                      nodelist=[query_state],\n",
    "                      node_color='green',\n",
    "                      node_size=100)\n",
    "    nx.draw_networkx_nodes(G, pos,\n",
    "                      nodelist=[goal_state],\n",
    "                      node_color='green',\n",
    "                      node_size=100,\n",
    "                      node_shape='*')\n",
    "    \n",
    "    for state, next_state, attention in zip(states, next_states, attentions):\n",
    "        edge_color = 'red' if attention > 0 else 'blue'\n",
    "        nx.draw_networkx_edges(G, pos,\n",
    "            edgelist=[(tuple(state), tuple(next_state))],\n",
    "            edge_color=edge_color,\n",
    "            alpha=abs(attention),\n",
    "            width=2)\n",
    "\n",
    "    ax.spines['top'].set_visible(False)\n",
    "    ax.spines['right'].set_visible(False)\n",
    "    ax.spines['bottom'].set_visible(False)\n",
    "    ax.spines['left'].set_visible(False)\n",
    "    plt.xticks([])\n",
    "    plt.yticks([])\n",
    "    plt.tight_layout()\n",
    "    plt.show()"
   ]
  },
  {
   "cell_type": "code",
   "execution_count": 11,
   "metadata": {},
   "outputs": [
    {
     "name": "stdout",
     "output_type": "stream",
     "text": [
      "0.9674044568091631\n"
     ]
    },
    {
     "data": {
      "image/png": "[encoded data removed]",
      "text/plain": [
       "<Figure size 400x400 with 1 Axes>"
      ]
     },
     "metadata": {},
     "output_type": "display_data"
    },
    {
     "name": "stdout",
     "output_type": "stream",
     "text": [
      "1.7971584517508745\n"
     ]
    },
    {
     "data": {
      "image/png": "[encoded data removed]",
      "text/plain": [
       "<Figure size 400x400 with 1 Axes>"
      ]
     },
     "metadata": {},
     "output_type": "display_data"
    },
    {
     "name": "stdout",
     "output_type": "stream",
     "text": [
      "0.0\n"
     ]
    },
    {
     "data": {
      "image/png": "[encoded data removed]",
      "text/plain": [
       "<Figure size 400x400 with 1 Axes>"
      ]
     },
     "metadata": {},
     "output_type": "display_data"
    }
   ],
   "source": [
    "for layer in range(model.n_layer):\n",
    "    states = results[layer]['states']\n",
    "    next_states = results[layer]['next_states']\n",
    "    delta_xc_losses = results[layer]['delta_xc_losses']\n",
    "    max_val = np.max(np.abs(delta_xc_losses))\n",
    "    print(max_val)\n",
    "    _delta_xc_losses = np.array(delta_xc_losses)\n",
    "    if max_val > 0:\n",
    "        _delta_xc_losses = _delta_xc_losses/max_val\n",
    "    plot_trajectory(states, next_states, query_state, _delta_xc_losses, env)"
   ]
  },
  {
   "cell_type": "code",
   "execution_count": null,
   "metadata": {},
   "outputs": [],
   "source": []
  }
 ],
 "metadata": {
  "kernelspec": {
   "display_name": "jax",
   "language": "python",
   "name": "python3"
  },
  "language_info": {
   "codemirror_mode": {
    "name": "ipython",
    "version": 3
   },
   "file_extension": ".py",
   "mimetype": "text/x-python",
   "name": "python",
   "nbconvert_exporter": "python",
   "pygments_lexer": "ipython3",
   "version": "3.12.5"
  }
 },
 "nbformat": 4,
 "nbformat_minor": 2
}
