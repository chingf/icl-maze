{
 "cells": [
  {
   "cell_type": "code",
   "execution_count": 37,
   "metadata": {},
   "outputs": [],
   "source": [
    "import numpy as np\n",
    "import matplotlib.pyplot as plt\n",
    "import seaborn as sns\n",
    "import pickle\n",
    "import os\n",
    "import pandas as pd\n",
    "import configs\n",
    "import torch\n",
    "from sklearn.decomposition import PCA\n",
    "from scipy.spatial.distance import pdist, squareform\n",
    "\n",
    "from src.utils import find_ckpt_file, convert_to_tensor\n",
    "import h5py\n",
    "import random\n",
    "from src.evals.eval_trees import EvalTrees\n",
    "from src.evals.eval_trees import EvalCntrees\n"
   ]
  },
  {
   "cell_type": "markdown",
   "metadata": {},
   "source": [
    "# Args"
   ]
  },
  {
   "cell_type": "code",
   "execution_count": 22,
   "metadata": {},
   "outputs": [
    {
     "name": "stdout",
     "output_type": "stream",
     "text": [
      "epoch=32-val_loss=0.000378.ckpt\n"
     ]
    }
   ],
   "source": [
    "corr = 0.0\n",
    "model_name, path_to_pkl, eval_dset_path = configs.get_model_paths(corr, \"tree_maze\")\n",
    "fignum = '10'\n",
    "recalc = False"
   ]
  },
  {
   "cell_type": "code",
   "execution_count": 38,
   "metadata": {},
   "outputs": [
    {
     "name": "stdout",
     "output_type": "stream",
     "text": [
      "epoch=33-val_loss=0.000662.ckpt\n"
     ]
    }
   ],
   "source": [
    "corr = 0.25\n",
    "model_name, path_to_pkl, eval_dset_path = configs.get_model_paths(corr, \"tree_maze_bigger_models\", \"layer6\")\n",
    "fignum = '11'\n",
    "recalc_results = False"
   ]
  },
  {
   "cell_type": "code",
   "execution_count": 39,
   "metadata": {},
   "outputs": [],
   "source": [
    "# Extract parameters using regex\n",
    "import re\n",
    "\n",
    "n_embd = int(re.search(r'embd(\\d+)', model_name).group(1))\n",
    "n_layer = int(re.search(r'layer(\\d+)', model_name).group(1))\n",
    "n_head = int(re.search(r'head(\\d+)', model_name).group(1))\n",
    "dropout = float(re.search(r'drop(\\d*\\.?\\d*)', model_name).group(1))\n",
    "\n",
    "# Extract correlation and state_dim from eval dataset path\n",
    "state_dim = int(re.search(r'state_dim(\\d+)', eval_dset_path).group(1))\n",
    "\n",
    "model_config = {\n",
    "    \"n_embd\": n_embd,\n",
    "    \"n_layer\": n_layer,\n",
    "    \"n_head\": n_head,\n",
    "    \"state_dim\": 10,\n",
    "    \"action_dim\": 4,\n",
    "    \"dropout\": dropout,\n",
    "    \"test\": True,\n",
    "    \"name\": \"transformer_end_query\",\n",
    "    \"optimizer_config\": None,\n",
    "}"
   ]
  },
  {
   "cell_type": "code",
   "execution_count": 40,
   "metadata": {},
   "outputs": [
    {
     "name": "stderr",
     "output_type": "stream",
     "text": [
      "/tmp/ipykernel_2431268/4170590101.py:4: FutureWarning: You are using `torch.load` with `weights_only=False` (the current default value), which uses the default pickle module implicitly. It is possible to construct malicious pickle data which will execute arbitrary code during unpickling (See https://github.com/pytorch/pytorch/blob/main/SECURITY.md#untrusted-models for more details). In a future release, the default value for `weights_only` will be flipped to `True`. This limits the functions that could be executed during unpickling. Arbitrary objects will no longer be allowed to be loaded via this mode unless they are explicitly allowlisted by the user via `torch.serialization.add_safe_globals`. We recommend you start setting `weights_only=True` for any use case where you don't have full control of the loaded file. Please open an issue on GitHub for any issues related to this experimental feature.\n",
      "  checkpoint = torch.load(path_to_pkl)\n"
     ]
    }
   ],
   "source": [
    "from src.models.transformer_end_query import Transformer\n",
    "model_config['initialization_seed'] = 0\n",
    "model = Transformer(**model_config)\n",
    "checkpoint = torch.load(path_to_pkl)\n",
    "model.load_state_dict(checkpoint['state_dict'])\n",
    "model.eval()\n",
    "model = model.to('cuda')"
   ]
  },
  {
   "cell_type": "markdown",
   "metadata": {},
   "source": [
    "# Load Dataset and Create Environment"
   ]
  },
  {
   "cell_type": "code",
   "execution_count": 41,
   "metadata": {},
   "outputs": [],
   "source": [
    "n_eval_envs = 50\n",
    "\n",
    "is_h5_file = eval_dset_path.endswith('.h5')\n",
    "if is_h5_file:\n",
    "    eval_trajs = h5py.File(eval_dset_path, 'r')\n",
    "    traj_indices = list(eval_trajs.keys())\n",
    "    n_eval_envs = min(n_eval_envs, len(traj_indices))\n",
    "    random.seed(0)\n",
    "    traj_indices = random.sample(traj_indices, n_eval_envs)\n",
    "    random.seed()\n",
    "    eval_trajs = [eval_trajs[i] for i in traj_indices]\n",
    "else:  # Pickle file\n",
    "    with open(eval_dset_path, 'rb') as f:\n",
    "        eval_trajs = pickle.load(f)\n",
    "    n_eval_envs = min(n_eval_envs, len(eval_trajs))\n",
    "    random.seed(0)\n",
    "    eval_trajs = random.sample(eval_trajs, n_eval_envs)\n",
    "    random.seed()\n"
   ]
  },
  {
   "cell_type": "markdown",
   "metadata": {},
   "source": [
    "# Helper Functions"
   ]
  },
  {
   "cell_type": "code",
   "execution_count": 42,
   "metadata": {},
   "outputs": [],
   "source": [
    "def format_transformer_input_from_batch(batch, model):\n",
    "    query_states = batch['query_states'][:, None, :]\n",
    "    zeros = batch['zeros'][:, None, :]\n",
    "    state_seq = torch.cat([batch['context_states'], query_states], dim=1)\n",
    "    action_seq = torch.cat(\n",
    "        [batch['context_actions'], zeros[:, :, :model.action_dim]], dim=1)\n",
    "    next_state_seq = torch.cat(\n",
    "        [batch['context_next_states'], zeros[:, :, :model.state_dim]], dim=1)\n",
    "    reward_seq = torch.cat([batch['context_rewards'], zeros[:, :, :1]], dim=1)\n",
    "    seq = torch.cat(\n",
    "        [state_seq, action_seq, next_state_seq, reward_seq], dim=2)\n",
    "    seq_len = seq.shape[1]\n",
    "    stacked_inputs = model.embed_transition(seq)\n",
    "    return stacked_inputs"
   ]
  },
  {
   "cell_type": "code",
   "execution_count": 43,
   "metadata": {},
   "outputs": [],
   "source": [
    "def format_batches(traj, context_length=1000):\n",
    "    batch = {\n",
    "        'context_states': convert_to_tensor([np.array(traj['context_states'][:context_length])]),\n",
    "        'context_actions': convert_to_tensor([np.array(traj['context_actions'][:context_length])]),\n",
    "        'context_next_states': convert_to_tensor([np.array(traj['context_next_states'][:context_length])]),\n",
    "        'context_rewards': convert_to_tensor([np.array(traj['context_rewards'][:context_length])[:, None]]),\n",
    "        'query_states': convert_to_tensor([np.array(traj['query_state'])]),\n",
    "        } \n",
    "    batch['zeros'] = torch.zeros(1, 10 ** 2 + 4 + 1).float()\n",
    "    for k in batch.keys():\n",
    "        if 'context' in k:\n",
    "            batch[k] = batch[k]\n",
    "        batch[k] = batch[k].to(model.device)\n",
    "    baseline_batch = {}\n",
    "    for k, v in batch.items():\n",
    "        baseline_batch[k] = v.clone() if isinstance(v, torch.Tensor) else v\n",
    "    baseline_batch['context_actions'] *= 0\n",
    "    baseline_batch['context_actions'] += 0.25\n",
    "    return baseline_batch, batch"
   ]
  },
  {
   "cell_type": "code",
   "execution_count": 44,
   "metadata": {},
   "outputs": [],
   "source": [
    "def aggregate_token_attributions(attributions, aggregation_method='l2'):\n",
    "    \"\"\"\n",
    "    Aggregate attributions across embedding dimensions to get token-level scores.\n",
    "    \n",
    "    Args:\n",
    "        attributions: Attribution tensor of shape [seq_len, emb_dim]\n",
    "        aggregation_method: Method to aggregate across embedding dimensions ('sum', 'l2', 'mean')\n",
    "        \n",
    "    Returns:\n",
    "        Tensor of token-level attributions of shape [seq_len]\n",
    "    \"\"\"\n",
    "    if aggregation_method == 'sum':\n",
    "        return torch.sum(attributions, dim=-1)\n",
    "    elif aggregation_method == 'l2':\n",
    "        return torch.sqrt(torch.sum(attributions ** 2, dim=-1))\n",
    "    elif aggregation_method == 'mean':\n",
    "        return torch.mean(attributions, dim=-1)\n",
    "    elif aggregation_method == 'sum-abs':\n",
    "        return torch.sum(torch.abs(attributions), dim=-1)\n",
    "    else:\n",
    "        raise ValueError(f\"Unknown aggregation method: {aggregation_method}\")"
   ]
  },
  {
   "cell_type": "markdown",
   "metadata": {},
   "source": [
    "# Run Gradient Attribution"
   ]
  },
  {
   "cell_type": "code",
   "execution_count": 45,
   "metadata": {},
   "outputs": [],
   "source": [
    "def get_output_attributions(traj, model):\n",
    "    baseline_batch, batch = format_batches(traj)\n",
    "    layer_attributions = {}\n",
    "    inputs = format_transformer_input_from_batch(batch, model)\n",
    "    baseline_inputs = format_transformer_input_from_batch(baseline_batch, model)\n",
    "\n",
    "    # Output w.r.t Input\n",
    "    alphas = torch.linspace(0, 1, steps=20)\n",
    "    all_grads = []\n",
    "    for alpha in alphas:\n",
    "        interp_input = alpha*inputs + (1-alpha)*baseline_inputs\n",
    "        interp_input.requires_grad_(True)\n",
    "\n",
    "        # Forward pass to get layer output\n",
    "        transformer_output = model.transformer(inputs_embeds=interp_input)\n",
    "        preds = model.pred_actions(transformer_output['last_hidden_state'])\n",
    "        preds = preds[:, -1, :]\n",
    "        target = preds[:, traj['optimal_action'].argmax()]\n",
    "\n",
    "        grad_wrt_input = torch.autograd.grad(\n",
    "            outputs=target,\n",
    "            inputs=interp_input,\n",
    "            grad_outputs=target,\n",
    "            retain_graph=True\n",
    "        )[0]\n",
    "        all_grads.append(grad_wrt_input)\n",
    "    avg_grad = torch.stack(all_grads).mean(dim=0)\n",
    "    avg_grad = avg_grad.detach().cpu().numpy().squeeze()\n",
    "    delta_input = (inputs - baseline_inputs).detach().cpu().numpy().squeeze()\n",
    "    input_to_output_attribution = np.sum(avg_grad * delta_input, axis=1)\n",
    "    return input_to_output_attribution"
   ]
  },
  {
   "cell_type": "code",
   "execution_count": 46,
   "metadata": {},
   "outputs": [],
   "source": [
    "def get_states_on_path(query_state, env, optimal_action_map):\n",
    "    opt_act = -1\n",
    "    curr_state = query_state\n",
    "    states_on_path = []\n",
    "    while opt_act != 3:\n",
    "        states_on_path.append(curr_state)\n",
    "        opt_act = optimal_action_map[tuple(curr_state)]\n",
    "        act_vector = np.zeros(4)\n",
    "        act_vector[opt_act] = 1\n",
    "        curr_state = env.transit(curr_state, act_vector)[0]\n",
    "    return states_on_path\n"
   ]
  },
  {
   "cell_type": "code",
   "execution_count": 47,
   "metadata": {},
   "outputs": [],
   "source": [
    "def get_subtree_location(layer, pos, subtree):\n",
    "    midpt = 2**(layer-1)\n",
    "    quarter_pt = midpt//2\n",
    "    eighth_pt = quarter_pt//2\n",
    "    if layer == 0:\n",
    "        return 0\n",
    "    if subtree == 'half':\n",
    "        return 1 if pos < midpt else 2\n",
    "    elif subtree == 'quarter':\n",
    "        if layer == 1:\n",
    "            return 0\n",
    "        bins = np.arange(0, 2**layer, quarter_pt)\n",
    "        return np.digitize([pos], bins)[0]\n",
    "    elif subtree == 'eighth':\n",
    "        if (layer == 1) or (layer == 2):\n",
    "            return 0\n",
    "        bins = np.arange(0, 2**layer, eighth_pt)\n",
    "        return np.digitize([pos], bins)[0]"
   ]
  },
  {
   "cell_type": "code",
   "execution_count": 48,
   "metadata": {},
   "outputs": [],
   "source": [
    "def get_layer1_parent(node):\n",
    "    if node.layer == 1:\n",
    "        return node.encoding()\n",
    "    else:\n",
    "        return get_layer1_parent(node.parent)"
   ]
  },
  {
   "cell_type": "code",
   "execution_count": 49,
   "metadata": {},
   "outputs": [],
   "source": [
    "results = {\n",
    "    'grad_val': [],\n",
    "    'node_dist_from_goal': [],\n",
    "    'query_dist_from_goal': [],\n",
    "    'query_is_same_quarter_as_goal': [],\n",
    "}\n",
    "results_B = {\n",
    "    'grad_val': [],\n",
    "    'node_is_same_quarter_as_goal': [],\n",
    "    'node_dist_from_goal': [],\n",
    "    'node_dist_from_query': [],\n",
    "    'query_is_same_quarter_as_goal': [],\n",
    "    'query_dist_from_goal': [],\n",
    "}\n",
    "n_iters = 2\n",
    "\n",
    "for i_eval in range(n_eval_envs):\n",
    "    traj = eval_trajs[i_eval]\n",
    "    first_reward_idx = np.where(traj['context_rewards'] != 0)[0]\n",
    "    if (first_reward_idx.size == 0) or (first_reward_idx[0] > 800):\n",
    "        continue\n",
    "    env_config = {\n",
    "        'max_layers': 7,\n",
    "        'horizon': 1600,\n",
    "        'branching_prob': 1.0,\n",
    "        'node_encoding_corr': corr,\n",
    "        'state_dim': state_dim,\n",
    "        'initialization_seed': np.array(traj['initialization_seed']).item()\n",
    "    }\n",
    "    env = EvalCntrees().create_env(env_config, np.array(traj['goal']), i_eval)\n",
    "    optimal_action_map, dist_from_goal = env.make_opt_action_dict()\n",
    "    for query_dist_from_goal in range(1, 13):\n",
    "        for _ in range(n_iters):\n",
    "            valid_query_states = []\n",
    "            for i in range(len(traj['context_states'])):\n",
    "                if traj['context_states'][i].tolist() == list(env.root.encoding()):\n",
    "                    continue\n",
    "                d = dist_from_goal[tuple(traj['context_states'][i].tolist())]\n",
    "                if d != query_dist_from_goal:\n",
    "                    continue\n",
    "                valid_query_states.append(traj['context_states'][i])\n",
    "            if len(valid_query_states) == 0:\n",
    "                continue\n",
    "            traj['query_state'] = valid_query_states[np.random.choice(len(valid_query_states))]\n",
    "            query_state = traj['query_state'].tolist()\n",
    "            goal_state = traj['goal'].tolist()\n",
    "            query_layer = env.node_map[tuple(query_state)].layer\n",
    "            query_pos = env.node_map[tuple(query_state)].pos\n",
    "            goal_layer = env.node_map[tuple(goal_state)].layer\n",
    "            goal_pos = env.node_map[tuple(goal_state)].pos\n",
    "            _, dist_from_query = env._make_opt_action_dict(tuple(query_state))\n",
    "            root_state = list(env.root.encoding())\n",
    "            layer1_parent_state = list(get_layer1_parent(env.node_map[tuple(query_state)]))\n",
    "            same_quarter_as_goal = get_subtree_location(query_layer, query_pos, 'quarter') == get_subtree_location(goal_layer, goal_pos, 'quarter')\n",
    "            states_on_path = get_states_on_path(query_state, env, optimal_action_map)\n",
    "            attentions = get_output_attributions(traj, model)\n",
    "            max_scale = np.abs(attentions).max()\n",
    "            attentions = np.abs(attentions)/max_scale\n",
    "    \n",
    "            for idx, attn in enumerate(attentions):\n",
    "                curr_state = traj['context_states'][idx].tolist()\n",
    "                next_state = traj['context_next_states'][idx].tolist()\n",
    "                if curr_state == next_state:\n",
    "                    continue\n",
    "                curr_state_layer = env.node_map[tuple(curr_state)].layer\n",
    "                curr_state_pos = env.node_map[tuple(curr_state)].pos\n",
    "                next_state_layer = env.node_map[tuple(next_state)].layer\n",
    "                next_state_pos = env.node_map[tuple(next_state)].pos\n",
    "                curr_state_is_same_quarter_as_goal = \\\n",
    "                    get_subtree_location(curr_state_layer, curr_state_pos, 'quarter') == get_subtree_location(goal_layer, goal_pos, 'quarter') or \\\n",
    "                    curr_state == root_state or \\\n",
    "                    curr_state == layer1_parent_state\n",
    "                next_state_is_same_quarter_as_goal = \\\n",
    "                    get_subtree_location(next_state_layer, next_state_pos, 'quarter') == get_subtree_location(goal_layer, goal_pos, 'quarter') or \\\n",
    "                    next_state == root_state or \\\n",
    "                    next_state == layer1_parent_state\n",
    "                results_B['grad_val'].append(attn)\n",
    "                results_B['node_is_same_quarter_as_goal'].append(curr_state_is_same_quarter_as_goal or next_state_is_same_quarter_as_goal)\n",
    "                results_B['node_dist_from_goal'].append(np.min([dist_from_goal[tuple(curr_state)], dist_from_goal[tuple(next_state)]]))\n",
    "                results_B['node_dist_from_query'].append(np.min([dist_from_query[tuple(curr_state)], dist_from_query[tuple(next_state)]]))\n",
    "                results_B['query_is_same_quarter_as_goal'].append(same_quarter_as_goal)\n",
    "                results_B['query_dist_from_goal'].append(query_dist_from_goal)\n",
    "                if curr_state in states_on_path and next_state in states_on_path:\n",
    "                    results['node_dist_from_goal'].append(np.min([dist_from_goal[tuple(curr_state)], dist_from_goal[tuple(next_state)]]))\n",
    "                    results['query_dist_from_goal'].append(query_dist_from_goal)\n",
    "                    results['grad_val'].append(attn)\n",
    "                    results['query_is_same_quarter_as_goal'].append(same_quarter_as_goal)"
   ]
  },
  {
   "cell_type": "markdown",
   "metadata": {},
   "source": [
    "# Visualize"
   ]
  },
  {
   "cell_type": "code",
   "execution_count": 51,
   "metadata": {},
   "outputs": [
    {
     "data": {
      "image/png": "[encoded data removed]",
      "text/plain": [
       "<Figure size 150x150 with 1 Axes>"
      ]
     },
     "metadata": {},
     "output_type": "display_data"
    },
    {
     "data": {
      "image/png": "[encoded data removed]",
      "text/plain": [
       "<Figure size 150x150 with 1 Axes>"
      ]
     },
     "metadata": {},
     "output_type": "display_data"
    }
   ],
   "source": [
    "df = pd.DataFrame(results_B)\n",
    "df['grad_val'] = np.abs(df['grad_val'])\n",
    "plt.figure(figsize=(1.5, 1.5))\n",
    "n_colors = len(df['query_dist_from_goal'].unique())\n",
    "custom_blues = sns.color_palette(\"Blues\", n_colors=n_colors*2+1)[2::2] # Skip the lightest colors\n",
    "\n",
    "sns.lineplot(\n",
    "    data=df, x='node_dist_from_query', y='grad_val',\n",
    "    legend=False, linewidth=2,\n",
    ")\n",
    "plt.xlabel('Dist. from Query', fontsize=8)\n",
    "plt.ylabel('Attrib.', fontsize=8)\n",
    "plt.xticks(fontsize=6)\n",
    "plt.yticks(fontsize=6)\n",
    "plt.tight_layout()\n",
    "plt.savefig(f'figs_app/C_{fignum}D.png', transparent=True, dpi=300)\n",
    "plt.savefig(f'figs_app/C_{fignum}D.pdf', transparent=True, dpi=300)\n",
    "plt.show()\n",
    "\n",
    "df = pd.DataFrame(results_B)\n",
    "plt.figure(figsize=(1.5, 1.5))\n",
    "n_colors = len(df['query_dist_from_goal'].unique())\n",
    "custom_blues = sns.color_palette(\"Blues\", n_colors=n_colors*2+1)[2::2] # Skip the lightest colors\n",
    "\n",
    "sns.lineplot(\n",
    "    data=df, x='node_dist_from_goal', y='grad_val',\n",
    "    legend=False, linewidth=2,\n",
    ")\n",
    "plt.xlabel('Dist. from Goal', fontsize=8)\n",
    "plt.ylabel('Attrib.', fontsize=8)\n",
    "plt.xticks(fontsize=6)\n",
    "plt.yticks(fontsize=6)\n",
    "plt.tight_layout()\n",
    "plt.savefig(f'figs_app/C_{fignum}E.png', transparent=True, dpi=300)\n",
    "plt.savefig(f'figs_app/C_{fignum}E.pdf', transparent=True, dpi=300)\n",
    "plt.show()"
   ]
  },
  {
   "cell_type": "code",
   "execution_count": null,
   "metadata": {},
   "outputs": [],
   "source": []
  }
 ],
 "metadata": {
  "kernelspec": {
   "display_name": "jax",
   "language": "python",
   "name": "python3"
  },
  "language_info": {
   "codemirror_mode": {
    "name": "ipython",
    "version": 3
   },
   "file_extension": ".py",
   "mimetype": "text/x-python",
   "name": "python",
   "nbconvert_exporter": "python",
   "pygments_lexer": "ipython3",
   "version": "3.12.5"
  }
 },
 "nbformat": 4,
 "nbformat_minor": 2
}
