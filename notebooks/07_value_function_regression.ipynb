{
 "cells": [
  {
   "cell_type": "code",
   "execution_count": 1,
   "metadata": {},
   "outputs": [],
   "source": [
    "import numpy as np\n",
    "import matplotlib.pyplot as plt\n",
    "import seaborn as sns\n",
    "import pickle\n",
    "import os\n",
    "import pandas as pd\n",
    "import configs\n",
    "import torch\n",
    "from sklearn.decomposition import PCA\n",
    "from scipy.spatial.distance import pdist, squareform\n",
    "\n",
    "from src.utils import find_ckpt_file, convert_to_tensor\n",
    "import h5py\n",
    "import random\n",
    "from src.evals.eval_trees import EvalTrees\n",
    "from src.evals.eval_trees import EvalCntrees"
   ]
  },
  {
   "cell_type": "markdown",
   "metadata": {},
   "source": [
    "# Load Model"
   ]
  },
  {
   "cell_type": "code",
   "execution_count": 2,
   "metadata": {},
   "outputs": [
    {
     "name": "stdout",
     "output_type": "stream",
     "text": [
      "epoch=30-val_loss=0.000777.ckpt\n"
     ]
    }
   ],
   "source": [
    "engram_dir = \"/n/holylfs06/LABS/krajan_lab/Lab/cfang/icl-maze/\"\n",
    "wandb_project = \"cntree\"\n",
    "corr = 0.0\n",
    "env_name = f\"cntree_layers7_bprob0.9_corr{corr}_state_dim10_envs300000_H800_explore\"\n",
    "#model_name = \"transformer_end_query_embd512_layer4_head4_lr1e-05_drop0_batch256\"\n",
    "#model_name = \"transformer_end_query_embd800_layer3_head4_lr0.0001_drop0_batch256\"\n",
    "#model_name = \"transformer_end_query_embd512_layer4_head4_lr1e-05_drop0_batch256\"\n",
    "model_name = \"transformer_end_query_embd512_layer3_head4_lr0.0001_drop0_batch256\"\n",
    "#model_name = \"transformer_end_query_embd512_layer3_head4_lr0.0001_drop0.2_batch256\"\n",
    "model_path = os.path.join(engram_dir, wandb_project, env_name, \"models\", model_name)\n",
    "ckpt_name = find_ckpt_file(model_path, \"best\")\n",
    "print(ckpt_name)\n",
    "path_to_pkl = os.path.join(model_path, ckpt_name)\n",
    "\n",
    "eval_dset_path = f\"/n/holylfs06/LABS/krajan_lab/Lab/cfang/icl-maze/cntree/cntree_layers7_bprob1.0_corr{corr}_state_dim10_envs1000_H1600_explore/datasets/eval.pkl\""
   ]
  },
  {
   "cell_type": "code",
   "execution_count": 2,
   "metadata": {},
   "outputs": [
    {
     "name": "stdout",
     "output_type": "stream",
     "text": [
      "epoch=36-val_loss=0.000377.ckpt\n"
     ]
    }
   ],
   "source": [
    "engram_dir = \"/n/holylfs06/LABS/krajan_lab/Lab/cfang/icl-maze/\"\n",
    "wandb_project = \"tree_maze\" #\"cntree\"\n",
    "corr = 0.0\n",
    "env_name = f\"cntree_layers7_bprob0.9_corr{corr}_state_dim10_envs300000_H800_explore\"\n",
    "#model_name = \"transformer_end_query_embd512_layer4_head4_lr1e-05_drop0_batch256\"\n",
    "#model_name = \"transformer_end_query_embd800_layer3_head4_lr0.0001_drop0_batch256\"\n",
    "#model_name = \"transformer_end_query_embd512_layer4_head4_lr1e-05_drop0_batch256\"\n",
    "model_name = \"transformer_end_query_embd512_layer3_head4_lr0.0001_drop0_batch256\"\n",
    "#model_name = \"transformer_end_query_embd512_layer3_head4_lr0.0001_drop0.2_batch256\"\n",
    "model_name = \"transformer_end_query_embd512_layer3_head4_lr1e-05_drop0_initseed1_batch512_nosched\"\n",
    "model_path = os.path.join(engram_dir, wandb_project, env_name, \"models\", model_name)\n",
    "ckpt_name = find_ckpt_file(model_path, \"best\")\n",
    "print(ckpt_name)\n",
    "path_to_pkl = os.path.join(model_path, ckpt_name)\n",
    "\n",
    "eval_dset_path = f\"/n/holylfs06/LABS/krajan_lab/Lab/cfang/icl-maze/cntree/cntree_layers7_bprob1.0_corr{corr}_state_dim10_envs1000_H1600_explore/datasets/eval.pkl\""
   ]
  },
  {
   "cell_type": "code",
   "execution_count": 3,
   "metadata": {},
   "outputs": [],
   "source": [
    "# Extract parameters using regex\n",
    "import re\n",
    "\n",
    "n_embd = int(re.search(r'embd(\\d+)', model_name).group(1))\n",
    "n_layer = int(re.search(r'layer(\\d+)', model_name).group(1))\n",
    "n_head = int(re.search(r'head(\\d+)', model_name).group(1))\n",
    "dropout = float(re.search(r'drop(\\d*\\.?\\d*)', model_name).group(1))\n",
    "\n",
    "# Extract correlation and state_dim from eval dataset path\n",
    "state_dim = int(re.search(r'state_dim(\\d+)', eval_dset_path).group(1))\n",
    "\n",
    "model_config = {\n",
    "    \"n_embd\": n_embd,\n",
    "    \"n_layer\": n_layer,\n",
    "    \"n_head\": n_head,\n",
    "    \"state_dim\": 10,\n",
    "    \"action_dim\": 4,\n",
    "    \"dropout\": dropout,\n",
    "    \"train_on_last_pred_only\": False,\n",
    "    \"test\": True,\n",
    "    \"name\": \"transformer_end_query\",\n",
    "    \"optimizer_config\": None,\n",
    "    \"linear_attention\": False,\n",
    "}"
   ]
  },
  {
   "cell_type": "code",
   "execution_count": 4,
   "metadata": {},
   "outputs": [
    {
     "name": "stderr",
     "output_type": "stream",
     "text": [
      "/tmp/ipykernel_11753/4170590101.py:4: FutureWarning: You are using `torch.load` with `weights_only=False` (the current default value), which uses the default pickle module implicitly. It is possible to construct malicious pickle data which will execute arbitrary code during unpickling (See https://github.com/pytorch/pytorch/blob/main/SECURITY.md#untrusted-models for more details). In a future release, the default value for `weights_only` will be flipped to `True`. This limits the functions that could be executed during unpickling. Arbitrary objects will no longer be allowed to be loaded via this mode unless they are explicitly allowlisted by the user via `torch.serialization.add_safe_globals`. We recommend you start setting `weights_only=True` for any use case where you don't have full control of the loaded file. Please open an issue on GitHub for any issues related to this experimental feature.\n",
      "  checkpoint = torch.load(path_to_pkl)\n"
     ]
    }
   ],
   "source": [
    "from src.models.transformer_end_query import Transformer\n",
    "model_config['initialization_seed'] = 0\n",
    "model = Transformer(**model_config)\n",
    "checkpoint = torch.load(path_to_pkl)\n",
    "model.load_state_dict(checkpoint['state_dict'])\n",
    "model.eval()\n",
    "model = model.to('cuda')"
   ]
  },
  {
   "cell_type": "markdown",
   "metadata": {},
   "source": [
    "# Load Dataset and Create Environment"
   ]
  },
  {
   "cell_type": "code",
   "execution_count": 5,
   "metadata": {},
   "outputs": [],
   "source": [
    "n_eval_envs = 50\n",
    "\n",
    "is_h5_file = eval_dset_path.endswith('.h5')\n",
    "if is_h5_file:\n",
    "    eval_trajs = h5py.File(eval_dset_path, 'r')\n",
    "    traj_indices = list(eval_trajs.keys())\n",
    "    n_eval_envs = min(n_eval_envs, len(traj_indices))\n",
    "    random.seed(0)\n",
    "    traj_indices = random.sample(traj_indices, n_eval_envs)\n",
    "    random.seed()\n",
    "    eval_trajs = [eval_trajs[i] for i in traj_indices]\n",
    "else:  # Pickle file\n",
    "    with open(eval_dset_path, 'rb') as f:\n",
    "        eval_trajs = pickle.load(f)\n",
    "    n_eval_envs = min(n_eval_envs, len(eval_trajs))\n",
    "    random.seed(0)\n",
    "    eval_trajs = random.sample(eval_trajs, n_eval_envs)\n",
    "    random.seed()\n"
   ]
  },
  {
   "cell_type": "code",
   "execution_count": 6,
   "metadata": {},
   "outputs": [],
   "source": [
    "def run_model(traj, model, state_features, seq_length, zero_reward=False):\n",
    "    hidden_states = [[] for _ in range(model.n_layer)]\n",
    "    \n",
    "    for state_feature in state_features: \n",
    "        batch = {\n",
    "            'context_states': convert_to_tensor([np.array(traj['context_states'])]),\n",
    "            'context_actions': convert_to_tensor([np.array(traj['context_actions'])]),\n",
    "            'context_next_states': convert_to_tensor([np.array(traj['context_next_states'])]),\n",
    "            'context_rewards': convert_to_tensor([np.array(traj['context_rewards'])[:, None]]),\n",
    "            'query_states': convert_to_tensor([np.array(state_feature)]),\n",
    "            }\n",
    "        batch['zeros'] = torch.zeros(1, 10 ** 2 + 4 + 1).float()\n",
    "        for k in batch.keys():\n",
    "            if 'context' in k:\n",
    "                batch[k] = batch[k][:,:seq_length]\n",
    "            batch[k] = batch[k].to(model.device)\n",
    "        model.save_activations = True\n",
    "        if zero_reward:\n",
    "            batch['context_rewards'] *= 0\n",
    "        with torch.no_grad():\n",
    "            out = model(batch)\n",
    "        _hidden_states = model.activations['hidden_states'][1:] # Tuple over layers\n",
    "        for i_layer in range(model.n_layer):\n",
    "            hidden_states[i_layer].append(_hidden_states[i_layer])\n",
    "    return hidden_states"
   ]
  },
  {
   "cell_type": "code",
   "execution_count": 7,
   "metadata": {},
   "outputs": [
    {
     "name": "stderr",
     "output_type": "stream",
     "text": [
      "`GPT2SdpaAttention` is used but `torch.nn.functional.scaled_dot_product_attention` does not support `output_attentions=True` or `head_mask`. Falling back to the manual attention implementation, but specifying the manual implementation will be required from Transformers version v5.0.0 onwards. This warning can be removed using the argument `attn_implementation=\"eager\"` when loading the model.\n"
     ]
    },
    {
     "name": "stdout",
     "output_type": "stream",
     "text": [
      "0\n",
      "1\n",
      "3\n",
      "6\n",
      "7\n",
      "9\n",
      "13\n",
      "14\n",
      "17\n",
      "18\n",
      "19\n",
      "22\n",
      "23\n",
      "24\n",
      "28\n",
      "31\n",
      "33\n",
      "35\n",
      "38\n",
      "39\n",
      "42\n",
      "44\n",
      "47\n",
      "49\n"
     ]
    }
   ],
   "source": [
    "train_envs = np.arange(1, int(n_eval_envs*0.9))\n",
    "test_envs = np.arange(int(n_eval_envs*0.9), n_eval_envs)\n",
    "X_train = [[] for _ in range(model.n_layer)]\n",
    "Y_train = []\n",
    "X_test = [[] for _ in range(model.n_layer)]\n",
    "Y_test = []\n",
    "for i_eval in range(n_eval_envs):\n",
    "    traj = eval_trajs[i_eval]\n",
    "\n",
    "    first_reward = np.argwhere(np.array(traj['context_rewards'])>0)\n",
    "    if (first_reward.size == 0) or (first_reward[0] > 1000):\n",
    "        continue\n",
    "\n",
    "    print(i_eval)\n",
    "\n",
    "    env_config = {\n",
    "        'max_layers': 7,\n",
    "        'horizon': 1600,\n",
    "        'branching_prob': 1.0,\n",
    "        'node_encoding_corr': corr,\n",
    "        'state_dim': state_dim,\n",
    "        'initialization_seed': np.array(traj['initialization_seed']).item()\n",
    "    }\n",
    "    env = EvalCntrees().create_env(env_config, np.array(traj['goal']), i_eval)\n",
    "    state_features = []\n",
    "    state_features = list(env.node_map.keys())\n",
    "    _, dist_from_goal = env.make_opt_action_dict()\n",
    "\n",
    "    seq_length = 1000\n",
    "    hidden_states = run_model(traj, model, state_features, seq_length)\n",
    "    for state_idx, state_feature in enumerate(state_features):\n",
    "        d = dist_from_goal[state_feature]\n",
    "        gamma = 0.7\n",
    "        val = gamma**d\n",
    "        if i_eval in train_envs:\n",
    "            Y_train.append(val)\n",
    "        else:\n",
    "            Y_test.append(val)\n",
    "        for layer in range(model.n_layer):\n",
    "            hidden_state = hidden_states[layer][state_idx][0, -1]\n",
    "            if i_eval in train_envs:\n",
    "                X_train[layer].append(hidden_state)\n",
    "            else:\n",
    "                X_test[layer].append(hidden_state)\n"
   ]
  },
  {
   "cell_type": "code",
   "execution_count": 8,
   "metadata": {},
   "outputs": [
    {
     "name": "stdout",
     "output_type": "stream",
     "text": [
      "Layer 0:\n",
      "Train R2: 0.525\n",
      "Test R2: -0.650\n",
      "\n",
      "Layer 1:\n",
      "Train R2: 0.702\n",
      "Test R2: 0.322\n",
      "\n",
      "Layer 2:\n",
      "Train R2: 0.737\n",
      "Test R2: 0.511\n",
      "\n"
     ]
    }
   ],
   "source": [
    "from sklearn.linear_model import LinearRegression\n",
    "import numpy as np\n",
    "\n",
    "# Convert lists to numpy arrays\n",
    "X_train_np = [np.array([_x.cpu().numpy() for _x in x]) for x in X_train]\n",
    "X_test_np = [np.array([_x.cpu().numpy() for _x in x]) for x in X_test]\n",
    "Y_train_np = np.array(Y_train)\n",
    "Y_test_np = np.array(Y_test)\n",
    "\n",
    "# Fit and evaluate regression for each layer\n",
    "for layer in range(len(X_train)):\n",
    "    reg = LinearRegression()\n",
    "    reg.fit(X_train_np[layer], Y_train_np)\n",
    "    \n",
    "    train_score = reg.score(X_train_np[layer], Y_train_np)\n",
    "    test_score = reg.score(X_test_np[layer], Y_test_np)\n",
    "    \n",
    "    print(f\"Layer {layer}:\")\n",
    "    print(f\"Train R2: {train_score:.3f}\")\n",
    "    print(f\"Test R2: {test_score:.3f}\")\n",
    "    print()\n"
   ]
  },
  {
   "cell_type": "code",
   "execution_count": 9,
   "metadata": {},
   "outputs": [
    {
     "name": "stdout",
     "output_type": "stream",
     "text": [
      "0\n"
     ]
    },
    {
     "name": "stdout",
     "output_type": "stream",
     "text": [
      "1\n",
      "3\n",
      "6\n",
      "7\n",
      "9\n",
      "13\n",
      "14\n",
      "17\n",
      "18\n",
      "19\n",
      "22\n",
      "23\n",
      "24\n",
      "28\n",
      "31\n",
      "33\n",
      "35\n",
      "38\n",
      "39\n",
      "42\n",
      "44\n",
      "47\n",
      "49\n",
      "Layer 0:\n",
      "Train R2: 0.208\n",
      "Test R2: -0.170\n",
      "\n",
      "Layer 1:\n",
      "Train R2: 0.258\n",
      "Test R2: -0.148\n",
      "\n",
      "Layer 2:\n",
      "Train R2: 0.276\n",
      "Test R2: -0.222\n",
      "\n"
     ]
    }
   ],
   "source": [
    "train_envs = np.arange(1, int(n_eval_envs*0.9))\n",
    "test_envs = np.arange(int(n_eval_envs*0.9), n_eval_envs)\n",
    "X_train = [[] for _ in range(model.n_layer)]\n",
    "Y_train = []\n",
    "X_test = [[] for _ in range(model.n_layer)]\n",
    "Y_test = []\n",
    "for i_eval in range(n_eval_envs):\n",
    "    traj = eval_trajs[i_eval]\n",
    "\n",
    "    first_reward = np.argwhere(np.array(traj['context_rewards'])>0)\n",
    "    if (first_reward.size == 0) or (first_reward[0] > 1000):\n",
    "        continue\n",
    "\n",
    "    print(i_eval)\n",
    "\n",
    "    env_config = {\n",
    "        'max_layers': 7,\n",
    "        'horizon': 1600,\n",
    "        'branching_prob': 1.0,\n",
    "        'node_encoding_corr': corr,\n",
    "        'state_dim': state_dim,\n",
    "        'initialization_seed': np.array(traj['initialization_seed']).item()\n",
    "    }\n",
    "    env = EvalCntrees().create_env(env_config, np.array(traj['goal']), i_eval)\n",
    "    state_features = []\n",
    "    state_features = list(env.node_map.keys())\n",
    "    _, dist_from_goal = env.make_opt_action_dict()\n",
    "\n",
    "    seq_length = 1000\n",
    "    hidden_states = run_model(traj, model, state_features, seq_length, zero_reward=True)\n",
    "    for state_idx, state_feature in enumerate(state_features):\n",
    "        d = dist_from_goal[state_feature]\n",
    "        gamma = 0.8\n",
    "        val = gamma**d\n",
    "        if i_eval in train_envs:\n",
    "            Y_train.append(val)\n",
    "        else:\n",
    "            Y_test.append(val)\n",
    "        for layer in range(model.n_layer):\n",
    "            hidden_state = hidden_states[layer][state_idx][0, -1]\n",
    "            if i_eval in train_envs:\n",
    "                X_train[layer].append(hidden_state)\n",
    "            else:\n",
    "                X_test[layer].append(hidden_state)\n",
    "\n",
    "X_train_np = [np.array([_x.cpu().numpy() for _x in x]) for x in X_train]\n",
    "X_test_np = [np.array([_x.cpu().numpy() for _x in x]) for x in X_test]\n",
    "Y_train_np = np.array(Y_train)\n",
    "Y_test_np = np.array(Y_test)\n",
    "\n",
    "# Fit and evaluate regression for each layer\n",
    "for layer in range(len(X_train)):\n",
    "    reg = LinearRegression()\n",
    "    reg.fit(X_train_np[layer], Y_train_np)\n",
    "    \n",
    "    train_score = reg.score(X_train_np[layer], Y_train_np)\n",
    "    test_score = reg.score(X_test_np[layer], Y_test_np)\n",
    "    \n",
    "    print(f\"Layer {layer}:\")\n",
    "    print(f\"Train R2: {train_score:.3f}\")\n",
    "    print(f\"Test R2: {test_score:.3f}\")\n",
    "    print()\n"
   ]
  },
  {
   "cell_type": "code",
   "execution_count": null,
   "metadata": {},
   "outputs": [],
   "source": []
  }
 ],
 "metadata": {
  "kernelspec": {
   "display_name": "jax",
   "language": "python",
   "name": "python3"
  },
  "language_info": {
   "codemirror_mode": {
    "name": "ipython",
    "version": 3
   },
   "file_extension": ".py",
   "mimetype": "text/x-python",
   "name": "python",
   "nbconvert_exporter": "python",
   "pygments_lexer": "ipython3",
   "version": "3.12.5"
  }
 },
 "nbformat": 4,
 "nbformat_minor": 2
}
