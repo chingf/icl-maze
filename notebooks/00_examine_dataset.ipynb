{
 "cells": [
  {
   "cell_type": "code",
   "execution_count": 1,
   "metadata": {},
   "outputs": [],
   "source": [
    "import numpy as np\n",
    "import matplotlib.pyplot as plt\n",
    "import seaborn as sns\n",
    "import pickle\n",
    "import os\n",
    "import pandas as pd\n",
    "import configs\n",
    "import torch\n",
    "from sklearn.decomposition import PCA\n",
    "from scipy.spatial.distance import pdist, squareform\n",
    "\n",
    "from src.utils import find_ckpt_file, convert_to_tensor\n",
    "import h5py\n",
    "import random\n",
    "from src.evals.eval_trees import EvalTrees\n"
   ]
  },
  {
   "cell_type": "markdown",
   "metadata": {},
   "source": [
    "# Load Model"
   ]
  },
  {
   "cell_type": "code",
   "execution_count": 2,
   "metadata": {},
   "outputs": [],
   "source": [
    "engram_dir = \"/n/holylfs06/LABS/krajan_lab/Lab/cfang/icl-maze/\"\n",
    "wandb_project = \"cntree\"\n",
    "corr = 0.25\n",
    "env_name = f\"cntree_layers7_bprob0.9_corr{corr}_state_dim10_envs300000_H800_explore\"\n",
    "dataset_storage_dir = f'{engram_dir}/{wandb_project}/{env_name}/datasets'\n",
    "use_h5 = os.path.exists(os.path.join(dataset_storage_dir, 'test.h5'))\n",
    "file_suffix = '.h5' if use_h5 else '.pkl'\n",
    "test_dset_path = os.path.join(dataset_storage_dir, 'test' + file_suffix)"
   ]
  },
  {
   "cell_type": "markdown",
   "metadata": {},
   "source": [
    "# Load Dataset and Create Environment"
   ]
  },
  {
   "cell_type": "code",
   "execution_count": 3,
   "metadata": {},
   "outputs": [],
   "source": [
    "is_h5_file = test_dset_path.endswith('.h5')\n",
    "if is_h5_file:\n",
    "    eval_trajs = h5py.File(test_dset_path, 'r')\n",
    "    traj_indices = list(eval_trajs.keys())\n",
    "else:  # Pickle file\n",
    "    with open(test_dset_path, 'rb') as f:\n",
    "        eval_trajs = pickle.load(f)\n",
    "n_eval_envs = len(eval_trajs)"
   ]
  },
  {
   "cell_type": "markdown",
   "metadata": {},
   "source": [
    "# Run Model"
   ]
  },
  {
   "cell_type": "code",
   "execution_count": 10,
   "metadata": {},
   "outputs": [],
   "source": [
    "query_every = 10\n",
    "max_acc = []\n",
    "for eval_traj in eval_trajs:\n",
    "    seq_length = eval_traj['context_states'].shape[0]\n",
    "    eval_idxs = np.concatenate([np.arange(0, seq_length, query_every), [seq_length-1]])\n",
    "    opt_accuracy = np.ones(len(eval_idxs)) * (eval_traj['optimal_action'].squeeze().argmax()==0)\n",
    "    first_reward = np.argwhere(eval_traj['context_rewards']>0)\n",
    "    if first_reward.size > 0:\n",
    "        first_reward = first_reward[0, 0]\n",
    "        opt_accuracy[eval_idxs>first_reward] = 1\n",
    "    max_acc.append(opt_accuracy.mean())"
   ]
  },
  {
   "cell_type": "code",
   "execution_count": 11,
   "metadata": {},
   "outputs": [
    {
     "data": {
      "text/plain": [
       "np.float64(0.9534588477366256)"
      ]
     },
     "execution_count": 11,
     "metadata": {},
     "output_type": "execute_result"
    }
   ],
   "source": [
    "np.mean(max_acc)"
   ]
  }
 ],
 "metadata": {
  "kernelspec": {
   "display_name": "jax",
   "language": "python",
   "name": "python3"
  },
  "language_info": {
   "codemirror_mode": {
    "name": "ipython",
    "version": 3
   },
   "file_extension": ".py",
   "mimetype": "text/x-python",
   "name": "python",
   "nbconvert_exporter": "python",
   "pygments_lexer": "ipython3",
   "version": "3.12.5"
  }
 },
 "nbformat": 4,
 "nbformat_minor": 2
}
