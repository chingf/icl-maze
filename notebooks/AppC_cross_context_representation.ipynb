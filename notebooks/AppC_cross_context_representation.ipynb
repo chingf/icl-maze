{
 "cells": [
  {
   "cell_type": "code",
   "execution_count": 21,
   "metadata": {},
   "outputs": [],
   "source": [
    "import numpy as np\n",
    "import matplotlib.pyplot as plt\n",
    "import seaborn as sns\n",
    "import pickle\n",
    "import os\n",
    "import pandas as pd\n",
    "import configs\n",
    "import torch\n",
    "from sklearn.decomposition import PCA\n",
    "from scipy.spatial.distance import pdist, squareform\n",
    "\n",
    "from src.utils import find_ckpt_file, convert_to_tensor\n",
    "import h5py\n",
    "import random\n",
    "from src.evals.eval_trees import EvalTrees\n",
    "from src.evals.eval_trees import EvalCntrees"
   ]
  },
  {
   "cell_type": "markdown",
   "metadata": {},
   "source": [
    "# Args"
   ]
  },
  {
   "cell_type": "code",
   "execution_count": 29,
   "metadata": {},
   "outputs": [
    {
     "name": "stdout",
     "output_type": "stream",
     "text": [
      "epoch=32-val_loss=0.000378.ckpt\n"
     ]
    }
   ],
   "source": [
    "corr = 0.0\n",
    "model_name, path_to_pkl, eval_dset_path = configs.get_model_paths(corr, \"tree_maze\")\n",
    "fignum = '10'\n",
    "recalc = True"
   ]
  },
  {
   "cell_type": "code",
   "execution_count": 32,
   "metadata": {},
   "outputs": [
    {
     "name": "stdout",
     "output_type": "stream",
     "text": [
      "epoch=33-val_loss=0.000662.ckpt\n"
     ]
    }
   ],
   "source": [
    "corr = 0.25\n",
    "model_name, path_to_pkl, eval_dset_path = configs.get_model_paths(corr, \"tree_maze_bigger_models\", \"layer6\")\n",
    "fignum = '11'\n",
    "recalc_results = True"
   ]
  },
  {
   "cell_type": "markdown",
   "metadata": {},
   "source": [
    "# Load Model and Dataset"
   ]
  },
  {
   "cell_type": "code",
   "execution_count": 33,
   "metadata": {},
   "outputs": [],
   "source": [
    "# Extract parameters using regex\n",
    "import re\n",
    "\n",
    "n_embd = int(re.search(r'embd(\\d+)', model_name).group(1))\n",
    "n_layer = int(re.search(r'layer(\\d+)', model_name).group(1))\n",
    "n_head = int(re.search(r'head(\\d+)', model_name).group(1))\n",
    "dropout = float(re.search(r'drop(\\d*\\.?\\d*)', model_name).group(1))\n",
    "\n",
    "# Extract correlation and state_dim from eval dataset path\n",
    "state_dim = int(re.search(r'state_dim(\\d+)', eval_dset_path).group(1))\n",
    "\n",
    "model_config = {\n",
    "    \"n_embd\": n_embd,\n",
    "    \"n_layer\": n_layer,\n",
    "    \"n_head\": n_head,\n",
    "    \"state_dim\": 10,\n",
    "    \"action_dim\": 4,\n",
    "    \"dropout\": dropout,\n",
    "    \"test\": True,\n",
    "    \"name\": \"transformer_end_query\",\n",
    "    \"optimizer_config\": None,\n",
    "}"
   ]
  },
  {
   "cell_type": "code",
   "execution_count": 34,
   "metadata": {},
   "outputs": [
    {
     "name": "stderr",
     "output_type": "stream",
     "text": [
      "/tmp/ipykernel_2430861/4170590101.py:4: FutureWarning: You are using `torch.load` with `weights_only=False` (the current default value), which uses the default pickle module implicitly. It is possible to construct malicious pickle data which will execute arbitrary code during unpickling (See https://github.com/pytorch/pytorch/blob/main/SECURITY.md#untrusted-models for more details). In a future release, the default value for `weights_only` will be flipped to `True`. This limits the functions that could be executed during unpickling. Arbitrary objects will no longer be allowed to be loaded via this mode unless they are explicitly allowlisted by the user via `torch.serialization.add_safe_globals`. We recommend you start setting `weights_only=True` for any use case where you don't have full control of the loaded file. Please open an issue on GitHub for any issues related to this experimental feature.\n",
      "  checkpoint = torch.load(path_to_pkl)\n"
     ]
    }
   ],
   "source": [
    "from src.models.transformer_end_query import Transformer\n",
    "model_config['initialization_seed'] = 0\n",
    "model = Transformer(**model_config)\n",
    "checkpoint = torch.load(path_to_pkl)\n",
    "model.load_state_dict(checkpoint['state_dict'])\n",
    "model.eval()\n",
    "model = model.to('cuda')"
   ]
  },
  {
   "cell_type": "markdown",
   "metadata": {},
   "source": [
    "# Load Dataset and Create Environment"
   ]
  },
  {
   "cell_type": "code",
   "execution_count": 35,
   "metadata": {},
   "outputs": [],
   "source": [
    "n_eval_envs = 150\n",
    "\n",
    "is_h5_file = eval_dset_path.endswith('.h5')\n",
    "if is_h5_file:\n",
    "    eval_trajs = h5py.File(eval_dset_path, 'r')\n",
    "    traj_indices = list(eval_trajs.keys())\n",
    "    n_eval_envs = min(n_eval_envs, len(traj_indices))\n",
    "    random.seed(0)\n",
    "    traj_indices = random.sample(traj_indices, n_eval_envs)\n",
    "    random.seed()\n",
    "    eval_trajs = [eval_trajs[i] for i in traj_indices]\n",
    "else:  # Pickle file\n",
    "    with open(eval_dset_path, 'rb') as f:\n",
    "        eval_trajs = pickle.load(f)\n",
    "    n_eval_envs = min(n_eval_envs, len(eval_trajs))\n",
    "    random.seed(0)\n",
    "    eval_trajs = random.sample(eval_trajs, n_eval_envs)\n",
    "    random.seed()\n"
   ]
  },
  {
   "cell_type": "markdown",
   "metadata": {},
   "source": [
    "# Helper methods"
   ]
  },
  {
   "cell_type": "code",
   "execution_count": 36,
   "metadata": {},
   "outputs": [],
   "source": [
    "def run_model(traj, model, state_features, seq_length, zero_reward=False):\n",
    "    hidden_states = [[] for _ in range(model.n_layer)]\n",
    "    \n",
    "    for state_feature in state_features: \n",
    "        batch = {\n",
    "            'context_states': convert_to_tensor([np.array(traj['context_states'])]),\n",
    "            'context_actions': convert_to_tensor([np.array(traj['context_actions'])]),\n",
    "            'context_next_states': convert_to_tensor([np.array(traj['context_next_states'])]),\n",
    "            'context_rewards': convert_to_tensor([np.array(traj['context_rewards'])[:, None]]),\n",
    "            'query_states': convert_to_tensor([np.array(state_feature)]),\n",
    "            }\n",
    "        batch['zeros'] = torch.zeros(1, 10 ** 2 + 4 + 1).float()\n",
    "        for k in batch.keys():\n",
    "            if 'context' in k:\n",
    "                batch[k] = batch[k][:,:seq_length]\n",
    "            batch[k] = batch[k].to(model.device)\n",
    "        model.save_activations = True\n",
    "        if zero_reward:\n",
    "            batch['context_rewards'] *= 0\n",
    "        with torch.no_grad():\n",
    "            out = model(batch)\n",
    "        _hidden_states = model.activations['hidden_states'][1:] # Tuple over layers\n",
    "        for i_layer in range(model.n_layer):\n",
    "            hidden_states[i_layer].append(\n",
    "                _hidden_states[i_layer].detach().cpu().numpy().squeeze()[-1])\n",
    "    return hidden_states"
   ]
  },
  {
   "cell_type": "code",
   "execution_count": 37,
   "metadata": {},
   "outputs": [],
   "source": [
    "def get_node_and_representation(traj, env, model):\n",
    "    nodes = []\n",
    "    hidden_states = []\n",
    "    seq_lengths = []\n",
    "    state_features = []\n",
    "    state_features = list(env.node_map.keys())\n",
    "\n",
    "    _nodes = [] \n",
    "    for state_feature in state_features:\n",
    "        _nodes.append(str(env.node_map[state_feature]))\n",
    "    for seq_length in [1, 25, 50, 75, 100, 250, 500, 750, 1000, 1100, 1200, 1300, 1400, 1500, 1600]:\n",
    "        _hidden_states = run_model(traj, model, state_features, seq_length=seq_length)\n",
    "        for l in range(model.n_layer):\n",
    "            if len(_hidden_states[l]) != len(_nodes):\n",
    "                print(l)\n",
    "                print(len(_hidden_states[l]), len(_nodes))\n",
    "                import pdb; pdb.set_trace()\n",
    "        nodes.append(_nodes)\n",
    "        hidden_states.append(_hidden_states)\n",
    "        seq_lengths.append(seq_length)\n",
    "\n",
    "    return nodes, hidden_states, seq_lengths"
   ]
  },
  {
   "cell_type": "markdown",
   "metadata": {},
   "source": [
    "# Collect representations"
   ]
  },
  {
   "cell_type": "code",
   "execution_count": 38,
   "metadata": {},
   "outputs": [],
   "source": [
    "if recalc:\n",
    "    results = {\n",
    "        'nodes': [],\n",
    "        'hidden_states': [],\n",
    "        'model_layer': [], \n",
    "        'context_length': [],\n",
    "        'env': []\n",
    "    }\n",
    "    \n",
    "    for i_eval, traj in enumerate(eval_trajs[:10]):\n",
    "        env_config = {\n",
    "            'max_layers': 7,\n",
    "            'horizon': 1600,\n",
    "            'branching_prob': 1.0,\n",
    "            'node_encoding_corr': corr,\n",
    "            'state_dim': state_dim,\n",
    "            'initialization_seed': np.array(traj['initialization_seed']).item()\n",
    "        }\n",
    "        env = EvalCntrees().create_env(env_config, np.array(traj['goal']), i_eval)\n",
    "        nodes, hidden_states, context_lengths = get_node_and_representation(traj, env, model)\n",
    "        for _nodes, _hidden_states, _context_length in zip(nodes, hidden_states, context_lengths):\n",
    "            for i_layer, model_layer_hidden_states in enumerate(_hidden_states):\n",
    "                results['nodes'].extend(_nodes)\n",
    "                results['hidden_states'].extend(model_layer_hidden_states)\n",
    "                results['model_layer'].extend([i_layer] * len(_nodes))\n",
    "                results['context_length'].extend([_context_length] * len(_nodes))\n",
    "                results['env'].extend([i_eval] * len(_nodes))\n",
    "    df = pd.DataFrame(results)\n",
    "    \n",
    "    same_node = {\n",
    "        'sim': [],\n",
    "        'model_layer': [],\n",
    "        'context_length': [],\n",
    "        'comparison_node_layer': []\n",
    "    }\n",
    "    diff_node = {\n",
    "        'sim': [],\n",
    "        'model_layer': [],\n",
    "        'context_length': [],\n",
    "        'comparison_node_layer': []\n",
    "    }\n",
    "    \n",
    "    for context_length in df['context_length'].unique():\n",
    "        context_length_df = df[df['context_length'] == context_length]\n",
    "        for i_layer in context_length_df['model_layer'].unique():\n",
    "            layer_df = context_length_df[context_length_df['model_layer'] == i_layer]\n",
    "            for node in layer_df['nodes'].unique():\n",
    "                node_df = layer_df[layer_df['nodes'] == node]\n",
    "                other_node_df = layer_df[layer_df['nodes'] != node]\n",
    "    \n",
    "                node_envs = node_df['env'].to_numpy()\n",
    "                other_node_envs = other_node_df['env'].to_numpy()\n",
    "                stacked_envs = np.concatenate((node_envs, other_node_envs))\n",
    "    \n",
    "                node_hidden_states = np.stack(node_df['hidden_states'].to_numpy())\n",
    "                other_node_hidden_states = np.stack(other_node_df['hidden_states'].to_numpy())\n",
    "    \n",
    "                n_same_node = node_hidden_states.shape[0]\n",
    "                stacked_reprs = np.vstack((node_hidden_states, other_node_hidden_states))\n",
    "                cc = np.corrcoef(stacked_reprs)\n",
    "                for i in range(n_same_node):\n",
    "                    for j in range(i+1, n_same_node):\n",
    "                        if stacked_envs[i] == stacked_envs[j]:\n",
    "                            continue\n",
    "                        same_node['sim'].append(cc[i, j])\n",
    "                        same_node['model_layer'].append(i_layer)\n",
    "                        same_node['context_length'].append(context_length)\n",
    "                        same_node['comparison_node_layer'].append(int(node[1]))\n",
    "                for i in range(n_same_node):\n",
    "                    for j in range(i+1, n_same_node):\n",
    "                        _j = j + n_same_node\n",
    "                        if stacked_envs[i] == stacked_envs[_j]:\n",
    "                            continue\n",
    "                        diff_node['sim'].append(cc[i, _j])\n",
    "                        diff_node['model_layer'].append(i_layer)\n",
    "                        diff_node['context_length'].append(context_length)\n",
    "                        diff_node['comparison_node_layer'].append(int(node[1]))\n",
    "    same_node_df = pd.DataFrame(same_node)\n",
    "    diff_node_df = pd.DataFrame(diff_node)\n",
    "    with open('pickles/AppC_fig{fignum}_cross_context_repr_summary.pkl', 'wb') as f:\n",
    "       pickle.dump({'same_node_df': same_node_df, 'diff_node_df': diff_node_df}, f)\n",
    "else:\n",
    "    with open('pickles/AppC_fig{fignum}_cross_context_repr_summary.pkl', 'rb') as f:\n",
    "       results = pickle.load(f)\n",
    "    same_node_df = results['same_node_df']\n",
    "    diff_node_df = results['diff_node_df']"
   ]
  },
  {
   "cell_type": "code",
   "execution_count": 39,
   "metadata": {},
   "outputs": [
    {
     "data": {
      "image/png": "[encoded data removed]",
      "text/plain": [
       "<Figure size 150x150 with 1 Axes>"
      ]
     },
     "metadata": {},
     "output_type": "display_data"
    }
   ],
   "source": [
    "_same_node_df = same_node_df[same_node_df['context_length'] == 1600]\n",
    "_diff_node_df = diff_node_df[diff_node_df['context_length'] == 1600]\n",
    "\n",
    "fig, ax = plt.subplots(figsize=(1.5, 1.5))\n",
    "ax = sns.barplot(\n",
    "    data=pd.concat([\n",
    "        _same_node_df.assign(type='Same Node'),\n",
    "        _diff_node_df.assign(type='Different Node')\n",
    "    ]),\n",
    "    x='comparison_node_layer', y='sim', hue='type', ax=ax, \n",
    "    legend=None\n",
    "    )\n",
    "\n",
    "for i, bar in enumerate(ax.patches):\n",
    "    if bar.get_facecolor() == (0.7642156862745098, 0.5318627450980391, 0.12598039215686285, 1):  # C1 color\n",
    "        bar.set_hatch('///')\n",
    "    bar.set_facecolor('dimgray')\n",
    "    \n",
    "# Set figure DPI higher for SVG export\n",
    "plt.rcParams['svg.fonttype'] = 'none'  # Ensure text remains as text in SVG\n",
    "plt.ylabel(r'Cross-Ctxt $\\rho$', fontsize=8)\n",
    "plt.xlabel('Maze Layer', fontsize=8)\n",
    "plt.xticks(np.arange(7), np.arange(7)+1, fontsize=6)\n",
    "plt.yticks([0, 0.25, 0.5], [0.0, '', 0.5], fontsize=6)\n",
    "plt.tight_layout()\n",
    "plt.savefig(f'figs_app/C_{fignum}C.png', transparent=True, dpi=300)\n",
    "plt.savefig(f'figs_app/C_{fignum}C.pdf', transparent=True, dpi=300)\n",
    "plt.show()"
   ]
  },
  {
   "cell_type": "code",
   "execution_count": null,
   "metadata": {},
   "outputs": [],
   "source": []
  }
 ],
 "metadata": {
  "kernelspec": {
   "display_name": "jax",
   "language": "python",
   "name": "python3"
  },
  "language_info": {
   "codemirror_mode": {
    "name": "ipython",
    "version": 3
   },
   "file_extension": ".py",
   "mimetype": "text/x-python",
   "name": "python",
   "nbconvert_exporter": "python",
   "pygments_lexer": "ipython3",
   "version": "3.12.5"
  }
 },
 "nbformat": 4,
 "nbformat_minor": 2
}
