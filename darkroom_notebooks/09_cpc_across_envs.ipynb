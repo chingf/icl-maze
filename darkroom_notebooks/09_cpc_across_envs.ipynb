{
 "cells": [
  {
   "cell_type": "code",
   "execution_count": 1,
   "metadata": {},
   "outputs": [],
   "source": [
    "import os\n",
    "\n",
    "import numpy as np\n",
    "import matplotlib.pyplot as plt\n",
    "import seaborn as sns\n",
    "import pickle\n",
    "import pandas as pd\n",
    "import configs\n",
    "import torch\n",
    "from sklearn.decomposition import PCA\n",
    "from scipy.spatial.distance import pdist, squareform\n",
    "\n",
    "from src.utils import find_ckpt_file, convert_to_tensor\n",
    "import h5py\n",
    "import random\n",
    "from src.evals.eval_trees import EvalTrees\n",
    "from src.evals.eval_trees import EvalCntrees"
   ]
  },
  {
   "cell_type": "code",
   "execution_count": 2,
   "metadata": {},
   "outputs": [],
   "source": [
    "from transformers import set_seed"
   ]
  },
  {
   "cell_type": "code",
   "execution_count": 3,
   "metadata": {},
   "outputs": [],
   "source": [
    "set_seed(0)"
   ]
  },
  {
   "cell_type": "code",
   "execution_count": 4,
   "metadata": {},
   "outputs": [],
   "source": [
    "device = torch.device('cuda' if torch.cuda.is_available() else 'cpu')"
   ]
  },
  {
   "cell_type": "markdown",
   "metadata": {},
   "source": [
    "# Load Model"
   ]
  },
  {
   "cell_type": "code",
   "execution_count": 5,
   "metadata": {},
   "outputs": [],
   "source": [
    "engram_dir = \"/n/holylfs06/LABS/krajan_lab/Lab/cfang/icl-maze/\"\n",
    "wandb_project = \"tree_maze\"\n",
    "corr = 0.25\n",
    "env_name = f\"cntree_layers7_bprob0.9_corr{corr}_state_dim10_envs300000_H800_explore\"\n",
    "eval_dset_path = f\"/n/holylfs06/LABS/krajan_lab/Lab/cfang/icl-maze/cntree/cntree_layers7_bprob1.0_corr{corr}_state_dim10_envs1000_H1600_explore/datasets/eval.pkl\""
   ]
  },
  {
   "cell_type": "markdown",
   "metadata": {},
   "source": [
    "# Load Dataset and Create Environment"
   ]
  },
  {
   "cell_type": "code",
   "execution_count": 6,
   "metadata": {},
   "outputs": [],
   "source": [
    "n_eval_envs = 50\n",
    "\n",
    "is_h5_file = eval_dset_path.endswith('.h5')\n",
    "if is_h5_file:\n",
    "    eval_trajs = h5py.File(eval_dset_path, 'r')\n",
    "    traj_indices = list(eval_trajs.keys())\n",
    "    n_eval_envs = min(n_eval_envs, len(traj_indices))\n",
    "    random.seed(0)\n",
    "    traj_indices = random.sample(traj_indices, n_eval_envs)\n",
    "    random.seed()\n",
    "    eval_trajs = [eval_trajs[i] for i in traj_indices]\n",
    "else:  # Pickle file\n",
    "    with open(eval_dset_path, 'rb') as f:\n",
    "        eval_trajs = pickle.load(f)\n",
    "    n_eval_envs = min(n_eval_envs, len(eval_trajs))\n",
    "    random.seed(0)\n",
    "    eval_trajs = random.sample(eval_trajs, n_eval_envs)\n",
    "    random.seed()\n"
   ]
  },
  {
   "cell_type": "code",
   "execution_count": 12,
   "metadata": {},
   "outputs": [],
   "source": [
    "trajs = []\n",
    "for traj in eval_trajs:\n",
    "    _traj = torch.FloatTensor(traj['context_states']).to(device)\n",
    "    _traj = _traj[:1000]\n",
    "    trajs.append(_traj)"
   ]
  },
  {
   "cell_type": "code",
   "execution_count": 13,
   "metadata": {},
   "outputs": [],
   "source": [
    "import torch.nn as nn\n",
    "import torch.nn.functional as F\n",
    "\n",
    "class CPCModel(nn.Module):\n",
    "    def __init__(self, input_dim, encoding_dim=64):\n",
    "        super().__init__()\n",
    "        self.encoder = nn.Sequential(\n",
    "            nn.Linear(input_dim, encoding_dim * 2),\n",
    "            nn.LayerNorm(encoding_dim * 2),\n",
    "            nn.ReLU(),\n",
    "            nn.Linear(encoding_dim * 2, encoding_dim),\n",
    "            nn.LayerNorm(encoding_dim)\n",
    "        )\n",
    "        \n",
    "    def forward(self, x):\n",
    "        # x shape: (batch_size, sequence_length, input_dim)\n",
    "        encoded = self.encoder(x)  # (batch_size, seq_len, encoding_dim)\n",
    "        return encoded"
   ]
  },
  {
   "cell_type": "code",
   "execution_count": 14,
   "metadata": {},
   "outputs": [],
   "source": [
    "def train_cpc(\n",
    "        model, trajs,\n",
    "        n_epochs=100, lr=1e-3,\n",
    "        n_prediction_steps=10, neg_weight=1,\n",
    "        print_losses=True):\n",
    "    optimizer = torch.optim.Adam(model.parameters(), lr=lr)\n",
    "    train_losses = []\n",
    "    n_prediction_steps = 10\n",
    "    \n",
    "    for epoch in range(n_epochs):\n",
    "        traj = trajs[epoch % len(trajs)]\n",
    "\n",
    "        optimizer.zero_grad()\n",
    "        encoded = model(traj)\n",
    "\n",
    "        total_loss = 0\n",
    "        # Compute loss for different time offsets\n",
    "        for k in range(1, n_prediction_steps + 1):\n",
    "            # Positive samples: pairs that are k steps apart\n",
    "            pos = (encoded[k:] * encoded[:-k]).sum(dim=-1)\n",
    "            \n",
    "            # Negative samples: all other pairs at k steps apart\n",
    "            neg = torch.matmul(encoded[k:], encoded[:-k].T).squeeze()\n",
    "            \n",
    "            # Compute NCE loss for this time offset\n",
    "            step_loss = (-pos + neg_weight * torch.logsumexp(neg, dim=-1)).mean()\n",
    "            total_loss += step_loss / n_prediction_steps\n",
    "        \n",
    "        total_loss.backward()\n",
    "        optimizer.step()\n",
    "        \n",
    "        loss_val = total_loss.item()\n",
    "        if print_losses and (epoch + 1) % 10 == 0:\n",
    "            print(f\"Epoch {epoch+1}, Loss: {loss_val:.4f}\")\n",
    "        train_losses.append(loss_val)\n",
    "\n",
    "    return train_losses"
   ]
  },
  {
   "cell_type": "code",
   "execution_count": 15,
   "metadata": {},
   "outputs": [],
   "source": [
    "# Create and train the model\n",
    "input_dim = traj['context_states'].shape[-1]  # Should be 10 based on your env config"
   ]
  },
  {
   "cell_type": "code",
   "execution_count": 57,
   "metadata": {},
   "outputs": [
    {
     "name": "stdout",
     "output_type": "stream",
     "text": [
      "Epoch 10, Loss: 6.7782\n",
      "Epoch 20, Loss: 6.6448\n",
      "Epoch 30, Loss: 6.5952\n",
      "Epoch 40, Loss: 6.5545\n",
      "Epoch 50, Loss: 6.6890\n",
      "Epoch 60, Loss: 6.6852\n",
      "Epoch 70, Loss: 6.6286\n",
      "Epoch 80, Loss: 6.5899\n",
      "Epoch 90, Loss: 6.5551\n",
      "Epoch 100, Loss: 6.6786\n",
      "Epoch 110, Loss: 6.6789\n",
      "Epoch 120, Loss: 6.6278\n",
      "Epoch 130, Loss: 6.5850\n",
      "Epoch 140, Loss: 6.5500\n",
      "Epoch 150, Loss: 6.6743\n",
      "Epoch 160, Loss: 6.6726\n",
      "Epoch 170, Loss: 6.6269\n",
      "Epoch 180, Loss: 6.5802\n",
      "Epoch 190, Loss: 6.5456\n",
      "Epoch 200, Loss: 6.6698\n",
      "Epoch 210, Loss: 6.6660\n",
      "Epoch 220, Loss: 6.6238\n",
      "Epoch 230, Loss: 6.5739\n",
      "Epoch 240, Loss: 6.5410\n",
      "Epoch 250, Loss: 6.6652\n",
      "Epoch 260, Loss: 6.6593\n",
      "Epoch 270, Loss: 6.6193\n",
      "Epoch 280, Loss: 6.5667\n",
      "Epoch 290, Loss: 6.5366\n",
      "Epoch 300, Loss: 6.6606\n",
      "Epoch 310, Loss: 6.6526\n",
      "Epoch 320, Loss: 6.6129\n",
      "Epoch 330, Loss: 6.5585\n",
      "Epoch 340, Loss: 6.5312\n",
      "Epoch 350, Loss: 6.6553\n",
      "Epoch 360, Loss: 6.6457\n",
      "Epoch 370, Loss: 6.6047\n",
      "Epoch 380, Loss: 6.5500\n",
      "Epoch 390, Loss: 6.5260\n",
      "Epoch 400, Loss: 6.6494\n",
      "Epoch 410, Loss: 6.6383\n",
      "Epoch 420, Loss: 6.5945\n",
      "Epoch 430, Loss: 6.5409\n",
      "Epoch 440, Loss: 6.5203\n",
      "Epoch 450, Loss: 6.6431\n",
      "Epoch 460, Loss: 6.6299\n",
      "Epoch 470, Loss: 6.5834\n",
      "Epoch 480, Loss: 6.5313\n",
      "Epoch 490, Loss: 6.5139\n",
      "Epoch 500, Loss: 6.6363\n",
      "Epoch 510, Loss: 6.6203\n",
      "Epoch 520, Loss: 6.5709\n",
      "Epoch 530, Loss: 6.5206\n",
      "Epoch 540, Loss: 6.5060\n",
      "Epoch 550, Loss: 6.6283\n",
      "Epoch 560, Loss: 6.6098\n",
      "Epoch 570, Loss: 6.5580\n",
      "Epoch 580, Loss: 6.5090\n",
      "Epoch 590, Loss: 6.4960\n",
      "Epoch 600, Loss: 6.6195\n",
      "Epoch 610, Loss: 6.5993\n",
      "Epoch 620, Loss: 6.5459\n",
      "Epoch 630, Loss: 6.4968\n",
      "Epoch 640, Loss: 6.4860\n",
      "Epoch 650, Loss: 6.6096\n",
      "Epoch 660, Loss: 6.5889\n",
      "Epoch 670, Loss: 6.5356\n",
      "Epoch 680, Loss: 6.4855\n",
      "Epoch 690, Loss: 6.4751\n",
      "Epoch 700, Loss: 6.5999\n",
      "Epoch 710, Loss: 6.5797\n",
      "Epoch 720, Loss: 6.5269\n",
      "Epoch 730, Loss: 6.4744\n",
      "Epoch 740, Loss: 6.4639\n",
      "Epoch 750, Loss: 6.5903\n",
      "Epoch 760, Loss: 6.5714\n",
      "Epoch 770, Loss: 6.5197\n",
      "Epoch 780, Loss: 6.4645\n",
      "Epoch 790, Loss: 6.4528\n",
      "Epoch 800, Loss: 6.5814\n",
      "Epoch 810, Loss: 6.5641\n",
      "Epoch 820, Loss: 6.5118\n",
      "Epoch 830, Loss: 6.4540\n",
      "Epoch 840, Loss: 6.4418\n",
      "Epoch 850, Loss: 6.5726\n",
      "Epoch 860, Loss: 6.5561\n",
      "Epoch 870, Loss: 6.5054\n",
      "Epoch 880, Loss: 6.4442\n",
      "Epoch 890, Loss: 6.4315\n",
      "Epoch 900, Loss: 6.5645\n",
      "Epoch 910, Loss: 6.5486\n",
      "Epoch 920, Loss: 6.4980\n",
      "Epoch 930, Loss: 6.4348\n",
      "Epoch 940, Loss: 6.4221\n",
      "Epoch 950, Loss: 6.5577\n",
      "Epoch 960, Loss: 6.5423\n",
      "Epoch 970, Loss: 6.4903\n",
      "Epoch 980, Loss: 6.4248\n",
      "Epoch 990, Loss: 6.4126\n",
      "Epoch 1000, Loss: 6.5494\n",
      "Epoch 1010, Loss: 6.5383\n",
      "Epoch 1020, Loss: 6.4860\n",
      "Epoch 1030, Loss: 6.4179\n",
      "Epoch 1040, Loss: 6.4022\n",
      "Epoch 1050, Loss: 6.5454\n",
      "Epoch 1060, Loss: 6.5300\n",
      "Epoch 1070, Loss: 6.4774\n",
      "Epoch 1080, Loss: 6.4058\n",
      "Epoch 1090, Loss: 6.3946\n",
      "Epoch 1100, Loss: 6.5382\n",
      "Epoch 1110, Loss: 6.5256\n",
      "Epoch 1120, Loss: 6.4729\n",
      "Epoch 1130, Loss: 6.3986\n",
      "Epoch 1140, Loss: 6.3866\n",
      "Epoch 1150, Loss: 6.5331\n",
      "Epoch 1160, Loss: 6.5166\n",
      "Epoch 1170, Loss: 6.4634\n",
      "Epoch 1180, Loss: 6.3883\n",
      "Epoch 1190, Loss: 6.3809\n",
      "Epoch 1200, Loss: 6.5269\n",
      "Epoch 1210, Loss: 6.5117\n",
      "Epoch 1220, Loss: 6.4585\n",
      "Epoch 1230, Loss: 6.3812\n",
      "Epoch 1240, Loss: 6.3734\n",
      "Epoch 1250, Loss: 6.5204\n",
      "Epoch 1260, Loss: 6.5031\n",
      "Epoch 1270, Loss: 6.4486\n",
      "Epoch 1280, Loss: 6.3713\n",
      "Epoch 1290, Loss: 6.3664\n",
      "Epoch 1300, Loss: 6.5153\n",
      "Epoch 1310, Loss: 6.4975\n",
      "Epoch 1320, Loss: 6.4429\n",
      "Epoch 1330, Loss: 6.3641\n",
      "Epoch 1340, Loss: 6.3593\n",
      "Epoch 1350, Loss: 6.5095\n",
      "Epoch 1360, Loss: 6.4896\n",
      "Epoch 1370, Loss: 6.4336\n",
      "Epoch 1380, Loss: 6.3550\n",
      "Epoch 1390, Loss: 6.3543\n",
      "Epoch 1400, Loss: 6.5048\n",
      "Epoch 1410, Loss: 6.4840\n",
      "Epoch 1420, Loss: 6.4270\n",
      "Epoch 1430, Loss: 6.3475\n",
      "Epoch 1440, Loss: 6.3476\n",
      "Epoch 1450, Loss: 6.4972\n",
      "Epoch 1460, Loss: 6.4759\n",
      "Epoch 1470, Loss: 6.4169\n",
      "Epoch 1480, Loss: 6.3389\n",
      "Epoch 1490, Loss: 6.3412\n",
      "Epoch 1500, Loss: 6.4915\n",
      "Epoch 1510, Loss: 6.4698\n",
      "Epoch 1520, Loss: 6.4093\n",
      "Epoch 1530, Loss: 6.3318\n",
      "Epoch 1540, Loss: 6.3346\n",
      "Epoch 1550, Loss: 6.4857\n",
      "Epoch 1560, Loss: 6.4622\n",
      "Epoch 1570, Loss: 6.4003\n",
      "Epoch 1580, Loss: 6.3223\n",
      "Epoch 1590, Loss: 6.3269\n",
      "Epoch 1600, Loss: 6.4800\n",
      "Epoch 1610, Loss: 6.4575\n",
      "Epoch 1620, Loss: 6.3920\n",
      "Epoch 1630, Loss: 6.3154\n",
      "Epoch 1640, Loss: 6.3211\n",
      "Epoch 1650, Loss: 6.4738\n",
      "Epoch 1660, Loss: 6.4479\n",
      "Epoch 1670, Loss: 6.3826\n",
      "Epoch 1680, Loss: 6.3078\n",
      "Epoch 1690, Loss: 6.3140\n",
      "Epoch 1700, Loss: 6.4689\n",
      "Epoch 1710, Loss: 6.4411\n",
      "Epoch 1720, Loss: 6.3750\n",
      "Epoch 1730, Loss: 6.3006\n",
      "Epoch 1740, Loss: 6.3074\n",
      "Epoch 1750, Loss: 6.4630\n",
      "Epoch 1760, Loss: 6.4317\n",
      "Epoch 1770, Loss: 6.3660\n",
      "Epoch 1780, Loss: 6.2941\n",
      "Epoch 1790, Loss: 6.3005\n",
      "Epoch 1800, Loss: 6.4573\n",
      "Epoch 1810, Loss: 6.4273\n",
      "Epoch 1820, Loss: 6.3577\n",
      "Epoch 1830, Loss: 6.2885\n",
      "Epoch 1840, Loss: 6.2942\n",
      "Epoch 1850, Loss: 6.4513\n",
      "Epoch 1860, Loss: 6.4169\n",
      "Epoch 1870, Loss: 6.3492\n",
      "Epoch 1880, Loss: 6.2823\n",
      "Epoch 1890, Loss: 6.2853\n",
      "Epoch 1900, Loss: 6.4459\n",
      "Epoch 1910, Loss: 6.4116\n",
      "Epoch 1920, Loss: 6.3421\n",
      "Epoch 1930, Loss: 6.2767\n",
      "Epoch 1940, Loss: 6.2793\n",
      "Epoch 1950, Loss: 6.4407\n",
      "Epoch 1960, Loss: 6.4033\n",
      "Epoch 1970, Loss: 6.3333\n",
      "Epoch 1980, Loss: 6.2711\n",
      "Epoch 1990, Loss: 6.2723\n",
      "Epoch 2000, Loss: 6.4354\n"
     ]
    }
   ],
   "source": [
    "model = CPCModel(input_dim=input_dim, encoding_dim=512).to(device)\n",
    "train_losses = train_cpc(\n",
    "    model, trajs, n_epochs=2000, lr=1e-3,\n",
    "    n_prediction_steps=10, neg_weight=1)"
   ]
  },
  {
   "cell_type": "code",
   "execution_count": 58,
   "metadata": {},
   "outputs": [
    {
     "data": {
      "image/png": "[encoded data removed]",
      "text/plain": [
       "<Figure size 400x300 with 1 Axes>"
      ]
     },
     "metadata": {},
     "output_type": "display_data"
    }
   ],
   "source": [
    "plt.figure(figsize=(4, 3))\n",
    "plt.plot(train_losses)\n",
    "plt.show()\n"
   ]
  },
  {
   "cell_type": "markdown",
   "metadata": {},
   "source": [
    "# Does Kernel Alignment still look fine?"
   ]
  },
  {
   "cell_type": "code",
   "execution_count": 44,
   "metadata": {},
   "outputs": [],
   "source": [
    "i_eval = 3\n",
    "traj = eval_trajs[i_eval]\n",
    "env_config = {\n",
    "    'max_layers': 7,\n",
    "    'horizon': 1600,\n",
    "    'branching_prob': 1.0,\n",
    "    'node_encoding_corr': corr,\n",
    "    'state_dim': 10,\n",
    "    'initialization_seed': np.array(traj['initialization_seed']).item()\n",
    "}\n",
    "env = EvalCntrees().create_env(env_config, np.array(traj['goal']), i_eval)"
   ]
  },
  {
   "cell_type": "code",
   "execution_count": 45,
   "metadata": {},
   "outputs": [],
   "source": [
    "def get_kernel_alignment(K_A, K_B):\n",
    "    \"\"\" Centered Kernel Alignment \"\"\"\n",
    "    n = K_A.shape[0]\n",
    "    I = np.eye(n)\n",
    "    H = I - np.ones((n, n)) / n\n",
    "    K_A_centered = H @ K_A @ H\n",
    "    K_B_centered = H @ K_B @ H\n",
    "    \n",
    "    # Compute alignment using Frobenius norm\n",
    "    numerator = np.sum(K_A_centered * K_B_centered)\n",
    "    denominator = np.sqrt(np.sum(K_A_centered * K_A_centered) * np.sum(K_B_centered * K_B_centered))\n",
    "    \n",
    "    return numerator / denominator if denominator != 0 else 0"
   ]
  },
  {
   "cell_type": "code",
   "execution_count": 46,
   "metadata": {},
   "outputs": [],
   "source": [
    "layers = []\n",
    "positions = []\n",
    "state_features = []\n",
    "state_features = list(env.node_map.keys())\n",
    "\n",
    "for state_feature in state_features:\n",
    "    layers.append(env.node_map[state_feature].layer)\n",
    "    positions.append(env.node_map[state_feature].pos)"
   ]
  },
  {
   "cell_type": "code",
   "execution_count": 47,
   "metadata": {},
   "outputs": [],
   "source": [
    "true_dist_matrix = []\n",
    "\n",
    "for state_feature in state_features:\n",
    "    _, dist_from_state = env._make_opt_action_dict(state_feature)\n",
    "    sorted_dist_from_state = []\n",
    "    for state_feature in state_features:\n",
    "        sorted_dist_from_state.append(dist_from_state[state_feature])\n",
    "    true_dist_matrix.append(sorted_dist_from_state)\n",
    "\n",
    "true_dist_matrix = np.array(true_dist_matrix)\n"
   ]
  },
  {
   "cell_type": "code",
   "execution_count": 48,
   "metadata": {},
   "outputs": [],
   "source": [
    "def run_model(model, state_features):\n",
    "    hidden_states = []\n",
    "    for state in state_features:\n",
    "        # Create a sequence with just the single state repeated\n",
    "        state_tensor = torch.FloatTensor(state).unsqueeze(0).unsqueeze(0)  # Add batch and sequence dims\n",
    "        \n",
    "        # Get model representations\n",
    "        with torch.no_grad():\n",
    "            encoded = model.encoder(state_tensor.to(device))\n",
    "            hidden_states.append(encoded.squeeze().detach().cpu().numpy())\n",
    "    \n",
    "    return hidden_states"
   ]
  },
  {
   "cell_type": "code",
   "execution_count": 50,
   "metadata": {},
   "outputs": [],
   "source": [
    "kas = []\n",
    "gammas = np.arange(0.1, 1.0, 0.1)\n",
    "hidden_states = run_model(model, state_features)\n",
    "data = np.stack(hidden_states)\n",
    "data -= data.mean(0)[None,:]\n",
    "for gamma in gammas:\n",
    "    K_input = gamma ** true_dist_matrix # exponential kernel\n",
    "    K_latents = data @ data.T\n",
    "    kernel_alignment = get_kernel_alignment(K_input, K_latents)\n",
    "    kas.append(kernel_alignment)"
   ]
  },
  {
   "cell_type": "code",
   "execution_count": 51,
   "metadata": {},
   "outputs": [
    {
     "data": {
      "image/png": "[encoded data removed]",
      "text/plain": [
       "<Figure size 400x300 with 1 Axes>"
      ]
     },
     "metadata": {},
     "output_type": "display_data"
    }
   ],
   "source": [
    "plt.figure(figsize=(4, 3))\n",
    "plt.plot(gammas, kas)\n",
    "plt.show()"
   ]
  },
  {
   "cell_type": "code",
   "execution_count": 52,
   "metadata": {},
   "outputs": [
    {
     "data": {
      "image/png": "[encoded data removed]",
      "text/plain": [
       "<Figure size 400x400 with 1 Axes>"
      ]
     },
     "metadata": {},
     "output_type": "display_data"
    }
   ],
   "source": [
    "fig, ax = plt.subplots(figsize=(4, 4))\n",
    "pca = PCA(n_components=2)\n",
    "data_pca = pca.fit_transform(data)\n",
    "data_pca = data_pca / np.abs(data_pca).max(axis=0)\n",
    "# Plot the PCA results\n",
    "ax.scatter(\n",
    "   data_pca[:, 0], data_pca[:, 1],\n",
    "   c=layers, cmap='plasma', s=20,\n",
    "   alpha=0.7)\n",
    "ax.set_aspect('equal', 'box')\n",
    "ax.set_box_aspect(1)\n",
    "ax.set_xticks([])\n",
    "ax.set_yticks([])\n",
    "# Add box outline on all sides\n",
    "for spine in ax.spines.values():\n",
    "    spine.set_visible(True)\n",
    "plt.tight_layout()\n",
    "plt.show()\n"
   ]
  },
  {
   "cell_type": "markdown",
   "metadata": {},
   "source": [
    "# Test for factorized representation"
   ]
  },
  {
   "cell_type": "code",
   "execution_count": 53,
   "metadata": {},
   "outputs": [],
   "source": [
    "def get_responses(i_eval):\n",
    "    traj = eval_trajs[i_eval]\n",
    "    env_config = {\n",
    "        'max_layers': 7,\n",
    "        'horizon': 1600,\n",
    "        'branching_prob': 1.0,\n",
    "        'node_encoding_corr': corr,\n",
    "        'state_dim': 10,\n",
    "        'initialization_seed': np.array(traj['initialization_seed']).item()\n",
    "    }\n",
    "    env = EvalCntrees().create_env(env_config, np.array(traj['goal']), i_eval)\n",
    "\n",
    "    layers = []\n",
    "    positions = []\n",
    "    nodes = []\n",
    "    state_features = []\n",
    "    state_features = list(env.node_map.keys())\n",
    "    \n",
    "    for state_feature in state_features:\n",
    "        l = env.node_map[state_feature].layer\n",
    "        p = env.node_map[state_feature].pos\n",
    "        layers.append(l)\n",
    "        positions.append(p)\n",
    "        nodes.append((l, p))\n",
    "\n",
    "    hidden_states = run_model(model, state_features)\n",
    "    return nodes, hidden_states"
   ]
  },
  {
   "cell_type": "code",
   "execution_count": 54,
   "metadata": {},
   "outputs": [],
   "source": [
    "results = {\n",
    "    'nodes': [],\n",
    "    'hidden_states': []\n",
    "}\n",
    "\n",
    "for i_eval in range(n_eval_envs):\n",
    "    nodes, hidden_states = get_responses(i_eval)\n",
    "    results['nodes'].extend(nodes)\n",
    "    results['hidden_states'].extend(hidden_states)"
   ]
  },
  {
   "cell_type": "code",
   "execution_count": 55,
   "metadata": {},
   "outputs": [],
   "source": [
    "df = pd.DataFrame(results)\n",
    "\n",
    "same_node = {\n",
    "    'sim': [],\n",
    "    'comparison_node_layer': []\n",
    "}\n",
    "diff_node = {\n",
    "    'sim': [],\n",
    "    'comparison_node_layer': []\n",
    "}\n",
    "\n",
    "\n",
    "for node in df['nodes'].unique():\n",
    "    node_df = df[df['nodes'] == node]\n",
    "    other_node_df = df[df['nodes'] != node]\n",
    "    node_hidden_states = np.stack(node_df['hidden_states'].to_numpy())\n",
    "    other_node_hidden_states = np.stack(other_node_df['hidden_states'].to_numpy())\n",
    "    n_same_node = node_hidden_states.shape[0]\n",
    "    stacked_reprs = np.vstack((node_hidden_states, other_node_hidden_states))\n",
    "    cc = np.corrcoef(stacked_reprs)\n",
    "    for i in range(n_same_node):\n",
    "        for j in range(i+1, n_same_node):\n",
    "            same_node['sim'].append(cc[i, j])\n",
    "            same_node['comparison_node_layer'].append(int(node[1]))\n",
    "    for i in range(n_same_node):\n",
    "        for j in range(i+1, n_same_node):\n",
    "            _j = j + n_same_node\n",
    "            diff_node['sim'].append(cc[i, _j])\n",
    "            diff_node['comparison_node_layer'].append(int(node[1]))"
   ]
  },
  {
   "cell_type": "code",
   "execution_count": 56,
   "metadata": {},
   "outputs": [
    {
     "name": "stdout",
     "output_type": "stream",
     "text": [
      "0.9865209078439029\n",
      "0.0036097787387350463\n",
      "\n",
      "0.9868066118848815\n",
      "0.0035289200946799436\n"
     ]
    }
   ],
   "source": [
    "print(np.mean(same_node['sim']))\n",
    "print(np.std(same_node['sim']))\n",
    "print()\n",
    "print(np.mean(diff_node['sim']))\n",
    "print(np.std(diff_node['sim']))"
   ]
  },
  {
   "cell_type": "code",
   "execution_count": null,
   "metadata": {},
   "outputs": [],
   "source": []
  }
 ],
 "metadata": {
  "kernelspec": {
   "display_name": "jax",
   "language": "python",
   "name": "python3"
  },
  "language_info": {
   "codemirror_mode": {
    "name": "ipython",
    "version": 3
   },
   "file_extension": ".py",
   "mimetype": "text/x-python",
   "name": "python",
   "nbconvert_exporter": "python",
   "pygments_lexer": "ipython3",
   "version": "3.12.5"
  }
 },
 "nbformat": 4,
 "nbformat_minor": 2
}
