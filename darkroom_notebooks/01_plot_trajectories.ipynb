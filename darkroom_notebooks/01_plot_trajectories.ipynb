{
 "cells": [
  {
   "cell_type": "code",
   "execution_count": 1,
   "metadata": {},
   "outputs": [],
   "source": [
    "import numpy as np\n",
    "import matplotlib.pyplot as plt\n",
    "import seaborn as sns\n",
    "import pickle\n",
    "import os\n",
    "import pandas as pd\n",
    "import configs\n",
    "import torch\n",
    "from sklearn.decomposition import PCA\n",
    "from scipy.spatial.distance import pdist, squareform\n",
    "\n",
    "from src.utils import find_ckpt_file, convert_to_tensor\n",
    "import h5py\n",
    "import random\n",
    "from src.envs.darkroom import DarkroomEnv\n",
    "from src.agents.agent import TransformerAgent\n",
    "from src.envs.trees import TreeEnvVec\n"
   ]
  },
  {
   "cell_type": "markdown",
   "metadata": {},
   "source": [
    "# Load Model"
   ]
  },
  {
   "cell_type": "code",
   "execution_count": null,
   "metadata": {},
   "outputs": [
    {
     "name": "stdout",
     "output_type": "stream",
     "text": [
      "epoch=9-val_loss=0.833642.ckpt\n"
     ]
    }
   ],
   "source": [
    "corr = 0.25\n",
    "model_name, path_to_pkl, eval_dset_path = configs.get_model_paths(corr, \"darkroom_simple\")"
   ]
  },
  {
   "cell_type": "code",
   "execution_count": 5,
   "metadata": {},
   "outputs": [],
   "source": [
    "# Extract parameters using regex\n",
    "import re\n",
    "\n",
    "n_embd = int(re.search(r'embd(\\d+)', model_name).group(1))\n",
    "n_layer = int(re.search(r'layer(\\d+)', model_name).group(1))\n",
    "n_head = int(re.search(r'head(\\d+)', model_name).group(1))\n",
    "dropout = float(re.search(r'drop(\\d*\\.?\\d*)', model_name).group(1))\n",
    "\n",
    "# Extract correlation and state_dim from eval dataset path\n",
    "state_dim = int(re.search(r'state_dim(\\d+)', eval_dset_path).group(1))\n",
    "maze_dim = int(re.search(r'_dim(\\d+)_corr', eval_dset_path).group(1))\n",
    "node_encoding_corr = float(re.search(r'corr(\\d*\\.?\\d*)', eval_dset_path).group(1))\n",
    "\n",
    "model_config = {\n",
    "    \"n_embd\": n_embd,\n",
    "    \"n_layer\": n_layer,\n",
    "    \"n_head\": n_head,\n",
    "    \"state_dim\": state_dim,\n",
    "    \"action_dim\": 5,\n",
    "    \"dropout\": dropout,\n",
    "    \"train_on_last_pred_only\": False,\n",
    "    \"test\": True,\n",
    "    \"name\": \"transformer_end_query\",\n",
    "    \"optimizer_config\": None,\n",
    "    \"linear_attention\": False,\n",
    "}"
   ]
  },
  {
   "cell_type": "code",
   "execution_count": 6,
   "metadata": {},
   "outputs": [
    {
     "name": "stderr",
     "output_type": "stream",
     "text": [
      "/tmp/ipykernel_343574/4170590101.py:4: FutureWarning: You are using `torch.load` with `weights_only=False` (the current default value), which uses the default pickle module implicitly. It is possible to construct malicious pickle data which will execute arbitrary code during unpickling (See https://github.com/pytorch/pytorch/blob/main/SECURITY.md#untrusted-models for more details). In a future release, the default value for `weights_only` will be flipped to `True`. This limits the functions that could be executed during unpickling. Arbitrary objects will no longer be allowed to be loaded via this mode unless they are explicitly allowlisted by the user via `torch.serialization.add_safe_globals`. We recommend you start setting `weights_only=True` for any use case where you don't have full control of the loaded file. Please open an issue on GitHub for any issues related to this experimental feature.\n",
      "  checkpoint = torch.load(path_to_pkl)\n"
     ]
    }
   ],
   "source": [
    "from src.models.transformer_end_query import Transformer\n",
    "model_config['initialization_seed'] = 0\n",
    "model = Transformer(**model_config)\n",
    "checkpoint = torch.load(path_to_pkl)\n",
    "model.load_state_dict(checkpoint['state_dict'])\n",
    "model.eval()\n",
    "model = model.to('cuda')"
   ]
  },
  {
   "cell_type": "markdown",
   "metadata": {},
   "source": [
    "# Load Dataset and Create Environment"
   ]
  },
  {
   "cell_type": "code",
   "execution_count": 14,
   "metadata": {},
   "outputs": [],
   "source": [
    "is_h5_file = eval_dset_path.endswith('.h5')\n",
    "if is_h5_file:\n",
    "    eval_trajs = h5py.File(eval_dset_path, 'r')\n",
    "    traj_indices = list(eval_trajs.keys())\n",
    "else:  # Pickle file\n",
    "    with open(eval_dset_path, 'rb') as f:\n",
    "        eval_trajs = pickle.load(f)\n",
    "n_eval_envs = len(eval_trajs)"
   ]
  },
  {
   "cell_type": "code",
   "execution_count": 23,
   "metadata": {},
   "outputs": [],
   "source": [
    "i_eval = 4\n",
    "traj = eval_trajs[i_eval]\n",
    "env_config = {\n",
    "    'maze_dim': maze_dim,\n",
    "    'horizon': 200,\n",
    "    'state_dim': state_dim,\n",
    "    'node_encoding_corr': node_encoding_corr,\n",
    "    'initialization_seed': np.array(traj['initialization_seed']).item(),\n",
    "    'goal': np.array(traj['goal']),\n",
    "    'offline_eval_episodes': 1,\n",
    "    'env': 'darkroom'\n",
    "}\n",
    "env = DarkroomEnv(**env_config)\n",
    "env.reset()\n"
   ]
  },
  {
   "cell_type": "markdown",
   "metadata": {},
   "source": [
    "# Helper Functions"
   ]
  },
  {
   "cell_type": "code",
   "execution_count": 9,
   "metadata": {},
   "outputs": [],
   "source": [
    "def convert_to_path(traj):\n",
    "    \"\"\" Converts a trajectory to a path. \"\"\"\n",
    "    path = []\n",
    "    for observation in traj:\n",
    "        if not isinstance(observation, list):\n",
    "            observation = observation.tolist()\n",
    "        node = env.node_map[tuple(observation)]\n",
    "        path.append((node.layer, node.pos))\n",
    "    return path"
   ]
  },
  {
   "cell_type": "code",
   "execution_count": 19,
   "metadata": {},
   "outputs": [],
   "source": [
    "from src.envs.darkroom import DarkroomEnvVec\n",
    "\n",
    "def offline(traj, model, config, env):\n",
    "    \"\"\" Runs each episode separately with offline context. \"\"\"\n",
    "\n",
    "    n_eval_episodes = config['offline_eval_episodes']\n",
    "    batch = {\n",
    "        'context_states': convert_to_tensor([traj['context_states']]),\n",
    "        'context_actions': convert_to_tensor([traj['context_actions']]),\n",
    "        'context_next_states': convert_to_tensor([traj['context_next_states']]),\n",
    "        'context_rewards': convert_to_tensor([traj['context_rewards'][:, None]]),\n",
    "        }\n",
    "\n",
    "    # Load agents\n",
    "    epsgreedy_agent = TransformerAgent(model, batch_size=1, sample=True)\n",
    "    epsgreedy_agent_2 = TransformerAgent(model, batch_size=1, temp=1, sample=True)\n",
    "    greedy_agent = TransformerAgent(model, batch_size=1, sample=False)\n",
    "    epsgreedy_agent.set_batch(batch)\n",
    "    epsgreedy_agent_2.set_batch(batch)\n",
    "    greedy_agent.set_batch(batch)\n",
    "\n",
    "    # Get unique states from context\n",
    "    seen_states = np.vstack((traj['context_states'][:1], traj['context_next_states']))\n",
    "    unique_states = np.unique(seen_states, axis=0)  # Get unique states\n",
    "    possible_eval_states = []\n",
    "    for state in unique_states:\n",
    "        state_tuple = tuple(state.tolist())\n",
    "        if 'darkroom' in config['env']:\n",
    "            dist_threshold = 2\n",
    "        elif 'tree' in config['env']:\n",
    "            dist_threshold = env.max_layers-1\n",
    "        else:\n",
    "            raise ValueError(f\"Environment {config['env']} not supported.\")\n",
    "        if env.dist_from_goal[state_tuple] >= dist_threshold:\n",
    "            possible_eval_states.append(state_tuple)\n",
    "    if len(possible_eval_states) == 0:\n",
    "        baselines = {\n",
    "            'Learner (temp=2)': 0,\n",
    "            'Learner (temp=1)': 0,\n",
    "            'Learner (greedy)': 0,\n",
    "        }\n",
    "        return baselines, None\n",
    "\n",
    "    # Deploy agents offline\n",
    "    env.reset_state_bank = possible_eval_states\n",
    "    if isinstance(env, DarkroomEnv):\n",
    "        vec_env = DarkroomEnvVec([env])\n",
    "    else:\n",
    "        vec_env = TreeEnvVec([env])\n",
    "    greedy_returns = []\n",
    "    epsgreedy_returns = []\n",
    "    epsgreedy_returns_2 = []\n",
    "    opt_epsgreedy_returns = []\n",
    "    opt_epsgreedy_returns_2 = []\n",
    "    opt_greedy_returns = []\n",
    "\n",
    "    for _ in range(n_eval_episodes):\n",
    "        _epsgreedy_obs, _, _, _epsgreedy_returns, _opt_returns_epsgreedy = \\\n",
    "            vec_env.deploy_eval(epsgreedy_agent, return_max_rewards=True)\n",
    "        _epsgreedy_obs_2, _, _, _epsgreedy_returns_2, _opt_returns_epsgreedy_2 = \\\n",
    "            vec_env.deploy_eval(epsgreedy_agent_2, return_max_rewards=True)\n",
    "        _greedy_obs, _, _, _greedy_returns, _opt_returns_greedy = \\\n",
    "            vec_env.deploy_eval(greedy_agent, return_max_rewards=True)\n",
    "        epsgreedy_returns.append(np.sum(_epsgreedy_returns))\n",
    "        epsgreedy_returns_2.append(np.sum(_epsgreedy_returns_2))\n",
    "        greedy_returns.append(np.sum(_greedy_returns))\n",
    "        opt_epsgreedy_returns.append(_opt_returns_epsgreedy[0])\n",
    "        opt_epsgreedy_returns_2.append(_opt_returns_epsgreedy_2[0])\n",
    "        opt_greedy_returns.append(_opt_returns_greedy[0])\n",
    "\n",
    "    epsgreedy_returns = np.mean(np.array(epsgreedy_returns)/np.array(opt_epsgreedy_returns))\n",
    "    epsgreedy_returns_2 = np.mean(np.array(epsgreedy_returns_2)/np.array(opt_epsgreedy_returns_2))\n",
    "    greedy_returns = np.mean(np.array(greedy_returns)/np.array(opt_greedy_returns))\n",
    "\n",
    "    print(f\"Epsgreedy returns: {epsgreedy_returns}\")\n",
    "    print(f\"Greedy returns: {greedy_returns}\")\n",
    "    print()\n",
    "\n",
    "    # Plot and return\n",
    "    baselines = {\n",
    "        'Learner (temp=2)': epsgreedy_returns,\n",
    "        'Learner (temp=1)': epsgreedy_returns_2,\n",
    "        'Learner (greedy)': greedy_returns,\n",
    "    }\n",
    "\n",
    "    return baselines, _epsgreedy_obs"
   ]
  },
  {
   "cell_type": "code",
   "execution_count": 81,
   "metadata": {},
   "outputs": [],
   "source": [
    "import networkx as nx\n",
    "import matplotlib.pyplot as plt\n",
    "import numpy as np\n",
    "from matplotlib.colors import Normalize\n",
    "from matplotlib.cm import viridis\n",
    "\n",
    "def plot_trajectory(G, trajectory):\n",
    "    \"\"\"\n",
    "    Plot a trajectory through a networkx graph with color-coded transitions.\n",
    "    \n",
    "    Parameters:\n",
    "    - G: networkx graph\n",
    "    - trajectory: list of node IDs representing the path\n",
    "    - pos: optional dictionary of node positions\n",
    "    \"\"\"\n",
    "    \n",
    "    pos = {node: node for node in G.nodes()}\n",
    "    \n",
    "    # Create figure and axis\n",
    "    fig, ax = plt.subplots(figsize=(5, 4))\n",
    "    \n",
    "    # Draw the full graph in light gray\n",
    "    nx.draw_networkx_nodes(G, pos, node_color='lightgray', node_size=100)\n",
    "    nx.draw_networkx_edges(G, pos, edge_color='lightgray', alpha=0.1)\n",
    "    \n",
    "    # Create color map for the transitions\n",
    "    n_transitions = len(trajectory) - 1\n",
    "    norm = Normalize(vmin=0, vmax=n_transitions)\n",
    "    \n",
    "    # Draw each transition with a color based on its timestep\n",
    "    for i in range(n_transitions):\n",
    "        start_node = trajectory[i]\n",
    "        end_node = trajectory[i+1]\n",
    "        \n",
    "        # Draw the nodes for this transition\n",
    "        nx.draw_networkx_nodes(G, pos, \n",
    "                             nodelist=[start_node, end_node],\n",
    "                             node_color='white',\n",
    "                             node_size=100,\n",
    "                             edgecolors='black')\n",
    "        \n",
    "        # Draw the edge for this transition\n",
    "        edge_color = viridis(norm(i))\n",
    "        nx.draw_networkx_edges(G, pos,\n",
    "                             edgelist=[(start_node, end_node)],\n",
    "                             edge_color=[edge_color], alpha=0.8,\n",
    "                             width=4)\n",
    "\n",
    "    if isinstance(env, DarkroomEnv):\n",
    "        goal_state = env.node_map_encoding_to_pos[tuple(env.goal.tolist())] \n",
    "    else:\n",
    "        goal_node = env.node_map[tuple(env.goal.tolist())]\n",
    "        goal_state = (goal_node.layer, goal_node.pos)\n",
    "\n",
    "    nx.draw_networkx_nodes(G, pos,\n",
    "                      nodelist=[goal_state],\n",
    "                      node_color='green',\n",
    "                      node_size=100,\n",
    "                      node_shape='*')\n",
    "    \n",
    "    # Add a colorbar\n",
    "    sm = plt.cm.ScalarMappable(cmap=viridis, norm=norm)\n",
    "    plt.colorbar(sm, ax=ax, label='Timestep')\n",
    "    \n",
    "    plt.title('Trajectory through Graph')\n",
    "    plt.axis('off')\n",
    "    plt.tight_layout()\n",
    "    plt.show()"
   ]
  },
  {
   "cell_type": "markdown",
   "metadata": {},
   "source": [
    "# Model Policy Trajectory, Epsilon-Greedy"
   ]
  },
  {
   "cell_type": "code",
   "execution_count": 88,
   "metadata": {},
   "outputs": [
    {
     "name": "stdout",
     "output_type": "stream",
     "text": [
      "Epsgreedy returns: 0.0\n",
      "Greedy returns: 0.0\n",
      "\n"
     ]
    },
    {
     "data": {
      "image/png": "[encoded data removed]",
      "text/plain": [
       "<Figure size 500x400 with 2 Axes>"
      ]
     },
     "metadata": {},
     "output_type": "display_data"
    },
    {
     "name": "stdout",
     "output_type": "stream",
     "text": [
      "Epsgreedy returns: 1.0\n",
      "Greedy returns: 1.0\n",
      "\n"
     ]
    },
    {
     "data": {
      "image/png": "[encoded data removed]",
      "text/plain": [
       "<Figure size 500x400 with 2 Axes>"
      ]
     },
     "metadata": {},
     "output_type": "display_data"
    }
   ],
   "source": [
    "env.horizon = 100\n",
    "for context_length in [1, 200]:\n",
    "    _traj = {}\n",
    "    for k in traj.keys():\n",
    "        if 'context' in k:\n",
    "            val = traj[k][:context_length]\n",
    "        else:\n",
    "            val = traj[k]\n",
    "        _traj[k] = val\n",
    "    \n",
    "    _, all_obs = offline(_traj, model, env_config, env)\n",
    "    path = []\n",
    "    for observation in all_obs[0]:\n",
    "        if not isinstance(observation, list):\n",
    "            observation = observation.tolist()\n",
    "        if isinstance(env, DarkroomEnv):\n",
    "            node = env.node_map_encoding_to_pos[tuple(observation)]\n",
    "            path.append(node)\n",
    "        else:\n",
    "            node = env.node_map[tuple(observation)]\n",
    "            path.append((node.layer, node.pos))\n",
    "    \n",
    "    plot_trajectory(env.to_networkx(), path)\n"
   ]
  },
  {
   "cell_type": "code",
   "execution_count": null,
   "metadata": {},
   "outputs": [],
   "source": []
  }
 ],
 "metadata": {
  "kernelspec": {
   "display_name": "jax",
   "language": "python",
   "name": "python3"
  },
  "language_info": {
   "codemirror_mode": {
    "name": "ipython",
    "version": 3
   },
   "file_extension": ".py",
   "mimetype": "text/x-python",
   "name": "python",
   "nbconvert_exporter": "python",
   "pygments_lexer": "ipython3",
   "version": "3.12.5"
  }
 },
 "nbformat": 4,
 "nbformat_minor": 2
}
