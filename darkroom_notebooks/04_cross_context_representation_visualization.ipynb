{
 "cells": [
  {
   "cell_type": "code",
   "execution_count": 1,
   "metadata": {},
   "outputs": [],
   "source": [
    "import numpy as np\n",
    "import matplotlib.pyplot as plt\n",
    "import seaborn as sns\n",
    "import pickle\n",
    "import os\n",
    "import pandas as pd\n",
    "import configs\n",
    "import torch\n",
    "from sklearn.decomposition import PCA\n",
    "from scipy.spatial.distance import pdist, squareform\n",
    "\n",
    "from src.utils import find_ckpt_file, convert_to_tensor\n",
    "import h5py\n",
    "import random\n",
    "from src.envs.darkroom import DarkroomEnv"
   ]
  },
  {
   "cell_type": "markdown",
   "metadata": {},
   "source": [
    "# Load Model"
   ]
  },
  {
   "cell_type": "code",
   "execution_count": 2,
   "metadata": {},
   "outputs": [
    {
     "name": "stdout",
     "output_type": "stream",
     "text": [
      "epoch=13-val_loss=0.911523.ckpt\n"
     ]
    }
   ],
   "source": [
    "corr = 0.25\n",
    "model_name, path_to_pkl, eval_dset_path = configs.get_model_paths(corr, \"darkroom_simple\")"
   ]
  },
  {
   "cell_type": "code",
   "execution_count": 3,
   "metadata": {},
   "outputs": [],
   "source": [
    "# Extract parameters using regex\n",
    "import re\n",
    "\n",
    "n_embd = int(re.search(r'embd(\\d+)', model_name).group(1))\n",
    "n_layer = int(re.search(r'layer(\\d+)', model_name).group(1))\n",
    "n_head = int(re.search(r'head(\\d+)', model_name).group(1))\n",
    "dropout = float(re.search(r'drop(\\d*\\.?\\d*)', model_name).group(1))\n",
    "\n",
    "# Extract correlation and state_dim from eval dataset path\n",
    "state_dim = int(re.search(r'state_dim(\\d+)', eval_dset_path).group(1))\n",
    "maze_dim = int(re.search(r'_dim(\\d+)_corr', eval_dset_path).group(1))\n",
    "node_encoding_corr = float(re.search(r'corr(\\d*\\.?\\d*)', eval_dset_path).group(1))\n",
    "\n",
    "model_config = {\n",
    "    \"n_embd\": n_embd,\n",
    "    \"n_layer\": n_layer,\n",
    "    \"n_head\": n_head,\n",
    "    \"state_dim\": state_dim,\n",
    "    \"action_dim\": 5,\n",
    "    \"dropout\": dropout,\n",
    "    \"test\": True,\n",
    "    \"name\": \"transformer_end_query\",\n",
    "    \"optimizer_config\": None,\n",
    "}"
   ]
  },
  {
   "cell_type": "code",
   "execution_count": 4,
   "metadata": {},
   "outputs": [
    {
     "name": "stderr",
     "output_type": "stream",
     "text": [
      "/tmp/ipykernel_1765374/4170590101.py:4: FutureWarning: You are using `torch.load` with `weights_only=False` (the current default value), which uses the default pickle module implicitly. It is possible to construct malicious pickle data which will execute arbitrary code during unpickling (See https://github.com/pytorch/pytorch/blob/main/SECURITY.md#untrusted-models for more details). In a future release, the default value for `weights_only` will be flipped to `True`. This limits the functions that could be executed during unpickling. Arbitrary objects will no longer be allowed to be loaded via this mode unless they are explicitly allowlisted by the user via `torch.serialization.add_safe_globals`. We recommend you start setting `weights_only=True` for any use case where you don't have full control of the loaded file. Please open an issue on GitHub for any issues related to this experimental feature.\n",
      "  checkpoint = torch.load(path_to_pkl)\n"
     ]
    }
   ],
   "source": [
    "from src.models.transformer_end_query import Transformer\n",
    "model_config['initialization_seed'] = 0\n",
    "model = Transformer(**model_config)\n",
    "checkpoint = torch.load(path_to_pkl)\n",
    "model.load_state_dict(checkpoint['state_dict'])\n",
    "model.eval()\n",
    "model = model.to('cuda')"
   ]
  },
  {
   "cell_type": "markdown",
   "metadata": {},
   "source": [
    "# Load Dataset and Create Environment"
   ]
  },
  {
   "cell_type": "code",
   "execution_count": 5,
   "metadata": {},
   "outputs": [],
   "source": [
    "n_eval_envs = 50\n",
    "\n",
    "is_h5_file = eval_dset_path.endswith('.h5')\n",
    "if is_h5_file:\n",
    "    eval_trajs = h5py.File(eval_dset_path, 'r')\n",
    "    traj_indices = list(eval_trajs.keys())\n",
    "    n_eval_envs = min(n_eval_envs, len(traj_indices))\n",
    "    random.seed(0)\n",
    "    traj_indices = random.sample(traj_indices, n_eval_envs)\n",
    "    random.seed()\n",
    "    eval_trajs = [eval_trajs[i] for i in traj_indices]\n",
    "else:  # Pickle file\n",
    "    with open(eval_dset_path, 'rb') as f:\n",
    "        eval_trajs = pickle.load(f)\n",
    "    n_eval_envs = min(n_eval_envs, len(eval_trajs))\n",
    "    random.seed(0)\n",
    "    eval_trajs = random.sample(eval_trajs, n_eval_envs)\n",
    "    random.seed()\n"
   ]
  },
  {
   "cell_type": "markdown",
   "metadata": {},
   "source": [
    "# Helper methods"
   ]
  },
  {
   "cell_type": "code",
   "execution_count": 6,
   "metadata": {},
   "outputs": [],
   "source": [
    "def run_model(traj, model, state_features, seq_length, zero_reward=False):\n",
    "    hidden_states = [[] for _ in range(model.n_layer)]\n",
    "    \n",
    "    for state_feature in state_features: \n",
    "        batch = {\n",
    "            'context_states': convert_to_tensor([np.array(traj['context_states'])]),\n",
    "            'context_actions': convert_to_tensor([np.array(traj['context_actions'])]),\n",
    "            'context_next_states': convert_to_tensor([np.array(traj['context_next_states'])]),\n",
    "            'context_rewards': convert_to_tensor([np.array(traj['context_rewards'])[:, None]]),\n",
    "            'query_states': convert_to_tensor([np.array(state_feature)]),\n",
    "            }\n",
    "        batch['zeros'] = torch.zeros(1, 10 ** 2 + 4 + 1).float()\n",
    "        for k in batch.keys():\n",
    "            if 'context' in k:\n",
    "                batch[k] = batch[k][:,:seq_length]\n",
    "            batch[k] = batch[k].to(model.device)\n",
    "        model.save_activations = True\n",
    "        if zero_reward:\n",
    "            batch['context_rewards'] *= 0\n",
    "        with torch.no_grad():\n",
    "            out = model(batch)\n",
    "        _hidden_states = model.activations['hidden_states'][1:] # Tuple over layers\n",
    "        for i_layer in range(model.n_layer):\n",
    "            hidden_states[i_layer].append(\n",
    "                _hidden_states[i_layer].detach().cpu().numpy().squeeze()[-1])\n",
    "    return hidden_states"
   ]
  },
  {
   "cell_type": "markdown",
   "metadata": {},
   "source": [
    "# Collect representations"
   ]
  },
  {
   "cell_type": "code",
   "execution_count": 7,
   "metadata": {},
   "outputs": [
    {
     "name": "stderr",
     "output_type": "stream",
     "text": [
      "`GPT2SdpaAttention` is used but `torch.nn.functional.scaled_dot_product_attention` does not support `output_attentions=True` or `head_mask`. Falling back to the manual attention implementation, but specifying the manual implementation will be required from Transformers version v5.0.0 onwards. This warning can be removed using the argument `attn_implementation=\"eager\"` when loading the model.\n"
     ]
    }
   ],
   "source": [
    "xs = []\n",
    "ys = []\n",
    "envs = []\n",
    "is_reward = []\n",
    "is_goal = []\n",
    "hidden_states = [[] for _ in range(model.n_layer)]\n",
    "seq_length = 250\n",
    "\n",
    "for i_eval, traj in enumerate(eval_trajs):\n",
    "    env_config = {\n",
    "        'maze_dim': maze_dim,\n",
    "        'horizon': seq_length,\n",
    "        'state_dim': state_dim,\n",
    "        'node_encoding_corr': node_encoding_corr,\n",
    "        'initialization_seed': np.array(traj['initialization_seed']).item(),\n",
    "        'goal': np.array(traj['goal'])\n",
    "    }\n",
    "    env = DarkroomEnv(**env_config)\n",
    "    \n",
    "    _xs = []\n",
    "    _ys = []\n",
    "    state_features = []\n",
    "    state_features = list(env.node_map_encoding_to_pos.keys())\n",
    "    for state_feature in state_features:\n",
    "        _xs.append(env.node_map_encoding_to_pos[state_feature][0])\n",
    "        _ys.append(env.node_map_encoding_to_pos[state_feature][1])\n",
    "    reward_idx = np.argwhere([np.all(s == env.goal) for s in state_features]).item()\n",
    "    _is_reward = [False if i != reward_idx else True for i in range(len(state_features))]\n",
    "    \n",
    "    _hidden_states = run_model(traj, model, state_features, seq_length)\n",
    "    xs.extend(_xs)\n",
    "    ys.extend(_ys)\n",
    "    envs.extend([i_eval] * len(_xs))\n",
    "    is_reward.extend(_is_reward)\n",
    "    for i_layer in range(model.n_layer):\n",
    "        hidden_states[i_layer].extend(_hidden_states[i_layer])\n",
    "    # Clear GPU memory\n",
    "    del _hidden_states\n",
    "    torch.cuda.empty_cache()\n"
   ]
  },
  {
   "cell_type": "code",
   "execution_count": 10,
   "metadata": {},
   "outputs": [],
   "source": [
    "def make_pca_plots(\n",
    "    xs, ys, is_reward, envs, hidden_states,\n",
    "    color_by='envs', dims=[0,1], figname=None):\n",
    "\n",
    "    n_layers = len(hidden_states)\n",
    "    fig, axs = plt.subplots(1, n_layers, figsize=(2.5, 0.9))\n",
    "\n",
    "    # Plot the points\n",
    "    xs = np.array(xs)\n",
    "    ys = np.array(ys)\n",
    "    position_values = np.array(xs + ys*5)\n",
    "    _envs = np.array(envs)\n",
    "    c = _envs if color_by == 'envs' else position_values\n",
    "    c = np.array(c)\n",
    "    is_reward = np.array(is_reward)\n",
    "    not_reward = np.logical_not(is_reward)\n",
    "\n",
    "    # Randomly plot just a few environments\n",
    "    envs = np.array(envs)\n",
    "    np.random.seed(0)\n",
    "    chosen_envs = np.random.choice(np.unique(envs), size=30)\n",
    "    np.random.seed()\n",
    "    env_mask = np.isin(envs, chosen_envs)\n",
    "    is_reward = np.logical_and(is_reward, env_mask)\n",
    "    not_reward = np.logical_and(not_reward, env_mask)\n",
    "\n",
    "    for ax, layer_hidden_states in zip(axs, hidden_states):\n",
    "        data = np.array(layer_hidden_states)\n",
    "        pca = PCA(n_components=10)\n",
    "        data_pca = pca.fit_transform(data)\n",
    "        data_pca = data_pca / np.abs(data_pca).max(axis=0)\n",
    "    \n",
    "        # Plot the points\n",
    "        ax.scatter(\n",
    "            data_pca[not_reward, dims[0]],\n",
    "            data_pca[not_reward, dims[1]],\n",
    "            c=c[not_reward], cmap='plasma', s=5,\n",
    "            linewidth=0,\n",
    "            alpha=0.7)\n",
    "        ax.scatter(\n",
    "            data_pca[is_reward, dims[0]],\n",
    "            data_pca[is_reward, dims[1]],\n",
    "            c='red', marker='*', s=10,\n",
    "            alpha=0.4)\n",
    "        ax.set_aspect('equal', 'box')\n",
    "        ax.set_box_aspect(1)\n",
    "        ax.set_xticks([])\n",
    "        ax.set_yticks([])\n",
    "        for spine in ax.spines.values():\n",
    "            spine.set_visible(True)\n",
    "    plt.tight_layout(pad=0.2, w_pad=0.5)\n",
    "    if figname is not None:\n",
    "        plt.savefig('figs/' + figname + '.png', transparent=True, dpi=300)\n",
    "        plt.savefig('figs/' + figname + '.pdf', transparent=True, dpi=300)\n",
    "    plt.show()"
   ]
  },
  {
   "cell_type": "code",
   "execution_count": 11,
   "metadata": {},
   "outputs": [
    {
     "data": {
      "image/png": "[encoded data removed]",
      "text/plain": [
       "<Figure size 250x90 with 3 Axes>"
      ]
     },
     "metadata": {},
     "output_type": "display_data"
    }
   ],
   "source": [
    "make_pca_plots(xs, ys, is_reward, envs, hidden_states, 'position', figname='4c')"
   ]
  },
  {
   "cell_type": "code",
   "execution_count": null,
   "metadata": {},
   "outputs": [],
   "source": []
  }
 ],
 "metadata": {
  "kernelspec": {
   "display_name": "jax",
   "language": "python",
   "name": "python3"
  },
  "language_info": {
   "codemirror_mode": {
    "name": "ipython",
    "version": 3
   },
   "file_extension": ".py",
   "mimetype": "text/x-python",
   "name": "python",
   "nbconvert_exporter": "python",
   "pygments_lexer": "ipython3",
   "version": "3.12.5"
  }
 },
 "nbformat": 4,
 "nbformat_minor": 2
}
