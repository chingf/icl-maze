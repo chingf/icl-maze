{
 "cells": [
  {
   "cell_type": "code",
   "execution_count": 1,
   "metadata": {},
   "outputs": [],
   "source": [
    "import numpy as np\n",
    "import matplotlib.pyplot as plt\n",
    "import seaborn as sns\n",
    "import pickle\n",
    "import os\n",
    "import pandas as pd\n",
    "import configs\n",
    "import torch\n",
    "from sklearn.decomposition import PCA\n",
    "from scipy.spatial.distance import pdist, squareform\n",
    "\n",
    "from src.utils import find_ckpt_file, convert_to_tensor\n",
    "import h5py\n",
    "import random\n",
    "from src.envs.darkroom import DarkroomEnv"
   ]
  },
  {
   "cell_type": "markdown",
   "metadata": {},
   "source": [
    "# Load Model"
   ]
  },
  {
   "cell_type": "code",
   "execution_count": 7,
   "metadata": {},
   "outputs": [
    {
     "name": "stdout",
     "output_type": "stream",
     "text": [
      "epoch=8-val_loss=0.857135.ckpt\n"
     ]
    }
   ],
   "source": [
    "engram_dir = \"/n/holylfs06/LABS/krajan_lab/Lab/cfang/icl-maze/\"\n",
    "wandb_project = \"darkroom_simple\"\n",
    "\n",
    "env_name = \"darkroom_dim5_corr0.25_state_dim10_envs900000_H200_explore\"\n",
    "model_name = \"transformer_end_query_embd512_layer3_head4_lr0.0001_drop0.0_initseed0_batch1024\"\n",
    "\n",
    "model_path = os.path.join(engram_dir, wandb_project, env_name, \"models\", model_name)\n",
    "ckpt_name = find_ckpt_file(model_path, \"best\")\n",
    "print(ckpt_name)\n",
    "path_to_pkl = os.path.join(model_path, ckpt_name)\n",
    "eval_dset_path = f\"/n/holylfs06/LABS/krajan_lab/Lab/cfang/icl-maze/{wandb_project}/{env_name}/datasets/eval.pkl\""
   ]
  },
  {
   "cell_type": "code",
   "execution_count": 8,
   "metadata": {},
   "outputs": [],
   "source": [
    "# Extract parameters using regex\n",
    "import re\n",
    "\n",
    "n_embd = int(re.search(r'embd(\\d+)', model_name).group(1))\n",
    "n_layer = int(re.search(r'layer(\\d+)', model_name).group(1))\n",
    "n_head = int(re.search(r'head(\\d+)', model_name).group(1))\n",
    "dropout = float(re.search(r'drop(\\d*\\.?\\d*)', model_name).group(1))\n",
    "\n",
    "# Extract correlation and state_dim from eval dataset path\n",
    "state_dim = int(re.search(r'state_dim(\\d+)', eval_dset_path).group(1))\n",
    "maze_dim = int(re.search(r'_dim(\\d+)_corr', eval_dset_path).group(1))\n",
    "node_encoding_corr = float(re.search(r'corr(\\d*\\.?\\d*)', eval_dset_path).group(1))\n",
    "\n",
    "model_config = {\n",
    "    \"n_embd\": n_embd,\n",
    "    \"n_layer\": n_layer,\n",
    "    \"n_head\": n_head,\n",
    "    \"state_dim\": state_dim,\n",
    "    \"action_dim\": 5,\n",
    "    \"dropout\": dropout,\n",
    "    \"test\": True,\n",
    "    \"name\": \"transformer_end_query\",\n",
    "    \"optimizer_config\": None,\n",
    "}"
   ]
  },
  {
   "cell_type": "code",
   "execution_count": 9,
   "metadata": {},
   "outputs": [
    {
     "name": "stderr",
     "output_type": "stream",
     "text": [
      "/tmp/ipykernel_369376/4170590101.py:4: FutureWarning: You are using `torch.load` with `weights_only=False` (the current default value), which uses the default pickle module implicitly. It is possible to construct malicious pickle data which will execute arbitrary code during unpickling (See https://github.com/pytorch/pytorch/blob/main/SECURITY.md#untrusted-models for more details). In a future release, the default value for `weights_only` will be flipped to `True`. This limits the functions that could be executed during unpickling. Arbitrary objects will no longer be allowed to be loaded via this mode unless they are explicitly allowlisted by the user via `torch.serialization.add_safe_globals`. We recommend you start setting `weights_only=True` for any use case where you don't have full control of the loaded file. Please open an issue on GitHub for any issues related to this experimental feature.\n",
      "  checkpoint = torch.load(path_to_pkl)\n"
     ]
    }
   ],
   "source": [
    "from src.models.transformer_end_query import Transformer\n",
    "model_config['initialization_seed'] = 0\n",
    "model = Transformer(**model_config)\n",
    "checkpoint = torch.load(path_to_pkl)\n",
    "model.load_state_dict(checkpoint['state_dict'])\n",
    "model.eval()\n",
    "model = model.to('cuda')"
   ]
  },
  {
   "cell_type": "markdown",
   "metadata": {},
   "source": [
    "# Load Dataset and Create Environment"
   ]
  },
  {
   "cell_type": "code",
   "execution_count": 44,
   "metadata": {},
   "outputs": [],
   "source": [
    "n_eval_envs = 500 #50\n",
    "traj_horizon = 200\n",
    "\n",
    "is_h5_file = eval_dset_path.endswith('.h5')\n",
    "if is_h5_file:\n",
    "    eval_trajs = h5py.File(eval_dset_path, 'r')\n",
    "    traj_indices = list(eval_trajs.keys())\n",
    "    n_eval_envs = min(n_eval_envs, len(traj_indices))\n",
    "    random.seed(0)\n",
    "    traj_indices = random.sample(traj_indices, n_eval_envs)\n",
    "    random.seed()\n",
    "    if n_eval_envs != -1:\n",
    "        eval_trajs = [eval_trajs[i] for i in traj_indices]\n",
    "    else:\n",
    "        n_eval_envs = len(traj_indices)\n",
    "else:  # Pickle file\n",
    "    with open(eval_dset_path, 'rb') as f:\n",
    "        eval_trajs = pickle.load(f)\n",
    "    n_eval_envs = min(n_eval_envs, len(eval_trajs))\n",
    "    if n_eval_envs != -1:\n",
    "        random.seed(0)\n",
    "        eval_trajs = random.sample(eval_trajs, n_eval_envs)\n",
    "        random.seed()\n",
    "    else:\n",
    "        n_eval_envs = len(eval_trajs)\n"
   ]
  },
  {
   "cell_type": "markdown",
   "metadata": {},
   "source": [
    "# Run Model"
   ]
  },
  {
   "cell_type": "code",
   "execution_count": 45,
   "metadata": {},
   "outputs": [],
   "source": [
    "query_dist = 7"
   ]
  },
  {
   "cell_type": "code",
   "execution_count": 46,
   "metadata": {},
   "outputs": [],
   "source": [
    "def deploy_model(model, env, batch, query_state, horizon):\n",
    "    if isinstance(query_state, tuple):\n",
    "        query_state = list(query_state)\n",
    "    elif isinstance(query_state, np.ndarray):\n",
    "        query_state = query_state.tolist()\n",
    "    returns = 0\n",
    "    actions = []\n",
    "    states = [query_state]\n",
    "    #print(env.node_map_encoding_to_pos[tuple(query_state)])\n",
    "    for step in range(horizon):\n",
    "        batch['query_states'] = convert_to_tensor(\n",
    "            [np.array(query_state)]\n",
    "            ).to(model.device)\n",
    "        with torch.no_grad():\n",
    "            action_vec = model(batch).squeeze().cpu().numpy()\n",
    "        query_state, reward = env.transit(query_state, action_vec)\n",
    "        #print(env.node_map_encoding_to_pos[tuple(query_state)])\n",
    "        actions.append(np.argmax(action_vec))\n",
    "        states.append(query_state)\n",
    "        returns += reward\n",
    "    return returns, actions, states\n"
   ]
  },
  {
   "cell_type": "code",
   "execution_count": 47,
   "metadata": {},
   "outputs": [],
   "source": [
    "def get_results(query_offset, test_type, mask_type, buffer_matching_type, layer_strategy):\n",
    "\n",
    "    results = {\n",
    "        'cross_entropy_loss': [],\n",
    "        'mask_layer': [],\n",
    "        'mask_path_loc': [],\n",
    "        'env': []\n",
    "    }\n",
    "    baseline_xc_losses = []\n",
    "    for i_eval in range(n_eval_envs):\n",
    "        env_acc = []\n",
    "        baseline_env_acc = []\n",
    "        traj = eval_trajs[i_eval]\n",
    "        if traj['context_rewards'][:traj_horizon].sum().item() == 0:\n",
    "            continue\n",
    "\n",
    "        env_config = {\n",
    "            'maze_dim': maze_dim,\n",
    "            'horizon': 200,\n",
    "            'state_dim': state_dim,\n",
    "            'node_encoding_corr': node_encoding_corr,\n",
    "            'initialization_seed': np.array(traj['initialization_seed']).item(),\n",
    "            'goal': np.array(traj['goal'])\n",
    "        }\n",
    "        env = DarkroomEnv(**env_config)\n",
    "\n",
    "        optimal_action_map, dist_from_goal = env.make_opt_action_dict()\n",
    "\n",
    "        # Prepare batch\n",
    "        batch = {\n",
    "            'context_states': np.array(traj['context_states'][:traj_horizon]),\n",
    "            'context_actions': np.array(traj['context_actions'][:traj_horizon]),\n",
    "            'context_next_states': np.array(traj['context_next_states'][:traj_horizon]),\n",
    "            'context_rewards': np.array(traj['context_rewards'][:traj_horizon])[:, None],\n",
    "            }\n",
    "        batch['zeros'] = torch.zeros(10 ** 2 + 4 + 1).float()\n",
    "        for k in batch.keys():\n",
    "            batch[k] = convert_to_tensor([batch[k]]).to(model.device)\n",
    "    \n",
    "        # Choose query state\n",
    "        valid_query_states = []\n",
    "        for i in range(len(traj['context_states'])):\n",
    "            test_state = traj['context_states'][i]\n",
    "            d = dist_from_goal[tuple(test_state.tolist())]\n",
    "            if d != query_dist:\n",
    "                continue\n",
    "            returns, _, _ = deploy_model(model, env, batch, test_state, query_dist)\n",
    "            if returns == 0:\n",
    "                continue\n",
    "            valid_query_states.append(test_state)\n",
    "        if len(valid_query_states) == 0:\n",
    "            continue\n",
    "        else:\n",
    "            query_state = valid_query_states[np.random.choice(len(valid_query_states))]\n",
    "    \n",
    "        # Collect states on path from query state to goal\n",
    "        s = query_state.tolist()\n",
    "        returns, actions, states = deploy_model(model, env, batch, query_state, query_dist)\n",
    "        states_on_path = states\n",
    "        seen_states = np.vstack((traj['context_states'][:1], traj['context_next_states'][:traj_horizon]))\n",
    "        seen_states = np.unique(seen_states, axis=0) \n",
    "    \n",
    "        # Check that every state in states_on_path is present in seen_states\n",
    "        skip_env = False\n",
    "        for state in states_on_path:\n",
    "            if not any(np.array_equal(state, seen_state) for seen_state in seen_states):\n",
    "                skip_env = True\n",
    "                break\n",
    "        if skip_env:\n",
    "            continue\n",
    "    \n",
    "        # Prepare batch and optimal action information\n",
    "        query_state = np.array(states_on_path[query_offset])\n",
    "        batch['query_states'] = convert_to_tensor([query_state]).to(model.device)\n",
    "        optimal_action = optimal_action_map[tuple(query_state.tolist())]\n",
    "        optimal_action_tensor = torch.zeros(env.action_dim).to(model.device)\n",
    "        optimal_action_tensor[optimal_action] = 1\n",
    "    \n",
    "        # Get baseline loss\n",
    "        with torch.no_grad():\n",
    "            out = model(batch).squeeze()\n",
    "        first_reward_idx = np.argwhere(traj['context_rewards'][:traj_horizon] == 1)[0,0]\n",
    "        baseline_xc_loss = torch.nn.functional.cross_entropy(out, optimal_action_tensor).item()\n",
    "        baseline_xc_losses.append(baseline_xc_loss)\n",
    "    \n",
    "        # Get loss with token attention masking\n",
    "        for path_loc, s in enumerate(states_on_path):  # For each state on the path\n",
    "            s_indices = []\n",
    "            for i in range(traj_horizon):\n",
    "                if buffer_matching_type == 'all':\n",
    "                    if np.array_equal(s, traj['context_states'][i]) or np.array_equal(s, traj['context_next_states'][i]):\n",
    "                        s_indices.append(i)\n",
    "                elif buffer_matching_type == 'stay':\n",
    "                    if np.array_equal(s, traj['context_states'][i]) and np.array_equal(s, traj['context_next_states'][i]):\n",
    "                        s_indices.append(i)\n",
    "                elif buffer_matching_type == 'exclude_stay':\n",
    "                    if np.array_equal(s, traj['context_states'][i]) ^ np.array_equal(s, traj['context_next_states'][i]):\n",
    "                        s_indices.append(i)\n",
    "                elif buffer_matching_type == 'exclude_stay_prereward':\n",
    "                    if np.array_equal(s, traj['context_states'][i]) ^ np.array_equal(s, traj['context_next_states'][i]):\n",
    "                        if i < first_reward_idx:\n",
    "                            s_indices.append(i)\n",
    "                elif buffer_matching_type == 'exclude_stay_postreward':\n",
    "                    if np.array_equal(s, traj['context_states'][i]) ^ np.array_equal(s, traj['context_next_states'][i]):\n",
    "                        if i > first_reward_idx:\n",
    "                            s_indices.append(i)\n",
    "                elif buffer_matching_type == 'outof':\n",
    "                    if np.array_equal(s, traj['context_states'][i]) and not np.array_equal(s, traj['context_next_states'][i]):\n",
    "                        s_indices.append(i)\n",
    "                elif buffer_matching_type == 'into':\n",
    "                    if not np.array_equal(s, traj['context_states'][i]) and np.array_equal(s, traj['context_next_states'][i]):\n",
    "                        s_indices.append(i)\n",
    "                elif buffer_matching_type == 'onpath':\n",
    "                    next_state_idx = min(path_loc+1, len(states_on_path)-1)\n",
    "                    if np.array_equal(s, traj['context_states'][i]) and np.array_equal(states_on_path[next_state_idx], traj['context_next_states'][i]):\n",
    "                        s_indices.append(i)\n",
    "                elif buffer_matching_type == 'offpath':\n",
    "                    next_state_idx = min(path_loc+1, len(states_on_path)-1)\n",
    "                    if not (np.array_equal(s, traj['context_states'][i]) and np.array_equal(states_on_path[next_state_idx], traj['context_next_states'][i])):\n",
    "                        s_indices.append(i)\n",
    "                else:\n",
    "                    raise ValueError(f\"Invalid buffer matching type: {buffer_matching_type}\")\n",
    "            if len(s_indices) == 0:\n",
    "                continue\n",
    "            s_indices = torch.tensor(s_indices)\n",
    "            s_indices_mask = torch.zeros(traj_horizon+1).bool()\n",
    "            s_indices_mask[s_indices] = True\n",
    "            if test_type == 'sufficiency':\n",
    "                s_indices_mask = ~s_indices_mask\n",
    "            elif test_type == 'necessity':\n",
    "                s_indices_mask = s_indices_mask\n",
    "            else:\n",
    "                raise ValueError(f\"Invalid test type: {test_type}\")\n",
    "            state_mask = torch.ones((traj_horizon+1, traj_horizon+1))  # Create a mask for the state\n",
    "            if mask_type == 'all':\n",
    "                state_mask[:, s_indices_mask] = 0\n",
    "            elif mask_type == 'buffer':\n",
    "                state_mask[:-1, s_indices_mask] = 0\n",
    "            elif mask_type == 'query':\n",
    "                state_mask[-1, s_indices_mask] = 0\n",
    "            else:\n",
    "                raise ValueError(f\"Invalid mask type: {mask_type}\")\n",
    "            state_mask = torch.tril(state_mask)\n",
    "            state_mask = state_mask.bool().to(model.device)\n",
    "    \n",
    "            for b in model.transformer.h:\n",
    "                b._additional_attention_mask = None\n",
    "    \n",
    "            for l in range(model.n_layer):  # Apply the mask to each layer\n",
    "                model.transformer.h[l]._additional_attention_mask = state_mask\n",
    "                with torch.no_grad():\n",
    "                    out = model(batch).squeeze()\n",
    "                intervened_xc_loss = torch.nn.functional.cross_entropy(out, optimal_action_tensor).item()\n",
    "                results['cross_entropy_loss'].append(baseline_xc_loss - intervened_xc_loss)\n",
    "                results['mask_layer'].append(l)\n",
    "                results['mask_path_loc'].append(path_loc)\n",
    "                results['env'].append(i_eval)\n",
    "                if layer_strategy == 'cumulative':\n",
    "                    pass\n",
    "                elif layer_strategy == 'single':\n",
    "                    model.transformer.h[l]._additional_attention_mask = None\n",
    "                else:\n",
    "                    raise ValueError('Unknown layer strategy')\n",
    "\n",
    "    return results"
   ]
  },
  {
   "cell_type": "code",
   "execution_count": null,
   "metadata": {},
   "outputs": [],
   "source": [
    "results = get_results(0, 'necessity', 'query', 'all', 'single')\n",
    "df = pd.DataFrame(results)"
   ]
  },
  {
   "cell_type": "code",
   "execution_count": 51,
   "metadata": {},
   "outputs": [
    {
     "data": {
      "text/plain": [
       "<matplotlib.legend.Legend at 0x14ace1da50a0>"
      ]
     },
     "execution_count": 51,
     "metadata": {},
     "output_type": "execute_result"
    },
    {
     "data": {
      "image/png": "[encoded data removed]",
      "text/plain": [
       "<Figure size 400x300 with 1 Axes>"
      ]
     },
     "metadata": {},
     "output_type": "display_data"
    }
   ],
   "source": [
    "fig, ax = plt.subplots(figsize=(4,3))\n",
    "sns.lineplot(\n",
    "    x='mask_path_loc', y='cross_entropy_loss', hue='mask_layer',\n",
    "    data=df,\n",
    "    ax=ax)\n",
    "ax.axhline(0, linestyle='--', color='black')\n",
    "plt.xlabel('Ablated Path Location')\n",
    "plt.ylabel(r'$\\Delta$ Cross-Entropy Loss')\n",
    "plt.legend(title='Ablated Model Layer')"
   ]
  },
  {
   "cell_type": "code",
   "execution_count": null,
   "metadata": {},
   "outputs": [],
   "source": []
  }
 ],
 "metadata": {
  "kernelspec": {
   "display_name": "jax",
   "language": "python",
   "name": "python3"
  },
  "language_info": {
   "codemirror_mode": {
    "name": "ipython",
    "version": 3
   },
   "file_extension": ".py",
   "mimetype": "text/x-python",
   "name": "python",
   "nbconvert_exporter": "python",
   "pygments_lexer": "ipython3",
   "version": "3.12.5"
  }
 },
 "nbformat": 4,
 "nbformat_minor": 2
}
