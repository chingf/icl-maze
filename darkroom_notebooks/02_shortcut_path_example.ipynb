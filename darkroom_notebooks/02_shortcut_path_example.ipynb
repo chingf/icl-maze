{
 "cells": [
  {
   "cell_type": "code",
   "execution_count": 1,
   "metadata": {},
   "outputs": [],
   "source": [
    "import numpy as np\n",
    "import matplotlib.pyplot as plt\n",
    "import seaborn as sns\n",
    "import pickle\n",
    "import os\n",
    "import pandas as pd\n",
    "import configs\n",
    "import torch\n",
    "from sklearn.decomposition import PCA\n",
    "from scipy.spatial.distance import pdist, squareform\n",
    "\n",
    "from src.utils import find_ckpt_file, convert_to_tensor\n",
    "import h5py\n",
    "import random\n",
    "from src.envs.darkroom import DarkroomEnv"
   ]
  },
  {
   "cell_type": "markdown",
   "metadata": {},
   "source": [
    "# Load Model"
   ]
  },
  {
   "cell_type": "code",
   "execution_count": 2,
   "metadata": {},
   "outputs": [
    {
     "name": "stdout",
     "output_type": "stream",
     "text": [
      "epoch=13-val_loss=0.911523.ckpt\n"
     ]
    }
   ],
   "source": [
    "corr = 0.25\n",
    "model_name, path_to_pkl, eval_dset_path = configs.get_model_paths(corr, \"darkroom_simple\")"
   ]
  },
  {
   "cell_type": "code",
   "execution_count": 3,
   "metadata": {},
   "outputs": [],
   "source": [
    "# Extract parameters using regex\n",
    "import re\n",
    "\n",
    "n_embd = int(re.search(r'embd(\\d+)', model_name).group(1))\n",
    "n_layer = int(re.search(r'layer(\\d+)', model_name).group(1))\n",
    "n_head = int(re.search(r'head(\\d+)', model_name).group(1))\n",
    "dropout = float(re.search(r'drop(\\d*\\.?\\d*)', model_name).group(1))\n",
    "\n",
    "# Extract correlation and state_dim from eval dataset path\n",
    "state_dim = int(re.search(r'state_dim(\\d+)', eval_dset_path).group(1))\n",
    "maze_dim = int(re.search(r'_dim(\\d+)_corr', eval_dset_path).group(1))\n",
    "node_encoding_corr = float(re.search(r'corr(\\d*\\.?\\d*)', eval_dset_path).group(1))\n",
    "\n",
    "model_config = {\n",
    "    \"n_embd\": n_embd,\n",
    "    \"n_layer\": n_layer,\n",
    "    \"n_head\": n_head,\n",
    "    \"state_dim\": state_dim,\n",
    "    \"action_dim\": 5,\n",
    "    \"dropout\": dropout,\n",
    "    \"test\": True,\n",
    "    \"name\": \"transformer_end_query\",\n",
    "    \"optimizer_config\": None,\n",
    "}"
   ]
  },
  {
   "cell_type": "code",
   "execution_count": 4,
   "metadata": {},
   "outputs": [
    {
     "name": "stderr",
     "output_type": "stream",
     "text": [
      "/tmp/ipykernel_3383041/4170590101.py:4: FutureWarning: You are using `torch.load` with `weights_only=False` (the current default value), which uses the default pickle module implicitly. It is possible to construct malicious pickle data which will execute arbitrary code during unpickling (See https://github.com/pytorch/pytorch/blob/main/SECURITY.md#untrusted-models for more details). In a future release, the default value for `weights_only` will be flipped to `True`. This limits the functions that could be executed during unpickling. Arbitrary objects will no longer be allowed to be loaded via this mode unless they are explicitly allowlisted by the user via `torch.serialization.add_safe_globals`. We recommend you start setting `weights_only=True` for any use case where you don't have full control of the loaded file. Please open an issue on GitHub for any issues related to this experimental feature.\n",
      "  checkpoint = torch.load(path_to_pkl)\n"
     ]
    }
   ],
   "source": [
    "from src.models.transformer_end_query import Transformer\n",
    "model_config['initialization_seed'] = 0\n",
    "model = Transformer(**model_config)\n",
    "checkpoint = torch.load(path_to_pkl)\n",
    "model.load_state_dict(checkpoint['state_dict'])\n",
    "model.eval()\n",
    "model = model.to('cuda')"
   ]
  },
  {
   "cell_type": "markdown",
   "metadata": {},
   "source": [
    "# Load dataset"
   ]
  },
  {
   "cell_type": "code",
   "execution_count": 5,
   "metadata": {},
   "outputs": [],
   "source": [
    "n_eval_envs = 50\n",
    "\n",
    "is_h5_file = eval_dset_path.endswith('.h5')\n",
    "if is_h5_file:\n",
    "    eval_trajs = h5py.File(eval_dset_path, 'r')\n",
    "    traj_indices = list(eval_trajs.keys())\n",
    "    n_eval_envs = min(n_eval_envs, len(traj_indices))\n",
    "    random.seed(0)\n",
    "    traj_indices = random.sample(traj_indices, n_eval_envs)\n",
    "    random.seed()\n",
    "    eval_trajs = [eval_trajs[i] for i in traj_indices]\n",
    "else:  # Pickle file\n",
    "    with open(eval_dset_path, 'rb') as f:\n",
    "        eval_trajs = pickle.load(f)\n",
    "    n_eval_envs = min(n_eval_envs, len(eval_trajs))\n",
    "    random.seed(0)\n",
    "    eval_trajs = random.sample(eval_trajs, n_eval_envs)\n",
    "    random.seed()\n"
   ]
  },
  {
   "cell_type": "code",
   "execution_count": 6,
   "metadata": {},
   "outputs": [],
   "source": [
    "base_env_config = {\n",
    "    'maze_dim': maze_dim,\n",
    "    'horizon': 200,\n",
    "    'state_dim': state_dim,\n",
    "    'node_encoding_corr': node_encoding_corr,\n",
    "    'initialization_seed': None, # will be overwritten\n",
    "    'goal': None # will be overwritten\n",
    "}"
   ]
  },
  {
   "cell_type": "markdown",
   "metadata": {},
   "source": [
    "# Define test goals and trajectories in XY space\n",
    "Goal location and long-path trajectories will be overwritten in each test environment, so that we can aggregate performance in an automated way"
   ]
  },
  {
   "cell_type": "code",
   "execution_count": 7,
   "metadata": {},
   "outputs": [
    {
     "name": "stdout",
     "output_type": "stream",
     "text": [
      "[[2 2]\n",
      " [3 0]]\n"
     ]
    }
   ],
   "source": [
    "test_xy_goals = []\n",
    "for i_eval in range(n_eval_envs):\n",
    "    traj = eval_trajs[i_eval]\n",
    "    base_env_config['initialization_seed'] = np.array(traj['initialization_seed']).item()\n",
    "    base_env_config['goal'] = np.array(traj['goal'])\n",
    "    env = DarkroomEnv(**base_env_config)\n",
    "    xy_goal = env.node_map_encoding_to_pos[tuple(env.goal.tolist())]\n",
    "    test_xy_goals.append(xy_goal)\n",
    "\n",
    "print(np.unique(test_xy_goals, axis=0))"
   ]
  },
  {
   "cell_type": "code",
   "execution_count": 8,
   "metadata": {},
   "outputs": [],
   "source": [
    "test_xy_goals = np.unique(test_xy_goals, axis=0)\n",
    "test_xy_trajectories = [\n",
    "    [[0,0], [0,1], [1,1], [2,1], [3,1], [4,1], [4,2], [3,2], [2,2]],\n",
    "    [[0,3], [1,3], [2,3], [3,3], [4,3], [4,2], [4,1], [4,0], [3,0]]\n",
    "]"
   ]
  },
  {
   "cell_type": "markdown",
   "metadata": {},
   "source": [
    "# Load Dataset and Create Environment"
   ]
  },
  {
   "cell_type": "code",
   "execution_count": 9,
   "metadata": {},
   "outputs": [],
   "source": [
    "test_idx = 1\n",
    "test_xy_goal = test_xy_goals[test_idx]\n",
    "test_xy_trajectory = test_xy_trajectories[test_idx]"
   ]
  },
  {
   "cell_type": "code",
   "execution_count": 10,
   "metadata": {},
   "outputs": [],
   "source": [
    "i_eval = 2\n",
    "traj = eval_trajs[i_eval]"
   ]
  },
  {
   "cell_type": "code",
   "execution_count": 11,
   "metadata": {},
   "outputs": [],
   "source": [
    "env_config = {\n",
    "    'maze_dim': maze_dim,\n",
    "    'horizon': 200,\n",
    "    'state_dim': state_dim,\n",
    "    'node_encoding_corr': node_encoding_corr,\n",
    "    'initialization_seed': np.array(traj['initialization_seed']).item(),\n",
    "    'goal': np.array(traj['goal'])\n",
    "}\n",
    "env = DarkroomEnv(**env_config)\n",
    "env.goal = np.array(env.node_map_pos_to_encoding[tuple(test_xy_goal)])\n"
   ]
  },
  {
   "cell_type": "markdown",
   "metadata": {},
   "source": [
    "# Run Model"
   ]
  },
  {
   "cell_type": "code",
   "execution_count": 12,
   "metadata": {},
   "outputs": [],
   "source": [
    "from copy import deepcopy"
   ]
  },
  {
   "cell_type": "code",
   "execution_count": 13,
   "metadata": {},
   "outputs": [],
   "source": [
    "repeats = 1\n",
    "full_test_xy_trajectory = []\n",
    "\n",
    "for _ in range(repeats):\n",
    "    full_test_xy_trajectory.extend(deepcopy(test_xy_trajectory))\n",
    "    full_test_xy_trajectory.extend(deepcopy(test_xy_trajectory[:-1][::-1]))"
   ]
  },
  {
   "cell_type": "code",
   "execution_count": 14,
   "metadata": {},
   "outputs": [],
   "source": [
    "def get_onestep_action(xy1, xy2):\n",
    "    x1, y1 = xy1\n",
    "    x2, y2 = xy2\n",
    "    assert np.abs(x1-x2) + np.abs(y1-y2) <= 1\n",
    "    if xy1 == xy2:\n",
    "        return 4\n",
    "    elif x1 < x2 and y1 == y2:\n",
    "        return 2\n",
    "    elif x1 > x2 and y1 == y2:\n",
    "        return 0\n",
    "    elif x1 == x2 and y1 < y2:\n",
    "        return 1\n",
    "    elif x1 == x2 and y1 > y2:\n",
    "        return 3\n",
    "    else:\n",
    "        raise ValueError(f\"Invalid action: {xy1} -> {xy2}\")"
   ]
  },
  {
   "cell_type": "code",
   "execution_count": 15,
   "metadata": {},
   "outputs": [],
   "source": [
    "def generate_trajectory_batch(xy_trajectory, xy_goal, env):\n",
    "    context_states = []\n",
    "    context_actions = []\n",
    "    context_next_states = []\n",
    "    context_rewards = []\n",
    "    query_state = []\n",
    "    for i in range(len(xy_trajectory)-1):\n",
    "        state_feature = np.array(env.node_map_pos_to_encoding[tuple(xy_trajectory[i])])\n",
    "        next_state_feature = np.array(env.node_map_pos_to_encoding[tuple(xy_trajectory[i+1])])\n",
    "        action_idx = get_onestep_action(xy_trajectory[i], xy_trajectory[i+1])\n",
    "        action = np.zeros(5)\n",
    "        action[action_idx] = 1\n",
    "        reward = 1 if np.all(xy_trajectory[i+1] == xy_goal) else 0\n",
    "        context_states.append(state_feature)\n",
    "        context_actions.append(action)\n",
    "        context_next_states.append(next_state_feature)\n",
    "        context_rewards.append(reward)\n",
    "    context_states = np.array(context_states).squeeze()\n",
    "    context_actions = np.array(context_actions)\n",
    "    context_next_states = np.array(context_next_states).squeeze()\n",
    "    context_rewards = np.array(context_rewards)\n",
    "    batch = {\n",
    "        'context_states': convert_to_tensor([context_states]),\n",
    "        'context_actions': convert_to_tensor([context_actions]),\n",
    "        'context_next_states': convert_to_tensor([context_next_states]),\n",
    "        'context_rewards': convert_to_tensor([context_rewards[:, None]]),\n",
    "    }\n",
    "    return batch\n"
   ]
  },
  {
   "cell_type": "code",
   "execution_count": 16,
   "metadata": {},
   "outputs": [],
   "source": [
    "batch = generate_trajectory_batch(full_test_xy_trajectory, test_xy_goal, env)"
   ]
  },
  {
   "cell_type": "code",
   "execution_count": 17,
   "metadata": {},
   "outputs": [
    {
     "name": "stdout",
     "output_type": "stream",
     "text": [
      "(0, 3) to (1, 3) with action 2 and reward 0.0\n",
      "(1, 3) to (2, 3) with action 2 and reward 0.0\n",
      "(2, 3) to (3, 3) with action 2 and reward 0.0\n",
      "(3, 3) to (4, 3) with action 2 and reward 0.0\n",
      "(4, 3) to (4, 2) with action 3 and reward 0.0\n",
      "(4, 2) to (4, 1) with action 3 and reward 0.0\n",
      "(4, 1) to (4, 0) with action 3 and reward 0.0\n",
      "(4, 0) to (3, 0) with action 0 and reward 1.0\n",
      "(3, 0) to (4, 0) with action 2 and reward 0.0\n",
      "(4, 0) to (4, 1) with action 1 and reward 0.0\n",
      "(4, 1) to (4, 2) with action 1 and reward 0.0\n",
      "(4, 2) to (4, 3) with action 1 and reward 0.0\n",
      "(4, 3) to (3, 3) with action 0 and reward 0.0\n",
      "(3, 3) to (2, 3) with action 0 and reward 0.0\n",
      "(2, 3) to (1, 3) with action 0 and reward 0.0\n",
      "(1, 3) to (0, 3) with action 0 and reward 0.0\n"
     ]
    }
   ],
   "source": [
    "for i in range(batch['context_states'].shape[1]):\n",
    "    start = batch['context_states'][:, i].cpu().numpy().squeeze()\n",
    "    next = batch['context_next_states'][:, i].cpu().numpy().squeeze()\n",
    "    action = np.argmax(batch['context_actions'][:, i].cpu().numpy())\n",
    "    reward = batch['context_rewards'][:, i].cpu().numpy().squeeze()\n",
    "    start = env.node_map_encoding_to_pos[tuple(start.tolist())]\n",
    "    next = env.node_map_encoding_to_pos[tuple(next.tolist())]\n",
    "    print(f'{start} to {next} with action {action} and reward {reward}')\n",
    "    "
   ]
  },
  {
   "cell_type": "code",
   "execution_count": 18,
   "metadata": {},
   "outputs": [],
   "source": [
    "n_steps = 10\n",
    "curr_xy_state = full_test_xy_trajectory[-1]\n",
    "query_state = env.node_map_pos_to_encoding[tuple(curr_xy_state)]\n",
    "xy_path = [curr_xy_state]\n",
    "chosen_actions = []\n",
    "experienced_rewards = []\n",
    "\n",
    "# Convert initial context tensors to numpy for easier concatenation\n",
    "context_states = batch['context_states'].cpu().numpy().squeeze()\n",
    "context_actions = batch['context_actions'].cpu().numpy().squeeze()\n",
    "context_next_states = batch['context_next_states'].cpu().numpy().squeeze()\n",
    "context_rewards = batch['context_rewards'].cpu().numpy().squeeze()\n",
    "\n",
    "for i in range(n_steps):\n",
    "    batch = {\n",
    "        'context_states': convert_to_tensor([context_states]),\n",
    "        'context_actions': convert_to_tensor([context_actions]),\n",
    "        'context_next_states': convert_to_tensor([context_next_states]),\n",
    "        'context_rewards': convert_to_tensor([context_rewards[:, None]]),\n",
    "        }\n",
    "    batch['query_states'] = convert_to_tensor([np.array(query_state)])\n",
    "    batch['query_states'] = batch['query_states'].to(model.device)\n",
    "    batch['zeros'] = torch.zeros(1, state_dim ** 2 + 5 + 1).float()\n",
    "    for k in batch.keys():\n",
    "        batch[k] = batch[k].to(model.device)\n",
    "\n",
    "    with torch.no_grad():\n",
    "        out = model(batch)\n",
    "\n",
    "    pred_action = torch.argmax(out.squeeze()).item()\n",
    "    action_encoding = np.zeros(5)\n",
    "    action_encoding[pred_action] = 1\n",
    "    next_state_encoding, reward = env.transit(np.array(query_state), action_encoding)\n",
    "\n",
    "    context_states = np.vstack([context_states, query_state])\n",
    "    context_actions = np.vstack([context_actions, action_encoding])\n",
    "    context_next_states = np.vstack([context_next_states, next_state_encoding])\n",
    "    context_rewards = np.append(context_rewards, reward)\n",
    "\n",
    "    xy_path.append(env.node_map_encoding_to_pos[tuple(next_state_encoding)])\n",
    "    chosen_actions.append(pred_action)\n",
    "    experienced_rewards.append(reward)\n",
    "    query_state = next_state_encoding"
   ]
  },
  {
   "cell_type": "code",
   "execution_count": 19,
   "metadata": {},
   "outputs": [
    {
     "data": {
      "text/plain": [
       "[[0, 3],\n",
       " (0, 2),\n",
       " (1, 2),\n",
       " (1, 1),\n",
       " (2, 1),\n",
       " (2, 0),\n",
       " (3, 0),\n",
       " (3, 0),\n",
       " (3, 0),\n",
       " (3, 0),\n",
       " (3, 0)]"
      ]
     },
     "execution_count": 19,
     "metadata": {},
     "output_type": "execute_result"
    }
   ],
   "source": [
    "xy_path"
   ]
  },
  {
   "cell_type": "markdown",
   "metadata": {},
   "source": [
    "# Plot trajectory"
   ]
  },
  {
   "cell_type": "code",
   "execution_count": 20,
   "metadata": {},
   "outputs": [],
   "source": [
    "import networkx as nx\n",
    "import matplotlib.pyplot as plt\n",
    "import numpy as np\n",
    "from matplotlib.colors import Normalize\n",
    "from matplotlib.cm import viridis\n",
    "\n",
    "node_size = 15\n",
    "\n",
    "def plot_trajectory(\n",
    "        G,\n",
    "        observed_path,\n",
    "        taken_path,\n",
    "        savefig=False\n",
    "        ):\n",
    "    \"\"\"\n",
    "    Plot a trajectory through a networkx graph with color-coded transitions.\n",
    "    \n",
    "    Parameters:\n",
    "    - G: networkx graph\n",
    "    - trajectory: list of node IDs representing the path\n",
    "    - pos: optional dictionary of node positions\n",
    "    \"\"\"\n",
    "\n",
    "    observed_path = [tuple(node) for node in observed_path]\n",
    "    taken_path = [tuple(node) for node in taken_path]\n",
    "    pos = {node: node for node in G.nodes()}\n",
    "    goal_state = env.node_map_encoding_to_pos[tuple(env.goal.tolist())] \n",
    "    \n",
    "    # Create figure and axis\n",
    "    fig, ax = plt.subplots(figsize=(1.42, 1.42))  # Create a new figure\n",
    "    nx.draw(G, pos,\n",
    "            nodelist=[n for n in G.nodes() if n != goal_state],\n",
    "           node_color='gray',\n",
    "           edge_color='white',\n",
    "           node_size=node_size,\n",
    "           font_size=8,\n",
    "           font_weight='bold',\n",
    "           width=1,\n",
    "           alpha=1.,\n",
    "           ax=ax)\n",
    "    \n",
    "    # Draw each transition with a color based on its timestep\n",
    "    for i in range(len(observed_path)-1):\n",
    "        start_node = observed_path[i]\n",
    "        end_node = observed_path[i+1]\n",
    "        nx.draw_networkx_edges(G, pos,\n",
    "            edgelist=[(start_node, end_node)],\n",
    "            edge_color='orange',\n",
    "            style='dashed',\n",
    "            alpha=0.8,\n",
    "            width=2,\n",
    "            ax=ax)\n",
    "        \n",
    "    for i in range(len(taken_path)-1):\n",
    "        start_node = taken_path[i]\n",
    "        end_node = taken_path[i+1]\n",
    "        nx.draw_networkx_edges(G, pos,\n",
    "            edgelist=[(start_node, end_node)],\n",
    "            edge_color='blue',\n",
    "            alpha=0.8,\n",
    "            width=2,\n",
    "            ax=ax)\n",
    "\n",
    "    nx.draw_networkx_nodes(G, pos,\n",
    "                      nodelist=[goal_state],\n",
    "                      node_color='red',\n",
    "                      node_size=node_size,\n",
    "                      node_shape='*',\n",
    "                      ax=ax)\n",
    "    start_state = observed_path[0]\n",
    "    nx.draw_networkx_nodes(G, pos,\n",
    "                      nodelist=[start_state],\n",
    "                      node_color='red',\n",
    "                      node_size=node_size,\n",
    "                      ax=ax)\n",
    "    \n",
    "    # Replace plt.axis('off') with code to add a box outline\n",
    "    plt.axis('on')  # Turn on axes\n",
    "    ax.set_frame_on(True)  # Make sure frame is on\n",
    "    \n",
    "    # Remove tick marks but keep the box\n",
    "    ax.tick_params(bottom=False, left=False, labelbottom=False, labelleft=False)\n",
    "    \n",
    "    # Adjust limits to fit the graph with some padding\n",
    "    x_min, x_max = min(n[0] for n in G.nodes()), max(n[0] for n in G.nodes())\n",
    "    y_min, y_max = min(n[1] for n in G.nodes()), max(n[1] for n in G.nodes())\n",
    "    padding = 0.5\n",
    "    ax.set_xlim(x_min - padding, x_max + padding)\n",
    "    ax.set_ylim(y_min - padding, y_max + padding)\n",
    "    \n",
    "    plt.tight_layout()\n",
    "    if savefig:\n",
    "        plt.savefig(f'figs/1c.png', transparent=True, dpi=300)\n",
    "        plt.savefig(f'figs/1c.svg', transparent=True, dpi=300)\n",
    "    plt.show()"
   ]
  },
  {
   "cell_type": "code",
   "execution_count": 21,
   "metadata": {},
   "outputs": [
    {
     "data": {
      "image/png": "[encoded data removed]",
      "text/plain": [
       "<Figure size 142x142 with 1 Axes>"
      ]
     },
     "metadata": {},
     "output_type": "display_data"
    }
   ],
   "source": [
    "plot_trajectory(\n",
    "    env.to_networkx(),\n",
    "    observed_path=test_xy_trajectory,\n",
    "    taken_path=xy_path,\n",
    "    savefig=True)"
   ]
  },
  {
   "cell_type": "markdown",
   "metadata": {},
   "source": [
    "# Appendix Example"
   ]
  },
  {
   "cell_type": "code",
   "execution_count": 22,
   "metadata": {},
   "outputs": [],
   "source": [
    "test_idx = 0\n",
    "test_xy_goal = test_xy_goals[test_idx]\n",
    "test_xy_trajectory = test_xy_trajectories[test_idx]"
   ]
  },
  {
   "cell_type": "code",
   "execution_count": 23,
   "metadata": {},
   "outputs": [],
   "source": [
    "i_eval = 2\n",
    "traj = eval_trajs[i_eval]"
   ]
  },
  {
   "cell_type": "code",
   "execution_count": 24,
   "metadata": {},
   "outputs": [],
   "source": [
    "env_config = {\n",
    "    'maze_dim': maze_dim,\n",
    "    'horizon': 200,\n",
    "    'state_dim': state_dim,\n",
    "    'node_encoding_corr': node_encoding_corr,\n",
    "    'initialization_seed': np.array(traj['initialization_seed']).item(),\n",
    "    'goal': np.array(traj['goal'])\n",
    "}\n",
    "env = DarkroomEnv(**env_config)\n",
    "env.goal = np.array(env.node_map_pos_to_encoding[tuple(test_xy_goal)])\n"
   ]
  },
  {
   "cell_type": "code",
   "execution_count": 25,
   "metadata": {},
   "outputs": [],
   "source": [
    "repeats = 1\n",
    "full_test_xy_trajectory = []\n",
    "\n",
    "for _ in range(repeats):\n",
    "    full_test_xy_trajectory.extend(deepcopy(test_xy_trajectory))\n",
    "    full_test_xy_trajectory.extend(deepcopy(test_xy_trajectory[:-1][::-1]))"
   ]
  },
  {
   "cell_type": "code",
   "execution_count": 26,
   "metadata": {},
   "outputs": [],
   "source": [
    "batch = generate_trajectory_batch(full_test_xy_trajectory, test_xy_goal, env)"
   ]
  },
  {
   "cell_type": "code",
   "execution_count": 27,
   "metadata": {},
   "outputs": [
    {
     "name": "stdout",
     "output_type": "stream",
     "text": [
      "(0, 0) to (0, 1) with action 1 and reward 0.0\n",
      "(0, 1) to (1, 1) with action 2 and reward 0.0\n",
      "(1, 1) to (2, 1) with action 2 and reward 0.0\n",
      "(2, 1) to (3, 1) with action 2 and reward 0.0\n",
      "(3, 1) to (4, 1) with action 2 and reward 0.0\n",
      "(4, 1) to (4, 2) with action 1 and reward 0.0\n",
      "(4, 2) to (3, 2) with action 0 and reward 0.0\n",
      "(3, 2) to (2, 2) with action 0 and reward 1.0\n",
      "(2, 2) to (3, 2) with action 2 and reward 0.0\n",
      "(3, 2) to (4, 2) with action 2 and reward 0.0\n",
      "(4, 2) to (4, 1) with action 3 and reward 0.0\n",
      "(4, 1) to (3, 1) with action 0 and reward 0.0\n",
      "(3, 1) to (2, 1) with action 0 and reward 0.0\n",
      "(2, 1) to (1, 1) with action 0 and reward 0.0\n",
      "(1, 1) to (0, 1) with action 0 and reward 0.0\n",
      "(0, 1) to (0, 0) with action 3 and reward 0.0\n"
     ]
    }
   ],
   "source": [
    "for i in range(batch['context_states'].shape[1]):\n",
    "    start = batch['context_states'][:, i].cpu().numpy().squeeze()\n",
    "    next = batch['context_next_states'][:, i].cpu().numpy().squeeze()\n",
    "    action = np.argmax(batch['context_actions'][:, i].cpu().numpy())\n",
    "    reward = batch['context_rewards'][:, i].cpu().numpy().squeeze()\n",
    "    start = env.node_map_encoding_to_pos[tuple(start.tolist())]\n",
    "    next = env.node_map_encoding_to_pos[tuple(next.tolist())]\n",
    "    print(f'{start} to {next} with action {action} and reward {reward}')\n",
    "    "
   ]
  },
  {
   "cell_type": "code",
   "execution_count": 28,
   "metadata": {},
   "outputs": [],
   "source": [
    "n_steps = 10\n",
    "curr_xy_state = full_test_xy_trajectory[-1]\n",
    "query_state = env.node_map_pos_to_encoding[tuple(curr_xy_state)]\n",
    "xy_path = [curr_xy_state]\n",
    "chosen_actions = []\n",
    "experienced_rewards = []\n",
    "\n",
    "# Convert initial context tensors to numpy for easier concatenation\n",
    "context_states = batch['context_states'].cpu().numpy().squeeze()\n",
    "context_actions = batch['context_actions'].cpu().numpy().squeeze()\n",
    "context_next_states = batch['context_next_states'].cpu().numpy().squeeze()\n",
    "context_rewards = batch['context_rewards'].cpu().numpy().squeeze()\n",
    "\n",
    "for i in range(n_steps):\n",
    "    batch = {\n",
    "        'context_states': convert_to_tensor([context_states]),\n",
    "        'context_actions': convert_to_tensor([context_actions]),\n",
    "        'context_next_states': convert_to_tensor([context_next_states]),\n",
    "        'context_rewards': convert_to_tensor([context_rewards[:, None]]),\n",
    "        }\n",
    "    batch['query_states'] = convert_to_tensor([np.array(query_state)])\n",
    "    batch['query_states'] = batch['query_states'].to(model.device)\n",
    "    batch['zeros'] = torch.zeros(1, state_dim ** 2 + 5 + 1).float()\n",
    "    for k in batch.keys():\n",
    "        batch[k] = batch[k].to(model.device)\n",
    "\n",
    "    with torch.no_grad():\n",
    "        out = model(batch)\n",
    "\n",
    "    pred_action = torch.argmax(out.squeeze()).item()\n",
    "    action_encoding = np.zeros(5)\n",
    "    action_encoding[pred_action] = 1\n",
    "    next_state_encoding, reward = env.transit(np.array(query_state), action_encoding)\n",
    "\n",
    "    context_states = np.vstack([context_states, query_state])\n",
    "    context_actions = np.vstack([context_actions, action_encoding])\n",
    "    context_next_states = np.vstack([context_next_states, next_state_encoding])\n",
    "    context_rewards = np.append(context_rewards, reward)\n",
    "\n",
    "    xy_path.append(env.node_map_encoding_to_pos[tuple(next_state_encoding)])\n",
    "    chosen_actions.append(pred_action)\n",
    "    experienced_rewards.append(reward)\n",
    "    query_state = next_state_encoding"
   ]
  },
  {
   "cell_type": "code",
   "execution_count": 29,
   "metadata": {},
   "outputs": [
    {
     "data": {
      "text/plain": [
       "[[0, 0],\n",
       " (1, 0),\n",
       " (1, 1),\n",
       " (1, 2),\n",
       " (2, 2),\n",
       " (2, 2),\n",
       " (2, 2),\n",
       " (2, 2),\n",
       " (2, 2),\n",
       " (2, 2),\n",
       " (2, 2)]"
      ]
     },
     "execution_count": 29,
     "metadata": {},
     "output_type": "execute_result"
    }
   ],
   "source": [
    "xy_path"
   ]
  },
  {
   "cell_type": "code",
   "execution_count": 30,
   "metadata": {},
   "outputs": [
    {
     "data": {
      "image/png": "[encoded data removed]",
      "text/plain": [
       "<Figure size 142x142 with 1 Axes>"
      ]
     },
     "metadata": {},
     "output_type": "display_data"
    }
   ],
   "source": [
    "plot_trajectory(\n",
    "    env.to_networkx(),\n",
    "    observed_path=test_xy_trajectory,\n",
    "    taken_path=xy_path,\n",
    "    savefig=False)"
   ]
  },
  {
   "cell_type": "markdown",
   "metadata": {},
   "source": [
    "# Get chance performance"
   ]
  },
  {
   "cell_type": "code",
   "execution_count": null,
   "metadata": {},
   "outputs": [],
   "source": [
    "from math import comb"
   ]
  },
  {
   "cell_type": "code",
   "execution_count": 36,
   "metadata": {},
   "outputs": [
    {
     "name": "stdout",
     "output_type": "stream",
     "text": [
      "Chance Level Performance: 6/256 = 0.02\n"
     ]
    }
   ],
   "source": [
    "# Eval Test 1\n",
    "shortest_path_len = 4\n",
    "n_paths = shortest_path_len**4\n",
    "x_diff = 2\n",
    "y_diff = 2\n",
    "n_shortest_paths = comb(shortest_path_len, x_diff)\n",
    "print(f\"Chance Level Performance: {n_shortest_paths}/{n_paths} = {n_shortest_paths/n_paths:.2f}\")"
   ]
  },
  {
   "cell_type": "code",
   "execution_count": 37,
   "metadata": {},
   "outputs": [
    {
     "name": "stdout",
     "output_type": "stream",
     "text": [
      "Chance Level Performance: 20/1296 = 0.02\n"
     ]
    }
   ],
   "source": [
    "# Eval Test 2\n",
    "shortest_path_len = 6\n",
    "n_paths = shortest_path_len**4\n",
    "x_diff = 3\n",
    "y_diff = 3\n",
    "n_shortest_paths = comb(shortest_path_len, x_diff)\n",
    "print(f\"Chance Level Performance: {n_shortest_paths}/{n_paths} = {n_shortest_paths/n_paths:.2f}\")"
   ]
  }
 ],
 "metadata": {
  "kernelspec": {
   "display_name": "Python 3",
   "language": "python",
   "name": "python3"
  },
  "language_info": {
   "codemirror_mode": {
    "name": "ipython",
    "version": 3
   },
   "file_extension": ".py",
   "mimetype": "text/x-python",
   "name": "python",
   "nbconvert_exporter": "python",
   "pygments_lexer": "ipython3",
   "version": "3.12.5"
  }
 },
 "nbformat": 4,
 "nbformat_minor": 2
}
