{
 "cells": [
  {
   "cell_type": "code",
   "execution_count": 1,
   "metadata": {},
   "outputs": [],
   "source": [
    "import numpy as np\n",
    "import matplotlib.pyplot as plt\n",
    "import seaborn as sns\n",
    "import pickle\n",
    "import os\n",
    "import pandas as pd\n",
    "import configs\n",
    "import torch\n",
    "from sklearn.decomposition import PCA\n",
    "from scipy.spatial.distance import pdist, squareform\n",
    "\n",
    "from src.utils import find_ckpt_file, convert_to_tensor\n",
    "import h5py\n",
    "import random\n",
    "from src.envs.darkroom import DarkroomEnv\n",
    "from copy import copy"
   ]
  },
  {
   "cell_type": "markdown",
   "metadata": {},
   "source": [
    "# Load Model"
   ]
  },
  {
   "cell_type": "code",
   "execution_count": 2,
   "metadata": {},
   "outputs": [
    {
     "name": "stdout",
     "output_type": "stream",
     "text": [
      "epoch=13-val_loss=0.911523.ckpt\n"
     ]
    }
   ],
   "source": [
    "recalc = False\n",
    "corr = 0.25\n",
    "model_name, path_to_pkl, eval_dset_path = configs.get_model_paths(corr, \"darkroom_simple\")"
   ]
  },
  {
   "cell_type": "code",
   "execution_count": 3,
   "metadata": {},
   "outputs": [],
   "source": [
    "# Extract parameters using regex\n",
    "import re\n",
    "\n",
    "n_embd = int(re.search(r'embd(\\d+)', model_name).group(1))\n",
    "n_layer = int(re.search(r'layer(\\d+)', model_name).group(1))\n",
    "n_head = int(re.search(r'head(\\d+)', model_name).group(1))\n",
    "dropout = float(re.search(r'drop(\\d*\\.?\\d*)', model_name).group(1))\n",
    "\n",
    "# Extract correlation and state_dim from eval dataset path\n",
    "state_dim = int(re.search(r'state_dim(\\d+)', eval_dset_path).group(1))\n",
    "maze_dim = int(re.search(r'_dim(\\d+)_corr', eval_dset_path).group(1))\n",
    "node_encoding_corr = float(re.search(r'corr(\\d*\\.?\\d*)', eval_dset_path).group(1))\n",
    "\n",
    "model_config = {\n",
    "    \"n_embd\": n_embd,\n",
    "    \"n_layer\": n_layer,\n",
    "    \"n_head\": n_head,\n",
    "    \"state_dim\": state_dim,\n",
    "    \"action_dim\": 5,\n",
    "    \"dropout\": dropout,\n",
    "    \"test\": True,\n",
    "    \"name\": \"transformer_end_query\",\n",
    "    \"optimizer_config\": None,\n",
    "}"
   ]
  },
  {
   "cell_type": "code",
   "execution_count": 4,
   "metadata": {},
   "outputs": [
    {
     "name": "stderr",
     "output_type": "stream",
     "text": [
      "/tmp/ipykernel_2526304/4170590101.py:4: FutureWarning: You are using `torch.load` with `weights_only=False` (the current default value), which uses the default pickle module implicitly. It is possible to construct malicious pickle data which will execute arbitrary code during unpickling (See https://github.com/pytorch/pytorch/blob/main/SECURITY.md#untrusted-models for more details). In a future release, the default value for `weights_only` will be flipped to `True`. This limits the functions that could be executed during unpickling. Arbitrary objects will no longer be allowed to be loaded via this mode unless they are explicitly allowlisted by the user via `torch.serialization.add_safe_globals`. We recommend you start setting `weights_only=True` for any use case where you don't have full control of the loaded file. Please open an issue on GitHub for any issues related to this experimental feature.\n",
      "  checkpoint = torch.load(path_to_pkl)\n"
     ]
    }
   ],
   "source": [
    "from src.models.transformer_end_query import Transformer\n",
    "model_config['initialization_seed'] = 0\n",
    "model = Transformer(**model_config)\n",
    "checkpoint = torch.load(path_to_pkl)\n",
    "model.load_state_dict(checkpoint['state_dict'])\n",
    "model.eval()\n",
    "model = model.to('cuda')"
   ]
  },
  {
   "cell_type": "markdown",
   "metadata": {},
   "source": [
    "# Load Dataset and Create Environment"
   ]
  },
  {
   "cell_type": "code",
   "execution_count": 5,
   "metadata": {},
   "outputs": [],
   "source": [
    "n_eval_envs = 100\n",
    "\n",
    "is_h5_file = eval_dset_path.endswith('.h5')\n",
    "if is_h5_file:\n",
    "    eval_trajs = h5py.File(eval_dset_path, 'r')\n",
    "    traj_indices = list(eval_trajs.keys())\n",
    "    n_eval_envs = min(n_eval_envs, len(traj_indices))\n",
    "    random.seed(0)\n",
    "    traj_indices = random.sample(traj_indices, n_eval_envs)\n",
    "    random.seed()\n",
    "    eval_trajs = [eval_trajs[i] for i in traj_indices]\n",
    "else:  # Pickle file\n",
    "    with open(eval_dset_path, 'rb') as f:\n",
    "        eval_trajs = pickle.load(f)\n",
    "    n_eval_envs = min(n_eval_envs, len(eval_trajs))\n",
    "    random.seed(0)\n",
    "    eval_trajs = random.sample(eval_trajs, n_eval_envs)\n",
    "    random.seed()\n"
   ]
  },
  {
   "cell_type": "code",
   "execution_count": 6,
   "metadata": {},
   "outputs": [],
   "source": [
    "def run_model(traj, model, state_features, seq_length):\n",
    "    hidden_states = [[] for _ in range(model.n_layer)]\n",
    "    \n",
    "    for state_feature in state_features: \n",
    "        batch = {\n",
    "            'context_states': convert_to_tensor([np.array(traj['context_states'])]),\n",
    "            'context_actions': convert_to_tensor([np.array(traj['context_actions'])]),\n",
    "            'context_next_states': convert_to_tensor([np.array(traj['context_next_states'])]),\n",
    "            'context_rewards': convert_to_tensor([np.array(traj['context_rewards'])[:, None]]),\n",
    "            'query_states': convert_to_tensor([np.array(state_feature)]),\n",
    "            }\n",
    "        batch['zeros'] = torch.zeros(1, 10 ** 2 + 4 + 1).float()\n",
    "        for k in batch.keys():\n",
    "            if 'context' in k:\n",
    "                batch[k] = batch[k][:,:seq_length]\n",
    "            batch[k] = batch[k].to(model.device)\n",
    "        model.save_activations = True\n",
    "        with torch.no_grad():\n",
    "            out = model(batch)\n",
    "        _hidden_states = model.activations['hidden_states'][1:] # Tuple over layers\n",
    "        for i_layer in range(model.n_layer):\n",
    "            hidden_states[i_layer].append(_hidden_states[i_layer].cpu().numpy().squeeze()[-1])\n",
    "    return hidden_states"
   ]
  },
  {
   "cell_type": "code",
   "execution_count": 7,
   "metadata": {},
   "outputs": [],
   "source": [
    "def get_node_and_representation(traj, env, model):\n",
    "    nodes = []\n",
    "    hidden_states = []\n",
    "    seq_lengths = []\n",
    "    state_features = []\n",
    "    state_features = list(env.node_map_encoding_to_pos.keys())\n",
    "\n",
    "    _nodes = [] \n",
    "    for state_feature in state_features:\n",
    "        _nodes.append(str(env.node_map_encoding_to_pos[state_feature]))\n",
    "    for seq_length in np.arange(10, 260, 10):\n",
    "        _hidden_states = run_model(traj, model, state_features, seq_length=seq_length)\n",
    "        for l in range(model.n_layer):\n",
    "            if len(_hidden_states[l]) != len(_nodes):\n",
    "                print(l)\n",
    "                print(len(_hidden_states[l]), len(_nodes))\n",
    "                import pdb; pdb.set_trace()\n",
    "        nodes.append(_nodes)\n",
    "        hidden_states.append(_hidden_states)\n",
    "        seq_lengths.append(seq_length)\n",
    "\n",
    "    return nodes, hidden_states, seq_lengths"
   ]
  },
  {
   "cell_type": "code",
   "execution_count": 8,
   "metadata": {},
   "outputs": [],
   "source": [
    "if recalc:\n",
    "    results = {\n",
    "        'nodes': [],\n",
    "        'hidden_states': [],\n",
    "        'model_layer': [], \n",
    "        'context_length': [],\n",
    "        'env': []\n",
    "    }\n",
    "    \n",
    "    for i_eval, traj in enumerate(eval_trajs):\n",
    "        env_config = {\n",
    "            'maze_dim': maze_dim,\n",
    "            'horizon': 200,\n",
    "            'state_dim': state_dim,\n",
    "            'node_encoding_corr': node_encoding_corr,\n",
    "            'initialization_seed': np.array(traj['initialization_seed']).item(),\n",
    "            'goal': np.array(traj['goal'])\n",
    "        }\n",
    "        env = DarkroomEnv(**env_config)\n",
    "        nodes, hidden_states, context_lengths = get_node_and_representation(traj, env, model)\n",
    "        for _nodes, _hidden_states, _context_length in zip(nodes, hidden_states, context_lengths):\n",
    "            for i_layer, model_layer_hidden_states in enumerate(_hidden_states):\n",
    "                results['nodes'].extend(_nodes)\n",
    "                results['hidden_states'].extend(model_layer_hidden_states)\n",
    "                results['model_layer'].extend([i_layer] * len(_nodes))\n",
    "                results['context_length'].extend([_context_length] * len(_nodes))\n",
    "                results['env'].extend([i_eval] * len(_nodes))\n",
    "    df = pd.DataFrame(results)\n",
    "\n",
    "    same_node = {\n",
    "        'sim': [],\n",
    "        'model_layer': [],\n",
    "        'context_length': [],\n",
    "        'comparison_node_x': [],\n",
    "        'comparison_node_y': [],\n",
    "    }\n",
    "    diff_node = {\n",
    "        'sim': [],\n",
    "        'model_layer': [],\n",
    "        'context_length': [],\n",
    "        'comparison_node_x': [],\n",
    "        'comparison_node_y': [],\n",
    "    }\n",
    "    \n",
    "    for context_length in df['context_length'].unique():\n",
    "        context_length_df = df[df['context_length'] == context_length]\n",
    "        for i_layer in context_length_df['model_layer'].unique():\n",
    "            layer_df = context_length_df[context_length_df['model_layer'] == i_layer]\n",
    "            for node in layer_df['nodes'].unique():\n",
    "                node_df = layer_df[layer_df['nodes'] == node]\n",
    "                other_node_df = layer_df[layer_df['nodes'] != node]\n",
    "    \n",
    "                node_envs = node_df['env'].to_numpy()\n",
    "                other_node_envs = other_node_df['env'].to_numpy()\n",
    "                stacked_envs = np.concatenate((node_envs, other_node_envs))\n",
    "    \n",
    "                node_hidden_states = np.stack(node_df['hidden_states'].to_numpy())\n",
    "                other_node_hidden_states = np.stack(other_node_df['hidden_states'].to_numpy())\n",
    "    \n",
    "                n_same_node = node_hidden_states.shape[0]\n",
    "                stacked_reprs = np.vstack((node_hidden_states, other_node_hidden_states))\n",
    "                cc = np.corrcoef(stacked_reprs)\n",
    "                for i in range(n_same_node):\n",
    "                    for j in range(i+1, n_same_node):\n",
    "                        if stacked_envs[i] == stacked_envs[j]:\n",
    "                            continue\n",
    "                        same_node['sim'].append(cc[i, j])\n",
    "                        same_node['model_layer'].append(i_layer)\n",
    "                        same_node['context_length'].append(context_length)\n",
    "                        same_node['comparison_node_x'].append(int(node[1]))\n",
    "                        same_node['comparison_node_y'].append(int(node[-2]))\n",
    "                for i in range(n_same_node):\n",
    "                    for j in range(i+1, n_same_node):\n",
    "                        _j = j + n_same_node\n",
    "                        if stacked_envs[i] == stacked_envs[_j]:\n",
    "                            continue\n",
    "                        diff_node['sim'].append(cc[i, _j])\n",
    "                        diff_node['model_layer'].append(i_layer)\n",
    "                        diff_node['context_length'].append(context_length)\n",
    "                        diff_node['comparison_node_x'].append(int(node[1]))\n",
    "                        diff_node['comparison_node_y'].append(int(node[-2]))\n",
    "    same_node_df = pd.DataFrame(same_node)\n",
    "    diff_node_df = pd.DataFrame(diff_node)\n",
    "    with open('pickles/cross_context_repr_summary.pkl', 'wb') as f:\n",
    "        pickle.dump({'same_node_df': same_node_df, 'diff_node_df': diff_node_df}, f)\n",
    "else:\n",
    "    with open('pickles/cross_context_repr_summary.pkl', 'rb') as f:\n",
    "        results = pickle.load(f)\n",
    "    same_node_df = results['same_node_df']\n",
    "    diff_node_df = results['diff_node_df']"
   ]
  },
  {
   "cell_type": "code",
   "execution_count": 9,
   "metadata": {},
   "outputs": [
    {
     "data": {
      "image/png": "[encoded data removed]",
      "text/plain": [
       "<Figure size 175x150 with 1 Axes>"
      ]
     },
     "metadata": {},
     "output_type": "display_data"
    }
   ],
   "source": [
    "fig, ax = plt.subplots(figsize=(1.75, 1.5))\n",
    "linewidth=1.5\n",
    "custom_blues = sns.color_palette(\"Blues\", n_colors=3)\n",
    "sns.lineplot(\n",
    "    data=same_node_df[same_node_df['context_length'] <= 250],\n",
    "    x='context_length', y='sim', hue='model_layer', palette=custom_blues,\n",
    "    linewidth=linewidth, legend=False, ax=ax)\n",
    "sns.lineplot(\n",
    "    data=diff_node_df[diff_node_df['context_length'] <= 250],\n",
    "    x='context_length', y='sim', hue='model_layer', palette=custom_blues,\n",
    "    linewidth=linewidth, legend=False, ax=ax, linestyle='--')\n",
    "plt.ylabel(r'Cross-Ctxt $\\rho$', fontsize=8)\n",
    "plt.xlabel('Context Length', fontsize=8)\n",
    "plt.xticks([0, 100, 200], [0, '', 200], fontsize=6)\n",
    "plt.yticks([0.2, 0.3, 0.4, 0.5, 0.6, 0.7, 0.8, 0.9], [0.2, '', 0.4, '', 0.6, '', 0.8, ''], fontsize=6)\n",
    "plt.ylim(0.1, 0.99)\n",
    "plt.tight_layout()\n",
    "plt.savefig('figs/4b.png', transparent=True, dpi=300)\n",
    "plt.savefig('figs/4b.pdf', transparent=True, dpi=300)\n",
    "plt.show()\n"
   ]
  },
  {
   "cell_type": "code",
   "execution_count": 10,
   "metadata": {},
   "outputs": [
    {
     "data": {
      "text/plain": [
       "(np.float64(0.1), np.float64(0.99))"
      ]
     },
     "execution_count": 10,
     "metadata": {},
     "output_type": "execute_result"
    }
   ],
   "source": [
    "ax.get_ylim()"
   ]
  },
  {
   "cell_type": "markdown",
   "metadata": {},
   "source": [
    "# Is this driven by specific xy locations?"
   ]
  },
  {
   "cell_type": "code",
   "execution_count": 11,
   "metadata": {},
   "outputs": [
    {
     "data": {
      "text/html": [
       "<div>\n",
       "<style scoped>\n",
       "    .dataframe tbody tr th:only-of-type {\n",
       "        vertical-align: middle;\n",
       "    }\n",
       "\n",
       "    .dataframe tbody tr th {\n",
       "        vertical-align: top;\n",
       "    }\n",
       "\n",
       "    .dataframe thead th {\n",
       "        text-align: right;\n",
       "    }\n",
       "</style>\n",
       "<table border=\"1\" class=\"dataframe\">\n",
       "  <thead>\n",
       "    <tr style=\"text-align: right;\">\n",
       "      <th></th>\n",
       "      <th>sim</th>\n",
       "      <th>model_layer</th>\n",
       "      <th>context_length</th>\n",
       "      <th>comparison_node_x</th>\n",
       "      <th>comparison_node_y</th>\n",
       "    </tr>\n",
       "  </thead>\n",
       "  <tbody>\n",
       "    <tr>\n",
       "      <th>0</th>\n",
       "      <td>0.659312</td>\n",
       "      <td>0</td>\n",
       "      <td>10</td>\n",
       "      <td>0</td>\n",
       "      <td>0</td>\n",
       "    </tr>\n",
       "    <tr>\n",
       "      <th>1</th>\n",
       "      <td>0.465382</td>\n",
       "      <td>0</td>\n",
       "      <td>10</td>\n",
       "      <td>0</td>\n",
       "      <td>0</td>\n",
       "    </tr>\n",
       "    <tr>\n",
       "      <th>2</th>\n",
       "      <td>0.488338</td>\n",
       "      <td>0</td>\n",
       "      <td>10</td>\n",
       "      <td>0</td>\n",
       "      <td>0</td>\n",
       "    </tr>\n",
       "    <tr>\n",
       "      <th>3</th>\n",
       "      <td>0.801561</td>\n",
       "      <td>0</td>\n",
       "      <td>10</td>\n",
       "      <td>0</td>\n",
       "      <td>0</td>\n",
       "    </tr>\n",
       "    <tr>\n",
       "      <th>4</th>\n",
       "      <td>0.750809</td>\n",
       "      <td>0</td>\n",
       "      <td>10</td>\n",
       "      <td>0</td>\n",
       "      <td>0</td>\n",
       "    </tr>\n",
       "    <tr>\n",
       "      <th>...</th>\n",
       "      <td>...</td>\n",
       "      <td>...</td>\n",
       "      <td>...</td>\n",
       "      <td>...</td>\n",
       "      <td>...</td>\n",
       "    </tr>\n",
       "    <tr>\n",
       "      <th>9281245</th>\n",
       "      <td>0.715937</td>\n",
       "      <td>2</td>\n",
       "      <td>250</td>\n",
       "      <td>4</td>\n",
       "      <td>4</td>\n",
       "    </tr>\n",
       "    <tr>\n",
       "      <th>9281246</th>\n",
       "      <td>0.532480</td>\n",
       "      <td>2</td>\n",
       "      <td>250</td>\n",
       "      <td>4</td>\n",
       "      <td>4</td>\n",
       "    </tr>\n",
       "    <tr>\n",
       "      <th>9281247</th>\n",
       "      <td>0.814776</td>\n",
       "      <td>2</td>\n",
       "      <td>250</td>\n",
       "      <td>4</td>\n",
       "      <td>4</td>\n",
       "    </tr>\n",
       "    <tr>\n",
       "      <th>9281248</th>\n",
       "      <td>0.883555</td>\n",
       "      <td>2</td>\n",
       "      <td>250</td>\n",
       "      <td>4</td>\n",
       "      <td>4</td>\n",
       "    </tr>\n",
       "    <tr>\n",
       "      <th>9281249</th>\n",
       "      <td>0.742135</td>\n",
       "      <td>2</td>\n",
       "      <td>250</td>\n",
       "      <td>4</td>\n",
       "      <td>4</td>\n",
       "    </tr>\n",
       "  </tbody>\n",
       "</table>\n",
       "<p>9281250 rows × 5 columns</p>\n",
       "</div>"
      ],
      "text/plain": [
       "              sim  model_layer  context_length  comparison_node_x  \\\n",
       "0        0.659312            0              10                  0   \n",
       "1        0.465382            0              10                  0   \n",
       "2        0.488338            0              10                  0   \n",
       "3        0.801561            0              10                  0   \n",
       "4        0.750809            0              10                  0   \n",
       "...           ...          ...             ...                ...   \n",
       "9281245  0.715937            2             250                  4   \n",
       "9281246  0.532480            2             250                  4   \n",
       "9281247  0.814776            2             250                  4   \n",
       "9281248  0.883555            2             250                  4   \n",
       "9281249  0.742135            2             250                  4   \n",
       "\n",
       "         comparison_node_y  \n",
       "0                        0  \n",
       "1                        0  \n",
       "2                        0  \n",
       "3                        0  \n",
       "4                        0  \n",
       "...                    ...  \n",
       "9281245                  4  \n",
       "9281246                  4  \n",
       "9281247                  4  \n",
       "9281248                  4  \n",
       "9281249                  4  \n",
       "\n",
       "[9281250 rows x 5 columns]"
      ]
     },
     "execution_count": 11,
     "metadata": {},
     "output_type": "execute_result"
    }
   ],
   "source": [
    "same_node_df"
   ]
  },
  {
   "cell_type": "code",
   "execution_count": 58,
   "metadata": {},
   "outputs": [],
   "source": [
    "def plot_diff_by_xy_location(model_layer):\n",
    "    same_node_filtered = same_node_df[(same_node_df['context_length'] == 250) & (same_node_df['model_layer'] == model_layer)]\n",
    "    diff_node_filtered = diff_node_df[(diff_node_df['context_length'] == 250) & (diff_node_df['model_layer'] == model_layer)]\n",
    "    \n",
    "    # Create a 5x5 matrix to store the differences\n",
    "    diff_matrix = np.zeros((5, 5))\n",
    "    count_matrix = np.zeros((5, 5))\n",
    "    \n",
    "    # Calculate average same-node correlation for each position\n",
    "    for x in range(5):\n",
    "        for y in range(5):\n",
    "            same_node_avg = same_node_filtered[\n",
    "                (same_node_filtered['comparison_node_x'] == x) & \n",
    "                (same_node_filtered['comparison_node_y'] == y)\n",
    "            ]['sim'].mean()\n",
    "            \n",
    "            diff_node_avg = diff_node_filtered[\n",
    "                (diff_node_filtered['comparison_node_x'] == x) & \n",
    "                (diff_node_filtered['comparison_node_y'] == y)\n",
    "            ]['sim'].mean()\n",
    "            \n",
    "            if not (np.isnan(same_node_avg) or np.isnan(diff_node_avg)):\n",
    "                diff_matrix[y, x] = same_node_avg - diff_node_avg\n",
    "    \n",
    "    # Create heatmap\n",
    "    plt.figure(figsize=(2.5, 2.5))\n",
    "    max_val = np.round(np.nanmax(diff_matrix), 2)\n",
    "    ax = sns.heatmap(diff_matrix, \n",
    "                    annot=True, \n",
    "                    fmt='.3f',\n",
    "                    cmap='RdBu_r',\n",
    "                    center=0,\n",
    "                    square=True,\n",
    "                    annot_kws={'fontsize': 5},\n",
    "                    vmin=0,                    # Set minimum to 0\n",
    "                    vmax=max_val,              # Set maximum to rounded max value\n",
    "                    cbar_kws={'shrink': 0.5, 'ticks': [0, max_val/2, max_val], 'orientation': 'horizontal', 'pad': 0.25})\n",
    "\n",
    "    \n",
    "    # Set colorbar fontsize\n",
    "    cbar = ax.collections[0].colorbar\n",
    "    cbar.ax.tick_params(labelsize=4)\n",
    "    \n",
    "    plt.title(f'Layer {model_layer+1}', fontsize=8)\n",
    "    plt.xlabel('X coordinate', fontsize=8)\n",
    "    plt.ylabel('Y coordinate', fontsize=8)\n",
    "    plt.xticks(fontsize=6)\n",
    "    plt.yticks(fontsize=6)\n",
    "    plt.tight_layout()\n",
    "    plt.savefig(f'figs_app/H_18_{model_layer}.png', dpi=300, transparent=True)\n",
    "    plt.savefig(f'figs_app/H_18_{model_layer}.pdf', dpi=300, transparent=True)\n",
    "    plt.show()"
   ]
  },
  {
   "cell_type": "code",
   "execution_count": 59,
   "metadata": {},
   "outputs": [
    {
     "data": {
      "image/png": "[encoded data removed]",
      "text/plain": [
       "<Figure size 250x250 with 2 Axes>"
      ]
     },
     "metadata": {},
     "output_type": "display_data"
    }
   ],
   "source": [
    "plot_diff_by_xy_location(0)"
   ]
  },
  {
   "cell_type": "code",
   "execution_count": 60,
   "metadata": {},
   "outputs": [
    {
     "data": {
      "image/png": "[encoded data removed]",
      "text/plain": [
       "<Figure size 250x250 with 2 Axes>"
      ]
     },
     "metadata": {},
     "output_type": "display_data"
    }
   ],
   "source": [
    "plot_diff_by_xy_location(1)"
   ]
  },
  {
   "cell_type": "code",
   "execution_count": 61,
   "metadata": {},
   "outputs": [
    {
     "data": {
      "image/png": "[encoded data removed]",
      "text/plain": [
       "<Figure size 250x250 with 2 Axes>"
      ]
     },
     "metadata": {},
     "output_type": "display_data"
    }
   ],
   "source": [
    "plot_diff_by_xy_location(2)"
   ]
  }
 ],
 "metadata": {
  "kernelspec": {
   "display_name": "jax",
   "language": "python",
   "name": "python3"
  },
  "language_info": {
   "codemirror_mode": {
    "name": "ipython",
    "version": 3
   },
   "file_extension": ".py",
   "mimetype": "text/x-python",
   "name": "python",
   "nbconvert_exporter": "python",
   "pygments_lexer": "ipython3",
   "version": "3.12.5"
  }
 },
 "nbformat": 4,
 "nbformat_minor": 2
}
