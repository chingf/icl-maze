{
 "cells": [
  {
   "cell_type": "code",
   "execution_count": 9,
   "metadata": {},
   "outputs": [],
   "source": [
    "import numpy as np\n",
    "import matplotlib.pyplot as plt\n",
    "import seaborn as sns\n",
    "import pickle\n",
    "import os\n",
    "import pandas as pd\n",
    "import configs\n",
    "import torch\n",
    "from sklearn.decomposition import PCA\n",
    "from scipy.spatial.distance import pdist, squareform\n",
    "\n",
    "from src.utils import find_ckpt_file, convert_to_tensor\n",
    "import h5py\n",
    "import random\n",
    "from copy import deepcopy\n",
    "from src.envs.darkroom import DarkroomEnv"
   ]
  },
  {
   "cell_type": "markdown",
   "metadata": {},
   "source": [
    "# Load Model"
   ]
  },
  {
   "cell_type": "code",
   "execution_count": 19,
   "metadata": {},
   "outputs": [
    {
     "name": "stdout",
     "output_type": "stream",
     "text": [
      "epoch=13-val_loss=0.911523.ckpt\n"
     ]
    }
   ],
   "source": [
    "engram_dir = \"/n/holylfs06/LABS/krajan_lab/Lab/cfang/icl-maze/\"\n",
    "wandb_project = \"darkroom_simple\"\n",
    "\n",
    "env_name = \"darkroom_dim5_corr0.25_state_dim10_envs900000_H200_explore\"\n",
    "model_name = \"transformer_end_query_embd512_layer3_head4_lr0.0001_drop0.0_initseed2_batch1024\"\n",
    "\n",
    "model_path = os.path.join(engram_dir, wandb_project, env_name, \"models\", model_name)\n",
    "ckpt_name = find_ckpt_file(model_path, \"best\")\n",
    "print(ckpt_name)\n",
    "path_to_pkl = os.path.join(model_path, ckpt_name)\n",
    "eval_dset_path = f\"/n/holylfs06/LABS/krajan_lab/Lab/cfang/icl-maze/{wandb_project}/{env_name}/datasets/eval.pkl\"\n"
   ]
  },
  {
   "cell_type": "code",
   "execution_count": 20,
   "metadata": {},
   "outputs": [],
   "source": [
    "# Extract parameters using regex\n",
    "import re\n",
    "\n",
    "n_embd = int(re.search(r'embd(\\d+)', model_name).group(1))\n",
    "n_layer = int(re.search(r'layer(\\d+)', model_name).group(1))\n",
    "n_head = int(re.search(r'head(\\d+)', model_name).group(1))\n",
    "dropout = float(re.search(r'drop(\\d*\\.?\\d*)', model_name).group(1))\n",
    "\n",
    "# Extract correlation and state_dim from eval dataset path\n",
    "state_dim = int(re.search(r'state_dim(\\d+)', eval_dset_path).group(1))\n",
    "maze_dim = int(re.search(r'_dim(\\d+)_corr', eval_dset_path).group(1))\n",
    "node_encoding_corr = float(re.search(r'corr(\\d*\\.?\\d*)', eval_dset_path).group(1))\n",
    "\n",
    "model_config = {\n",
    "    \"n_embd\": n_embd,\n",
    "    \"n_layer\": n_layer,\n",
    "    \"n_head\": n_head,\n",
    "    \"state_dim\": state_dim,\n",
    "    \"action_dim\": 5,\n",
    "    \"dropout\": dropout,\n",
    "    \"test\": True,\n",
    "    \"name\": \"transformer_end_query\",\n",
    "    \"optimizer_config\": None,\n",
    "}"
   ]
  },
  {
   "cell_type": "code",
   "execution_count": 21,
   "metadata": {},
   "outputs": [
    {
     "name": "stderr",
     "output_type": "stream",
     "text": [
      "/tmp/ipykernel_2130669/4170590101.py:4: FutureWarning: You are using `torch.load` with `weights_only=False` (the current default value), which uses the default pickle module implicitly. It is possible to construct malicious pickle data which will execute arbitrary code during unpickling (See https://github.com/pytorch/pytorch/blob/main/SECURITY.md#untrusted-models for more details). In a future release, the default value for `weights_only` will be flipped to `True`. This limits the functions that could be executed during unpickling. Arbitrary objects will no longer be allowed to be loaded via this mode unless they are explicitly allowlisted by the user via `torch.serialization.add_safe_globals`. We recommend you start setting `weights_only=True` for any use case where you don't have full control of the loaded file. Please open an issue on GitHub for any issues related to this experimental feature.\n",
      "  checkpoint = torch.load(path_to_pkl)\n"
     ]
    }
   ],
   "source": [
    "from src.models.transformer_end_query import Transformer\n",
    "model_config['initialization_seed'] = 0\n",
    "model = Transformer(**model_config)\n",
    "checkpoint = torch.load(path_to_pkl)\n",
    "model.load_state_dict(checkpoint['state_dict'])\n",
    "model.eval()\n",
    "model = model.to('cuda')"
   ]
  },
  {
   "cell_type": "markdown",
   "metadata": {},
   "source": [
    "# Load dataset"
   ]
  },
  {
   "cell_type": "code",
   "execution_count": 22,
   "metadata": {},
   "outputs": [],
   "source": [
    "n_eval_envs = 100\n",
    "\n",
    "is_h5_file = eval_dset_path.endswith('.h5')\n",
    "if is_h5_file:\n",
    "    eval_trajs = h5py.File(eval_dset_path, 'r')\n",
    "    traj_indices = list(eval_trajs.keys())\n",
    "    n_eval_envs = min(n_eval_envs, len(traj_indices))\n",
    "    random.seed(0)\n",
    "    traj_indices = random.sample(traj_indices, n_eval_envs)\n",
    "    random.seed()\n",
    "    eval_trajs = [eval_trajs[i] for i in traj_indices]\n",
    "else:  # Pickle file\n",
    "    with open(eval_dset_path, 'rb') as f:\n",
    "        eval_trajs = pickle.load(f)\n",
    "    n_eval_envs = min(n_eval_envs, len(eval_trajs))\n",
    "    random.seed(0)\n",
    "    eval_trajs = random.sample(eval_trajs, n_eval_envs)\n",
    "    random.seed()\n"
   ]
  },
  {
   "cell_type": "code",
   "execution_count": 23,
   "metadata": {},
   "outputs": [],
   "source": [
    "base_env_config = {\n",
    "    'maze_dim': maze_dim,\n",
    "    'horizon': 200,\n",
    "    'state_dim': state_dim,\n",
    "    'node_encoding_corr': node_encoding_corr,\n",
    "    'initialization_seed': None, # will be overwritten\n",
    "    'goal': None # will be overwritten\n",
    "}"
   ]
  },
  {
   "cell_type": "markdown",
   "metadata": {},
   "source": [
    "# Define test goals and trajectories in XY space\n",
    "Goal location and long-path trajectories will be overwritten in each test environment, so that we can aggregate performance in an automated way"
   ]
  },
  {
   "cell_type": "code",
   "execution_count": 24,
   "metadata": {},
   "outputs": [
    {
     "name": "stdout",
     "output_type": "stream",
     "text": [
      "[[2 2]\n",
      " [3 0]]\n"
     ]
    }
   ],
   "source": [
    "test_xy_goals = []\n",
    "for i_eval in range(n_eval_envs):\n",
    "    traj = eval_trajs[i_eval]\n",
    "    base_env_config['initialization_seed'] = np.array(traj['initialization_seed']).item()\n",
    "    base_env_config['goal'] = np.array(traj['goal'])\n",
    "    env = DarkroomEnv(**base_env_config)\n",
    "    xy_goal = env.node_map_encoding_to_pos[tuple(env.goal.tolist())]\n",
    "    test_xy_goals.append(xy_goal)\n",
    "\n",
    "print(np.unique(test_xy_goals, axis=0))"
   ]
  },
  {
   "cell_type": "code",
   "execution_count": 25,
   "metadata": {},
   "outputs": [],
   "source": [
    "test_xy_goals = np.unique(test_xy_goals, axis=0)\n",
    "test_xy_trajectories = [\n",
    "    [[0,0], [0,1], [1,1], [2,1], [3,1], [4,1], [4,2], [3,2], [2,2]],\n",
    "    [[0,3], [1,3], [2,3], [3,3], [4,3], [4,2], [4,1], [4,0], [3,0]]\n",
    "]\n",
    "test_dist_from_goal = [4, 6]"
   ]
  },
  {
   "cell_type": "markdown",
   "metadata": {},
   "source": [
    "# Helper Functions"
   ]
  },
  {
   "cell_type": "code",
   "execution_count": 26,
   "metadata": {},
   "outputs": [],
   "source": [
    "def get_onestep_action(xy1, xy2):\n",
    "    x1, y1 = xy1\n",
    "    x2, y2 = xy2\n",
    "    assert np.abs(x1-x2) + np.abs(y1-y2) <= 1\n",
    "    if xy1 == xy2:\n",
    "        return 4\n",
    "    elif x1 < x2 and y1 == y2:\n",
    "        return 2\n",
    "    elif x1 > x2 and y1 == y2:\n",
    "        return 0\n",
    "    elif x1 == x2 and y1 < y2:\n",
    "        return 1\n",
    "    elif x1 == x2 and y1 > y2:\n",
    "        return 3\n",
    "    else:\n",
    "        raise ValueError(f\"Invalid action: {xy1} -> {xy2}\")"
   ]
  },
  {
   "cell_type": "code",
   "execution_count": 27,
   "metadata": {},
   "outputs": [],
   "source": [
    "def generate_trajectory_batch(xy_trajectory, xy_goal, env):\n",
    "    context_states = []\n",
    "    context_actions = []\n",
    "    context_next_states = []\n",
    "    context_rewards = []\n",
    "    query_state = []\n",
    "    for i in range(len(xy_trajectory)-1):\n",
    "        state_feature = np.array(env.node_map_pos_to_encoding[tuple(xy_trajectory[i])])\n",
    "        next_state_feature = np.array(env.node_map_pos_to_encoding[tuple(xy_trajectory[i+1])])\n",
    "        action_idx = get_onestep_action(xy_trajectory[i], xy_trajectory[i+1])\n",
    "        action = np.zeros(5)\n",
    "        action[action_idx] = 1\n",
    "        reward = 1 if np.all(xy_trajectory[i+1] == xy_goal) else 0\n",
    "        context_states.append(state_feature)\n",
    "        context_actions.append(action)\n",
    "        context_next_states.append(next_state_feature)\n",
    "        context_rewards.append(reward)\n",
    "    context_states = np.array(context_states).squeeze()\n",
    "    context_actions = np.array(context_actions)\n",
    "    context_next_states = np.array(context_next_states).squeeze()\n",
    "    context_rewards = np.array(context_rewards)\n",
    "    batch = {\n",
    "        'context_states': convert_to_tensor([context_states]),\n",
    "        'context_actions': convert_to_tensor([context_actions]),\n",
    "        'context_next_states': convert_to_tensor([context_next_states]),\n",
    "        'context_rewards': convert_to_tensor([context_rewards[:, None]]),\n",
    "    }\n",
    "    return batch\n"
   ]
  },
  {
   "cell_type": "markdown",
   "metadata": {},
   "source": [
    "# Run evaluation\n"
   ]
  },
  {
   "cell_type": "code",
   "execution_count": 28,
   "metadata": {},
   "outputs": [],
   "source": [
    "results = {\n",
    "    'test_idx': [],\n",
    "    'i_eval': [],\n",
    "    'success': [],\n",
    "}\n",
    "\n",
    "for test_idx in range(len(test_xy_goals)):\n",
    "    test_xy_goal = test_xy_goals[test_idx]\n",
    "    test_xy_trajectory = test_xy_trajectories[test_idx]\n",
    "    dist_from_goal = test_dist_from_goal[test_idx]\n",
    "\n",
    "    repeats = 1\n",
    "    full_test_xy_trajectory = []\n",
    "\n",
    "    for _ in range(repeats):\n",
    "        full_test_xy_trajectory.extend(deepcopy(test_xy_trajectory))\n",
    "        full_test_xy_trajectory.extend(deepcopy(test_xy_trajectory[:-1][::-1]))\n",
    "\n",
    "    for i_eval in range(n_eval_envs):\n",
    "        traj = eval_trajs[i_eval]\n",
    "        base_env_config['initialization_seed'] = np.array(traj['initialization_seed']).item()\n",
    "        base_env_config['goal'] = np.array(traj['goal'])\n",
    "        env = DarkroomEnv(**base_env_config)\n",
    "        env.goal = np.array(env.node_map_pos_to_encoding[tuple(test_xy_goal)])\n",
    "\n",
    "        batch = generate_trajectory_batch(full_test_xy_trajectory, test_xy_goal, env)\n",
    "\n",
    "        n_steps = dist_from_goal\n",
    "        curr_xy_state = full_test_xy_trajectory[-1]\n",
    "        query_state = env.node_map_pos_to_encoding[tuple(curr_xy_state)]\n",
    "        returns = 0\n",
    "        \n",
    "        # Convert initial context tensors to numpy for easier concatenation\n",
    "        context_states = batch['context_states'].cpu().numpy().squeeze()\n",
    "        context_actions = batch['context_actions'].cpu().numpy().squeeze()\n",
    "        context_next_states = batch['context_next_states'].cpu().numpy().squeeze()\n",
    "        context_rewards = batch['context_rewards'].cpu().numpy().squeeze()\n",
    "        \n",
    "        for i in range(n_steps):\n",
    "            batch = {\n",
    "                'context_states': convert_to_tensor([context_states]),\n",
    "                'context_actions': convert_to_tensor([context_actions]),\n",
    "                'context_next_states': convert_to_tensor([context_next_states]),\n",
    "                'context_rewards': convert_to_tensor([context_rewards[:, None]]),\n",
    "                }\n",
    "            batch['query_states'] = convert_to_tensor([np.array(query_state)])\n",
    "            batch['query_states'] = batch['query_states'].to(model.device)\n",
    "            batch['zeros'] = torch.zeros(1, state_dim ** 2 + 5 + 1).float()\n",
    "            for k in batch.keys():\n",
    "                batch[k] = batch[k].to(model.device)\n",
    "        \n",
    "            with torch.no_grad():\n",
    "                out = model(batch)\n",
    "        \n",
    "            pred_action = torch.argmax(out.squeeze()).item()\n",
    "            action_encoding = np.zeros(5)\n",
    "            action_encoding[pred_action] = 1\n",
    "            next_state_encoding, reward = env.transit(np.array(query_state), action_encoding)\n",
    "        \n",
    "            context_states = np.vstack([context_states, query_state])\n",
    "            context_actions = np.vstack([context_actions, action_encoding])\n",
    "            context_next_states = np.vstack([context_next_states, next_state_encoding])\n",
    "            context_rewards = np.append(context_rewards, reward)\n",
    "            query_state = next_state_encoding\n",
    "            returns += reward\n",
    "\n",
    "        results['test_idx'].append(test_idx)\n",
    "        results['i_eval'].append(i_eval)\n",
    "        results['success'].append(returns > 0)\n",
    "\n"
   ]
  },
  {
   "cell_type": "code",
   "execution_count": 29,
   "metadata": {},
   "outputs": [
    {
     "data": {
      "text/plain": [
       "<Axes: xlabel='test_idx', ylabel='success'>"
      ]
     },
     "execution_count": 29,
     "metadata": {},
     "output_type": "execute_result"
    },
    {
     "data": {
      "image/png": "[encoded data removed]",
      "text/plain": [
       "<Figure size 640x480 with 1 Axes>"
      ]
     },
     "metadata": {},
     "output_type": "display_data"
    }
   ],
   "source": [
    "df = pd.DataFrame(results)\n",
    "sns.barplot(data=df, x='test_idx', y='success')"
   ]
  },
  {
   "cell_type": "code",
   "execution_count": 17,
   "metadata": {},
   "outputs": [
    {
     "name": "stdout",
     "output_type": "stream",
     "text": [
      "0.0016000000000000003\n",
      "6.400000000000002e-05\n"
     ]
    }
   ],
   "source": [
    "print((1/env.action_dim)**4)\n",
    "print((1/env.action_dim)**6)"
   ]
  },
  {
   "cell_type": "code",
   "execution_count": null,
   "metadata": {},
   "outputs": [],
   "source": []
  }
 ],
 "metadata": {
  "kernelspec": {
   "display_name": "jax",
   "language": "python",
   "name": "python3"
  },
  "language_info": {
   "codemirror_mode": {
    "name": "ipython",
    "version": 3
   },
   "file_extension": ".py",
   "mimetype": "text/x-python",
   "name": "python",
   "nbconvert_exporter": "python",
   "pygments_lexer": "ipython3",
   "version": "3.12.5"
  }
 },
 "nbformat": 4,
 "nbformat_minor": 2
}
