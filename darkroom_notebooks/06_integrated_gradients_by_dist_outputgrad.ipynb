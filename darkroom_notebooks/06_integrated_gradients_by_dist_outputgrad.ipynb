{
 "cells": [
  {
   "cell_type": "code",
   "execution_count": 13,
   "metadata": {},
   "outputs": [],
   "source": [
    "import numpy as np\n",
    "import matplotlib.pyplot as plt\n",
    "import seaborn as sns\n",
    "import pickle\n",
    "import os\n",
    "import pandas as pd\n",
    "import configs\n",
    "import torch\n",
    "from sklearn.decomposition import PCA\n",
    "from scipy.spatial.distance import pdist, squareform\n",
    "\n",
    "from src.utils import find_ckpt_file, convert_to_tensor\n",
    "import h5py\n",
    "import random\n",
    "from src.envs.darkroom import DarkroomEnv\n"
   ]
  },
  {
   "cell_type": "markdown",
   "metadata": {},
   "source": [
    "# Load Model"
   ]
  },
  {
   "cell_type": "code",
   "execution_count": 15,
   "metadata": {},
   "outputs": [],
   "source": [
    "query_type = 'far'\n",
    "recalc = True"
   ]
  },
  {
   "cell_type": "code",
   "execution_count": 16,
   "metadata": {},
   "outputs": [
    {
     "name": "stdout",
     "output_type": "stream",
     "text": [
      "epoch=13-val_loss=0.911523.ckpt\n"
     ]
    }
   ],
   "source": [
    "corr = 0.25\n",
    "model_name, path_to_pkl, eval_dset_path = configs.get_model_paths(corr, \"darkroom_simple\")"
   ]
  },
  {
   "cell_type": "code",
   "execution_count": 17,
   "metadata": {},
   "outputs": [],
   "source": [
    "# Extract parameters using regex\n",
    "import re\n",
    "\n",
    "n_embd = int(re.search(r'embd(\\d+)', model_name).group(1))\n",
    "n_layer = int(re.search(r'layer(\\d+)', model_name).group(1))\n",
    "n_head = int(re.search(r'head(\\d+)', model_name).group(1))\n",
    "dropout = float(re.search(r'drop(\\d*\\.?\\d*)', model_name).group(1))\n",
    "\n",
    "# Extract correlation and state_dim from eval dataset path\n",
    "state_dim = int(re.search(r'state_dim(\\d+)', eval_dset_path).group(1))\n",
    "maze_dim = int(re.search(r'_dim(\\d+)_corr', eval_dset_path).group(1))\n",
    "node_encoding_corr = float(re.search(r'corr(\\d*\\.?\\d*)', eval_dset_path).group(1))\n",
    "\n",
    "model_config = {\n",
    "    \"n_embd\": n_embd,\n",
    "    \"n_layer\": n_layer,\n",
    "    \"n_head\": n_head,\n",
    "    \"state_dim\": state_dim,\n",
    "    \"action_dim\": 5,\n",
    "    \"dropout\": dropout,\n",
    "    \"test\": True,\n",
    "    \"name\": \"transformer_end_query\",\n",
    "    \"optimizer_config\": None,\n",
    "}"
   ]
  },
  {
   "cell_type": "code",
   "execution_count": 18,
   "metadata": {},
   "outputs": [
    {
     "name": "stderr",
     "output_type": "stream",
     "text": [
      "/tmp/ipykernel_3175416/4170590101.py:4: FutureWarning: You are using `torch.load` with `weights_only=False` (the current default value), which uses the default pickle module implicitly. It is possible to construct malicious pickle data which will execute arbitrary code during unpickling (See https://github.com/pytorch/pytorch/blob/main/SECURITY.md#untrusted-models for more details). In a future release, the default value for `weights_only` will be flipped to `True`. This limits the functions that could be executed during unpickling. Arbitrary objects will no longer be allowed to be loaded via this mode unless they are explicitly allowlisted by the user via `torch.serialization.add_safe_globals`. We recommend you start setting `weights_only=True` for any use case where you don't have full control of the loaded file. Please open an issue on GitHub for any issues related to this experimental feature.\n",
      "  checkpoint = torch.load(path_to_pkl)\n"
     ]
    }
   ],
   "source": [
    "from src.models.transformer_end_query import Transformer\n",
    "model_config['initialization_seed'] = 0\n",
    "model = Transformer(**model_config)\n",
    "checkpoint = torch.load(path_to_pkl)\n",
    "model.load_state_dict(checkpoint['state_dict'])\n",
    "model.eval()\n",
    "model = model.to('cuda')"
   ]
  },
  {
   "cell_type": "markdown",
   "metadata": {},
   "source": [
    "# Load Dataset and Create Environment"
   ]
  },
  {
   "cell_type": "code",
   "execution_count": 19,
   "metadata": {},
   "outputs": [],
   "source": [
    "n_eval_envs = 50\n",
    "\n",
    "is_h5_file = eval_dset_path.endswith('.h5')\n",
    "if is_h5_file:\n",
    "    eval_trajs = h5py.File(eval_dset_path, 'r')\n",
    "    traj_indices = list(eval_trajs.keys())\n",
    "    n_eval_envs = min(n_eval_envs, len(traj_indices))\n",
    "    random.seed(0)\n",
    "    traj_indices = random.sample(traj_indices, n_eval_envs)\n",
    "    random.seed()\n",
    "    eval_trajs = [eval_trajs[i] for i in traj_indices]\n",
    "else:  # Pickle file\n",
    "    with open(eval_dset_path, 'rb') as f:\n",
    "        eval_trajs = pickle.load(f)\n",
    "    n_eval_envs = min(n_eval_envs, len(eval_trajs))\n",
    "    random.seed(0)\n",
    "    eval_trajs = random.sample(eval_trajs, n_eval_envs)\n",
    "    random.seed()\n"
   ]
  },
  {
   "cell_type": "markdown",
   "metadata": {},
   "source": [
    "# Helper Functions"
   ]
  },
  {
   "cell_type": "code",
   "execution_count": 20,
   "metadata": {},
   "outputs": [],
   "source": [
    "def format_transformer_input_from_batch(batch, model):\n",
    "    query_states = batch['query_states'][:, None, :]\n",
    "    zeros = batch['zeros'][:, None, :]\n",
    "    state_seq = torch.cat([batch['context_states'], query_states], dim=1)\n",
    "    action_seq = torch.cat(\n",
    "        [batch['context_actions'], zeros[:, :, :model.action_dim]], dim=1)\n",
    "    next_state_seq = torch.cat(\n",
    "        [batch['context_next_states'], zeros[:, :, :model.state_dim]], dim=1)\n",
    "    reward_seq = torch.cat([batch['context_rewards'], zeros[:, :, :1]], dim=1)\n",
    "    seq = torch.cat(\n",
    "        [state_seq, action_seq, next_state_seq, reward_seq], dim=2)\n",
    "    seq_len = seq.shape[1]\n",
    "    stacked_inputs = model.embed_transition(seq)\n",
    "    return stacked_inputs"
   ]
  },
  {
   "cell_type": "code",
   "execution_count": 21,
   "metadata": {},
   "outputs": [],
   "source": [
    "def format_batches(traj, context_length=1000):\n",
    "    batch = {\n",
    "        'context_states': convert_to_tensor([np.array(traj['context_states'][:context_length])]),\n",
    "        'context_actions': convert_to_tensor([np.array(traj['context_actions'][:context_length])]),\n",
    "        'context_next_states': convert_to_tensor([np.array(traj['context_next_states'][:context_length])]),\n",
    "        'context_rewards': convert_to_tensor([np.array(traj['context_rewards'][:context_length])[:, None]]),\n",
    "        'query_states': convert_to_tensor([np.array(traj['query_state'])]),\n",
    "        } \n",
    "    batch['zeros'] = torch.zeros(1, 10 ** 2 + 4 + 1).float()\n",
    "    for k in batch.keys():\n",
    "        if 'context' in k:\n",
    "            batch[k] = batch[k]\n",
    "        batch[k] = batch[k].to(model.device)\n",
    "    baseline_batch = {}\n",
    "    for k, v in batch.items():\n",
    "        baseline_batch[k] = v.clone() if isinstance(v, torch.Tensor) else v\n",
    "    baseline_batch['context_actions'] *= 0\n",
    "    baseline_batch['context_actions'] += 0.25\n",
    "    return baseline_batch, batch"
   ]
  },
  {
   "cell_type": "code",
   "execution_count": 22,
   "metadata": {},
   "outputs": [],
   "source": [
    "def aggregate_token_attributions(attributions, aggregation_method='l2'):\n",
    "    \"\"\"\n",
    "    Aggregate attributions across embedding dimensions to get token-level scores.\n",
    "    \n",
    "    Args:\n",
    "        attributions: Attribution tensor of shape [seq_len, emb_dim]\n",
    "        aggregation_method: Method to aggregate across embedding dimensions ('sum', 'l2', 'mean')\n",
    "        \n",
    "    Returns:\n",
    "        Tensor of token-level attributions of shape [seq_len]\n",
    "    \"\"\"\n",
    "    if aggregation_method == 'sum':\n",
    "        return torch.sum(attributions, dim=-1)\n",
    "    elif aggregation_method == 'l2':\n",
    "        return torch.sqrt(torch.sum(attributions ** 2, dim=-1))\n",
    "    elif aggregation_method == 'mean':\n",
    "        return torch.mean(attributions, dim=-1)\n",
    "    elif aggregation_method == 'sum-abs':\n",
    "        return torch.sum(torch.abs(attributions), dim=-1)\n",
    "    else:\n",
    "        raise ValueError(f\"Unknown aggregation method: {aggregation_method}\")"
   ]
  },
  {
   "cell_type": "markdown",
   "metadata": {},
   "source": [
    "# Run Gradient Attribution"
   ]
  },
  {
   "cell_type": "code",
   "execution_count": 23,
   "metadata": {},
   "outputs": [],
   "source": [
    "def get_output_attributions(traj, model, action):\n",
    "    baseline_batch, batch = format_batches(traj)\n",
    "    layer_attributions = {}\n",
    "    inputs = format_transformer_input_from_batch(batch, model)\n",
    "    baseline_inputs = format_transformer_input_from_batch(baseline_batch, model)\n",
    "\n",
    "    # Output w.r.t Input\n",
    "    alphas = torch.linspace(0, 1, steps=20)\n",
    "    all_grads = []\n",
    "    for alpha in alphas:\n",
    "        interp_input = alpha*inputs + (1-alpha)*baseline_inputs\n",
    "        interp_input.requires_grad_(True)\n",
    "\n",
    "        # Forward pass to get layer output\n",
    "        transformer_output = model.transformer(inputs_embeds=interp_input)\n",
    "        preds = model.pred_actions(transformer_output['last_hidden_state'])\n",
    "        preds = preds[:, -1, :]\n",
    "        target = preds[:, action]\n",
    "\n",
    "        grad_wrt_input = torch.autograd.grad(\n",
    "            outputs=target,\n",
    "            inputs=interp_input,\n",
    "            grad_outputs=target,\n",
    "            retain_graph=True\n",
    "        )[0]\n",
    "        all_grads.append(grad_wrt_input)\n",
    "    avg_grad = torch.stack(all_grads).mean(dim=0)\n",
    "    avg_grad = avg_grad.detach().cpu().numpy().squeeze()\n",
    "    delta_input = (inputs - baseline_inputs).detach().cpu().numpy().squeeze()\n",
    "    input_to_output_attribution = np.sum(avg_grad * delta_input, axis=1)\n",
    "    return input_to_output_attribution"
   ]
  },
  {
   "cell_type": "code",
   "execution_count": 24,
   "metadata": {},
   "outputs": [],
   "source": [
    "def deploy_model(model, env, batch, query_state, horizon):\n",
    "    if isinstance(query_state, tuple):\n",
    "        query_state = list(query_state)\n",
    "    elif isinstance(query_state, np.ndarray):\n",
    "        query_state = query_state.tolist()\n",
    "    returns = 0\n",
    "    actions = []\n",
    "    states = [query_state]\n",
    "    for step in range(horizon):\n",
    "        batch['query_states'] = convert_to_tensor(\n",
    "            [np.array(query_state)]\n",
    "            ).to(model.device)\n",
    "        with torch.no_grad():\n",
    "            action_vec = model(batch).squeeze().cpu().numpy()\n",
    "        query_state, reward = env.transit(query_state, action_vec)\n",
    "        actions.append(np.argmax(action_vec))\n",
    "        states.append(query_state)\n",
    "        returns += reward\n",
    "    return returns, actions, states\n"
   ]
  },
  {
   "cell_type": "code",
   "execution_count": 25,
   "metadata": {},
   "outputs": [],
   "source": [
    "seq_length = 200"
   ]
  },
  {
   "cell_type": "code",
   "execution_count": 30,
   "metadata": {},
   "outputs": [],
   "source": [
    "if recalc:\n",
    "    results = {\n",
    "        'grad_val': [],\n",
    "        'node_dist_from_goal': [],\n",
    "        'node_dist_from_query': [],\n",
    "    }\n",
    "    n_iters = 2\n",
    "    \n",
    "    for i_eval in range(n_eval_envs):\n",
    "        traj = eval_trajs[i_eval]\n",
    "        first_reward_idx = np.where(traj['context_rewards'] != 0)[0]\n",
    "        if (first_reward_idx.size == 0) or (first_reward_idx[0] > seq_length):\n",
    "            continue\n",
    "    \n",
    "        env_config = {\n",
    "            'maze_dim': maze_dim,\n",
    "            'horizon': 200,\n",
    "            'state_dim': state_dim,\n",
    "            'node_encoding_corr': node_encoding_corr,\n",
    "            'initialization_seed': np.array(traj['initialization_seed']).item(),\n",
    "            'goal': np.array(traj['goal'])\n",
    "        }\n",
    "        env = DarkroomEnv(**env_config)\n",
    "        _, batch = format_batches(traj, context_length=seq_length)\n",
    "        optimal_action_map, dist_from_goal = env.make_opt_action_dict()\n",
    "        for query_dist_from_goal in range(1, 9):\n",
    "            for _ in range(n_iters):\n",
    "                # Choose query state\n",
    "                valid_query_states = []\n",
    "                for i in range(len(traj['context_states'])):\n",
    "                    test_state = traj['context_states'][i]\n",
    "                    d = dist_from_goal[tuple(test_state.tolist())]\n",
    "                    if d != query_dist_from_goal:\n",
    "                        continue\n",
    "                    returns, _, _ = deploy_model(model, env, batch, test_state, query_dist_from_goal)\n",
    "                    if returns == 0:\n",
    "                        continue\n",
    "                    valid_query_states.append(test_state)\n",
    "                if len(valid_query_states) == 0:\n",
    "                    continue\n",
    "                else:\n",
    "                    query_state = valid_query_states[np.random.choice(len(valid_query_states))]\n",
    "    \n",
    "                traj['query_state'] = query_state\n",
    "                query_state = query_state.tolist()\n",
    "                _, dist_from_query = env._make_opt_action_dict(tuple(query_state))\n",
    "                goal_state = traj['goal'].tolist()\n",
    "                returns, actions, states_on_path = deploy_model(model, env, batch, query_state, query_dist_from_goal)\n",
    "                attentions = get_output_attributions(traj, model, actions[0])\n",
    "                max_scale = np.abs(attentions).max()\n",
    "                attentions = attentions/max_scale\n",
    "        \n",
    "                for idx, attn in enumerate(attentions[:-1]):\n",
    "                    curr_state = traj['context_states'][idx].tolist()\n",
    "                    next_state = traj['context_next_states'][idx].tolist()\n",
    "                    if curr_state == next_state:\n",
    "                        continue\n",
    "                    results['node_dist_from_goal'].append(np.mean([dist_from_goal[tuple(curr_state)], dist_from_goal[tuple(next_state)]]))\n",
    "                    results['node_dist_from_query'].append(np.mean([dist_from_query[tuple(curr_state)], dist_from_query[tuple(next_state)]]))\n",
    "                    results['grad_val'].append(attn)\n",
    "    with open('pickles/06_integrated_gradients_by_dist_outputgrad.pkl', 'wb') as f:\n",
    "        pickle.dump(results, f)\n",
    "else:\n",
    "    with open('pickles/06_integrated_gradients_by_dist_outputgrad.pkl', 'rb') as f:\n",
    "        results = pickle.load(f)\n"
   ]
  },
  {
   "cell_type": "code",
   "execution_count": 33,
   "metadata": {},
   "outputs": [
    {
     "data": {
      "image/png": "[encoded data removed]",
      "text/plain": [
       "<Figure size 175x175 with 1 Axes>"
      ]
     },
     "metadata": {},
     "output_type": "display_data"
    },
    {
     "data": {
      "image/png": "[encoded data removed]",
      "text/plain": [
       "<Figure size 175x175 with 1 Axes>"
      ]
     },
     "metadata": {},
     "output_type": "display_data"
    }
   ],
   "source": [
    "df = pd.DataFrame(results)\n",
    "df['grad_val'] = np.abs(df['grad_val'])\n",
    "plt.figure(figsize=(1.75, 1.75))\n",
    "\n",
    "sns.lineplot(\n",
    "    data=df, x='node_dist_from_query', y='grad_val',\n",
    "    legend=False, linewidth=2,\n",
    ")\n",
    "plt.xlabel('Distance from Query', fontsize=8)\n",
    "plt.ylabel('Attrib. Strength', fontsize=8)\n",
    "plt.xticks(fontsize=6)\n",
    "plt.yticks(fontsize=6)\n",
    "plt.tight_layout()\n",
    "plt.savefig('figs_app/L_20B.png', dpi=300, transparent=True)\n",
    "plt.savefig('figs_app/L_20B.pdf', dpi=300, transparent=True)\n",
    "plt.show()\n",
    "\n",
    "df = pd.DataFrame(results)\n",
    "plt.figure(figsize=(1.75, 1.75))\n",
    "\n",
    "sns.lineplot(\n",
    "    data=df, x='node_dist_from_goal', y='grad_val',\n",
    "    legend=False, linewidth=2,\n",
    ")\n",
    "plt.xlabel('Distance from Goal', fontsize=8)\n",
    "plt.ylabel('Attrib. Strength', fontsize=8)\n",
    "plt.xticks(fontsize=6)\n",
    "plt.yticks(fontsize=6)\n",
    "plt.tight_layout()\n",
    "plt.savefig('figs_app/L_20C.png', dpi=300, transparent=True)\n",
    "plt.savefig('figs_app/L_20C.pdf', dpi=300, transparent=True)\n",
    "plt.show()"
   ]
  },
  {
   "cell_type": "code",
   "execution_count": null,
   "metadata": {},
   "outputs": [],
   "source": []
  }
 ],
 "metadata": {
  "kernelspec": {
   "display_name": "Python 3",
   "language": "python",
   "name": "python3"
  },
  "language_info": {
   "codemirror_mode": {
    "name": "ipython",
    "version": 3
   },
   "file_extension": ".py",
   "mimetype": "text/x-python",
   "name": "python",
   "nbconvert_exporter": "python",
   "pygments_lexer": "ipython3",
   "version": "3.12.5"
  }
 },
 "nbformat": 4,
 "nbformat_minor": 2
}
