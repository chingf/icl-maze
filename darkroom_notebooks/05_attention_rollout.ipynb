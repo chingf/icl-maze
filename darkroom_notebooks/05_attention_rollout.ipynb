{
 "cells": [
  {
   "cell_type": "code",
   "execution_count": 1,
   "metadata": {},
   "outputs": [],
   "source": [
    "import numpy as np\n",
    "import matplotlib.pyplot as plt\n",
    "import seaborn as sns\n",
    "import pickle\n",
    "import os\n",
    "import pandas as pd\n",
    "import configs\n",
    "import torch\n",
    "from sklearn.decomposition import PCA\n",
    "from scipy.spatial.distance import pdist, squareform\n",
    "\n",
    "from src.utils import find_ckpt_file, convert_to_tensor\n",
    "import h5py\n",
    "import random\n",
    "from src.evals.eval_trees import EvalTrees\n",
    "from src.evals.eval_trees import EvalCntrees\n",
    "\n",
    "from copy import copy\n"
   ]
  },
  {
   "cell_type": "markdown",
   "metadata": {},
   "source": [
    "# Load Model"
   ]
  },
  {
   "cell_type": "code",
   "execution_count": 2,
   "metadata": {},
   "outputs": [],
   "source": [
    "query_type = 'far'"
   ]
  },
  {
   "cell_type": "code",
   "execution_count": 3,
   "metadata": {},
   "outputs": [
    {
     "name": "stdout",
     "output_type": "stream",
     "text": [
      "epoch=13-val_loss=0.911523.ckpt\n"
     ]
    }
   ],
   "source": [
    "corr = 0.25\n",
    "model_name, path_to_pkl, eval_dset_path = configs.get_model_paths(corr, \"darkroom_simple\")"
   ]
  },
  {
   "cell_type": "code",
   "execution_count": 4,
   "metadata": {},
   "outputs": [],
   "source": [
    "# Extract parameters using regex\n",
    "import re\n",
    "\n",
    "n_embd = int(re.search(r'embd(\\d+)', model_name).group(1))\n",
    "n_layer = int(re.search(r'layer(\\d+)', model_name).group(1))\n",
    "n_head = int(re.search(r'head(\\d+)', model_name).group(1))\n",
    "dropout = float(re.search(r'drop(\\d*\\.?\\d*)', model_name).group(1))\n",
    "\n",
    "# Extract correlation and state_dim from eval dataset path\n",
    "state_dim = int(re.search(r'state_dim(\\d+)', eval_dset_path).group(1))\n",
    "maze_dim = int(re.search(r'_dim(\\d+)_corr', eval_dset_path).group(1))\n",
    "node_encoding_corr = float(re.search(r'corr(\\d*\\.?\\d*)', eval_dset_path).group(1))\n",
    "\n",
    "model_config = {\n",
    "    \"n_embd\": n_embd,\n",
    "    \"n_layer\": n_layer,\n",
    "    \"n_head\": n_head,\n",
    "    \"state_dim\": state_dim,\n",
    "    \"action_dim\": 5,\n",
    "    \"dropout\": dropout,\n",
    "    \"test\": True,\n",
    "    \"name\": \"transformer_end_query\",\n",
    "    \"optimizer_config\": None,\n",
    "}"
   ]
  },
  {
   "cell_type": "code",
   "execution_count": 5,
   "metadata": {},
   "outputs": [
    {
     "name": "stderr",
     "output_type": "stream",
     "text": [
      "/tmp/ipykernel_287705/4170590101.py:4: FutureWarning: You are using `torch.load` with `weights_only=False` (the current default value), which uses the default pickle module implicitly. It is possible to construct malicious pickle data which will execute arbitrary code during unpickling (See https://github.com/pytorch/pytorch/blob/main/SECURITY.md#untrusted-models for more details). In a future release, the default value for `weights_only` will be flipped to `True`. This limits the functions that could be executed during unpickling. Arbitrary objects will no longer be allowed to be loaded via this mode unless they are explicitly allowlisted by the user via `torch.serialization.add_safe_globals`. We recommend you start setting `weights_only=True` for any use case where you don't have full control of the loaded file. Please open an issue on GitHub for any issues related to this experimental feature.\n",
      "  checkpoint = torch.load(path_to_pkl)\n"
     ]
    }
   ],
   "source": [
    "from src.models.transformer_end_query import Transformer\n",
    "model_config['initialization_seed'] = 0\n",
    "model = Transformer(**model_config)\n",
    "checkpoint = torch.load(path_to_pkl)\n",
    "model.load_state_dict(checkpoint['state_dict'])\n",
    "model.eval()\n",
    "model = model.to('cuda')"
   ]
  },
  {
   "cell_type": "markdown",
   "metadata": {},
   "source": [
    "# Load Dataset and Create Environment"
   ]
  },
  {
   "cell_type": "code",
   "execution_count": 6,
   "metadata": {},
   "outputs": [],
   "source": [
    "n_eval_envs = 50\n",
    "\n",
    "is_h5_file = eval_dset_path.endswith('.h5')\n",
    "if is_h5_file:\n",
    "    eval_trajs = h5py.File(eval_dset_path, 'r')\n",
    "    traj_indices = list(eval_trajs.keys())\n",
    "    n_eval_envs = min(n_eval_envs, len(traj_indices))\n",
    "    random.seed(0)\n",
    "    traj_indices = random.sample(traj_indices, n_eval_envs)\n",
    "    random.seed()\n",
    "    eval_trajs = [eval_trajs[i] for i in traj_indices]\n",
    "else:  # Pickle file\n",
    "    with open(eval_dset_path, 'rb') as f:\n",
    "        eval_trajs = pickle.load(f)\n",
    "    n_eval_envs = min(n_eval_envs, len(eval_trajs))\n",
    "    random.seed(0)\n",
    "    eval_trajs = random.sample(eval_trajs, n_eval_envs)\n",
    "    random.seed()\n"
   ]
  },
  {
   "cell_type": "code",
   "execution_count": 7,
   "metadata": {},
   "outputs": [],
   "source": [
    "from src.envs.darkroom import DarkroomEnv\n",
    "\n",
    "\n",
    "i_eval = 2\n",
    "traj = eval_trajs[i_eval]\n",
    "env_config = {\n",
    "    'maze_dim': maze_dim,\n",
    "    'horizon': 200,\n",
    "    'state_dim': state_dim,\n",
    "    'node_encoding_corr': node_encoding_corr,\n",
    "    'initialization_seed': np.array(traj['initialization_seed']).item(),\n",
    "    'goal': np.array(traj['goal'])\n",
    "}\n",
    "env = DarkroomEnv(**env_config)\n",
    "optimal_action_map, dist_from_goal = env.make_opt_action_dict()\n",
    "valid_query_states = []\n",
    "for i in range(len(traj['context_states'])):\n",
    "    d = dist_from_goal[tuple(traj['context_states'][i].tolist())]\n",
    "    if query_type == 'far' and d < 7:\n",
    "        continue\n",
    "    elif query_type == 'middle' and d != 5:\n",
    "       continue\n",
    "    valid_query_states.append(traj['context_states'][i])\n",
    "if len(valid_query_states) == 0:\n",
    "    print('No valid query states found')\n",
    "else:\n",
    "    traj['query_state'] = valid_query_states[np.random.choice(len(valid_query_states))]\n"
   ]
  },
  {
   "cell_type": "code",
   "execution_count": 8,
   "metadata": {},
   "outputs": [
    {
     "name": "stdout",
     "output_type": "stream",
     "text": [
      "Context length: 50, Reward: 1\n",
      "Context length: 100, Reward: 4\n",
      "Context length: 150, Reward: 16\n",
      "First nonzero reward at step 41: 1\n"
     ]
    }
   ],
   "source": [
    "for seq_length in [50, 100, 150]:\n",
    "    print(f'Context length: {seq_length}, Reward: {traj['context_rewards'][:seq_length].sum()}')\n",
    "\n",
    "first_reward_idx = np.where(traj['context_rewards'] != 0)[0][0]\n",
    "print(f'First nonzero reward at step {first_reward_idx}: {traj['context_rewards'][first_reward_idx]}')\n"
   ]
  },
  {
   "cell_type": "code",
   "execution_count": 9,
   "metadata": {},
   "outputs": [],
   "source": [
    "context_length = 200"
   ]
  },
  {
   "cell_type": "markdown",
   "metadata": {},
   "source": [
    "# Helper Functions for Running Model and Getting Attentions"
   ]
  },
  {
   "cell_type": "code",
   "execution_count": 10,
   "metadata": {},
   "outputs": [],
   "source": [
    "\n",
    "states = []\n",
    "next_states = []\n",
    "\n",
    "state_features = traj['context_states'].squeeze()\n",
    "next_state_features = traj['context_next_states'].squeeze()\n",
    "for state_feature, next_state_feature in zip(state_features, next_state_features):\n",
    "    state_feature = tuple(state_feature.tolist())\n",
    "    next_state_feature = tuple(next_state_feature.tolist())\n",
    "    states.append(list(env.node_map_encoding_to_pos[state_feature]))\n",
    "    next_states.append(list(env.node_map_encoding_to_pos[next_state_feature]))\n",
    "    \n",
    "states = np.array(states)\n",
    "next_states = np.array(next_states)"
   ]
  },
  {
   "cell_type": "code",
   "execution_count": 11,
   "metadata": {},
   "outputs": [],
   "source": [
    "def run_model_and_get_attentions(traj, model, env, seq_length):\n",
    "    hidden_states = [[] for _ in range(model.n_layer)]\n",
    "    batch = {\n",
    "        'context_states': convert_to_tensor([np.array(traj['context_states'])]),\n",
    "        'context_actions': convert_to_tensor([np.array(traj['context_actions'])]),\n",
    "        'context_next_states': convert_to_tensor([np.array(traj['context_next_states'])]),\n",
    "        'context_rewards': convert_to_tensor([np.array(traj['context_rewards'])[:, None]]),\n",
    "        'query_states': convert_to_tensor([np.array(traj['query_state'])]),\n",
    "        }\n",
    "    batch['zeros'] = torch.zeros(1, 10 ** 2 + 4 + 1).float()\n",
    "    for k in batch.keys():\n",
    "        if 'context' in k:\n",
    "            batch[k] = batch[k][:,:seq_length]\n",
    "        batch[k] = batch[k].to(model.device)\n",
    "    model.save_activations = True\n",
    "    with torch.no_grad():\n",
    "        out = model(batch)\n",
    "    _hidden_states = model.activations['hidden_states'][1:] # Tuple over layers\n",
    "    for i_layer in range(model.n_layer):\n",
    "        hidden_states[i_layer].append(_hidden_states[i_layer])\n",
    "    return model.activations['attentions']"
   ]
  },
  {
   "cell_type": "markdown",
   "metadata": {},
   "source": [
    "# Plotting Helper Functions"
   ]
  },
  {
   "cell_type": "code",
   "execution_count": 12,
   "metadata": {},
   "outputs": [],
   "source": [
    "from copy import copy\n",
    "import networkx as nx\n",
    "\n",
    "def plot_trajectory(states, next_states, query_state, attentions, env):\n",
    "    G = env.to_networkx()\n",
    "    pos = {node: node for node in G.nodes()}\n",
    "\n",
    "    fig, ax = plt.subplots(figsize=(4,4))  # Create a new figure\n",
    "    nx.draw(G, pos,\n",
    "           node_color='lightblue',\n",
    "           edge_color='white',\n",
    "           node_size=100,\n",
    "           font_size=8,\n",
    "           font_weight='bold',\n",
    "           width=1,\n",
    "           alpha=1.)\n",
    "\n",
    "    goal_state = env.node_map_encoding_to_pos[tuple(env.goal.tolist())]\n",
    "    query_state = env.node_map_encoding_to_pos[tuple(query_state.tolist())]\n",
    "    # Then draw specific nodes in green\n",
    "    nx.draw_networkx_nodes(G, pos,\n",
    "                      nodelist=[query_state],\n",
    "                      node_color='green',\n",
    "                      node_size=100)\n",
    "    nx.draw_networkx_nodes(G, pos,\n",
    "                      nodelist=[goal_state],\n",
    "                      node_color='green',\n",
    "                      node_size=100,\n",
    "                      node_shape='*')\n",
    "    \n",
    "    for state, next_state, attention in zip(states, next_states, attentions):\n",
    "        edge_color = 'red' if attention > 0 else 'blue'\n",
    "        nx.draw_networkx_edges(G, pos,\n",
    "            edgelist=[(tuple(state), tuple(next_state))],\n",
    "            edge_color=edge_color,\n",
    "            alpha=abs(attention),\n",
    "            width=2)\n",
    "\n",
    "    ax.spines['top'].set_visible(False)\n",
    "    ax.spines['right'].set_visible(False)\n",
    "    ax.spines['bottom'].set_visible(False)\n",
    "    ax.spines['left'].set_visible(False)\n",
    "    plt.xticks([])\n",
    "    plt.yticks([])\n",
    "    plt.tight_layout()\n",
    "    plt.show()"
   ]
  },
  {
   "cell_type": "code",
   "execution_count": 13,
   "metadata": {},
   "outputs": [],
   "source": [
    "def get_attn_rollout(attentions, layer, head):\n",
    "    attn_rollout = np.eye(attentions[0][0, 0].shape[0])\n",
    "    for l in range(layer+1):\n",
    "        raw_attn = attentions[l].squeeze()[head].cpu().numpy()\n",
    "        effective_attn = raw_attn + np.eye(raw_attn.shape[0])\n",
    "        attn_rollout = attn_rollout @ effective_attn\n",
    "    return attn_rollout\n"
   ]
  },
  {
   "cell_type": "markdown",
   "metadata": {},
   "source": [
    "# Attention "
   ]
  },
  {
   "cell_type": "code",
   "execution_count": 14,
   "metadata": {},
   "outputs": [
    {
     "name": "stderr",
     "output_type": "stream",
     "text": [
      "`GPT2SdpaAttention` is used but `torch.nn.functional.scaled_dot_product_attention` does not support `output_attentions=True` or `head_mask`. Falling back to the manual attention implementation, but specifying the manual implementation will be required from Transformers version v5.0.0 onwards. This warning can be removed using the argument `attn_implementation=\"eager\"` when loading the model.\n"
     ]
    }
   ],
   "source": [
    "saved_attentions = run_model_and_get_attentions(traj, model, env, context_length)"
   ]
  },
  {
   "cell_type": "code",
   "execution_count": 18,
   "metadata": {},
   "outputs": [
    {
     "data": {
      "image/png": "[encoded data removed]",
      "text/plain": [
       "<Figure size 400x400 with 1 Axes>"
      ]
     },
     "metadata": {},
     "output_type": "display_data"
    },
    {
     "data": {
      "image/png": "[encoded data removed]",
      "text/plain": [
       "<Figure size 400x400 with 1 Axes>"
      ]
     },
     "metadata": {},
     "output_type": "display_data"
    },
    {
     "data": {
      "image/png": "[encoded data removed]",
      "text/plain": [
       "<Figure size 400x400 with 1 Axes>"
      ]
     },
     "metadata": {},
     "output_type": "display_data"
    }
   ],
   "source": [
    "for layer in range(model.n_layer):\n",
    "    attn = saved_attentions[layer].cpu().numpy().squeeze()  # (head, seq_len from, seq_len to)\n",
    "    all_attns = []\n",
    "    for head in range(model.n_head):\n",
    "        _attn = attn[head, -1]\n",
    "        # clip_val = np.percentile(_attn, 100)\n",
    "        # _attn = np.clip(_attn, 0, clip_val)\n",
    "        # _attn = _attn/clip_val\n",
    "        all_attns.append(_attn)\n",
    "    plot_trajectory(states, next_states, traj['query_state'], np.sum(all_attns, axis=0), env)"
   ]
  },
  {
   "cell_type": "markdown",
   "metadata": {},
   "source": [
    "# Attention Rollout"
   ]
  },
  {
   "cell_type": "code",
   "execution_count": 16,
   "metadata": {},
   "outputs": [
    {
     "data": {
      "image/png": "[encoded data removed]",
      "text/plain": [
       "<Figure size 400x400 with 1 Axes>"
      ]
     },
     "metadata": {},
     "output_type": "display_data"
    },
    {
     "data": {
      "image/png": "[encoded data removed]",
      "text/plain": [
       "<Figure size 400x400 with 1 Axes>"
      ]
     },
     "metadata": {},
     "output_type": "display_data"
    },
    {
     "data": {
      "image/png": "[encoded data removed]",
      "text/plain": [
       "<Figure size 400x400 with 1 Axes>"
      ]
     },
     "metadata": {},
     "output_type": "display_data"
    }
   ],
   "source": [
    "for layer in range(model.n_layer):\n",
    "    attn = saved_attentions[layer].cpu().numpy().squeeze()  # (head, seq_len from, seq_len to)\n",
    "    all_attns = []\n",
    "    for head in range(model.n_head):\n",
    "        attn_rollout = get_attn_rollout(saved_attentions, layer, head)\n",
    "        _attn = attn_rollout[-1]\n",
    "        clip_val = np.percentile(_attn, 100)\n",
    "        _attn = np.clip(_attn, 0, clip_val)\n",
    "        _attn = _attn/clip_val\n",
    "        all_attns.append(_attn)\n",
    "    plot_trajectory(states, next_states, traj['query_state'], np.mean(all_attns, axis=0), env)"
   ]
  },
  {
   "cell_type": "code",
   "execution_count": null,
   "metadata": {},
   "outputs": [],
   "source": []
  },
  {
   "cell_type": "code",
   "execution_count": null,
   "metadata": {},
   "outputs": [],
   "source": []
  }
 ],
 "metadata": {
  "kernelspec": {
   "display_name": "jax",
   "language": "python",
   "name": "python3"
  },
  "language_info": {
   "codemirror_mode": {
    "name": "ipython",
    "version": 3
   },
   "file_extension": ".py",
   "mimetype": "text/x-python",
   "name": "python",
   "nbconvert_exporter": "python",
   "pygments_lexer": "ipython3",
   "version": "3.12.5"
  }
 },
 "nbformat": 4,
 "nbformat_minor": 2
}
