{
 "cells": [
  {
   "cell_type": "code",
   "execution_count": 1,
   "metadata": {},
   "outputs": [],
   "source": [
    "import numpy as np\n",
    "import matplotlib.pyplot as plt\n",
    "import seaborn as sns\n",
    "import pickle\n",
    "import os\n",
    "from sklearn.decomposition import PCA\n",
    "from src.utils import find_ckpt_file, convert_to_tensor\n",
    "import random\n",
    "from src.envs.darkroom import DarkroomEnv\n",
    "import networkx as nx\n",
    "import matplotlib.pyplot as plt"
   ]
  },
  {
   "cell_type": "markdown",
   "metadata": {},
   "source": [
    "# A few example Tree Mazes"
   ]
  },
  {
   "cell_type": "code",
   "execution_count": 2,
   "metadata": {},
   "outputs": [
    {
     "data": {
      "image/png": "[encoded data removed]",
      "text/plain": [
       "<Figure size 300x300 with 1 Axes>"
      ]
     },
     "metadata": {},
     "output_type": "display_data"
    }
   ],
   "source": [
    "env = DarkroomEnv(\n",
    "    maze_dim=5,\n",
    "    horizon=400,\n",
    "    state_dim=10,\n",
    "    node_encoding_corr=0.\n",
    ")\n",
    "\n",
    "G = env.to_networkx()\n",
    "pos = {node: node for node in G.nodes()}\n",
    "plt.figure(figsize=(3,3))\n",
    "nx.draw(G, pos,\n",
    "       node_color='darkgray',\n",
    "       node_size=150,\n",
    "       font_size=8,\n",
    "       font_weight='bold',\n",
    "       edge_color='gray',\n",
    "       width=1,\n",
    "       alpha=1.)\n",
    "plt.show()\n"
   ]
  },
  {
   "cell_type": "code",
   "execution_count": 26,
   "metadata": {},
   "outputs": [
    {
     "name": "stdout",
     "output_type": "stream",
     "text": [
      "(1, 0)\n",
      "[1. 0. 0. 0. 0.]\n",
      "(0, 0)\n",
      "[0. 1. 0. 0. 0.]\n",
      "(0, 1)\n",
      "[0. 1. 0. 0. 0.]\n",
      "(0, 2)\n",
      "[0. 1. 0. 0. 0.]\n",
      "(0, 3)\n"
     ]
    }
   ],
   "source": [
    "samp_state = env.reset()\n",
    "print(env.node_map_encoding_to_pos[tuple(samp_state)])\n",
    "for _ in range(10):\n",
    "    action = env.opt_action(samp_state)\n",
    "    print(action)\n",
    "    next_state, reward, done, _ = env.step(action)\n",
    "    samp_state = next_state\n",
    "    print(env.node_map_encoding_to_pos[tuple(next_state)])\n",
    "    if reward == 1:\n",
    "        break\n"
   ]
  },
  {
   "cell_type": "code",
   "execution_count": null,
   "metadata": {},
   "outputs": [],
   "source": []
  }
 ],
 "metadata": {
  "kernelspec": {
   "display_name": "jax",
   "language": "python",
   "name": "python3"
  },
  "language_info": {
   "codemirror_mode": {
    "name": "ipython",
    "version": 3
   },
   "file_extension": ".py",
   "mimetype": "text/x-python",
   "name": "python",
   "nbconvert_exporter": "python",
   "pygments_lexer": "ipython3",
   "version": "3.12.5"
  }
 },
 "nbformat": 4,
 "nbformat_minor": 2
}
