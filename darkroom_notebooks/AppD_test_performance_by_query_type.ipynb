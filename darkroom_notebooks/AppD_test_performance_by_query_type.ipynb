{
 "cells": [
  {
   "cell_type": "code",
   "execution_count": 3,
   "metadata": {},
   "outputs": [],
   "source": [
    "import numpy as np\n",
    "import matplotlib.pyplot as plt\n",
    "import seaborn as sns\n",
    "import pickle\n",
    "import os\n",
    "import pandas as pd\n",
    "import configs\n",
    "from scipy.optimize import curve_fit"
   ]
  },
  {
   "cell_type": "markdown",
   "metadata": {},
   "source": [
    "# Arguments"
   ]
  },
  {
   "cell_type": "code",
   "execution_count": 4,
   "metadata": {},
   "outputs": [],
   "source": [
    "corr = 0.25"
   ]
  },
  {
   "cell_type": "markdown",
   "metadata": {},
   "source": [
    "# Load Meta-RL results"
   ]
  },
  {
   "cell_type": "code",
   "execution_count": 5,
   "metadata": {},
   "outputs": [
    {
     "name": "stdout",
     "output_type": "stream",
     "text": [
      "epoch=13-val_loss=0.911523.ckpt\n"
     ]
    }
   ],
   "source": [
    "model_name, path_to_pkl, eval_dset_path = configs.get_model_paths(corr, \"darkroom_simple\")"
   ]
  },
  {
   "cell_type": "code",
   "execution_count": 6,
   "metadata": {},
   "outputs": [],
   "source": [
    "path_to_pkl = os.path.join(os.path.dirname(path_to_pkl), 'eval_results_offline_by_query_type.pkl')"
   ]
  },
  {
   "cell_type": "code",
   "execution_count": 7,
   "metadata": {},
   "outputs": [
    {
     "data": {
      "text/html": [
       "<div>\n",
       "<style scoped>\n",
       "    .dataframe tbody tr th:only-of-type {\n",
       "        vertical-align: middle;\n",
       "    }\n",
       "\n",
       "    .dataframe tbody tr th {\n",
       "        vertical-align: top;\n",
       "    }\n",
       "\n",
       "    .dataframe thead th {\n",
       "        text-align: right;\n",
       "    }\n",
       "</style>\n",
       "<table border=\"1\" class=\"dataframe\">\n",
       "  <thead>\n",
       "    <tr style=\"text-align: right;\">\n",
       "      <th></th>\n",
       "      <th>model</th>\n",
       "      <th>return</th>\n",
       "      <th>environment</th>\n",
       "      <th>experienced_reward</th>\n",
       "      <th>context_length</th>\n",
       "      <th>query_type</th>\n",
       "      <th>path_length_scaled</th>\n",
       "      <th>returns_scaled</th>\n",
       "    </tr>\n",
       "  </thead>\n",
       "  <tbody>\n",
       "    <tr>\n",
       "      <th>0</th>\n",
       "      <td>Opt</td>\n",
       "      <td>12.000000</td>\n",
       "      <td>0</td>\n",
       "      <td>13</td>\n",
       "      <td>200</td>\n",
       "      <td>seen_states_pre_reward</td>\n",
       "      <td>0.032217</td>\n",
       "      <td>0.967783</td>\n",
       "    </tr>\n",
       "    <tr>\n",
       "      <th>1</th>\n",
       "      <td>Learner (temp=2)</td>\n",
       "      <td>0.945833</td>\n",
       "      <td>0</td>\n",
       "      <td>13</td>\n",
       "      <td>200</td>\n",
       "      <td>seen_states_pre_reward</td>\n",
       "      <td>0.923720</td>\n",
       "      <td>0.076280</td>\n",
       "    </tr>\n",
       "    <tr>\n",
       "      <th>2</th>\n",
       "      <td>Learner (temp=1)</td>\n",
       "      <td>0.975000</td>\n",
       "      <td>0</td>\n",
       "      <td>13</td>\n",
       "      <td>200</td>\n",
       "      <td>seen_states_pre_reward</td>\n",
       "      <td>0.921368</td>\n",
       "      <td>0.078632</td>\n",
       "    </tr>\n",
       "    <tr>\n",
       "      <th>3</th>\n",
       "      <td>Learner (greedy)</td>\n",
       "      <td>1.000000</td>\n",
       "      <td>0</td>\n",
       "      <td>13</td>\n",
       "      <td>200</td>\n",
       "      <td>seen_states_pre_reward</td>\n",
       "      <td>0.919351</td>\n",
       "      <td>0.080649</td>\n",
       "    </tr>\n",
       "    <tr>\n",
       "      <th>4</th>\n",
       "      <td>Opt</td>\n",
       "      <td>12.100000</td>\n",
       "      <td>0</td>\n",
       "      <td>13</td>\n",
       "      <td>200</td>\n",
       "      <td>seen_states_pre_and_post_reward</td>\n",
       "      <td>0.024152</td>\n",
       "      <td>0.975848</td>\n",
       "    </tr>\n",
       "  </tbody>\n",
       "</table>\n",
       "</div>"
      ],
      "text/plain": [
       "              model     return  environment  experienced_reward  \\\n",
       "0               Opt  12.000000            0                  13   \n",
       "1  Learner (temp=2)   0.945833            0                  13   \n",
       "2  Learner (temp=1)   0.975000            0                  13   \n",
       "3  Learner (greedy)   1.000000            0                  13   \n",
       "4               Opt  12.100000            0                  13   \n",
       "\n",
       "   context_length                       query_type  path_length_scaled  \\\n",
       "0             200           seen_states_pre_reward            0.032217   \n",
       "1             200           seen_states_pre_reward            0.923720   \n",
       "2             200           seen_states_pre_reward            0.921368   \n",
       "3             200           seen_states_pre_reward            0.919351   \n",
       "4             200  seen_states_pre_and_post_reward            0.024152   \n",
       "\n",
       "   returns_scaled  \n",
       "0        0.967783  \n",
       "1        0.076280  \n",
       "2        0.078632  \n",
       "3        0.080649  \n",
       "4        0.975848  "
      ]
     },
     "execution_count": 7,
     "metadata": {},
     "output_type": "execute_result"
    }
   ],
   "source": [
    "with open(path_to_pkl, \"rb\") as f:\n",
    "    data = pickle.load(f)\n",
    "metarl_df = pd.DataFrame(data)\n",
    "metarl_df.head()"
   ]
  },
  {
   "cell_type": "markdown",
   "metadata": {},
   "source": [
    "# Plot all results"
   ]
  },
  {
   "cell_type": "code",
   "execution_count": 8,
   "metadata": {},
   "outputs": [],
   "source": [
    "# Concatenate the dataframes\n",
    "df = metarl_df\n"
   ]
  },
  {
   "cell_type": "code",
   "execution_count": 9,
   "metadata": {},
   "outputs": [
    {
     "data": {
      "text/plain": [
       "array([200])"
      ]
     },
     "execution_count": 9,
     "metadata": {},
     "output_type": "execute_result"
    }
   ],
   "source": [
    "np.unique(df['context_length'])"
   ]
  },
  {
   "cell_type": "code",
   "execution_count": 10,
   "metadata": {},
   "outputs": [
    {
     "data": {
      "text/plain": [
       "array(['seen_states_post_reward', 'seen_states_pre_and_post_reward',\n",
       "       'seen_states_pre_reward', 'unseen_states'], dtype=object)"
      ]
     },
     "execution_count": 10,
     "metadata": {},
     "output_type": "execute_result"
    }
   ],
   "source": [
    "np.unique(df['query_type'])"
   ]
  },
  {
   "cell_type": "code",
   "execution_count": null,
   "metadata": {},
   "outputs": [
    {
     "data": {
      "image/png": "[encoded data removed]",
      "text/plain": [
       "<Figure size 200x175 with 1 Axes>"
      ]
     },
     "metadata": {},
     "output_type": "display_data"
    }
   ],
   "source": [
    "# Create bar plot\n",
    "plt.figure(figsize=(2, 1.75))\n",
    "sns.barplot(\n",
    "    data=df[df['model']=='Learner (greedy)'],\n",
    "    x='query_type', y='return',\n",
    "    order=['seen_states_pre_reward', 'seen_states_post_reward', 'seen_states_pre_and_post_reward', 'unseen_states'],\n",
    "    legend=None)\n",
    "plt.xticks(\n",
    "    [0,1,2,3], ['Pre-     ', 'Post-     ', 'Pre & Post', 'Novel'],\n",
    "    fontsize=6, rotation=45)\n",
    "plt.xlabel('Query Type', fontsize=8)\n",
    "plt.ylabel('Returns', fontsize=8)\n",
    "plt.tight_layout()\n",
    "plt.savefig('figs_app/D_13a.png', transparent=True, dpi=300)\n",
    "plt.savefig('figs_app/D_13a.pdf', transparent=True, dpi=300)\n",
    "plt.show()\n"
   ]
  }
 ],
 "metadata": {
  "kernelspec": {
   "display_name": "jax",
   "language": "python",
   "name": "python3"
  },
  "language_info": {
   "codemirror_mode": {
    "name": "ipython",
    "version": 3
   },
   "file_extension": ".py",
   "mimetype": "text/x-python",
   "name": "python",
   "nbconvert_exporter": "python",
   "pygments_lexer": "ipython3",
   "version": "3.12.5"
  }
 },
 "nbformat": 4,
 "nbformat_minor": 2
}
