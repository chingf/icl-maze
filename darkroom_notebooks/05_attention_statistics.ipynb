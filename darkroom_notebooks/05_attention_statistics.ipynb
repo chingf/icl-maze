{
 "cells": [
  {
   "cell_type": "code",
   "execution_count": 9,
   "metadata": {},
   "outputs": [],
   "source": [
    "import numpy as np\n",
    "import matplotlib.pyplot as plt\n",
    "import seaborn as sns\n",
    "import pickle\n",
    "import os\n",
    "import pandas as pd\n",
    "import configs\n",
    "import torch\n",
    "from sklearn.decomposition import PCA\n",
    "from scipy.spatial.distance import pdist, squareform\n",
    "\n",
    "from src.utils import find_ckpt_file, convert_to_tensor\n",
    "import h5py\n",
    "import random\n",
    "from src.envs.darkroom import DarkroomEnv\n",
    "\n",
    "from copy import copy\n",
    "\n",
    "import networkx as nx\n"
   ]
  },
  {
   "cell_type": "markdown",
   "metadata": {},
   "source": [
    "# Load Model"
   ]
  },
  {
   "cell_type": "code",
   "execution_count": 10,
   "metadata": {},
   "outputs": [],
   "source": [
    "query_type = 'far'"
   ]
  },
  {
   "cell_type": "code",
   "execution_count": 11,
   "metadata": {},
   "outputs": [
    {
     "name": "stdout",
     "output_type": "stream",
     "text": [
      "epoch=13-val_loss=0.911523.ckpt\n"
     ]
    }
   ],
   "source": [
    "corr = 0.25\n",
    "model_name, path_to_pkl, eval_dset_path = configs.get_model_paths(corr, \"darkroom_simple\")"
   ]
  },
  {
   "cell_type": "code",
   "execution_count": 12,
   "metadata": {},
   "outputs": [],
   "source": [
    "# Extract parameters using regex\n",
    "import re\n",
    "\n",
    "n_embd = int(re.search(r'embd(\\d+)', model_name).group(1))\n",
    "n_layer = int(re.search(r'layer(\\d+)', model_name).group(1))\n",
    "n_head = int(re.search(r'head(\\d+)', model_name).group(1))\n",
    "dropout = float(re.search(r'drop(\\d*\\.?\\d*)', model_name).group(1))\n",
    "\n",
    "# Extract correlation and state_dim from eval dataset path\n",
    "state_dim = int(re.search(r'state_dim(\\d+)', eval_dset_path).group(1))\n",
    "maze_dim = int(re.search(r'_dim(\\d+)_corr', eval_dset_path).group(1))\n",
    "node_encoding_corr = float(re.search(r'corr(\\d*\\.?\\d*)', eval_dset_path).group(1))\n",
    "\n",
    "model_config = {\n",
    "    \"n_embd\": n_embd,\n",
    "    \"n_layer\": n_layer,\n",
    "    \"n_head\": n_head,\n",
    "    \"state_dim\": state_dim,\n",
    "    \"action_dim\": 5,\n",
    "    \"dropout\": dropout,\n",
    "    \"test\": True,\n",
    "    \"name\": \"transformer_end_query\",\n",
    "    \"optimizer_config\": None,\n",
    "}"
   ]
  },
  {
   "cell_type": "code",
   "execution_count": 13,
   "metadata": {},
   "outputs": [
    {
     "name": "stderr",
     "output_type": "stream",
     "text": [
      "/tmp/ipykernel_2190588/4170590101.py:4: FutureWarning: You are using `torch.load` with `weights_only=False` (the current default value), which uses the default pickle module implicitly. It is possible to construct malicious pickle data which will execute arbitrary code during unpickling (See https://github.com/pytorch/pytorch/blob/main/SECURITY.md#untrusted-models for more details). In a future release, the default value for `weights_only` will be flipped to `True`. This limits the functions that could be executed during unpickling. Arbitrary objects will no longer be allowed to be loaded via this mode unless they are explicitly allowlisted by the user via `torch.serialization.add_safe_globals`. We recommend you start setting `weights_only=True` for any use case where you don't have full control of the loaded file. Please open an issue on GitHub for any issues related to this experimental feature.\n",
      "  checkpoint = torch.load(path_to_pkl)\n"
     ]
    }
   ],
   "source": [
    "from src.models.transformer_end_query import Transformer\n",
    "model_config['initialization_seed'] = 0\n",
    "model = Transformer(**model_config)\n",
    "checkpoint = torch.load(path_to_pkl)\n",
    "model.load_state_dict(checkpoint['state_dict'])\n",
    "model.eval()\n",
    "model = model.to('cuda')"
   ]
  },
  {
   "cell_type": "markdown",
   "metadata": {},
   "source": [
    "# Load Dataset and Create Environment"
   ]
  },
  {
   "cell_type": "code",
   "execution_count": 14,
   "metadata": {},
   "outputs": [],
   "source": [
    "n_eval_envs = 50\n",
    "\n",
    "is_h5_file = eval_dset_path.endswith('.h5')\n",
    "if is_h5_file:\n",
    "    eval_trajs = h5py.File(eval_dset_path, 'r')\n",
    "    traj_indices = list(eval_trajs.keys())\n",
    "    n_eval_envs = min(n_eval_envs, len(traj_indices))\n",
    "    random.seed(0)\n",
    "    traj_indices = random.sample(traj_indices, n_eval_envs)\n",
    "    random.seed()\n",
    "    eval_trajs = [eval_trajs[i] for i in traj_indices]\n",
    "else:  # Pickle file\n",
    "    with open(eval_dset_path, 'rb') as f:\n",
    "        eval_trajs = pickle.load(f)\n",
    "    n_eval_envs = min(n_eval_envs, len(eval_trajs))\n",
    "    random.seed(0)\n",
    "    eval_trajs = random.sample(eval_trajs, n_eval_envs)\n",
    "    random.seed()\n"
   ]
  },
  {
   "cell_type": "markdown",
   "metadata": {},
   "source": [
    "# Helper Functions"
   ]
  },
  {
   "cell_type": "code",
   "execution_count": 15,
   "metadata": {},
   "outputs": [],
   "source": [
    "def run_model_and_get_attentions(traj, model, env, seq_length):\n",
    "    hidden_states = [[] for _ in range(model.n_layer)]\n",
    "    batch = {\n",
    "        'context_states': convert_to_tensor([np.array(traj['context_states'])]),\n",
    "        'context_actions': convert_to_tensor([np.array(traj['context_actions'])]),\n",
    "        'context_next_states': convert_to_tensor([np.array(traj['context_next_states'])]),\n",
    "        'context_rewards': convert_to_tensor([np.array(traj['context_rewards'])[:, None]]),\n",
    "        'query_states': convert_to_tensor([np.array(traj['query_state'])]),\n",
    "        }\n",
    "    batch['zeros'] = torch.zeros(1, 10 ** 2 + 4 + 1).float()\n",
    "    for k in batch.keys():\n",
    "        if 'context' in k:\n",
    "            batch[k] = batch[k][:,:seq_length]\n",
    "        batch[k] = batch[k].to(model.device)\n",
    "    model.save_activations = True\n",
    "    with torch.no_grad():\n",
    "        out = model(batch)\n",
    "    _hidden_states = model.activations['hidden_states'][1:] # Tuple over layers\n",
    "    for i_layer in range(model.n_layer):\n",
    "        hidden_states[i_layer].append(_hidden_states[i_layer])\n",
    "    return model.activations['attentions']"
   ]
  },
  {
   "cell_type": "markdown",
   "metadata": {},
   "source": [
    "# Attention "
   ]
  },
  {
   "cell_type": "code",
   "execution_count": 16,
   "metadata": {},
   "outputs": [],
   "source": [
    "def get_results():\n",
    "\n",
    "    results = {\n",
    "        'attn': [],\n",
    "        'distance': [],\n",
    "        'layer': []\n",
    "    }\n",
    "    \n",
    "    for i_eval in range(len(eval_trajs)):\n",
    "        traj = eval_trajs[i_eval]\n",
    "        env_config = {\n",
    "            'maze_dim': maze_dim,\n",
    "            'horizon': 200,\n",
    "            'state_dim': state_dim,\n",
    "            'node_encoding_corr': node_encoding_corr,\n",
    "            'initialization_seed': np.array(traj['initialization_seed']).item(),\n",
    "            'goal': np.array(traj['goal'])\n",
    "        }\n",
    "        env = DarkroomEnv(**env_config)\n",
    "        optimal_action_map, dist_from_goal = env.make_opt_action_dict()\n",
    "        valid_query_states = []\n",
    "        for i in range(len(traj['context_states'])):\n",
    "            d = dist_from_goal[tuple(traj['context_states'][i].tolist())]\n",
    "            if query_type == 'far' and d < 7:\n",
    "                continue\n",
    "            elif query_type == 'middle' and d != 5:\n",
    "               continue\n",
    "            valid_query_states.append(traj['context_states'][i])\n",
    "        if len(valid_query_states) == 0:\n",
    "            continue\n",
    "        else:\n",
    "            traj['query_state'] = valid_query_states[np.random.choice(len(valid_query_states))]\n",
    "        \n",
    "        context_length = 200\n",
    "        states = []\n",
    "        next_states = []\n",
    "        \n",
    "        state_features = traj['context_states'].squeeze()\n",
    "        next_state_features = traj['context_next_states'].squeeze()\n",
    "        for state_feature, next_state_feature in zip(state_features, next_state_features):\n",
    "            state_feature = tuple(state_feature.tolist())\n",
    "            next_state_feature = tuple(next_state_feature.tolist())\n",
    "            states.append(list(env.node_map_encoding_to_pos[state_feature]))\n",
    "            next_states.append(list(env.node_map_encoding_to_pos[next_state_feature]))\n",
    "            \n",
    "        states = np.array(states)\n",
    "        next_states = np.array(next_states)\n",
    "        avg_state = (states + next_states) / 2\n",
    "        saved_attentions = run_model_and_get_attentions(traj, model, env, context_length)\n",
    "\n",
    "        for layer in range(model.n_layer):\n",
    "            attns = saved_attentions[layer][0]\n",
    "            attns = attns.mean(axis=0)\n",
    "            attns = attns.detach().cpu().numpy()\n",
    "    \n",
    "            for idx_i in range(attns.shape[0]-1):\n",
    "                for idx_j in range(idx_i):\n",
    "                    attn = attns[idx_i, idx_j]\n",
    "                    dist = np.linalg.norm(avg_state[idx_i] - avg_state[idx_j])\n",
    "                    results['attn'].append(attn)\n",
    "                    results['distance'].append(dist)\n",
    "                    results['layer'].append(layer)\n",
    "    return results"
   ]
  },
  {
   "cell_type": "code",
   "execution_count": 30,
   "metadata": {},
   "outputs": [
    {
     "data": {
      "image/png": "[encoded data removed]",
      "text/plain": [
       "<Figure size 180x170 with 1 Axes>"
      ]
     },
     "metadata": {},
     "output_type": "display_data"
    }
   ],
   "source": [
    "#results = get_results()\n",
    "fig, ax = plt.subplots(figsize=(1.8, 1.7))\n",
    "df = pd.DataFrame(results)\n",
    "custom_palette = sns.color_palette(\"Blues\", 3)\n",
    "sns.lineplot(\n",
    "    x='distance', y='attn',\n",
    "    hue='layer',\n",
    "    data=df, ax=ax, palette=custom_palette,\n",
    "    legend=False\n",
    "    )\n",
    "plt.axhline(0, color='gray', linestyle='--')\n",
    "plt.xlabel('Transition Dist.', fontsize=8)\n",
    "plt.ylabel('Attention', fontsize=8)\n",
    "plt.xticks(fontsize=6)\n",
    "plt.yticks(fontsize=6)\n",
    "for spine in ax.spines.values():\n",
    "    spine.set_linewidth(0.75)\n",
    "plt.tight_layout()\n",
    "plt.savefig('figs/6e.png', dpi=300, transparent=True)\n",
    "plt.savefig('figs/6e.pdf', dpi=300, transparent=True)\n",
    "plt.show()"
   ]
  },
  {
   "cell_type": "code",
   "execution_count": null,
   "metadata": {},
   "outputs": [],
   "source": []
  }
 ],
 "metadata": {
  "kernelspec": {
   "display_name": "jax",
   "language": "python",
   "name": "python3"
  },
  "language_info": {
   "codemirror_mode": {
    "name": "ipython",
    "version": 3
   },
   "file_extension": ".py",
   "mimetype": "text/x-python",
   "name": "python",
   "nbconvert_exporter": "python",
   "pygments_lexer": "ipython3",
   "version": "3.12.5"
  }
 },
 "nbformat": 4,
 "nbformat_minor": 2
}
