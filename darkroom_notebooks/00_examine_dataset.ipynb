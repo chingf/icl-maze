{
 "cells": [
  {
   "cell_type": "code",
   "execution_count": 2,
   "metadata": {},
   "outputs": [],
   "source": [
    "import numpy as np\n",
    "import matplotlib.pyplot as plt\n",
    "import pickle\n",
    "import configs\n",
    "import h5py\n",
    "import os\n",
    "from src.envs.darkroom import DarkroomEnv\n"
   ]
  },
  {
   "cell_type": "markdown",
   "metadata": {},
   "source": [
    "# Load Model"
   ]
  },
  {
   "cell_type": "code",
   "execution_count": 2,
   "metadata": {},
   "outputs": [
    {
     "name": "stdout",
     "output_type": "stream",
     "text": [
      "epoch=13-val_loss=0.911523.ckpt\n"
     ]
    }
   ],
   "source": [
    "corr = 0.25\n",
    "model_name, path_to_pkl, eval_dset_path = configs.get_model_paths(corr, \"darkroom_simple\")"
   ]
  },
  {
   "cell_type": "markdown",
   "metadata": {},
   "source": [
    "# Load Dataset and Create Environment"
   ]
  },
  {
   "cell_type": "code",
   "execution_count": 3,
   "metadata": {},
   "outputs": [],
   "source": [
    "is_h5_file = eval_dset_path.endswith('.h5')\n",
    "if is_h5_file:\n",
    "    eval_trajs = h5py.File(eval_dset_path, 'r')\n",
    "    traj_indices = list(eval_trajs.keys())\n",
    "else:  # Pickle file\n",
    "    with open(eval_dset_path, 'rb') as f:\n",
    "        eval_trajs = pickle.load(f)\n",
    "n_eval_envs = len(eval_trajs)"
   ]
  },
  {
   "cell_type": "markdown",
   "metadata": {},
   "source": [
    "# Estimate the maximum accuracy possible \n",
    "100% is not possible because sometimes you query before any reward information is given (e.g., see eval_idxs). Also, there are multiple paths to reward in gridworld. Tiebreaking from the oracle is random, but that doesn't mean the model is behaving incorrectly if it predicts an alternate action.  "
   ]
  },
  {
   "cell_type": "code",
   "execution_count": 6,
   "metadata": {},
   "outputs": [],
   "source": [
    "query_every = 10\n",
    "max_acc = []\n",
    "for eval_traj in eval_trajs:\n",
    "    seq_length = eval_traj['context_states'].shape[0]\n",
    "    eval_idxs = np.concatenate([np.arange(0, seq_length, query_every), [seq_length-1]])\n",
    "    opt_accuracy = np.ones(len(eval_idxs))*0.25\n",
    "    first_reward = np.argwhere(eval_traj['context_rewards']>0)\n",
    "    if first_reward.size > 0:\n",
    "        first_reward = first_reward[0, 0]\n",
    "        opt_accuracy[eval_idxs>first_reward] = 1\n",
    "    max_acc.append(opt_accuracy.mean())"
   ]
  },
  {
   "cell_type": "code",
   "execution_count": 7,
   "metadata": {},
   "outputs": [
    {
     "data": {
      "text/plain": [
       "np.float64(0.8177405753968253)"
      ]
     },
     "execution_count": 7,
     "metadata": {},
     "output_type": "execute_result"
    }
   ],
   "source": [
    "np.mean(max_acc)"
   ]
  },
  {
   "cell_type": "markdown",
   "metadata": {},
   "source": [
    "# Show and save examples of the state encoding"
   ]
  },
  {
   "cell_type": "code",
   "execution_count": 3,
   "metadata": {},
   "outputs": [],
   "source": [
    "env = DarkroomEnv(maze_dim=6, horizon=200, state_dim=10, node_encoding_corr=0.25, initialization_seed=0)"
   ]
  },
  {
   "cell_type": "code",
   "execution_count": 4,
   "metadata": {},
   "outputs": [
    {
     "data": {
      "image/png": "[encoded data removed]",
      "text/plain": [
       "<Figure size 500x50 with 1 Axes>"
      ]
     },
     "metadata": {},
     "output_type": "display_data"
    },
    {
     "data": {
      "image/png": "[encoded data removed]",
      "text/plain": [
       "<Figure size 500x50 with 1 Axes>"
      ]
     },
     "metadata": {},
     "output_type": "display_data"
    },
    {
     "data": {
      "image/png": "[encoded data removed]",
      "text/plain": [
       "<Figure size 500x50 with 1 Axes>"
      ]
     },
     "metadata": {},
     "output_type": "display_data"
    }
   ],
   "source": [
    "save_dir = 'figs/sample_state_encodings/'\n",
    "os.makedirs(save_dir, exist_ok=True)\n",
    "for x in range(env.maze_dim):\n",
    "    for y in range(env.maze_dim):\n",
    "        node_encoding = np.array(env.node_map_pos_to_encoding[(x, y)])\n",
    "        plt.figure(figsize=(5, 0.5))\n",
    "        plt.imshow(node_encoding.reshape(1, -1), cmap='gray')\n",
    "        plt.xticks([])\n",
    "        plt.yticks([])\n",
    "        plt.tight_layout()\n",
    "        plt.savefig(f'{save_dir}/{x}_{y}.png', transparent=True, dpi=300)\n",
    "        plt.savefig(f'{save_dir}/{x}_{y}.svg', transparent=True, dpi=300)\n",
    "        if (x*env.maze_dim + y) < 3:\n",
    "            plt.show()\n",
    "        plt.close()\n"
   ]
  },
  {
   "cell_type": "markdown",
   "metadata": {},
   "source": [
    "# Get distribution of when reward is first seen across the different trajectories"
   ]
  },
  {
   "cell_type": "code",
   "execution_count": 30,
   "metadata": {},
   "outputs": [],
   "source": [
    "first_rewards = []\n",
    "for eval_traj in eval_trajs:\n",
    "    first_reward = np.argwhere(eval_traj['context_rewards']>0)\n",
    "    if first_reward.size > 0:\n",
    "        first_rewards.append(first_reward[0, 0])\n",
    "    else:\n",
    "        first_rewards.append(np.nan)\n"
   ]
  },
  {
   "cell_type": "code",
   "execution_count": 32,
   "metadata": {},
   "outputs": [
    {
     "data": {
      "image/png": "[encoded data removed]",
      "text/plain": [
       "<Figure size 400x300 with 1 Axes>"
      ]
     },
     "metadata": {},
     "output_type": "display_data"
    }
   ],
   "source": [
    "plt.figure(figsize=(4, 3))\n",
    "plt.hist(first_rewards, bins=50)\n",
    "plt.ylabel('Count')\n",
    "plt.xlabel('Timestep of first reward')\n",
    "plt.show()"
   ]
  },
  {
   "cell_type": "code",
   "execution_count": null,
   "metadata": {},
   "outputs": [],
   "source": []
  }
 ],
 "metadata": {
  "kernelspec": {
   "display_name": "jax",
   "language": "python",
   "name": "python3"
  },
  "language_info": {
   "codemirror_mode": {
    "name": "ipython",
    "version": 3
   },
   "file_extension": ".py",
   "mimetype": "text/x-python",
   "name": "python",
   "nbconvert_exporter": "python",
   "pygments_lexer": "ipython3",
   "version": "3.12.5"
  }
 },
 "nbformat": 4,
 "nbformat_minor": 2
}
